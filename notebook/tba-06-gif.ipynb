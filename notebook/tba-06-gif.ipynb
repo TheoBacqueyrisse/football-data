{
 "cells": [
  {
   "cell_type": "code",
   "execution_count": 6,
   "metadata": {},
   "outputs": [],
   "source": [
    "import pandas as pd\n",
    "import numpy as np\n",
    "import matplotlib.pyplot as plt"
   ]
  },
  {
   "cell_type": "code",
   "execution_count": 19,
   "metadata": {},
   "outputs": [],
   "source": [
    "action_df = pd.read_csv('../data/processed/clean_action_data_glob.csv')\n",
    "genetic_df = pd.read_csv('../src/modelling/genetic/results/result_each_gen.csv')\n",
    "\n",
    "action_df['pred_base_xg'] = action_df['pred_base_xg'].apply(lambda x:np.round(x, 6))\n",
    "genetic_df['initial_xg'] = genetic_df['initial_xg'].astype(float)"
   ]
  },
  {
   "cell_type": "code",
   "execution_count": 41,
   "metadata": {},
   "outputs": [],
   "source": [
    "complete_df = genetic_df.merge(action_df, left_on = 'initial_xg', right_on = 'pred_base_xg', how = 'inner')"
   ]
  },
  {
   "cell_type": "code",
   "execution_count": 42,
   "metadata": {},
   "outputs": [
    {
     "data": {
      "text/plain": [
       "index               int64\n",
       "idx_generation      int64\n",
       "best_solution      object\n",
       "initial_xg        float64\n",
       "best_xG            object\n",
       "dtype: object"
      ]
     },
     "execution_count": 42,
     "metadata": {},
     "output_type": "execute_result"
    }
   ],
   "source": [
    "genetic_df.dtypes"
   ]
  },
  {
   "cell_type": "code",
   "execution_count": 43,
   "metadata": {},
   "outputs": [
    {
     "data": {
      "text/html": [
       "<div>\n",
       "<style scoped>\n",
       "    .dataframe tbody tr th:only-of-type {\n",
       "        vertical-align: middle;\n",
       "    }\n",
       "\n",
       "    .dataframe tbody tr th {\n",
       "        vertical-align: top;\n",
       "    }\n",
       "\n",
       "    .dataframe thead th {\n",
       "        text-align: right;\n",
       "    }\n",
       "</style>\n",
       "<table border=\"1\" class=\"dataframe\">\n",
       "  <thead>\n",
       "    <tr style=\"text-align: right;\">\n",
       "      <th></th>\n",
       "      <th>minute</th>\n",
       "      <th>period</th>\n",
       "      <th>shot_open_goal</th>\n",
       "      <th>shot_statsbomb_xg</th>\n",
       "      <th>fk_duration</th>\n",
       "      <th>pass_angle</th>\n",
       "      <th>pass_length</th>\n",
       "      <th>pass_switch</th>\n",
       "      <th>shot_x</th>\n",
       "      <th>shot_y</th>\n",
       "      <th>...</th>\n",
       "      <th>teammates_player_4</th>\n",
       "      <th>teammates_player_5</th>\n",
       "      <th>teammates_player_6</th>\n",
       "      <th>teammates_player_7</th>\n",
       "      <th>teammates_player_8</th>\n",
       "      <th>teammates_player_9</th>\n",
       "      <th>teammates_player_10</th>\n",
       "      <th>pred_base_xg</th>\n",
       "      <th>pred_improved_xg</th>\n",
       "      <th>pctge_improvement</th>\n",
       "    </tr>\n",
       "  </thead>\n",
       "  <tbody>\n",
       "    <tr>\n",
       "      <th>627</th>\n",
       "      <td>85</td>\n",
       "      <td>2</td>\n",
       "      <td>1</td>\n",
       "      <td>0.163926</td>\n",
       "      <td>1.1981</td>\n",
       "      <td>-0.813962</td>\n",
       "      <td>24.758837</td>\n",
       "      <td>1</td>\n",
       "      <td>111.0</td>\n",
       "      <td>44.0</td>\n",
       "      <td>...</td>\n",
       "      <td>1.0</td>\n",
       "      <td>0.0</td>\n",
       "      <td>0.0</td>\n",
       "      <td>0.0</td>\n",
       "      <td>1</td>\n",
       "      <td>0</td>\n",
       "      <td>1</td>\n",
       "      <td>0.079421</td>\n",
       "      <td>0.193205</td>\n",
       "      <td>143.270004</td>\n",
       "    </tr>\n",
       "  </tbody>\n",
       "</table>\n",
       "<p>1 rows × 108 columns</p>\n",
       "</div>"
      ],
      "text/plain": [
       "     minute  period  shot_open_goal  shot_statsbomb_xg  fk_duration  \\\n",
       "627      85       2               1           0.163926       1.1981   \n",
       "\n",
       "     pass_angle  pass_length  pass_switch  shot_x  shot_y  ...  \\\n",
       "627   -0.813962    24.758837            1   111.0    44.0  ...   \n",
       "\n",
       "     teammates_player_4  teammates_player_5  teammates_player_6  \\\n",
       "627                 1.0                 0.0                 0.0   \n",
       "\n",
       "     teammates_player_7  teammates_player_8  teammates_player_9  \\\n",
       "627                 0.0                   1                   0   \n",
       "\n",
       "     teammates_player_10  pred_base_xg  pred_improved_xg  pctge_improvement  \n",
       "627                    1      0.079421          0.193205         143.270004  \n",
       "\n",
       "[1 rows x 108 columns]"
      ]
     },
     "execution_count": 43,
     "metadata": {},
     "output_type": "execute_result"
    }
   ],
   "source": [
    "action_df[action_df['pred_base_xg']==0.079421]"
   ]
  },
  {
   "cell_type": "code",
   "execution_count": 45,
   "metadata": {},
   "outputs": [
    {
     "data": {
      "text/html": [
       "<div>\n",
       "<style scoped>\n",
       "    .dataframe tbody tr th:only-of-type {\n",
       "        vertical-align: middle;\n",
       "    }\n",
       "\n",
       "    .dataframe tbody tr th {\n",
       "        vertical-align: top;\n",
       "    }\n",
       "\n",
       "    .dataframe thead th {\n",
       "        text-align: right;\n",
       "    }\n",
       "</style>\n",
       "<table border=\"1\" class=\"dataframe\">\n",
       "  <thead>\n",
       "    <tr style=\"text-align: right;\">\n",
       "      <th></th>\n",
       "      <th>index</th>\n",
       "      <th>idx_generation</th>\n",
       "      <th>best_solution</th>\n",
       "      <th>initial_xg</th>\n",
       "      <th>best_xG</th>\n",
       "      <th>minute</th>\n",
       "      <th>period</th>\n",
       "      <th>shot_open_goal</th>\n",
       "      <th>shot_statsbomb_xg</th>\n",
       "      <th>fk_duration</th>\n",
       "      <th>...</th>\n",
       "      <th>teammates_player_4</th>\n",
       "      <th>teammates_player_5</th>\n",
       "      <th>teammates_player_6</th>\n",
       "      <th>teammates_player_7</th>\n",
       "      <th>teammates_player_8</th>\n",
       "      <th>teammates_player_9</th>\n",
       "      <th>teammates_player_10</th>\n",
       "      <th>pred_base_xg</th>\n",
       "      <th>pred_improved_xg</th>\n",
       "      <th>pctge_improvement</th>\n",
       "    </tr>\n",
       "  </thead>\n",
       "  <tbody>\n",
       "  </tbody>\n",
       "</table>\n",
       "<p>0 rows × 113 columns</p>\n",
       "</div>"
      ],
      "text/plain": [
       "Empty DataFrame\n",
       "Columns: [index, idx_generation, best_solution, initial_xg, best_xG, minute, period, shot_open_goal, shot_statsbomb_xg, fk_duration, pass_angle, pass_length, pass_switch, shot_x, shot_y, fk_x, fk_y, distance_to_goal, shooter_position_Center Attacking Midfield, shooter_position_Center Back, shooter_position_Center Defensive Midfield, shooter_position_Center Forward, shooter_position_Center Midfield, shooter_position_Goalkeeper, shooter_position_Left Attacking Midfield, shooter_position_Left Back, shooter_position_Left Center Back, shooter_position_Left Center Forward, shooter_position_Left Center Midfield, shooter_position_Left Defensive Midfield, shooter_position_Left Midfield, shooter_position_Left Wing, shooter_position_Left Wing Back, shooter_position_Right Attacking Midfield, shooter_position_Right Back, shooter_position_Right Center Back, shooter_position_Right Center Forward, shooter_position_Right Center Midfield, shooter_position_Right Defensive Midfield, shooter_position_Right Midfield, shooter_position_Right Wing, shooter_position_Right Wing Back, shot_body_part_Head, shot_body_part_Left Foot, shot_body_part_Other, shot_body_part_Right Foot, shot_technique_Backheel, shot_technique_Diving Header, shot_technique_Half Volley, shot_technique_Lob, shot_technique_Normal, shot_technique_Overhead Kick, shot_technique_Volley, pass_height_Ground Pass, pass_height_High Pass, pass_height_Low Pass, fk_taker_position_Center Attacking Midfield, fk_taker_position_Center Back, fk_taker_position_Center Defensive Midfield, fk_taker_position_Center Forward, fk_taker_position_Center Midfield, fk_taker_position_Goalkeeper, fk_taker_position_Left Attacking Midfield, fk_taker_position_Left Back, fk_taker_position_Left Center Back, fk_taker_position_Left Center Forward, fk_taker_position_Left Center Midfield, fk_taker_position_Left Defensive Midfield, fk_taker_position_Left Midfield, fk_taker_position_Left Wing, fk_taker_position_Left Wing Back, fk_taker_position_Right Attacking Midfield, fk_taker_position_Right Back, fk_taker_position_Right Center Back, fk_taker_position_Right Center Forward, fk_taker_position_Right Center Midfield, fk_taker_position_Right Defensive Midfield, fk_taker_position_Right Midfield, fk_taker_position_Right Wing, fk_taker_position_Right Wing Back, distance_player_1, distance_player_2, distance_player_3, distance_player_4, distance_player_5, distance_player_6, distance_player_7, distance_player_8, distance_player_9, distance_player_10, angle_player_1, angle_player_2, angle_player_3, angle_player_4, angle_player_5, angle_player_6, angle_player_7, angle_player_8, angle_player_9, angle_player_10, ...]\n",
       "Index: []\n",
       "\n",
       "[0 rows x 113 columns]"
      ]
     },
     "execution_count": 45,
     "metadata": {},
     "output_type": "execute_result"
    }
   ],
   "source": [
    "complete_df"
   ]
  },
  {
   "cell_type": "code",
   "execution_count": null,
   "metadata": {},
   "outputs": [],
   "source": []
  }
 ],
 "metadata": {
  "kernelspec": {
   "display_name": "base",
   "language": "python",
   "name": "python3"
  },
  "language_info": {
   "codemirror_mode": {
    "name": "ipython",
    "version": 3
   },
   "file_extension": ".py",
   "mimetype": "text/x-python",
   "name": "python",
   "nbconvert_exporter": "python",
   "pygments_lexer": "ipython3",
   "version": "3.11.7"
  }
 },
 "nbformat": 4,
 "nbformat_minor": 2
}
