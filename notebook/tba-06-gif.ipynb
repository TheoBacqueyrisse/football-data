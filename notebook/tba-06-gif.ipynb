{
 "cells": [
  {
   "cell_type": "code",
   "execution_count": 183,
   "metadata": {},
   "outputs": [],
   "source": [
    "import pandas as pd\n",
    "import numpy as np\n",
    "import matplotlib.pyplot as plt\n",
    "import matplotlib.animation as animation\n",
    "from matplotlib.animation import FuncAnimation\n",
    "from matplotlib.patches import Circle\n",
    "import seaborn as sns\n",
    "from tqdm import tqdm\n",
    "from mplsoccer import Pitch\n",
    "import warnings\n",
    "import ast\n",
    "warnings.filterwarnings(\"ignore\")"
   ]
  },
  {
   "cell_type": "code",
   "execution_count": 184,
   "metadata": {},
   "outputs": [],
   "source": [
    "def calculate_position(x, y, distance, angle_rad):\n",
    "    \"\"\"\n",
    "    Calculate the (x, y) position of loc1 given the distance and angle from loc2.\n",
    "    \n",
    "    Parameters:\n",
    "    loc2 (tuple): The reference point (x2, y2).\n",
    "    distance (float): The distance between loc1 and loc2.\n",
    "    angle (float): The angle between the line connecting loc1 and loc2 and the positive x-axis.\n",
    "    \n",
    "    Returns:\n",
    "    tuple: The (x, y) coordinates of loc1.\n",
    "    \"\"\"\n",
    "    # Calculate the x and y coordinates\n",
    "    new_x = x + distance * np.cos(angle_rad)\n",
    "    new_y = y + distance * np.sin(angle_rad)\n",
    "\n",
    "    return [new_x, new_y]"
   ]
  },
  {
   "cell_type": "code",
   "execution_count": 185,
   "metadata": {},
   "outputs": [],
   "source": [
    "action_df = pd.read_csv('../data/processed/clean_action_data_glob.csv')\n",
    "genetic_df = pd.read_csv('../src/modelling/genetic/results/result_each_gen.csv')\n",
    "\n",
    "action_df['pred_base_xg'] = action_df['pred_base_xg'].apply(lambda x:np.round(x, 8))\n",
    "genetic_df['initial_xg'] = genetic_df['initial_xg'].astype(float)"
   ]
  },
  {
   "cell_type": "code",
   "execution_count": 186,
   "metadata": {},
   "outputs": [],
   "source": [
    "complete_df = genetic_df.merge(action_df, left_on = 'initial_xg', right_on = 'pred_base_xg', how = 'inner')"
   ]
  },
  {
   "cell_type": "code",
   "execution_count": 210,
   "metadata": {},
   "outputs": [
    {
     "data": {
      "text/html": [
       "<div>\n",
       "<style scoped>\n",
       "    .dataframe tbody tr th:only-of-type {\n",
       "        vertical-align: middle;\n",
       "    }\n",
       "\n",
       "    .dataframe tbody tr th {\n",
       "        vertical-align: top;\n",
       "    }\n",
       "\n",
       "    .dataframe thead th {\n",
       "        text-align: right;\n",
       "    }\n",
       "</style>\n",
       "<table border=\"1\" class=\"dataframe\">\n",
       "  <thead>\n",
       "    <tr style=\"text-align: right;\">\n",
       "      <th></th>\n",
       "      <th>index</th>\n",
       "      <th>idx_generation</th>\n",
       "      <th>initial_xg</th>\n",
       "      <th>best_xG</th>\n",
       "      <th>shot_statsbomb_xg</th>\n",
       "      <th>shot_x</th>\n",
       "      <th>shot_y</th>\n",
       "      <th>fk_x</th>\n",
       "      <th>fk_y</th>\n",
       "      <th>teammates_player_1</th>\n",
       "      <th>...</th>\n",
       "      <th>pos_opponent_3_x</th>\n",
       "      <th>pos_opponent_3_y</th>\n",
       "      <th>pos_opponent_4_x</th>\n",
       "      <th>pos_opponent_4_y</th>\n",
       "      <th>pos_opponent_5_x</th>\n",
       "      <th>pos_opponent_5_y</th>\n",
       "      <th>pos_opponent_6_x</th>\n",
       "      <th>pos_opponent_6_y</th>\n",
       "      <th>pos_opponent_7_x</th>\n",
       "      <th>pos_opponent_7_y</th>\n",
       "    </tr>\n",
       "  </thead>\n",
       "  <tbody>\n",
       "    <tr>\n",
       "      <th>0</th>\n",
       "      <td>628</td>\n",
       "      <td>1</td>\n",
       "      <td>0.079421</td>\n",
       "      <td>0.104429</td>\n",
       "      <td>0.163926</td>\n",
       "      <td>111.0</td>\n",
       "      <td>44.0</td>\n",
       "      <td>95.0</td>\n",
       "      <td>62.0</td>\n",
       "      <td>0</td>\n",
       "      <td>...</td>\n",
       "      <td>109.697425</td>\n",
       "      <td>48.037734</td>\n",
       "      <td>103.806564</td>\n",
       "      <td>48.610258</td>\n",
       "      <td>117.726752</td>\n",
       "      <td>49.267903</td>\n",
       "      <td>118.543885</td>\n",
       "      <td>39.194816</td>\n",
       "      <td>121.770385</td>\n",
       "      <td>41.550754</td>\n",
       "    </tr>\n",
       "    <tr>\n",
       "      <th>1</th>\n",
       "      <td>628</td>\n",
       "      <td>2</td>\n",
       "      <td>0.079421</td>\n",
       "      <td>0.142249</td>\n",
       "      <td>0.163926</td>\n",
       "      <td>111.0</td>\n",
       "      <td>44.0</td>\n",
       "      <td>95.0</td>\n",
       "      <td>62.0</td>\n",
       "      <td>0</td>\n",
       "      <td>...</td>\n",
       "      <td>109.697425</td>\n",
       "      <td>48.037734</td>\n",
       "      <td>103.806564</td>\n",
       "      <td>48.610258</td>\n",
       "      <td>117.726752</td>\n",
       "      <td>49.267903</td>\n",
       "      <td>118.543885</td>\n",
       "      <td>39.194816</td>\n",
       "      <td>121.770385</td>\n",
       "      <td>41.550754</td>\n",
       "    </tr>\n",
       "    <tr>\n",
       "      <th>2</th>\n",
       "      <td>628</td>\n",
       "      <td>3</td>\n",
       "      <td>0.079421</td>\n",
       "      <td>0.162827</td>\n",
       "      <td>0.163926</td>\n",
       "      <td>111.0</td>\n",
       "      <td>44.0</td>\n",
       "      <td>95.0</td>\n",
       "      <td>62.0</td>\n",
       "      <td>0</td>\n",
       "      <td>...</td>\n",
       "      <td>109.697425</td>\n",
       "      <td>48.037734</td>\n",
       "      <td>103.806564</td>\n",
       "      <td>48.610258</td>\n",
       "      <td>117.726752</td>\n",
       "      <td>49.267903</td>\n",
       "      <td>118.543885</td>\n",
       "      <td>39.194816</td>\n",
       "      <td>121.770385</td>\n",
       "      <td>41.550754</td>\n",
       "    </tr>\n",
       "    <tr>\n",
       "      <th>3</th>\n",
       "      <td>628</td>\n",
       "      <td>4</td>\n",
       "      <td>0.079421</td>\n",
       "      <td>0.162827</td>\n",
       "      <td>0.163926</td>\n",
       "      <td>111.0</td>\n",
       "      <td>44.0</td>\n",
       "      <td>95.0</td>\n",
       "      <td>62.0</td>\n",
       "      <td>0</td>\n",
       "      <td>...</td>\n",
       "      <td>109.697425</td>\n",
       "      <td>48.037734</td>\n",
       "      <td>103.806564</td>\n",
       "      <td>48.610258</td>\n",
       "      <td>117.726752</td>\n",
       "      <td>49.267903</td>\n",
       "      <td>118.543885</td>\n",
       "      <td>39.194816</td>\n",
       "      <td>121.770385</td>\n",
       "      <td>41.550754</td>\n",
       "    </tr>\n",
       "    <tr>\n",
       "      <th>4</th>\n",
       "      <td>628</td>\n",
       "      <td>5</td>\n",
       "      <td>0.079421</td>\n",
       "      <td>0.164526</td>\n",
       "      <td>0.163926</td>\n",
       "      <td>111.0</td>\n",
       "      <td>44.0</td>\n",
       "      <td>95.0</td>\n",
       "      <td>62.0</td>\n",
       "      <td>0</td>\n",
       "      <td>...</td>\n",
       "      <td>109.697425</td>\n",
       "      <td>48.037734</td>\n",
       "      <td>103.806564</td>\n",
       "      <td>48.610258</td>\n",
       "      <td>117.726752</td>\n",
       "      <td>49.267903</td>\n",
       "      <td>118.543885</td>\n",
       "      <td>39.194816</td>\n",
       "      <td>121.770385</td>\n",
       "      <td>41.550754</td>\n",
       "    </tr>\n",
       "  </tbody>\n",
       "</table>\n",
       "<p>5 rows × 52 columns</p>\n",
       "</div>"
      ],
      "text/plain": [
       "   index  idx_generation  initial_xg   best_xG  shot_statsbomb_xg  shot_x  \\\n",
       "0    628               1    0.079421  0.104429           0.163926   111.0   \n",
       "1    628               2    0.079421  0.142249           0.163926   111.0   \n",
       "2    628               3    0.079421  0.162827           0.163926   111.0   \n",
       "3    628               4    0.079421  0.162827           0.163926   111.0   \n",
       "4    628               5    0.079421  0.164526           0.163926   111.0   \n",
       "\n",
       "   shot_y  fk_x  fk_y  teammates_player_1  ...  pos_opponent_3_x  \\\n",
       "0    44.0  95.0  62.0                   0  ...        109.697425   \n",
       "1    44.0  95.0  62.0                   0  ...        109.697425   \n",
       "2    44.0  95.0  62.0                   0  ...        109.697425   \n",
       "3    44.0  95.0  62.0                   0  ...        109.697425   \n",
       "4    44.0  95.0  62.0                   0  ...        109.697425   \n",
       "\n",
       "   pos_opponent_3_y  pos_opponent_4_x  pos_opponent_4_y  pos_opponent_5_x  \\\n",
       "0         48.037734        103.806564         48.610258        117.726752   \n",
       "1         48.037734        103.806564         48.610258        117.726752   \n",
       "2         48.037734        103.806564         48.610258        117.726752   \n",
       "3         48.037734        103.806564         48.610258        117.726752   \n",
       "4         48.037734        103.806564         48.610258        117.726752   \n",
       "\n",
       "   pos_opponent_5_y  pos_opponent_6_x  pos_opponent_6_y  pos_opponent_7_x  \\\n",
       "0         49.267903        118.543885         39.194816        121.770385   \n",
       "1         49.267903        118.543885         39.194816        121.770385   \n",
       "2         49.267903        118.543885         39.194816        121.770385   \n",
       "3         49.267903        118.543885         39.194816        121.770385   \n",
       "4         49.267903        118.543885         39.194816        121.770385   \n",
       "\n",
       "  pos_opponent_7_y  \n",
       "0        41.550754  \n",
       "1        41.550754  \n",
       "2        41.550754  \n",
       "3        41.550754  \n",
       "4        41.550754  \n",
       "\n",
       "[5 rows x 52 columns]"
      ]
     },
     "execution_count": 210,
     "metadata": {},
     "output_type": "execute_result"
    }
   ],
   "source": [
    "complete_df.head()"
   ]
  },
  {
   "cell_type": "code",
   "execution_count": 188,
   "metadata": {},
   "outputs": [],
   "source": [
    "complete_df = complete_df[['index', 'idx_generation', 'best_solution', 'initial_xg', 'best_xG', 'shot_statsbomb_xg', \n",
    "    'shot_x', 'shot_y', 'fk_x', 'fk_y', 'distance_player_1', 'distance_player_2', 'distance_player_3', 'distance_player_4', 'distance_player_5', 'distance_player_6',\n",
    "       'distance_player_7', 'distance_player_8', 'distance_player_9', 'distance_player_10', \n",
    "       'angle_player_1', 'angle_player_2', 'angle_player_3', 'angle_player_4', 'angle_player_5', 'angle_player_6', 'angle_player_7', 'angle_player_8', 'angle_player_9', 'angle_player_10',\n",
    "       'teammates_player_1', 'teammates_player_2', 'teammates_player_3', 'teammates_player_4', 'teammates_player_5', 'teammates_player_6',\n",
    "       'teammates_player_7', 'teammates_player_8', 'teammates_player_9', 'teammates_player_10', 'pred_base_xg', 'pred_improved_xg', 'pctge_improvement']]"
   ]
  },
  {
   "cell_type": "code",
   "execution_count": 189,
   "metadata": {},
   "outputs": [
    {
     "name": "stderr",
     "output_type": "stream",
     "text": [
      "100%|██████████| 10/10 [00:00<00:00, 295.74it/s]\n"
     ]
    }
   ],
   "source": [
    "# retrieve all players position\n",
    "for i in tqdm(range(1, 11)):\n",
    "    complete_df[f'position_player_{i}'] = [calculate_position(complete_df['shot_x'][j], \n",
    "                                                              complete_df['shot_y'][j], \n",
    "                                                              complete_df[f'distance_player_{i}'][j], \n",
    "                                                              complete_df[f'angle_player_{i}'][j]) \n",
    "                                            for j in range(len(complete_df))]\n",
    "    complete_df.drop([f'distance_player_{i}', f'angle_player_{i}'], axis = 1, inplace = True)"
   ]
  },
  {
   "cell_type": "code",
   "execution_count": 190,
   "metadata": {},
   "outputs": [
    {
     "name": "stderr",
     "output_type": "stream",
     "text": [
      "100%|██████████| 10/10 [00:00<00:00, 657.58it/s]\n"
     ]
    }
   ],
   "source": [
    "# keep only opponents fixed pos\n",
    "for i in tqdm(range(1, 11)):\n",
    "    if complete_df[f'teammates_player_{i}'][0] == 1:\n",
    "        complete_df.drop([f'position_player_{i}', f'teammates_player_{i}'], axis = 1, inplace = True)"
   ]
  },
  {
   "cell_type": "code",
   "execution_count": 191,
   "metadata": {},
   "outputs": [],
   "source": [
    "# format best solution\n",
    "complete_df['best_solution'] = [complete_df['best_solution'][j].replace('\\n', '').replace(' ', ', ') for j in range(len(complete_df))]\n",
    "complete_df['best_solution'] = [ast.literal_eval(complete_df['best_solution'][j]) for j in range(len(complete_df))]\n",
    "\n",
    "complete_df['shot_pos_gen_x'] = [complete_df['best_solution'][j][0] for j in range(len(complete_df))]\n",
    "complete_df['shot_pos_gen_y'] = [complete_df['best_solution'][j][1] for j in range(len(complete_df))]\n",
    "\n",
    "complete_df['pos_teammate_1_x'] = [complete_df['best_solution'][j][2] for j in range(len(complete_df))]\n",
    "complete_df['pos_teammate_2_x'] = [complete_df['best_solution'][j][4] for j in range(len(complete_df))]\n",
    "complete_df['pos_teammate_3_x'] = [complete_df['best_solution'][j][6] for j in range(len(complete_df))]\n",
    "complete_df['pos_teammate_4_x'] = [complete_df['best_solution'][j][8] for j in range(len(complete_df))]\n",
    "complete_df['pos_teammate_5_x'] = [complete_df['best_solution'][j][10] for j in range(len(complete_df))]\n",
    "\n",
    "complete_df['pos_teammate_1_y'] = [complete_df['best_solution'][j][3] for j in range(len(complete_df))]\n",
    "complete_df['pos_teammate_2_y'] = [complete_df['best_solution'][j][5] for j in range(len(complete_df))]\n",
    "complete_df['pos_teammate_3_y'] = [complete_df['best_solution'][j][7] for j in range(len(complete_df))]\n",
    "complete_df['pos_teammate_4_y'] = [complete_df['best_solution'][j][9] for j in range(len(complete_df))]\n",
    "complete_df['pos_teammate_5_y'] = [complete_df['best_solution'][j][11] for j in range(len(complete_df))]\n",
    "\n",
    "i=1\n",
    "for col in complete_df.columns:\n",
    "    if col.startswith('position'):\n",
    "        complete_df[f'pos_opponent_{i}_x'] = [complete_df[col][j][0] for j in range(len(complete_df))]\n",
    "        complete_df[f'pos_opponent_{i}_y'] = [complete_df[col][j][1] for j in range(len(complete_df))]\n",
    "        complete_df.drop(col, axis = 1)\n",
    "        i += 1\n",
    "\n",
    "complete_df.drop(['best_solution'], axis = 1, inplace = True)\n",
    "\n",
    "# format best_xg\n",
    "complete_df['best_xG'] = complete_df['best_xG'].apply(lambda x : float(ast.literal_eval(x)[0]))"
   ]
  },
  {
   "cell_type": "code",
   "execution_count": 192,
   "metadata": {},
   "outputs": [
    {
     "data": {
      "text/html": [
       "<div>\n",
       "<style scoped>\n",
       "    .dataframe tbody tr th:only-of-type {\n",
       "        vertical-align: middle;\n",
       "    }\n",
       "\n",
       "    .dataframe tbody tr th {\n",
       "        vertical-align: top;\n",
       "    }\n",
       "\n",
       "    .dataframe thead th {\n",
       "        text-align: right;\n",
       "    }\n",
       "</style>\n",
       "<table border=\"1\" class=\"dataframe\">\n",
       "  <thead>\n",
       "    <tr style=\"text-align: right;\">\n",
       "      <th></th>\n",
       "      <th>index</th>\n",
       "      <th>idx_generation</th>\n",
       "      <th>initial_xg</th>\n",
       "      <th>best_xG</th>\n",
       "      <th>shot_statsbomb_xg</th>\n",
       "      <th>shot_x</th>\n",
       "      <th>shot_y</th>\n",
       "      <th>fk_x</th>\n",
       "      <th>fk_y</th>\n",
       "      <th>teammates_player_1</th>\n",
       "      <th>...</th>\n",
       "      <th>pos_opponent_3_x</th>\n",
       "      <th>pos_opponent_3_y</th>\n",
       "      <th>pos_opponent_4_x</th>\n",
       "      <th>pos_opponent_4_y</th>\n",
       "      <th>pos_opponent_5_x</th>\n",
       "      <th>pos_opponent_5_y</th>\n",
       "      <th>pos_opponent_6_x</th>\n",
       "      <th>pos_opponent_6_y</th>\n",
       "      <th>pos_opponent_7_x</th>\n",
       "      <th>pos_opponent_7_y</th>\n",
       "    </tr>\n",
       "  </thead>\n",
       "  <tbody>\n",
       "    <tr>\n",
       "      <th>0</th>\n",
       "      <td>628</td>\n",
       "      <td>1</td>\n",
       "      <td>0.079421</td>\n",
       "      <td>0.104429</td>\n",
       "      <td>0.163926</td>\n",
       "      <td>111.0</td>\n",
       "      <td>44.0</td>\n",
       "      <td>95.0</td>\n",
       "      <td>62.0</td>\n",
       "      <td>0</td>\n",
       "      <td>...</td>\n",
       "      <td>109.697425</td>\n",
       "      <td>48.037734</td>\n",
       "      <td>103.806564</td>\n",
       "      <td>48.610258</td>\n",
       "      <td>117.726752</td>\n",
       "      <td>49.267903</td>\n",
       "      <td>118.543885</td>\n",
       "      <td>39.194816</td>\n",
       "      <td>121.770385</td>\n",
       "      <td>41.550754</td>\n",
       "    </tr>\n",
       "    <tr>\n",
       "      <th>1</th>\n",
       "      <td>628</td>\n",
       "      <td>2</td>\n",
       "      <td>0.079421</td>\n",
       "      <td>0.142249</td>\n",
       "      <td>0.163926</td>\n",
       "      <td>111.0</td>\n",
       "      <td>44.0</td>\n",
       "      <td>95.0</td>\n",
       "      <td>62.0</td>\n",
       "      <td>0</td>\n",
       "      <td>...</td>\n",
       "      <td>109.697425</td>\n",
       "      <td>48.037734</td>\n",
       "      <td>103.806564</td>\n",
       "      <td>48.610258</td>\n",
       "      <td>117.726752</td>\n",
       "      <td>49.267903</td>\n",
       "      <td>118.543885</td>\n",
       "      <td>39.194816</td>\n",
       "      <td>121.770385</td>\n",
       "      <td>41.550754</td>\n",
       "    </tr>\n",
       "    <tr>\n",
       "      <th>2</th>\n",
       "      <td>628</td>\n",
       "      <td>3</td>\n",
       "      <td>0.079421</td>\n",
       "      <td>0.162827</td>\n",
       "      <td>0.163926</td>\n",
       "      <td>111.0</td>\n",
       "      <td>44.0</td>\n",
       "      <td>95.0</td>\n",
       "      <td>62.0</td>\n",
       "      <td>0</td>\n",
       "      <td>...</td>\n",
       "      <td>109.697425</td>\n",
       "      <td>48.037734</td>\n",
       "      <td>103.806564</td>\n",
       "      <td>48.610258</td>\n",
       "      <td>117.726752</td>\n",
       "      <td>49.267903</td>\n",
       "      <td>118.543885</td>\n",
       "      <td>39.194816</td>\n",
       "      <td>121.770385</td>\n",
       "      <td>41.550754</td>\n",
       "    </tr>\n",
       "    <tr>\n",
       "      <th>3</th>\n",
       "      <td>628</td>\n",
       "      <td>4</td>\n",
       "      <td>0.079421</td>\n",
       "      <td>0.162827</td>\n",
       "      <td>0.163926</td>\n",
       "      <td>111.0</td>\n",
       "      <td>44.0</td>\n",
       "      <td>95.0</td>\n",
       "      <td>62.0</td>\n",
       "      <td>0</td>\n",
       "      <td>...</td>\n",
       "      <td>109.697425</td>\n",
       "      <td>48.037734</td>\n",
       "      <td>103.806564</td>\n",
       "      <td>48.610258</td>\n",
       "      <td>117.726752</td>\n",
       "      <td>49.267903</td>\n",
       "      <td>118.543885</td>\n",
       "      <td>39.194816</td>\n",
       "      <td>121.770385</td>\n",
       "      <td>41.550754</td>\n",
       "    </tr>\n",
       "    <tr>\n",
       "      <th>4</th>\n",
       "      <td>628</td>\n",
       "      <td>5</td>\n",
       "      <td>0.079421</td>\n",
       "      <td>0.164526</td>\n",
       "      <td>0.163926</td>\n",
       "      <td>111.0</td>\n",
       "      <td>44.0</td>\n",
       "      <td>95.0</td>\n",
       "      <td>62.0</td>\n",
       "      <td>0</td>\n",
       "      <td>...</td>\n",
       "      <td>109.697425</td>\n",
       "      <td>48.037734</td>\n",
       "      <td>103.806564</td>\n",
       "      <td>48.610258</td>\n",
       "      <td>117.726752</td>\n",
       "      <td>49.267903</td>\n",
       "      <td>118.543885</td>\n",
       "      <td>39.194816</td>\n",
       "      <td>121.770385</td>\n",
       "      <td>41.550754</td>\n",
       "    </tr>\n",
       "  </tbody>\n",
       "</table>\n",
       "<p>5 rows × 52 columns</p>\n",
       "</div>"
      ],
      "text/plain": [
       "   index  idx_generation  initial_xg   best_xG  shot_statsbomb_xg  shot_x  \\\n",
       "0    628               1    0.079421  0.104429           0.163926   111.0   \n",
       "1    628               2    0.079421  0.142249           0.163926   111.0   \n",
       "2    628               3    0.079421  0.162827           0.163926   111.0   \n",
       "3    628               4    0.079421  0.162827           0.163926   111.0   \n",
       "4    628               5    0.079421  0.164526           0.163926   111.0   \n",
       "\n",
       "   shot_y  fk_x  fk_y  teammates_player_1  ...  pos_opponent_3_x  \\\n",
       "0    44.0  95.0  62.0                   0  ...        109.697425   \n",
       "1    44.0  95.0  62.0                   0  ...        109.697425   \n",
       "2    44.0  95.0  62.0                   0  ...        109.697425   \n",
       "3    44.0  95.0  62.0                   0  ...        109.697425   \n",
       "4    44.0  95.0  62.0                   0  ...        109.697425   \n",
       "\n",
       "   pos_opponent_3_y  pos_opponent_4_x  pos_opponent_4_y  pos_opponent_5_x  \\\n",
       "0         48.037734        103.806564         48.610258        117.726752   \n",
       "1         48.037734        103.806564         48.610258        117.726752   \n",
       "2         48.037734        103.806564         48.610258        117.726752   \n",
       "3         48.037734        103.806564         48.610258        117.726752   \n",
       "4         48.037734        103.806564         48.610258        117.726752   \n",
       "\n",
       "   pos_opponent_5_y  pos_opponent_6_x  pos_opponent_6_y  pos_opponent_7_x  \\\n",
       "0         49.267903        118.543885         39.194816        121.770385   \n",
       "1         49.267903        118.543885         39.194816        121.770385   \n",
       "2         49.267903        118.543885         39.194816        121.770385   \n",
       "3         49.267903        118.543885         39.194816        121.770385   \n",
       "4         49.267903        118.543885         39.194816        121.770385   \n",
       "\n",
       "  pos_opponent_7_y  \n",
       "0        41.550754  \n",
       "1        41.550754  \n",
       "2        41.550754  \n",
       "3        41.550754  \n",
       "4        41.550754  \n",
       "\n",
       "[5 rows x 52 columns]"
      ]
     },
     "execution_count": 192,
     "metadata": {},
     "output_type": "execute_result"
    }
   ],
   "source": [
    "complete_df.head()"
   ]
  },
  {
   "cell_type": "code",
   "execution_count": 193,
   "metadata": {},
   "outputs": [],
   "source": [
    "action_id = 628\n",
    "sub_df = complete_df[complete_df['index'] == action_id]\n",
    "n_teammates = int(len([i for i in sub_df.columns if i.startswith('pos_teammate')])/2)\n",
    "n_opponents = int(len([i for i in sub_df.columns if i.startswith('pos_opponent')])/2)"
   ]
  },
  {
   "cell_type": "code",
   "execution_count": 194,
   "metadata": {},
   "outputs": [
    {
     "data": {
      "text/html": [
       "<div>\n",
       "<style scoped>\n",
       "    .dataframe tbody tr th:only-of-type {\n",
       "        vertical-align: middle;\n",
       "    }\n",
       "\n",
       "    .dataframe tbody tr th {\n",
       "        vertical-align: top;\n",
       "    }\n",
       "\n",
       "    .dataframe thead th {\n",
       "        text-align: right;\n",
       "    }\n",
       "</style>\n",
       "<table border=\"1\" class=\"dataframe\">\n",
       "  <thead>\n",
       "    <tr style=\"text-align: right;\">\n",
       "      <th></th>\n",
       "      <th>index</th>\n",
       "      <th>idx_generation</th>\n",
       "      <th>initial_xg</th>\n",
       "      <th>best_xG</th>\n",
       "      <th>shot_statsbomb_xg</th>\n",
       "      <th>shot_x</th>\n",
       "      <th>shot_y</th>\n",
       "      <th>fk_x</th>\n",
       "      <th>fk_y</th>\n",
       "      <th>teammates_player_1</th>\n",
       "      <th>...</th>\n",
       "      <th>pos_opponent_3_x</th>\n",
       "      <th>pos_opponent_3_y</th>\n",
       "      <th>pos_opponent_4_x</th>\n",
       "      <th>pos_opponent_4_y</th>\n",
       "      <th>pos_opponent_5_x</th>\n",
       "      <th>pos_opponent_5_y</th>\n",
       "      <th>pos_opponent_6_x</th>\n",
       "      <th>pos_opponent_6_y</th>\n",
       "      <th>pos_opponent_7_x</th>\n",
       "      <th>pos_opponent_7_y</th>\n",
       "    </tr>\n",
       "  </thead>\n",
       "  <tbody>\n",
       "    <tr>\n",
       "      <th>0</th>\n",
       "      <td>628</td>\n",
       "      <td>1</td>\n",
       "      <td>0.079421</td>\n",
       "      <td>0.104429</td>\n",
       "      <td>0.163926</td>\n",
       "      <td>111.0</td>\n",
       "      <td>44.0</td>\n",
       "      <td>95.0</td>\n",
       "      <td>62.0</td>\n",
       "      <td>0</td>\n",
       "      <td>...</td>\n",
       "      <td>109.697425</td>\n",
       "      <td>48.037734</td>\n",
       "      <td>103.806564</td>\n",
       "      <td>48.610258</td>\n",
       "      <td>117.726752</td>\n",
       "      <td>49.267903</td>\n",
       "      <td>118.543885</td>\n",
       "      <td>39.194816</td>\n",
       "      <td>121.770385</td>\n",
       "      <td>41.550754</td>\n",
       "    </tr>\n",
       "    <tr>\n",
       "      <th>1</th>\n",
       "      <td>628</td>\n",
       "      <td>2</td>\n",
       "      <td>0.079421</td>\n",
       "      <td>0.142249</td>\n",
       "      <td>0.163926</td>\n",
       "      <td>111.0</td>\n",
       "      <td>44.0</td>\n",
       "      <td>95.0</td>\n",
       "      <td>62.0</td>\n",
       "      <td>0</td>\n",
       "      <td>...</td>\n",
       "      <td>109.697425</td>\n",
       "      <td>48.037734</td>\n",
       "      <td>103.806564</td>\n",
       "      <td>48.610258</td>\n",
       "      <td>117.726752</td>\n",
       "      <td>49.267903</td>\n",
       "      <td>118.543885</td>\n",
       "      <td>39.194816</td>\n",
       "      <td>121.770385</td>\n",
       "      <td>41.550754</td>\n",
       "    </tr>\n",
       "    <tr>\n",
       "      <th>2</th>\n",
       "      <td>628</td>\n",
       "      <td>3</td>\n",
       "      <td>0.079421</td>\n",
       "      <td>0.162827</td>\n",
       "      <td>0.163926</td>\n",
       "      <td>111.0</td>\n",
       "      <td>44.0</td>\n",
       "      <td>95.0</td>\n",
       "      <td>62.0</td>\n",
       "      <td>0</td>\n",
       "      <td>...</td>\n",
       "      <td>109.697425</td>\n",
       "      <td>48.037734</td>\n",
       "      <td>103.806564</td>\n",
       "      <td>48.610258</td>\n",
       "      <td>117.726752</td>\n",
       "      <td>49.267903</td>\n",
       "      <td>118.543885</td>\n",
       "      <td>39.194816</td>\n",
       "      <td>121.770385</td>\n",
       "      <td>41.550754</td>\n",
       "    </tr>\n",
       "    <tr>\n",
       "      <th>3</th>\n",
       "      <td>628</td>\n",
       "      <td>4</td>\n",
       "      <td>0.079421</td>\n",
       "      <td>0.162827</td>\n",
       "      <td>0.163926</td>\n",
       "      <td>111.0</td>\n",
       "      <td>44.0</td>\n",
       "      <td>95.0</td>\n",
       "      <td>62.0</td>\n",
       "      <td>0</td>\n",
       "      <td>...</td>\n",
       "      <td>109.697425</td>\n",
       "      <td>48.037734</td>\n",
       "      <td>103.806564</td>\n",
       "      <td>48.610258</td>\n",
       "      <td>117.726752</td>\n",
       "      <td>49.267903</td>\n",
       "      <td>118.543885</td>\n",
       "      <td>39.194816</td>\n",
       "      <td>121.770385</td>\n",
       "      <td>41.550754</td>\n",
       "    </tr>\n",
       "    <tr>\n",
       "      <th>4</th>\n",
       "      <td>628</td>\n",
       "      <td>5</td>\n",
       "      <td>0.079421</td>\n",
       "      <td>0.164526</td>\n",
       "      <td>0.163926</td>\n",
       "      <td>111.0</td>\n",
       "      <td>44.0</td>\n",
       "      <td>95.0</td>\n",
       "      <td>62.0</td>\n",
       "      <td>0</td>\n",
       "      <td>...</td>\n",
       "      <td>109.697425</td>\n",
       "      <td>48.037734</td>\n",
       "      <td>103.806564</td>\n",
       "      <td>48.610258</td>\n",
       "      <td>117.726752</td>\n",
       "      <td>49.267903</td>\n",
       "      <td>118.543885</td>\n",
       "      <td>39.194816</td>\n",
       "      <td>121.770385</td>\n",
       "      <td>41.550754</td>\n",
       "    </tr>\n",
       "    <tr>\n",
       "      <th>5</th>\n",
       "      <td>628</td>\n",
       "      <td>6</td>\n",
       "      <td>0.079421</td>\n",
       "      <td>0.165546</td>\n",
       "      <td>0.163926</td>\n",
       "      <td>111.0</td>\n",
       "      <td>44.0</td>\n",
       "      <td>95.0</td>\n",
       "      <td>62.0</td>\n",
       "      <td>0</td>\n",
       "      <td>...</td>\n",
       "      <td>109.697425</td>\n",
       "      <td>48.037734</td>\n",
       "      <td>103.806564</td>\n",
       "      <td>48.610258</td>\n",
       "      <td>117.726752</td>\n",
       "      <td>49.267903</td>\n",
       "      <td>118.543885</td>\n",
       "      <td>39.194816</td>\n",
       "      <td>121.770385</td>\n",
       "      <td>41.550754</td>\n",
       "    </tr>\n",
       "    <tr>\n",
       "      <th>6</th>\n",
       "      <td>628</td>\n",
       "      <td>7</td>\n",
       "      <td>0.079421</td>\n",
       "      <td>0.170322</td>\n",
       "      <td>0.163926</td>\n",
       "      <td>111.0</td>\n",
       "      <td>44.0</td>\n",
       "      <td>95.0</td>\n",
       "      <td>62.0</td>\n",
       "      <td>0</td>\n",
       "      <td>...</td>\n",
       "      <td>109.697425</td>\n",
       "      <td>48.037734</td>\n",
       "      <td>103.806564</td>\n",
       "      <td>48.610258</td>\n",
       "      <td>117.726752</td>\n",
       "      <td>49.267903</td>\n",
       "      <td>118.543885</td>\n",
       "      <td>39.194816</td>\n",
       "      <td>121.770385</td>\n",
       "      <td>41.550754</td>\n",
       "    </tr>\n",
       "    <tr>\n",
       "      <th>7</th>\n",
       "      <td>628</td>\n",
       "      <td>8</td>\n",
       "      <td>0.079421</td>\n",
       "      <td>0.170322</td>\n",
       "      <td>0.163926</td>\n",
       "      <td>111.0</td>\n",
       "      <td>44.0</td>\n",
       "      <td>95.0</td>\n",
       "      <td>62.0</td>\n",
       "      <td>0</td>\n",
       "      <td>...</td>\n",
       "      <td>109.697425</td>\n",
       "      <td>48.037734</td>\n",
       "      <td>103.806564</td>\n",
       "      <td>48.610258</td>\n",
       "      <td>117.726752</td>\n",
       "      <td>49.267903</td>\n",
       "      <td>118.543885</td>\n",
       "      <td>39.194816</td>\n",
       "      <td>121.770385</td>\n",
       "      <td>41.550754</td>\n",
       "    </tr>\n",
       "    <tr>\n",
       "      <th>8</th>\n",
       "      <td>628</td>\n",
       "      <td>9</td>\n",
       "      <td>0.079421</td>\n",
       "      <td>0.185049</td>\n",
       "      <td>0.163926</td>\n",
       "      <td>111.0</td>\n",
       "      <td>44.0</td>\n",
       "      <td>95.0</td>\n",
       "      <td>62.0</td>\n",
       "      <td>0</td>\n",
       "      <td>...</td>\n",
       "      <td>109.697425</td>\n",
       "      <td>48.037734</td>\n",
       "      <td>103.806564</td>\n",
       "      <td>48.610258</td>\n",
       "      <td>117.726752</td>\n",
       "      <td>49.267903</td>\n",
       "      <td>118.543885</td>\n",
       "      <td>39.194816</td>\n",
       "      <td>121.770385</td>\n",
       "      <td>41.550754</td>\n",
       "    </tr>\n",
       "    <tr>\n",
       "      <th>9</th>\n",
       "      <td>628</td>\n",
       "      <td>10</td>\n",
       "      <td>0.079421</td>\n",
       "      <td>0.185084</td>\n",
       "      <td>0.163926</td>\n",
       "      <td>111.0</td>\n",
       "      <td>44.0</td>\n",
       "      <td>95.0</td>\n",
       "      <td>62.0</td>\n",
       "      <td>0</td>\n",
       "      <td>...</td>\n",
       "      <td>109.697425</td>\n",
       "      <td>48.037734</td>\n",
       "      <td>103.806564</td>\n",
       "      <td>48.610258</td>\n",
       "      <td>117.726752</td>\n",
       "      <td>49.267903</td>\n",
       "      <td>118.543885</td>\n",
       "      <td>39.194816</td>\n",
       "      <td>121.770385</td>\n",
       "      <td>41.550754</td>\n",
       "    </tr>\n",
       "    <tr>\n",
       "      <th>10</th>\n",
       "      <td>628</td>\n",
       "      <td>11</td>\n",
       "      <td>0.079421</td>\n",
       "      <td>0.185491</td>\n",
       "      <td>0.163926</td>\n",
       "      <td>111.0</td>\n",
       "      <td>44.0</td>\n",
       "      <td>95.0</td>\n",
       "      <td>62.0</td>\n",
       "      <td>0</td>\n",
       "      <td>...</td>\n",
       "      <td>109.697425</td>\n",
       "      <td>48.037734</td>\n",
       "      <td>103.806564</td>\n",
       "      <td>48.610258</td>\n",
       "      <td>117.726752</td>\n",
       "      <td>49.267903</td>\n",
       "      <td>118.543885</td>\n",
       "      <td>39.194816</td>\n",
       "      <td>121.770385</td>\n",
       "      <td>41.550754</td>\n",
       "    </tr>\n",
       "    <tr>\n",
       "      <th>11</th>\n",
       "      <td>628</td>\n",
       "      <td>12</td>\n",
       "      <td>0.079421</td>\n",
       "      <td>0.187072</td>\n",
       "      <td>0.163926</td>\n",
       "      <td>111.0</td>\n",
       "      <td>44.0</td>\n",
       "      <td>95.0</td>\n",
       "      <td>62.0</td>\n",
       "      <td>0</td>\n",
       "      <td>...</td>\n",
       "      <td>109.697425</td>\n",
       "      <td>48.037734</td>\n",
       "      <td>103.806564</td>\n",
       "      <td>48.610258</td>\n",
       "      <td>117.726752</td>\n",
       "      <td>49.267903</td>\n",
       "      <td>118.543885</td>\n",
       "      <td>39.194816</td>\n",
       "      <td>121.770385</td>\n",
       "      <td>41.550754</td>\n",
       "    </tr>\n",
       "    <tr>\n",
       "      <th>12</th>\n",
       "      <td>628</td>\n",
       "      <td>13</td>\n",
       "      <td>0.079421</td>\n",
       "      <td>0.187269</td>\n",
       "      <td>0.163926</td>\n",
       "      <td>111.0</td>\n",
       "      <td>44.0</td>\n",
       "      <td>95.0</td>\n",
       "      <td>62.0</td>\n",
       "      <td>0</td>\n",
       "      <td>...</td>\n",
       "      <td>109.697425</td>\n",
       "      <td>48.037734</td>\n",
       "      <td>103.806564</td>\n",
       "      <td>48.610258</td>\n",
       "      <td>117.726752</td>\n",
       "      <td>49.267903</td>\n",
       "      <td>118.543885</td>\n",
       "      <td>39.194816</td>\n",
       "      <td>121.770385</td>\n",
       "      <td>41.550754</td>\n",
       "    </tr>\n",
       "    <tr>\n",
       "      <th>13</th>\n",
       "      <td>628</td>\n",
       "      <td>14</td>\n",
       "      <td>0.079421</td>\n",
       "      <td>0.187526</td>\n",
       "      <td>0.163926</td>\n",
       "      <td>111.0</td>\n",
       "      <td>44.0</td>\n",
       "      <td>95.0</td>\n",
       "      <td>62.0</td>\n",
       "      <td>0</td>\n",
       "      <td>...</td>\n",
       "      <td>109.697425</td>\n",
       "      <td>48.037734</td>\n",
       "      <td>103.806564</td>\n",
       "      <td>48.610258</td>\n",
       "      <td>117.726752</td>\n",
       "      <td>49.267903</td>\n",
       "      <td>118.543885</td>\n",
       "      <td>39.194816</td>\n",
       "      <td>121.770385</td>\n",
       "      <td>41.550754</td>\n",
       "    </tr>\n",
       "    <tr>\n",
       "      <th>14</th>\n",
       "      <td>628</td>\n",
       "      <td>15</td>\n",
       "      <td>0.079421</td>\n",
       "      <td>0.187922</td>\n",
       "      <td>0.163926</td>\n",
       "      <td>111.0</td>\n",
       "      <td>44.0</td>\n",
       "      <td>95.0</td>\n",
       "      <td>62.0</td>\n",
       "      <td>0</td>\n",
       "      <td>...</td>\n",
       "      <td>109.697425</td>\n",
       "      <td>48.037734</td>\n",
       "      <td>103.806564</td>\n",
       "      <td>48.610258</td>\n",
       "      <td>117.726752</td>\n",
       "      <td>49.267903</td>\n",
       "      <td>118.543885</td>\n",
       "      <td>39.194816</td>\n",
       "      <td>121.770385</td>\n",
       "      <td>41.550754</td>\n",
       "    </tr>\n",
       "    <tr>\n",
       "      <th>15</th>\n",
       "      <td>628</td>\n",
       "      <td>16</td>\n",
       "      <td>0.079421</td>\n",
       "      <td>0.187922</td>\n",
       "      <td>0.163926</td>\n",
       "      <td>111.0</td>\n",
       "      <td>44.0</td>\n",
       "      <td>95.0</td>\n",
       "      <td>62.0</td>\n",
       "      <td>0</td>\n",
       "      <td>...</td>\n",
       "      <td>109.697425</td>\n",
       "      <td>48.037734</td>\n",
       "      <td>103.806564</td>\n",
       "      <td>48.610258</td>\n",
       "      <td>117.726752</td>\n",
       "      <td>49.267903</td>\n",
       "      <td>118.543885</td>\n",
       "      <td>39.194816</td>\n",
       "      <td>121.770385</td>\n",
       "      <td>41.550754</td>\n",
       "    </tr>\n",
       "    <tr>\n",
       "      <th>16</th>\n",
       "      <td>628</td>\n",
       "      <td>17</td>\n",
       "      <td>0.079421</td>\n",
       "      <td>0.188101</td>\n",
       "      <td>0.163926</td>\n",
       "      <td>111.0</td>\n",
       "      <td>44.0</td>\n",
       "      <td>95.0</td>\n",
       "      <td>62.0</td>\n",
       "      <td>0</td>\n",
       "      <td>...</td>\n",
       "      <td>109.697425</td>\n",
       "      <td>48.037734</td>\n",
       "      <td>103.806564</td>\n",
       "      <td>48.610258</td>\n",
       "      <td>117.726752</td>\n",
       "      <td>49.267903</td>\n",
       "      <td>118.543885</td>\n",
       "      <td>39.194816</td>\n",
       "      <td>121.770385</td>\n",
       "      <td>41.550754</td>\n",
       "    </tr>\n",
       "    <tr>\n",
       "      <th>17</th>\n",
       "      <td>628</td>\n",
       "      <td>18</td>\n",
       "      <td>0.079421</td>\n",
       "      <td>0.188644</td>\n",
       "      <td>0.163926</td>\n",
       "      <td>111.0</td>\n",
       "      <td>44.0</td>\n",
       "      <td>95.0</td>\n",
       "      <td>62.0</td>\n",
       "      <td>0</td>\n",
       "      <td>...</td>\n",
       "      <td>109.697425</td>\n",
       "      <td>48.037734</td>\n",
       "      <td>103.806564</td>\n",
       "      <td>48.610258</td>\n",
       "      <td>117.726752</td>\n",
       "      <td>49.267903</td>\n",
       "      <td>118.543885</td>\n",
       "      <td>39.194816</td>\n",
       "      <td>121.770385</td>\n",
       "      <td>41.550754</td>\n",
       "    </tr>\n",
       "    <tr>\n",
       "      <th>18</th>\n",
       "      <td>628</td>\n",
       "      <td>19</td>\n",
       "      <td>0.079421</td>\n",
       "      <td>0.188660</td>\n",
       "      <td>0.163926</td>\n",
       "      <td>111.0</td>\n",
       "      <td>44.0</td>\n",
       "      <td>95.0</td>\n",
       "      <td>62.0</td>\n",
       "      <td>0</td>\n",
       "      <td>...</td>\n",
       "      <td>109.697425</td>\n",
       "      <td>48.037734</td>\n",
       "      <td>103.806564</td>\n",
       "      <td>48.610258</td>\n",
       "      <td>117.726752</td>\n",
       "      <td>49.267903</td>\n",
       "      <td>118.543885</td>\n",
       "      <td>39.194816</td>\n",
       "      <td>121.770385</td>\n",
       "      <td>41.550754</td>\n",
       "    </tr>\n",
       "    <tr>\n",
       "      <th>19</th>\n",
       "      <td>628</td>\n",
       "      <td>20</td>\n",
       "      <td>0.079421</td>\n",
       "      <td>0.189109</td>\n",
       "      <td>0.163926</td>\n",
       "      <td>111.0</td>\n",
       "      <td>44.0</td>\n",
       "      <td>95.0</td>\n",
       "      <td>62.0</td>\n",
       "      <td>0</td>\n",
       "      <td>...</td>\n",
       "      <td>109.697425</td>\n",
       "      <td>48.037734</td>\n",
       "      <td>103.806564</td>\n",
       "      <td>48.610258</td>\n",
       "      <td>117.726752</td>\n",
       "      <td>49.267903</td>\n",
       "      <td>118.543885</td>\n",
       "      <td>39.194816</td>\n",
       "      <td>121.770385</td>\n",
       "      <td>41.550754</td>\n",
       "    </tr>\n",
       "    <tr>\n",
       "      <th>20</th>\n",
       "      <td>628</td>\n",
       "      <td>21</td>\n",
       "      <td>0.079421</td>\n",
       "      <td>0.189831</td>\n",
       "      <td>0.163926</td>\n",
       "      <td>111.0</td>\n",
       "      <td>44.0</td>\n",
       "      <td>95.0</td>\n",
       "      <td>62.0</td>\n",
       "      <td>0</td>\n",
       "      <td>...</td>\n",
       "      <td>109.697425</td>\n",
       "      <td>48.037734</td>\n",
       "      <td>103.806564</td>\n",
       "      <td>48.610258</td>\n",
       "      <td>117.726752</td>\n",
       "      <td>49.267903</td>\n",
       "      <td>118.543885</td>\n",
       "      <td>39.194816</td>\n",
       "      <td>121.770385</td>\n",
       "      <td>41.550754</td>\n",
       "    </tr>\n",
       "    <tr>\n",
       "      <th>21</th>\n",
       "      <td>628</td>\n",
       "      <td>22</td>\n",
       "      <td>0.079421</td>\n",
       "      <td>0.189831</td>\n",
       "      <td>0.163926</td>\n",
       "      <td>111.0</td>\n",
       "      <td>44.0</td>\n",
       "      <td>95.0</td>\n",
       "      <td>62.0</td>\n",
       "      <td>0</td>\n",
       "      <td>...</td>\n",
       "      <td>109.697425</td>\n",
       "      <td>48.037734</td>\n",
       "      <td>103.806564</td>\n",
       "      <td>48.610258</td>\n",
       "      <td>117.726752</td>\n",
       "      <td>49.267903</td>\n",
       "      <td>118.543885</td>\n",
       "      <td>39.194816</td>\n",
       "      <td>121.770385</td>\n",
       "      <td>41.550754</td>\n",
       "    </tr>\n",
       "    <tr>\n",
       "      <th>22</th>\n",
       "      <td>628</td>\n",
       "      <td>23</td>\n",
       "      <td>0.079421</td>\n",
       "      <td>0.189831</td>\n",
       "      <td>0.163926</td>\n",
       "      <td>111.0</td>\n",
       "      <td>44.0</td>\n",
       "      <td>95.0</td>\n",
       "      <td>62.0</td>\n",
       "      <td>0</td>\n",
       "      <td>...</td>\n",
       "      <td>109.697425</td>\n",
       "      <td>48.037734</td>\n",
       "      <td>103.806564</td>\n",
       "      <td>48.610258</td>\n",
       "      <td>117.726752</td>\n",
       "      <td>49.267903</td>\n",
       "      <td>118.543885</td>\n",
       "      <td>39.194816</td>\n",
       "      <td>121.770385</td>\n",
       "      <td>41.550754</td>\n",
       "    </tr>\n",
       "    <tr>\n",
       "      <th>23</th>\n",
       "      <td>628</td>\n",
       "      <td>24</td>\n",
       "      <td>0.079421</td>\n",
       "      <td>0.190383</td>\n",
       "      <td>0.163926</td>\n",
       "      <td>111.0</td>\n",
       "      <td>44.0</td>\n",
       "      <td>95.0</td>\n",
       "      <td>62.0</td>\n",
       "      <td>0</td>\n",
       "      <td>...</td>\n",
       "      <td>109.697425</td>\n",
       "      <td>48.037734</td>\n",
       "      <td>103.806564</td>\n",
       "      <td>48.610258</td>\n",
       "      <td>117.726752</td>\n",
       "      <td>49.267903</td>\n",
       "      <td>118.543885</td>\n",
       "      <td>39.194816</td>\n",
       "      <td>121.770385</td>\n",
       "      <td>41.550754</td>\n",
       "    </tr>\n",
       "    <tr>\n",
       "      <th>24</th>\n",
       "      <td>628</td>\n",
       "      <td>25</td>\n",
       "      <td>0.079421</td>\n",
       "      <td>0.190383</td>\n",
       "      <td>0.163926</td>\n",
       "      <td>111.0</td>\n",
       "      <td>44.0</td>\n",
       "      <td>95.0</td>\n",
       "      <td>62.0</td>\n",
       "      <td>0</td>\n",
       "      <td>...</td>\n",
       "      <td>109.697425</td>\n",
       "      <td>48.037734</td>\n",
       "      <td>103.806564</td>\n",
       "      <td>48.610258</td>\n",
       "      <td>117.726752</td>\n",
       "      <td>49.267903</td>\n",
       "      <td>118.543885</td>\n",
       "      <td>39.194816</td>\n",
       "      <td>121.770385</td>\n",
       "      <td>41.550754</td>\n",
       "    </tr>\n",
       "    <tr>\n",
       "      <th>25</th>\n",
       "      <td>628</td>\n",
       "      <td>26</td>\n",
       "      <td>0.079421</td>\n",
       "      <td>0.190383</td>\n",
       "      <td>0.163926</td>\n",
       "      <td>111.0</td>\n",
       "      <td>44.0</td>\n",
       "      <td>95.0</td>\n",
       "      <td>62.0</td>\n",
       "      <td>0</td>\n",
       "      <td>...</td>\n",
       "      <td>109.697425</td>\n",
       "      <td>48.037734</td>\n",
       "      <td>103.806564</td>\n",
       "      <td>48.610258</td>\n",
       "      <td>117.726752</td>\n",
       "      <td>49.267903</td>\n",
       "      <td>118.543885</td>\n",
       "      <td>39.194816</td>\n",
       "      <td>121.770385</td>\n",
       "      <td>41.550754</td>\n",
       "    </tr>\n",
       "    <tr>\n",
       "      <th>26</th>\n",
       "      <td>628</td>\n",
       "      <td>27</td>\n",
       "      <td>0.079421</td>\n",
       "      <td>0.192617</td>\n",
       "      <td>0.163926</td>\n",
       "      <td>111.0</td>\n",
       "      <td>44.0</td>\n",
       "      <td>95.0</td>\n",
       "      <td>62.0</td>\n",
       "      <td>0</td>\n",
       "      <td>...</td>\n",
       "      <td>109.697425</td>\n",
       "      <td>48.037734</td>\n",
       "      <td>103.806564</td>\n",
       "      <td>48.610258</td>\n",
       "      <td>117.726752</td>\n",
       "      <td>49.267903</td>\n",
       "      <td>118.543885</td>\n",
       "      <td>39.194816</td>\n",
       "      <td>121.770385</td>\n",
       "      <td>41.550754</td>\n",
       "    </tr>\n",
       "    <tr>\n",
       "      <th>27</th>\n",
       "      <td>628</td>\n",
       "      <td>28</td>\n",
       "      <td>0.079421</td>\n",
       "      <td>0.192617</td>\n",
       "      <td>0.163926</td>\n",
       "      <td>111.0</td>\n",
       "      <td>44.0</td>\n",
       "      <td>95.0</td>\n",
       "      <td>62.0</td>\n",
       "      <td>0</td>\n",
       "      <td>...</td>\n",
       "      <td>109.697425</td>\n",
       "      <td>48.037734</td>\n",
       "      <td>103.806564</td>\n",
       "      <td>48.610258</td>\n",
       "      <td>117.726752</td>\n",
       "      <td>49.267903</td>\n",
       "      <td>118.543885</td>\n",
       "      <td>39.194816</td>\n",
       "      <td>121.770385</td>\n",
       "      <td>41.550754</td>\n",
       "    </tr>\n",
       "    <tr>\n",
       "      <th>28</th>\n",
       "      <td>628</td>\n",
       "      <td>29</td>\n",
       "      <td>0.079421</td>\n",
       "      <td>0.192617</td>\n",
       "      <td>0.163926</td>\n",
       "      <td>111.0</td>\n",
       "      <td>44.0</td>\n",
       "      <td>95.0</td>\n",
       "      <td>62.0</td>\n",
       "      <td>0</td>\n",
       "      <td>...</td>\n",
       "      <td>109.697425</td>\n",
       "      <td>48.037734</td>\n",
       "      <td>103.806564</td>\n",
       "      <td>48.610258</td>\n",
       "      <td>117.726752</td>\n",
       "      <td>49.267903</td>\n",
       "      <td>118.543885</td>\n",
       "      <td>39.194816</td>\n",
       "      <td>121.770385</td>\n",
       "      <td>41.550754</td>\n",
       "    </tr>\n",
       "    <tr>\n",
       "      <th>29</th>\n",
       "      <td>628</td>\n",
       "      <td>30</td>\n",
       "      <td>0.079421</td>\n",
       "      <td>0.192617</td>\n",
       "      <td>0.163926</td>\n",
       "      <td>111.0</td>\n",
       "      <td>44.0</td>\n",
       "      <td>95.0</td>\n",
       "      <td>62.0</td>\n",
       "      <td>0</td>\n",
       "      <td>...</td>\n",
       "      <td>109.697425</td>\n",
       "      <td>48.037734</td>\n",
       "      <td>103.806564</td>\n",
       "      <td>48.610258</td>\n",
       "      <td>117.726752</td>\n",
       "      <td>49.267903</td>\n",
       "      <td>118.543885</td>\n",
       "      <td>39.194816</td>\n",
       "      <td>121.770385</td>\n",
       "      <td>41.550754</td>\n",
       "    </tr>\n",
       "    <tr>\n",
       "      <th>30</th>\n",
       "      <td>628</td>\n",
       "      <td>31</td>\n",
       "      <td>0.079421</td>\n",
       "      <td>0.192617</td>\n",
       "      <td>0.163926</td>\n",
       "      <td>111.0</td>\n",
       "      <td>44.0</td>\n",
       "      <td>95.0</td>\n",
       "      <td>62.0</td>\n",
       "      <td>0</td>\n",
       "      <td>...</td>\n",
       "      <td>109.697425</td>\n",
       "      <td>48.037734</td>\n",
       "      <td>103.806564</td>\n",
       "      <td>48.610258</td>\n",
       "      <td>117.726752</td>\n",
       "      <td>49.267903</td>\n",
       "      <td>118.543885</td>\n",
       "      <td>39.194816</td>\n",
       "      <td>121.770385</td>\n",
       "      <td>41.550754</td>\n",
       "    </tr>\n",
       "    <tr>\n",
       "      <th>31</th>\n",
       "      <td>628</td>\n",
       "      <td>32</td>\n",
       "      <td>0.079421</td>\n",
       "      <td>0.192617</td>\n",
       "      <td>0.163926</td>\n",
       "      <td>111.0</td>\n",
       "      <td>44.0</td>\n",
       "      <td>95.0</td>\n",
       "      <td>62.0</td>\n",
       "      <td>0</td>\n",
       "      <td>...</td>\n",
       "      <td>109.697425</td>\n",
       "      <td>48.037734</td>\n",
       "      <td>103.806564</td>\n",
       "      <td>48.610258</td>\n",
       "      <td>117.726752</td>\n",
       "      <td>49.267903</td>\n",
       "      <td>118.543885</td>\n",
       "      <td>39.194816</td>\n",
       "      <td>121.770385</td>\n",
       "      <td>41.550754</td>\n",
       "    </tr>\n",
       "    <tr>\n",
       "      <th>32</th>\n",
       "      <td>628</td>\n",
       "      <td>33</td>\n",
       "      <td>0.079421</td>\n",
       "      <td>0.192617</td>\n",
       "      <td>0.163926</td>\n",
       "      <td>111.0</td>\n",
       "      <td>44.0</td>\n",
       "      <td>95.0</td>\n",
       "      <td>62.0</td>\n",
       "      <td>0</td>\n",
       "      <td>...</td>\n",
       "      <td>109.697425</td>\n",
       "      <td>48.037734</td>\n",
       "      <td>103.806564</td>\n",
       "      <td>48.610258</td>\n",
       "      <td>117.726752</td>\n",
       "      <td>49.267903</td>\n",
       "      <td>118.543885</td>\n",
       "      <td>39.194816</td>\n",
       "      <td>121.770385</td>\n",
       "      <td>41.550754</td>\n",
       "    </tr>\n",
       "    <tr>\n",
       "      <th>33</th>\n",
       "      <td>628</td>\n",
       "      <td>34</td>\n",
       "      <td>0.079421</td>\n",
       "      <td>0.192617</td>\n",
       "      <td>0.163926</td>\n",
       "      <td>111.0</td>\n",
       "      <td>44.0</td>\n",
       "      <td>95.0</td>\n",
       "      <td>62.0</td>\n",
       "      <td>0</td>\n",
       "      <td>...</td>\n",
       "      <td>109.697425</td>\n",
       "      <td>48.037734</td>\n",
       "      <td>103.806564</td>\n",
       "      <td>48.610258</td>\n",
       "      <td>117.726752</td>\n",
       "      <td>49.267903</td>\n",
       "      <td>118.543885</td>\n",
       "      <td>39.194816</td>\n",
       "      <td>121.770385</td>\n",
       "      <td>41.550754</td>\n",
       "    </tr>\n",
       "    <tr>\n",
       "      <th>34</th>\n",
       "      <td>628</td>\n",
       "      <td>35</td>\n",
       "      <td>0.079421</td>\n",
       "      <td>0.192617</td>\n",
       "      <td>0.163926</td>\n",
       "      <td>111.0</td>\n",
       "      <td>44.0</td>\n",
       "      <td>95.0</td>\n",
       "      <td>62.0</td>\n",
       "      <td>0</td>\n",
       "      <td>...</td>\n",
       "      <td>109.697425</td>\n",
       "      <td>48.037734</td>\n",
       "      <td>103.806564</td>\n",
       "      <td>48.610258</td>\n",
       "      <td>117.726752</td>\n",
       "      <td>49.267903</td>\n",
       "      <td>118.543885</td>\n",
       "      <td>39.194816</td>\n",
       "      <td>121.770385</td>\n",
       "      <td>41.550754</td>\n",
       "    </tr>\n",
       "    <tr>\n",
       "      <th>35</th>\n",
       "      <td>628</td>\n",
       "      <td>36</td>\n",
       "      <td>0.079421</td>\n",
       "      <td>0.193175</td>\n",
       "      <td>0.163926</td>\n",
       "      <td>111.0</td>\n",
       "      <td>44.0</td>\n",
       "      <td>95.0</td>\n",
       "      <td>62.0</td>\n",
       "      <td>0</td>\n",
       "      <td>...</td>\n",
       "      <td>109.697425</td>\n",
       "      <td>48.037734</td>\n",
       "      <td>103.806564</td>\n",
       "      <td>48.610258</td>\n",
       "      <td>117.726752</td>\n",
       "      <td>49.267903</td>\n",
       "      <td>118.543885</td>\n",
       "      <td>39.194816</td>\n",
       "      <td>121.770385</td>\n",
       "      <td>41.550754</td>\n",
       "    </tr>\n",
       "    <tr>\n",
       "      <th>36</th>\n",
       "      <td>628</td>\n",
       "      <td>37</td>\n",
       "      <td>0.079421</td>\n",
       "      <td>0.193190</td>\n",
       "      <td>0.163926</td>\n",
       "      <td>111.0</td>\n",
       "      <td>44.0</td>\n",
       "      <td>95.0</td>\n",
       "      <td>62.0</td>\n",
       "      <td>0</td>\n",
       "      <td>...</td>\n",
       "      <td>109.697425</td>\n",
       "      <td>48.037734</td>\n",
       "      <td>103.806564</td>\n",
       "      <td>48.610258</td>\n",
       "      <td>117.726752</td>\n",
       "      <td>49.267903</td>\n",
       "      <td>118.543885</td>\n",
       "      <td>39.194816</td>\n",
       "      <td>121.770385</td>\n",
       "      <td>41.550754</td>\n",
       "    </tr>\n",
       "    <tr>\n",
       "      <th>37</th>\n",
       "      <td>628</td>\n",
       "      <td>38</td>\n",
       "      <td>0.079421</td>\n",
       "      <td>0.193190</td>\n",
       "      <td>0.163926</td>\n",
       "      <td>111.0</td>\n",
       "      <td>44.0</td>\n",
       "      <td>95.0</td>\n",
       "      <td>62.0</td>\n",
       "      <td>0</td>\n",
       "      <td>...</td>\n",
       "      <td>109.697425</td>\n",
       "      <td>48.037734</td>\n",
       "      <td>103.806564</td>\n",
       "      <td>48.610258</td>\n",
       "      <td>117.726752</td>\n",
       "      <td>49.267903</td>\n",
       "      <td>118.543885</td>\n",
       "      <td>39.194816</td>\n",
       "      <td>121.770385</td>\n",
       "      <td>41.550754</td>\n",
       "    </tr>\n",
       "    <tr>\n",
       "      <th>38</th>\n",
       "      <td>628</td>\n",
       "      <td>39</td>\n",
       "      <td>0.079421</td>\n",
       "      <td>0.193190</td>\n",
       "      <td>0.163926</td>\n",
       "      <td>111.0</td>\n",
       "      <td>44.0</td>\n",
       "      <td>95.0</td>\n",
       "      <td>62.0</td>\n",
       "      <td>0</td>\n",
       "      <td>...</td>\n",
       "      <td>109.697425</td>\n",
       "      <td>48.037734</td>\n",
       "      <td>103.806564</td>\n",
       "      <td>48.610258</td>\n",
       "      <td>117.726752</td>\n",
       "      <td>49.267903</td>\n",
       "      <td>118.543885</td>\n",
       "      <td>39.194816</td>\n",
       "      <td>121.770385</td>\n",
       "      <td>41.550754</td>\n",
       "    </tr>\n",
       "    <tr>\n",
       "      <th>39</th>\n",
       "      <td>628</td>\n",
       "      <td>40</td>\n",
       "      <td>0.079421</td>\n",
       "      <td>0.193190</td>\n",
       "      <td>0.163926</td>\n",
       "      <td>111.0</td>\n",
       "      <td>44.0</td>\n",
       "      <td>95.0</td>\n",
       "      <td>62.0</td>\n",
       "      <td>0</td>\n",
       "      <td>...</td>\n",
       "      <td>109.697425</td>\n",
       "      <td>48.037734</td>\n",
       "      <td>103.806564</td>\n",
       "      <td>48.610258</td>\n",
       "      <td>117.726752</td>\n",
       "      <td>49.267903</td>\n",
       "      <td>118.543885</td>\n",
       "      <td>39.194816</td>\n",
       "      <td>121.770385</td>\n",
       "      <td>41.550754</td>\n",
       "    </tr>\n",
       "    <tr>\n",
       "      <th>40</th>\n",
       "      <td>628</td>\n",
       "      <td>41</td>\n",
       "      <td>0.079421</td>\n",
       "      <td>0.193190</td>\n",
       "      <td>0.163926</td>\n",
       "      <td>111.0</td>\n",
       "      <td>44.0</td>\n",
       "      <td>95.0</td>\n",
       "      <td>62.0</td>\n",
       "      <td>0</td>\n",
       "      <td>...</td>\n",
       "      <td>109.697425</td>\n",
       "      <td>48.037734</td>\n",
       "      <td>103.806564</td>\n",
       "      <td>48.610258</td>\n",
       "      <td>117.726752</td>\n",
       "      <td>49.267903</td>\n",
       "      <td>118.543885</td>\n",
       "      <td>39.194816</td>\n",
       "      <td>121.770385</td>\n",
       "      <td>41.550754</td>\n",
       "    </tr>\n",
       "    <tr>\n",
       "      <th>41</th>\n",
       "      <td>628</td>\n",
       "      <td>42</td>\n",
       "      <td>0.079421</td>\n",
       "      <td>0.193190</td>\n",
       "      <td>0.163926</td>\n",
       "      <td>111.0</td>\n",
       "      <td>44.0</td>\n",
       "      <td>95.0</td>\n",
       "      <td>62.0</td>\n",
       "      <td>0</td>\n",
       "      <td>...</td>\n",
       "      <td>109.697425</td>\n",
       "      <td>48.037734</td>\n",
       "      <td>103.806564</td>\n",
       "      <td>48.610258</td>\n",
       "      <td>117.726752</td>\n",
       "      <td>49.267903</td>\n",
       "      <td>118.543885</td>\n",
       "      <td>39.194816</td>\n",
       "      <td>121.770385</td>\n",
       "      <td>41.550754</td>\n",
       "    </tr>\n",
       "    <tr>\n",
       "      <th>42</th>\n",
       "      <td>628</td>\n",
       "      <td>43</td>\n",
       "      <td>0.079421</td>\n",
       "      <td>0.193190</td>\n",
       "      <td>0.163926</td>\n",
       "      <td>111.0</td>\n",
       "      <td>44.0</td>\n",
       "      <td>95.0</td>\n",
       "      <td>62.0</td>\n",
       "      <td>0</td>\n",
       "      <td>...</td>\n",
       "      <td>109.697425</td>\n",
       "      <td>48.037734</td>\n",
       "      <td>103.806564</td>\n",
       "      <td>48.610258</td>\n",
       "      <td>117.726752</td>\n",
       "      <td>49.267903</td>\n",
       "      <td>118.543885</td>\n",
       "      <td>39.194816</td>\n",
       "      <td>121.770385</td>\n",
       "      <td>41.550754</td>\n",
       "    </tr>\n",
       "    <tr>\n",
       "      <th>43</th>\n",
       "      <td>628</td>\n",
       "      <td>44</td>\n",
       "      <td>0.079421</td>\n",
       "      <td>0.193190</td>\n",
       "      <td>0.163926</td>\n",
       "      <td>111.0</td>\n",
       "      <td>44.0</td>\n",
       "      <td>95.0</td>\n",
       "      <td>62.0</td>\n",
       "      <td>0</td>\n",
       "      <td>...</td>\n",
       "      <td>109.697425</td>\n",
       "      <td>48.037734</td>\n",
       "      <td>103.806564</td>\n",
       "      <td>48.610258</td>\n",
       "      <td>117.726752</td>\n",
       "      <td>49.267903</td>\n",
       "      <td>118.543885</td>\n",
       "      <td>39.194816</td>\n",
       "      <td>121.770385</td>\n",
       "      <td>41.550754</td>\n",
       "    </tr>\n",
       "    <tr>\n",
       "      <th>44</th>\n",
       "      <td>628</td>\n",
       "      <td>45</td>\n",
       "      <td>0.079421</td>\n",
       "      <td>0.193190</td>\n",
       "      <td>0.163926</td>\n",
       "      <td>111.0</td>\n",
       "      <td>44.0</td>\n",
       "      <td>95.0</td>\n",
       "      <td>62.0</td>\n",
       "      <td>0</td>\n",
       "      <td>...</td>\n",
       "      <td>109.697425</td>\n",
       "      <td>48.037734</td>\n",
       "      <td>103.806564</td>\n",
       "      <td>48.610258</td>\n",
       "      <td>117.726752</td>\n",
       "      <td>49.267903</td>\n",
       "      <td>118.543885</td>\n",
       "      <td>39.194816</td>\n",
       "      <td>121.770385</td>\n",
       "      <td>41.550754</td>\n",
       "    </tr>\n",
       "    <tr>\n",
       "      <th>45</th>\n",
       "      <td>628</td>\n",
       "      <td>46</td>\n",
       "      <td>0.079421</td>\n",
       "      <td>0.193205</td>\n",
       "      <td>0.163926</td>\n",
       "      <td>111.0</td>\n",
       "      <td>44.0</td>\n",
       "      <td>95.0</td>\n",
       "      <td>62.0</td>\n",
       "      <td>0</td>\n",
       "      <td>...</td>\n",
       "      <td>109.697425</td>\n",
       "      <td>48.037734</td>\n",
       "      <td>103.806564</td>\n",
       "      <td>48.610258</td>\n",
       "      <td>117.726752</td>\n",
       "      <td>49.267903</td>\n",
       "      <td>118.543885</td>\n",
       "      <td>39.194816</td>\n",
       "      <td>121.770385</td>\n",
       "      <td>41.550754</td>\n",
       "    </tr>\n",
       "    <tr>\n",
       "      <th>46</th>\n",
       "      <td>628</td>\n",
       "      <td>47</td>\n",
       "      <td>0.079421</td>\n",
       "      <td>0.193205</td>\n",
       "      <td>0.163926</td>\n",
       "      <td>111.0</td>\n",
       "      <td>44.0</td>\n",
       "      <td>95.0</td>\n",
       "      <td>62.0</td>\n",
       "      <td>0</td>\n",
       "      <td>...</td>\n",
       "      <td>109.697425</td>\n",
       "      <td>48.037734</td>\n",
       "      <td>103.806564</td>\n",
       "      <td>48.610258</td>\n",
       "      <td>117.726752</td>\n",
       "      <td>49.267903</td>\n",
       "      <td>118.543885</td>\n",
       "      <td>39.194816</td>\n",
       "      <td>121.770385</td>\n",
       "      <td>41.550754</td>\n",
       "    </tr>\n",
       "    <tr>\n",
       "      <th>47</th>\n",
       "      <td>628</td>\n",
       "      <td>48</td>\n",
       "      <td>0.079421</td>\n",
       "      <td>0.193205</td>\n",
       "      <td>0.163926</td>\n",
       "      <td>111.0</td>\n",
       "      <td>44.0</td>\n",
       "      <td>95.0</td>\n",
       "      <td>62.0</td>\n",
       "      <td>0</td>\n",
       "      <td>...</td>\n",
       "      <td>109.697425</td>\n",
       "      <td>48.037734</td>\n",
       "      <td>103.806564</td>\n",
       "      <td>48.610258</td>\n",
       "      <td>117.726752</td>\n",
       "      <td>49.267903</td>\n",
       "      <td>118.543885</td>\n",
       "      <td>39.194816</td>\n",
       "      <td>121.770385</td>\n",
       "      <td>41.550754</td>\n",
       "    </tr>\n",
       "    <tr>\n",
       "      <th>48</th>\n",
       "      <td>628</td>\n",
       "      <td>49</td>\n",
       "      <td>0.079421</td>\n",
       "      <td>0.193205</td>\n",
       "      <td>0.163926</td>\n",
       "      <td>111.0</td>\n",
       "      <td>44.0</td>\n",
       "      <td>95.0</td>\n",
       "      <td>62.0</td>\n",
       "      <td>0</td>\n",
       "      <td>...</td>\n",
       "      <td>109.697425</td>\n",
       "      <td>48.037734</td>\n",
       "      <td>103.806564</td>\n",
       "      <td>48.610258</td>\n",
       "      <td>117.726752</td>\n",
       "      <td>49.267903</td>\n",
       "      <td>118.543885</td>\n",
       "      <td>39.194816</td>\n",
       "      <td>121.770385</td>\n",
       "      <td>41.550754</td>\n",
       "    </tr>\n",
       "    <tr>\n",
       "      <th>49</th>\n",
       "      <td>628</td>\n",
       "      <td>50</td>\n",
       "      <td>0.079421</td>\n",
       "      <td>0.193205</td>\n",
       "      <td>0.163926</td>\n",
       "      <td>111.0</td>\n",
       "      <td>44.0</td>\n",
       "      <td>95.0</td>\n",
       "      <td>62.0</td>\n",
       "      <td>0</td>\n",
       "      <td>...</td>\n",
       "      <td>109.697425</td>\n",
       "      <td>48.037734</td>\n",
       "      <td>103.806564</td>\n",
       "      <td>48.610258</td>\n",
       "      <td>117.726752</td>\n",
       "      <td>49.267903</td>\n",
       "      <td>118.543885</td>\n",
       "      <td>39.194816</td>\n",
       "      <td>121.770385</td>\n",
       "      <td>41.550754</td>\n",
       "    </tr>\n",
       "  </tbody>\n",
       "</table>\n",
       "<p>50 rows × 52 columns</p>\n",
       "</div>"
      ],
      "text/plain": [
       "    index  idx_generation  initial_xg   best_xG  shot_statsbomb_xg  shot_x  \\\n",
       "0     628               1    0.079421  0.104429           0.163926   111.0   \n",
       "1     628               2    0.079421  0.142249           0.163926   111.0   \n",
       "2     628               3    0.079421  0.162827           0.163926   111.0   \n",
       "3     628               4    0.079421  0.162827           0.163926   111.0   \n",
       "4     628               5    0.079421  0.164526           0.163926   111.0   \n",
       "5     628               6    0.079421  0.165546           0.163926   111.0   \n",
       "6     628               7    0.079421  0.170322           0.163926   111.0   \n",
       "7     628               8    0.079421  0.170322           0.163926   111.0   \n",
       "8     628               9    0.079421  0.185049           0.163926   111.0   \n",
       "9     628              10    0.079421  0.185084           0.163926   111.0   \n",
       "10    628              11    0.079421  0.185491           0.163926   111.0   \n",
       "11    628              12    0.079421  0.187072           0.163926   111.0   \n",
       "12    628              13    0.079421  0.187269           0.163926   111.0   \n",
       "13    628              14    0.079421  0.187526           0.163926   111.0   \n",
       "14    628              15    0.079421  0.187922           0.163926   111.0   \n",
       "15    628              16    0.079421  0.187922           0.163926   111.0   \n",
       "16    628              17    0.079421  0.188101           0.163926   111.0   \n",
       "17    628              18    0.079421  0.188644           0.163926   111.0   \n",
       "18    628              19    0.079421  0.188660           0.163926   111.0   \n",
       "19    628              20    0.079421  0.189109           0.163926   111.0   \n",
       "20    628              21    0.079421  0.189831           0.163926   111.0   \n",
       "21    628              22    0.079421  0.189831           0.163926   111.0   \n",
       "22    628              23    0.079421  0.189831           0.163926   111.0   \n",
       "23    628              24    0.079421  0.190383           0.163926   111.0   \n",
       "24    628              25    0.079421  0.190383           0.163926   111.0   \n",
       "25    628              26    0.079421  0.190383           0.163926   111.0   \n",
       "26    628              27    0.079421  0.192617           0.163926   111.0   \n",
       "27    628              28    0.079421  0.192617           0.163926   111.0   \n",
       "28    628              29    0.079421  0.192617           0.163926   111.0   \n",
       "29    628              30    0.079421  0.192617           0.163926   111.0   \n",
       "30    628              31    0.079421  0.192617           0.163926   111.0   \n",
       "31    628              32    0.079421  0.192617           0.163926   111.0   \n",
       "32    628              33    0.079421  0.192617           0.163926   111.0   \n",
       "33    628              34    0.079421  0.192617           0.163926   111.0   \n",
       "34    628              35    0.079421  0.192617           0.163926   111.0   \n",
       "35    628              36    0.079421  0.193175           0.163926   111.0   \n",
       "36    628              37    0.079421  0.193190           0.163926   111.0   \n",
       "37    628              38    0.079421  0.193190           0.163926   111.0   \n",
       "38    628              39    0.079421  0.193190           0.163926   111.0   \n",
       "39    628              40    0.079421  0.193190           0.163926   111.0   \n",
       "40    628              41    0.079421  0.193190           0.163926   111.0   \n",
       "41    628              42    0.079421  0.193190           0.163926   111.0   \n",
       "42    628              43    0.079421  0.193190           0.163926   111.0   \n",
       "43    628              44    0.079421  0.193190           0.163926   111.0   \n",
       "44    628              45    0.079421  0.193190           0.163926   111.0   \n",
       "45    628              46    0.079421  0.193205           0.163926   111.0   \n",
       "46    628              47    0.079421  0.193205           0.163926   111.0   \n",
       "47    628              48    0.079421  0.193205           0.163926   111.0   \n",
       "48    628              49    0.079421  0.193205           0.163926   111.0   \n",
       "49    628              50    0.079421  0.193205           0.163926   111.0   \n",
       "\n",
       "    shot_y  fk_x  fk_y  teammates_player_1  ...  pos_opponent_3_x  \\\n",
       "0     44.0  95.0  62.0                   0  ...        109.697425   \n",
       "1     44.0  95.0  62.0                   0  ...        109.697425   \n",
       "2     44.0  95.0  62.0                   0  ...        109.697425   \n",
       "3     44.0  95.0  62.0                   0  ...        109.697425   \n",
       "4     44.0  95.0  62.0                   0  ...        109.697425   \n",
       "5     44.0  95.0  62.0                   0  ...        109.697425   \n",
       "6     44.0  95.0  62.0                   0  ...        109.697425   \n",
       "7     44.0  95.0  62.0                   0  ...        109.697425   \n",
       "8     44.0  95.0  62.0                   0  ...        109.697425   \n",
       "9     44.0  95.0  62.0                   0  ...        109.697425   \n",
       "10    44.0  95.0  62.0                   0  ...        109.697425   \n",
       "11    44.0  95.0  62.0                   0  ...        109.697425   \n",
       "12    44.0  95.0  62.0                   0  ...        109.697425   \n",
       "13    44.0  95.0  62.0                   0  ...        109.697425   \n",
       "14    44.0  95.0  62.0                   0  ...        109.697425   \n",
       "15    44.0  95.0  62.0                   0  ...        109.697425   \n",
       "16    44.0  95.0  62.0                   0  ...        109.697425   \n",
       "17    44.0  95.0  62.0                   0  ...        109.697425   \n",
       "18    44.0  95.0  62.0                   0  ...        109.697425   \n",
       "19    44.0  95.0  62.0                   0  ...        109.697425   \n",
       "20    44.0  95.0  62.0                   0  ...        109.697425   \n",
       "21    44.0  95.0  62.0                   0  ...        109.697425   \n",
       "22    44.0  95.0  62.0                   0  ...        109.697425   \n",
       "23    44.0  95.0  62.0                   0  ...        109.697425   \n",
       "24    44.0  95.0  62.0                   0  ...        109.697425   \n",
       "25    44.0  95.0  62.0                   0  ...        109.697425   \n",
       "26    44.0  95.0  62.0                   0  ...        109.697425   \n",
       "27    44.0  95.0  62.0                   0  ...        109.697425   \n",
       "28    44.0  95.0  62.0                   0  ...        109.697425   \n",
       "29    44.0  95.0  62.0                   0  ...        109.697425   \n",
       "30    44.0  95.0  62.0                   0  ...        109.697425   \n",
       "31    44.0  95.0  62.0                   0  ...        109.697425   \n",
       "32    44.0  95.0  62.0                   0  ...        109.697425   \n",
       "33    44.0  95.0  62.0                   0  ...        109.697425   \n",
       "34    44.0  95.0  62.0                   0  ...        109.697425   \n",
       "35    44.0  95.0  62.0                   0  ...        109.697425   \n",
       "36    44.0  95.0  62.0                   0  ...        109.697425   \n",
       "37    44.0  95.0  62.0                   0  ...        109.697425   \n",
       "38    44.0  95.0  62.0                   0  ...        109.697425   \n",
       "39    44.0  95.0  62.0                   0  ...        109.697425   \n",
       "40    44.0  95.0  62.0                   0  ...        109.697425   \n",
       "41    44.0  95.0  62.0                   0  ...        109.697425   \n",
       "42    44.0  95.0  62.0                   0  ...        109.697425   \n",
       "43    44.0  95.0  62.0                   0  ...        109.697425   \n",
       "44    44.0  95.0  62.0                   0  ...        109.697425   \n",
       "45    44.0  95.0  62.0                   0  ...        109.697425   \n",
       "46    44.0  95.0  62.0                   0  ...        109.697425   \n",
       "47    44.0  95.0  62.0                   0  ...        109.697425   \n",
       "48    44.0  95.0  62.0                   0  ...        109.697425   \n",
       "49    44.0  95.0  62.0                   0  ...        109.697425   \n",
       "\n",
       "    pos_opponent_3_y  pos_opponent_4_x  pos_opponent_4_y  pos_opponent_5_x  \\\n",
       "0          48.037734        103.806564         48.610258        117.726752   \n",
       "1          48.037734        103.806564         48.610258        117.726752   \n",
       "2          48.037734        103.806564         48.610258        117.726752   \n",
       "3          48.037734        103.806564         48.610258        117.726752   \n",
       "4          48.037734        103.806564         48.610258        117.726752   \n",
       "5          48.037734        103.806564         48.610258        117.726752   \n",
       "6          48.037734        103.806564         48.610258        117.726752   \n",
       "7          48.037734        103.806564         48.610258        117.726752   \n",
       "8          48.037734        103.806564         48.610258        117.726752   \n",
       "9          48.037734        103.806564         48.610258        117.726752   \n",
       "10         48.037734        103.806564         48.610258        117.726752   \n",
       "11         48.037734        103.806564         48.610258        117.726752   \n",
       "12         48.037734        103.806564         48.610258        117.726752   \n",
       "13         48.037734        103.806564         48.610258        117.726752   \n",
       "14         48.037734        103.806564         48.610258        117.726752   \n",
       "15         48.037734        103.806564         48.610258        117.726752   \n",
       "16         48.037734        103.806564         48.610258        117.726752   \n",
       "17         48.037734        103.806564         48.610258        117.726752   \n",
       "18         48.037734        103.806564         48.610258        117.726752   \n",
       "19         48.037734        103.806564         48.610258        117.726752   \n",
       "20         48.037734        103.806564         48.610258        117.726752   \n",
       "21         48.037734        103.806564         48.610258        117.726752   \n",
       "22         48.037734        103.806564         48.610258        117.726752   \n",
       "23         48.037734        103.806564         48.610258        117.726752   \n",
       "24         48.037734        103.806564         48.610258        117.726752   \n",
       "25         48.037734        103.806564         48.610258        117.726752   \n",
       "26         48.037734        103.806564         48.610258        117.726752   \n",
       "27         48.037734        103.806564         48.610258        117.726752   \n",
       "28         48.037734        103.806564         48.610258        117.726752   \n",
       "29         48.037734        103.806564         48.610258        117.726752   \n",
       "30         48.037734        103.806564         48.610258        117.726752   \n",
       "31         48.037734        103.806564         48.610258        117.726752   \n",
       "32         48.037734        103.806564         48.610258        117.726752   \n",
       "33         48.037734        103.806564         48.610258        117.726752   \n",
       "34         48.037734        103.806564         48.610258        117.726752   \n",
       "35         48.037734        103.806564         48.610258        117.726752   \n",
       "36         48.037734        103.806564         48.610258        117.726752   \n",
       "37         48.037734        103.806564         48.610258        117.726752   \n",
       "38         48.037734        103.806564         48.610258        117.726752   \n",
       "39         48.037734        103.806564         48.610258        117.726752   \n",
       "40         48.037734        103.806564         48.610258        117.726752   \n",
       "41         48.037734        103.806564         48.610258        117.726752   \n",
       "42         48.037734        103.806564         48.610258        117.726752   \n",
       "43         48.037734        103.806564         48.610258        117.726752   \n",
       "44         48.037734        103.806564         48.610258        117.726752   \n",
       "45         48.037734        103.806564         48.610258        117.726752   \n",
       "46         48.037734        103.806564         48.610258        117.726752   \n",
       "47         48.037734        103.806564         48.610258        117.726752   \n",
       "48         48.037734        103.806564         48.610258        117.726752   \n",
       "49         48.037734        103.806564         48.610258        117.726752   \n",
       "\n",
       "    pos_opponent_5_y  pos_opponent_6_x  pos_opponent_6_y  pos_opponent_7_x  \\\n",
       "0          49.267903        118.543885         39.194816        121.770385   \n",
       "1          49.267903        118.543885         39.194816        121.770385   \n",
       "2          49.267903        118.543885         39.194816        121.770385   \n",
       "3          49.267903        118.543885         39.194816        121.770385   \n",
       "4          49.267903        118.543885         39.194816        121.770385   \n",
       "5          49.267903        118.543885         39.194816        121.770385   \n",
       "6          49.267903        118.543885         39.194816        121.770385   \n",
       "7          49.267903        118.543885         39.194816        121.770385   \n",
       "8          49.267903        118.543885         39.194816        121.770385   \n",
       "9          49.267903        118.543885         39.194816        121.770385   \n",
       "10         49.267903        118.543885         39.194816        121.770385   \n",
       "11         49.267903        118.543885         39.194816        121.770385   \n",
       "12         49.267903        118.543885         39.194816        121.770385   \n",
       "13         49.267903        118.543885         39.194816        121.770385   \n",
       "14         49.267903        118.543885         39.194816        121.770385   \n",
       "15         49.267903        118.543885         39.194816        121.770385   \n",
       "16         49.267903        118.543885         39.194816        121.770385   \n",
       "17         49.267903        118.543885         39.194816        121.770385   \n",
       "18         49.267903        118.543885         39.194816        121.770385   \n",
       "19         49.267903        118.543885         39.194816        121.770385   \n",
       "20         49.267903        118.543885         39.194816        121.770385   \n",
       "21         49.267903        118.543885         39.194816        121.770385   \n",
       "22         49.267903        118.543885         39.194816        121.770385   \n",
       "23         49.267903        118.543885         39.194816        121.770385   \n",
       "24         49.267903        118.543885         39.194816        121.770385   \n",
       "25         49.267903        118.543885         39.194816        121.770385   \n",
       "26         49.267903        118.543885         39.194816        121.770385   \n",
       "27         49.267903        118.543885         39.194816        121.770385   \n",
       "28         49.267903        118.543885         39.194816        121.770385   \n",
       "29         49.267903        118.543885         39.194816        121.770385   \n",
       "30         49.267903        118.543885         39.194816        121.770385   \n",
       "31         49.267903        118.543885         39.194816        121.770385   \n",
       "32         49.267903        118.543885         39.194816        121.770385   \n",
       "33         49.267903        118.543885         39.194816        121.770385   \n",
       "34         49.267903        118.543885         39.194816        121.770385   \n",
       "35         49.267903        118.543885         39.194816        121.770385   \n",
       "36         49.267903        118.543885         39.194816        121.770385   \n",
       "37         49.267903        118.543885         39.194816        121.770385   \n",
       "38         49.267903        118.543885         39.194816        121.770385   \n",
       "39         49.267903        118.543885         39.194816        121.770385   \n",
       "40         49.267903        118.543885         39.194816        121.770385   \n",
       "41         49.267903        118.543885         39.194816        121.770385   \n",
       "42         49.267903        118.543885         39.194816        121.770385   \n",
       "43         49.267903        118.543885         39.194816        121.770385   \n",
       "44         49.267903        118.543885         39.194816        121.770385   \n",
       "45         49.267903        118.543885         39.194816        121.770385   \n",
       "46         49.267903        118.543885         39.194816        121.770385   \n",
       "47         49.267903        118.543885         39.194816        121.770385   \n",
       "48         49.267903        118.543885         39.194816        121.770385   \n",
       "49         49.267903        118.543885         39.194816        121.770385   \n",
       "\n",
       "   pos_opponent_7_y  \n",
       "0         41.550754  \n",
       "1         41.550754  \n",
       "2         41.550754  \n",
       "3         41.550754  \n",
       "4         41.550754  \n",
       "5         41.550754  \n",
       "6         41.550754  \n",
       "7         41.550754  \n",
       "8         41.550754  \n",
       "9         41.550754  \n",
       "10        41.550754  \n",
       "11        41.550754  \n",
       "12        41.550754  \n",
       "13        41.550754  \n",
       "14        41.550754  \n",
       "15        41.550754  \n",
       "16        41.550754  \n",
       "17        41.550754  \n",
       "18        41.550754  \n",
       "19        41.550754  \n",
       "20        41.550754  \n",
       "21        41.550754  \n",
       "22        41.550754  \n",
       "23        41.550754  \n",
       "24        41.550754  \n",
       "25        41.550754  \n",
       "26        41.550754  \n",
       "27        41.550754  \n",
       "28        41.550754  \n",
       "29        41.550754  \n",
       "30        41.550754  \n",
       "31        41.550754  \n",
       "32        41.550754  \n",
       "33        41.550754  \n",
       "34        41.550754  \n",
       "35        41.550754  \n",
       "36        41.550754  \n",
       "37        41.550754  \n",
       "38        41.550754  \n",
       "39        41.550754  \n",
       "40        41.550754  \n",
       "41        41.550754  \n",
       "42        41.550754  \n",
       "43        41.550754  \n",
       "44        41.550754  \n",
       "45        41.550754  \n",
       "46        41.550754  \n",
       "47        41.550754  \n",
       "48        41.550754  \n",
       "49        41.550754  \n",
       "\n",
       "[50 rows x 52 columns]"
      ]
     },
     "execution_count": 194,
     "metadata": {},
     "output_type": "execute_result"
    }
   ],
   "source": [
    "sub_df"
   ]
  },
  {
   "cell_type": "code",
   "execution_count": 195,
   "metadata": {},
   "outputs": [],
   "source": [
    "# pitch = Pitch(pitch_type='statsbomb', pitch_color='grass', line_color='white')\n",
    "# fig, ax = plt.subplots(figsize=(15,5))\n",
    "# pitch.draw(ax=ax)\n",
    "\n",
    "# anim = FuncAnimation(fig, update, frames=range(50), fargs=(complete_df, ax), interval=1000)\n",
    "\n",
    "# plt.show()\n",
    "# anim.save('scatter_animation.gif', writer='imagemagick')"
   ]
  },
  {
   "cell_type": "code",
   "execution_count": 201,
   "metadata": {},
   "outputs": [],
   "source": [
    "import plotly.graph_objects as go\n",
    "from plotly.subplots import make_subplots\n",
    "\n",
    "# Function to create the football pitch using plotly_football_pitch\n",
    "def create_pitch():\n",
    "    \n",
    "    dimensions = PitchDimensions(pitch_width_metres=80, pitch_length_metres=120)\n",
    "\n",
    "    fig = make_pitch_figure(\n",
    "        dimensions,\n",
    "        pitch_background=SingleColourBackground(\"#3ab54a\"),\n",
    "    )\n",
    "\n",
    "    fig.update_layout(\n",
    "        xaxis=dict(range=[0, 120], showgrid=False, zeroline=False, showticklabels=False),\n",
    "        yaxis=dict(range=[0, 80], showgrid=False, zeroline=False, showticklabels=False),\n",
    "        plot_bgcolor='#3ab54a',\n",
    "        width=600, height=400,\n",
    "        margin=dict(l=10, r=10, b=10, t=10)\n",
    "    )\n",
    "\n",
    "    return fig\n",
    "\n",
    "# Function to add scatter points to the plot\n",
    "def add_scatter(fig, data_row, show_legend=False):\n",
    "    # Shot and free-kick positions\n",
    "    fig.add_trace(go.Scatter(x=[data_row['shot_pos_gen_x']], y=[data_row['shot_pos_gen_y']], mode='markers',\n",
    "                             marker=dict(size=10, symbol='star', color='black'), name='Shot Position', showlegend=show_legend))\n",
    "    fig.add_trace(go.Scatter(x=[data_row['fk_x']], y=[data_row['fk_y']], mode='markers',\n",
    "                             marker=dict(size=10, symbol='diamond', color='purple'), name='Freekick Position', showlegend=show_legend))\n",
    "\n",
    "    # Opponents' positions\n",
    "    for i in range(1, n_opponents):\n",
    "        fig.add_trace(go.Scatter(x=[data_row[f'pos_opponent_{i}_x']], y=[data_row[f'pos_opponent_{i}_y']], mode='markers',\n",
    "                                 marker=dict(size=8, symbol='x', color='orange'), name=f'Opponent', showlegend=show_legend and i == 1))\n",
    "\n",
    "    # Teammates' positions\n",
    "    for i in range(1, n_teammates):\n",
    "        fig.add_trace(go.Scatter(x=[data_row[f'pos_teammate_{i}_x']], y=[data_row[f'pos_teammate_{i}_y']], mode='markers',\n",
    "                                 marker=dict(size=8, symbol='circle', color='blue'), name=f'Teammate', showlegend=show_legend and i == 1))\n",
    "\n",
    "    return fig\n",
    "\n",
    "# Function to update the pitch with progress line and scatter points\n",
    "def update_pitch(frame, df):\n",
    "    data_row = df.iloc[frame]\n",
    "    fig = create_pitch()\n",
    "\n",
    "    # Add scatter points\n",
    "    fig = add_scatter(fig, data_row, show_legend=(frame == 0))\n",
    "\n",
    "    return fig\n",
    "\n",
    "# Function to update the line plot with new points\n",
    "def update_line_plot(frame, df, line_fig):\n",
    "    if frame == 0:\n",
    "        line_fig.add_trace(go.Scatter(x=[0], y=[df['best_xG'].iloc[0]], mode='lines+markers', name='Line Plot'))\n",
    "    else:\n",
    "        line_fig.data[0].x += (frame,)\n",
    "        line_fig.data[0].y += (df['best_xG'].iloc[frame],)\n",
    "    return line_fig\n"
   ]
  },
  {
   "cell_type": "code",
   "execution_count": 228,
   "metadata": {},
   "outputs": [
    {
     "data": {
      "application/vnd.plotly.v1+json": {
       "config": {
        "plotlyServerURL": "https://plot.ly"
       },
       "data": [
        {
         "hoverinfo": "skip",
         "line": {
          "color": "black",
          "width": 4
         },
         "mode": "lines",
         "showlegend": false,
         "type": "scatter",
         "x": [
          0,
          120,
          120,
          0,
          0
         ],
         "xaxis": "x",
         "y": [
          0,
          0,
          80,
          80,
          0
         ],
         "yaxis": "y"
        },
        {
         "hoverinfo": "skip",
         "line": {
          "color": "black",
          "width": 4
         },
         "mode": "lines",
         "showlegend": false,
         "type": "scatter",
         "x": [
          60,
          60
         ],
         "xaxis": "x",
         "y": [
          0,
          80
         ],
         "yaxis": "y"
        },
        {
         "hoverinfo": "skip",
         "line": {
          "color": "black",
          "width": 4
         },
         "mode": "lines",
         "showlegend": false,
         "type": "scatter",
         "x": [
          0,
          16.459249641096918,
          16.459249641096918,
          0
         ],
         "xaxis": "x",
         "y": [
          16,
          16,
          64,
          64
         ],
         "yaxis": "y"
        },
        {
         "hoverinfo": "skip",
         "line": {
          "color": "black",
          "width": 4
         },
         "mode": "lines",
         "showlegend": false,
         "type": "scatter",
         "x": [
          120,
          103.54075035890308,
          103.54075035890308,
          120
         ],
         "xaxis": "x",
         "y": [
          16,
          16,
          64,
          64
         ],
         "yaxis": "y"
        },
        {
         "hoverinfo": "skip",
         "line": {
          "color": "black",
          "width": 4
         },
         "mode": "lines",
         "showlegend": false,
         "type": "scatter",
         "x": [
          0,
          5.486416547032306,
          5.486416547032306,
          0
         ],
         "xaxis": "x",
         "y": [
          28,
          28,
          52,
          52
         ],
         "yaxis": "y"
        },
        {
         "hoverinfo": "skip",
         "line": {
          "color": "black",
          "width": 4
         },
         "mode": "lines",
         "showlegend": false,
         "type": "scatter",
         "x": [
          120,
          114.5135834529677,
          114.5135834529677,
          120
         ],
         "xaxis": "x",
         "y": [
          28,
          28,
          52,
          52
         ],
         "yaxis": "y"
        },
        {
         "hoverinfo": "skip",
         "line": {
          "color": "black"
         },
         "mode": "markers",
         "showlegend": false,
         "type": "scatter",
         "x": [
          10.972833094064612
         ],
         "xaxis": "x",
         "y": [
          40
         ],
         "yaxis": "y"
        },
        {
         "hoverinfo": "skip",
         "line": {
          "color": "black"
         },
         "mode": "markers",
         "showlegend": false,
         "type": "scatter",
         "x": [
          109.02716690593539
         ],
         "xaxis": "x",
         "y": [
          40
         ],
         "yaxis": "y"
        },
        {
         "hoverinfo": "skip",
         "line": {
          "color": "black"
         },
         "mode": "markers",
         "showlegend": false,
         "type": "scatter",
         "x": [
          60
         ],
         "xaxis": "x",
         "y": [
          40
         ],
         "yaxis": "y"
        },
        {
         "marker": {
          "color": "black",
          "size": 10,
          "symbol": "star"
         },
         "mode": "markers",
         "name": "Shot Position",
         "showlegend": true,
         "type": "scatter",
         "x": [
          108.71518524301814
         ],
         "xaxis": "x",
         "y": [
          44.03618280885581
         ],
         "yaxis": "y"
        },
        {
         "marker": {
          "color": "purple",
          "size": 10,
          "symbol": "diamond"
         },
         "mode": "markers",
         "name": "Freekick Position",
         "showlegend": true,
         "type": "scatter",
         "x": [
          95
         ],
         "xaxis": "x",
         "y": [
          62
         ],
         "yaxis": "y"
        },
        {
         "marker": {
          "color": "orange",
          "size": 8,
          "symbol": "x"
         },
         "mode": "markers",
         "name": "Opponent",
         "showlegend": true,
         "type": "scatter",
         "x": [
          108.00615443856704
         ],
         "xaxis": "x",
         "y": [
          43.80793554652633
         ],
         "yaxis": "y"
        },
        {
         "marker": {
          "color": "orange",
          "size": 8,
          "symbol": "x"
         },
         "mode": "markers",
         "name": "Opponent",
         "showlegend": false,
         "type": "scatter",
         "x": [
          111.90739851122483
         ],
         "xaxis": "x",
         "y": [
          47.029294957878314
         ],
         "yaxis": "y"
        },
        {
         "marker": {
          "color": "orange",
          "size": 8,
          "symbol": "x"
         },
         "mode": "markers",
         "name": "Opponent",
         "showlegend": false,
         "type": "scatter",
         "x": [
          109.69742545427236
         ],
         "xaxis": "x",
         "y": [
          48.03773445793831
         ],
         "yaxis": "y"
        },
        {
         "marker": {
          "color": "orange",
          "size": 8,
          "symbol": "x"
         },
         "mode": "markers",
         "name": "Opponent",
         "showlegend": false,
         "type": "scatter",
         "x": [
          103.80656397910276
         ],
         "xaxis": "x",
         "y": [
          48.61025793348464
         ],
         "yaxis": "y"
        },
        {
         "marker": {
          "color": "orange",
          "size": 8,
          "symbol": "x"
         },
         "mode": "markers",
         "name": "Opponent",
         "showlegend": false,
         "type": "scatter",
         "x": [
          117.7267524942179
         ],
         "xaxis": "x",
         "y": [
          49.267902892188985
         ],
         "yaxis": "y"
        },
        {
         "marker": {
          "color": "orange",
          "size": 8,
          "symbol": "x"
         },
         "mode": "markers",
         "name": "Opponent",
         "showlegend": false,
         "type": "scatter",
         "x": [
          118.54388524949289
         ],
         "xaxis": "x",
         "y": [
          39.19481578475043
         ],
         "yaxis": "y"
        },
        {
         "marker": {
          "color": "blue",
          "size": 8,
          "symbol": "circle"
         },
         "mode": "markers",
         "name": "Teammate",
         "showlegend": true,
         "type": "scatter",
         "x": [
          110.32420557332017
         ],
         "xaxis": "x",
         "y": [
          42.550489694578964
         ],
         "yaxis": "y"
        },
        {
         "marker": {
          "color": "blue",
          "size": 8,
          "symbol": "circle"
         },
         "mode": "markers",
         "name": "Teammate",
         "showlegend": false,
         "type": "scatter",
         "x": [
          108.79539013341282
         ],
         "xaxis": "x",
         "y": [
          46.60672333850126
         ],
         "yaxis": "y"
        },
        {
         "marker": {
          "color": "blue",
          "size": 8,
          "symbol": "circle"
         },
         "mode": "markers",
         "name": "Teammate",
         "showlegend": false,
         "type": "scatter",
         "x": [
          104.05844328641884
         ],
         "xaxis": "x",
         "y": [
          47.067551481521654
         ],
         "yaxis": "y"
        },
        {
         "marker": {
          "color": "blue",
          "size": 8,
          "symbol": "circle"
         },
         "mode": "markers",
         "name": "Teammate",
         "showlegend": false,
         "type": "scatter",
         "x": [
          105.99304183282537
         ],
         "xaxis": "x",
         "y": [
          44.87326843124594
         ],
         "yaxis": "y"
        },
        {
         "mode": "lines+markers",
         "name": "Line Plot",
         "type": "scatter",
         "x": [
          0,
          1,
          2,
          3,
          4,
          5,
          6,
          7,
          8,
          9,
          10,
          11,
          12,
          13,
          14,
          15,
          16,
          17,
          18,
          19,
          20,
          21,
          22,
          23,
          24,
          25,
          26,
          27,
          28,
          29,
          30,
          31,
          32,
          33,
          34,
          35,
          36,
          37,
          38,
          39,
          40,
          41,
          42,
          43,
          44,
          45,
          46,
          47,
          48,
          49
         ],
         "xaxis": "x2",
         "y": [
          0.10442892,
          0.14224926,
          0.16282678,
          0.16282678,
          0.16452551,
          0.16554648,
          0.17032182,
          0.17032182,
          0.18504907,
          0.18508397,
          0.1854914,
          0.1870719,
          0.1872687,
          0.18752642,
          0.18792188,
          0.18792188,
          0.18810053,
          0.18864377,
          0.18866037,
          0.18910883,
          0.18983072,
          0.18983072,
          0.18983072,
          0.19038348,
          0.19038348,
          0.19038348,
          0.19261675,
          0.19261675,
          0.19261675,
          0.19261675,
          0.19261675,
          0.19261675,
          0.19261675,
          0.19261675,
          0.19261675,
          0.19317539,
          0.19319032,
          0.19319032,
          0.19319032,
          0.19319032,
          0.19319032,
          0.19319032,
          0.19319032,
          0.19319032,
          0.19319032,
          0.19320494,
          0.19320494,
          0.19320494,
          0.19320494,
          0.19320494
         ],
         "yaxis": "y2"
        }
       ],
       "frames": [
        {
         "data": [
          {
           "hoverinfo": "skip",
           "line": {
            "color": "black",
            "width": 4
           },
           "mode": "lines",
           "showlegend": false,
           "type": "scatter",
           "x": [
            0,
            120,
            120,
            0,
            0
           ],
           "y": [
            0,
            0,
            80,
            80,
            0
           ]
          },
          {
           "hoverinfo": "skip",
           "line": {
            "color": "black",
            "width": 4
           },
           "mode": "lines",
           "showlegend": false,
           "type": "scatter",
           "x": [
            60,
            60
           ],
           "y": [
            0,
            80
           ]
          },
          {
           "hoverinfo": "skip",
           "line": {
            "color": "black",
            "width": 4
           },
           "mode": "lines",
           "showlegend": false,
           "type": "scatter",
           "x": [
            0,
            16.459249641096918,
            16.459249641096918,
            0
           ],
           "y": [
            16,
            16,
            64,
            64
           ]
          },
          {
           "hoverinfo": "skip",
           "line": {
            "color": "black",
            "width": 4
           },
           "mode": "lines",
           "showlegend": false,
           "type": "scatter",
           "x": [
            120,
            103.54075035890308,
            103.54075035890308,
            120
           ],
           "y": [
            16,
            16,
            64,
            64
           ]
          },
          {
           "hoverinfo": "skip",
           "line": {
            "color": "black",
            "width": 4
           },
           "mode": "lines",
           "showlegend": false,
           "type": "scatter",
           "x": [
            0,
            5.486416547032306,
            5.486416547032306,
            0
           ],
           "y": [
            28,
            28,
            52,
            52
           ]
          },
          {
           "hoverinfo": "skip",
           "line": {
            "color": "black",
            "width": 4
           },
           "mode": "lines",
           "showlegend": false,
           "type": "scatter",
           "x": [
            120,
            114.5135834529677,
            114.5135834529677,
            120
           ],
           "y": [
            28,
            28,
            52,
            52
           ]
          },
          {
           "hoverinfo": "skip",
           "line": {
            "color": "black"
           },
           "mode": "markers",
           "showlegend": false,
           "type": "scatter",
           "x": [
            10.972833094064612
           ],
           "y": [
            40
           ]
          },
          {
           "hoverinfo": "skip",
           "line": {
            "color": "black"
           },
           "mode": "markers",
           "showlegend": false,
           "type": "scatter",
           "x": [
            109.02716690593539
           ],
           "y": [
            40
           ]
          },
          {
           "hoverinfo": "skip",
           "line": {
            "color": "black"
           },
           "mode": "markers",
           "showlegend": false,
           "type": "scatter",
           "x": [
            60
           ],
           "y": [
            40
           ]
          },
          {
           "marker": {
            "color": "black",
            "size": 10,
            "symbol": "star"
           },
           "mode": "markers",
           "name": "Shot Position",
           "showlegend": true,
           "type": "scatter",
           "x": [
            108.71518524301814
           ],
           "y": [
            44.03618280885581
           ]
          },
          {
           "marker": {
            "color": "purple",
            "size": 10,
            "symbol": "diamond"
           },
           "mode": "markers",
           "name": "Freekick Position",
           "showlegend": true,
           "type": "scatter",
           "x": [
            95
           ],
           "y": [
            62
           ]
          },
          {
           "marker": {
            "color": "orange",
            "size": 8,
            "symbol": "x"
           },
           "mode": "markers",
           "name": "Opponent",
           "showlegend": true,
           "type": "scatter",
           "x": [
            108.00615443856704
           ],
           "y": [
            43.80793554652633
           ]
          },
          {
           "marker": {
            "color": "orange",
            "size": 8,
            "symbol": "x"
           },
           "mode": "markers",
           "name": "Opponent",
           "showlegend": false,
           "type": "scatter",
           "x": [
            111.90739851122483
           ],
           "y": [
            47.029294957878314
           ]
          },
          {
           "marker": {
            "color": "orange",
            "size": 8,
            "symbol": "x"
           },
           "mode": "markers",
           "name": "Opponent",
           "showlegend": false,
           "type": "scatter",
           "x": [
            109.69742545427236
           ],
           "y": [
            48.03773445793831
           ]
          },
          {
           "marker": {
            "color": "orange",
            "size": 8,
            "symbol": "x"
           },
           "mode": "markers",
           "name": "Opponent",
           "showlegend": false,
           "type": "scatter",
           "x": [
            103.80656397910276
           ],
           "y": [
            48.61025793348464
           ]
          },
          {
           "marker": {
            "color": "orange",
            "size": 8,
            "symbol": "x"
           },
           "mode": "markers",
           "name": "Opponent",
           "showlegend": false,
           "type": "scatter",
           "x": [
            117.7267524942179
           ],
           "y": [
            49.267902892188985
           ]
          },
          {
           "marker": {
            "color": "orange",
            "size": 8,
            "symbol": "x"
           },
           "mode": "markers",
           "name": "Opponent",
           "showlegend": false,
           "type": "scatter",
           "x": [
            118.54388524949289
           ],
           "y": [
            39.19481578475043
           ]
          },
          {
           "marker": {
            "color": "blue",
            "size": 8,
            "symbol": "circle"
           },
           "mode": "markers",
           "name": "Teammate",
           "showlegend": true,
           "type": "scatter",
           "x": [
            110.32420557332017
           ],
           "y": [
            42.550489694578964
           ]
          },
          {
           "marker": {
            "color": "blue",
            "size": 8,
            "symbol": "circle"
           },
           "mode": "markers",
           "name": "Teammate",
           "showlegend": false,
           "type": "scatter",
           "x": [
            108.79539013341282
           ],
           "y": [
            46.60672333850126
           ]
          },
          {
           "marker": {
            "color": "blue",
            "size": 8,
            "symbol": "circle"
           },
           "mode": "markers",
           "name": "Teammate",
           "showlegend": false,
           "type": "scatter",
           "x": [
            104.05844328641884
           ],
           "y": [
            47.067551481521654
           ]
          },
          {
           "marker": {
            "color": "blue",
            "size": 8,
            "symbol": "circle"
           },
           "mode": "markers",
           "name": "Teammate",
           "showlegend": false,
           "type": "scatter",
           "x": [
            105.99304183282537
           ],
           "y": [
            44.87326843124594
           ]
          },
          {
           "mode": "lines+markers",
           "name": "Line Plot",
           "type": "scatter",
           "x": [
            0
           ],
           "y": [
            0.10442892
           ]
          }
         ],
         "name": "0"
        },
        {
         "data": [
          {
           "hoverinfo": "skip",
           "line": {
            "color": "black",
            "width": 4
           },
           "mode": "lines",
           "showlegend": false,
           "type": "scatter",
           "x": [
            0,
            120,
            120,
            0,
            0
           ],
           "y": [
            0,
            0,
            80,
            80,
            0
           ]
          },
          {
           "hoverinfo": "skip",
           "line": {
            "color": "black",
            "width": 4
           },
           "mode": "lines",
           "showlegend": false,
           "type": "scatter",
           "x": [
            60,
            60
           ],
           "y": [
            0,
            80
           ]
          },
          {
           "hoverinfo": "skip",
           "line": {
            "color": "black",
            "width": 4
           },
           "mode": "lines",
           "showlegend": false,
           "type": "scatter",
           "x": [
            0,
            16.459249641096918,
            16.459249641096918,
            0
           ],
           "y": [
            16,
            16,
            64,
            64
           ]
          },
          {
           "hoverinfo": "skip",
           "line": {
            "color": "black",
            "width": 4
           },
           "mode": "lines",
           "showlegend": false,
           "type": "scatter",
           "x": [
            120,
            103.54075035890308,
            103.54075035890308,
            120
           ],
           "y": [
            16,
            16,
            64,
            64
           ]
          },
          {
           "hoverinfo": "skip",
           "line": {
            "color": "black",
            "width": 4
           },
           "mode": "lines",
           "showlegend": false,
           "type": "scatter",
           "x": [
            0,
            5.486416547032306,
            5.486416547032306,
            0
           ],
           "y": [
            28,
            28,
            52,
            52
           ]
          },
          {
           "hoverinfo": "skip",
           "line": {
            "color": "black",
            "width": 4
           },
           "mode": "lines",
           "showlegend": false,
           "type": "scatter",
           "x": [
            120,
            114.5135834529677,
            114.5135834529677,
            120
           ],
           "y": [
            28,
            28,
            52,
            52
           ]
          },
          {
           "hoverinfo": "skip",
           "line": {
            "color": "black"
           },
           "mode": "markers",
           "showlegend": false,
           "type": "scatter",
           "x": [
            10.972833094064612
           ],
           "y": [
            40
           ]
          },
          {
           "hoverinfo": "skip",
           "line": {
            "color": "black"
           },
           "mode": "markers",
           "showlegend": false,
           "type": "scatter",
           "x": [
            109.02716690593539
           ],
           "y": [
            40
           ]
          },
          {
           "hoverinfo": "skip",
           "line": {
            "color": "black"
           },
           "mode": "markers",
           "showlegend": false,
           "type": "scatter",
           "x": [
            60
           ],
           "y": [
            40
           ]
          },
          {
           "marker": {
            "color": "black",
            "size": 10,
            "symbol": "star"
           },
           "mode": "markers",
           "name": "Shot Position",
           "showlegend": false,
           "type": "scatter",
           "x": [
            109.54639585455921
           ],
           "y": [
            42.14374270683502
           ]
          },
          {
           "marker": {
            "color": "purple",
            "size": 10,
            "symbol": "diamond"
           },
           "mode": "markers",
           "name": "Freekick Position",
           "showlegend": false,
           "type": "scatter",
           "x": [
            95
           ],
           "y": [
            62
           ]
          },
          {
           "marker": {
            "color": "orange",
            "size": 8,
            "symbol": "x"
           },
           "mode": "markers",
           "name": "Opponent",
           "showlegend": false,
           "type": "scatter",
           "x": [
            108.00615443856704
           ],
           "y": [
            43.80793554652633
           ]
          },
          {
           "marker": {
            "color": "orange",
            "size": 8,
            "symbol": "x"
           },
           "mode": "markers",
           "name": "Opponent",
           "showlegend": false,
           "type": "scatter",
           "x": [
            111.90739851122483
           ],
           "y": [
            47.029294957878314
           ]
          },
          {
           "marker": {
            "color": "orange",
            "size": 8,
            "symbol": "x"
           },
           "mode": "markers",
           "name": "Opponent",
           "showlegend": false,
           "type": "scatter",
           "x": [
            109.69742545427236
           ],
           "y": [
            48.03773445793831
           ]
          },
          {
           "marker": {
            "color": "orange",
            "size": 8,
            "symbol": "x"
           },
           "mode": "markers",
           "name": "Opponent",
           "showlegend": false,
           "type": "scatter",
           "x": [
            103.80656397910276
           ],
           "y": [
            48.61025793348464
           ]
          },
          {
           "marker": {
            "color": "orange",
            "size": 8,
            "symbol": "x"
           },
           "mode": "markers",
           "name": "Opponent",
           "showlegend": false,
           "type": "scatter",
           "x": [
            117.7267524942179
           ],
           "y": [
            49.267902892188985
           ]
          },
          {
           "marker": {
            "color": "orange",
            "size": 8,
            "symbol": "x"
           },
           "mode": "markers",
           "name": "Opponent",
           "showlegend": false,
           "type": "scatter",
           "x": [
            118.54388524949289
           ],
           "y": [
            39.19481578475043
           ]
          },
          {
           "marker": {
            "color": "blue",
            "size": 8,
            "symbol": "circle"
           },
           "mode": "markers",
           "name": "Teammate",
           "showlegend": false,
           "type": "scatter",
           "x": [
            110.32420557332017
           ],
           "y": [
            48.736982201946795
           ]
          },
          {
           "marker": {
            "color": "blue",
            "size": 8,
            "symbol": "circle"
           },
           "mode": "markers",
           "name": "Teammate",
           "showlegend": false,
           "type": "scatter",
           "x": [
            107.51548780237916
           ],
           "y": [
            51.48440927535849
           ]
          },
          {
           "marker": {
            "color": "blue",
            "size": 8,
            "symbol": "circle"
           },
           "mode": "markers",
           "name": "Teammate",
           "showlegend": false,
           "type": "scatter",
           "x": [
            104.05844328641884
           ],
           "y": [
            47.6700456515311
           ]
          },
          {
           "marker": {
            "color": "blue",
            "size": 8,
            "symbol": "circle"
           },
           "mode": "markers",
           "name": "Teammate",
           "showlegend": false,
           "type": "scatter",
           "x": [
            101.17897045670938
           ],
           "y": [
            47.10543255269176
           ]
          },
          {
           "mode": "lines+markers",
           "name": "Line Plot",
           "type": "scatter",
           "x": [
            0,
            1
           ],
           "y": [
            0.10442892,
            0.14224926
           ]
          }
         ],
         "name": "1"
        },
        {
         "data": [
          {
           "hoverinfo": "skip",
           "line": {
            "color": "black",
            "width": 4
           },
           "mode": "lines",
           "showlegend": false,
           "type": "scatter",
           "x": [
            0,
            120,
            120,
            0,
            0
           ],
           "y": [
            0,
            0,
            80,
            80,
            0
           ]
          },
          {
           "hoverinfo": "skip",
           "line": {
            "color": "black",
            "width": 4
           },
           "mode": "lines",
           "showlegend": false,
           "type": "scatter",
           "x": [
            60,
            60
           ],
           "y": [
            0,
            80
           ]
          },
          {
           "hoverinfo": "skip",
           "line": {
            "color": "black",
            "width": 4
           },
           "mode": "lines",
           "showlegend": false,
           "type": "scatter",
           "x": [
            0,
            16.459249641096918,
            16.459249641096918,
            0
           ],
           "y": [
            16,
            16,
            64,
            64
           ]
          },
          {
           "hoverinfo": "skip",
           "line": {
            "color": "black",
            "width": 4
           },
           "mode": "lines",
           "showlegend": false,
           "type": "scatter",
           "x": [
            120,
            103.54075035890308,
            103.54075035890308,
            120
           ],
           "y": [
            16,
            16,
            64,
            64
           ]
          },
          {
           "hoverinfo": "skip",
           "line": {
            "color": "black",
            "width": 4
           },
           "mode": "lines",
           "showlegend": false,
           "type": "scatter",
           "x": [
            0,
            5.486416547032306,
            5.486416547032306,
            0
           ],
           "y": [
            28,
            28,
            52,
            52
           ]
          },
          {
           "hoverinfo": "skip",
           "line": {
            "color": "black",
            "width": 4
           },
           "mode": "lines",
           "showlegend": false,
           "type": "scatter",
           "x": [
            120,
            114.5135834529677,
            114.5135834529677,
            120
           ],
           "y": [
            28,
            28,
            52,
            52
           ]
          },
          {
           "hoverinfo": "skip",
           "line": {
            "color": "black"
           },
           "mode": "markers",
           "showlegend": false,
           "type": "scatter",
           "x": [
            10.972833094064612
           ],
           "y": [
            40
           ]
          },
          {
           "hoverinfo": "skip",
           "line": {
            "color": "black"
           },
           "mode": "markers",
           "showlegend": false,
           "type": "scatter",
           "x": [
            109.02716690593539
           ],
           "y": [
            40
           ]
          },
          {
           "hoverinfo": "skip",
           "line": {
            "color": "black"
           },
           "mode": "markers",
           "showlegend": false,
           "type": "scatter",
           "x": [
            60
           ],
           "y": [
            40
           ]
          },
          {
           "marker": {
            "color": "black",
            "size": 10,
            "symbol": "star"
           },
           "mode": "markers",
           "name": "Shot Position",
           "showlegend": false,
           "type": "scatter",
           "x": [
            111
           ],
           "y": [
            43.63305915560684
           ]
          },
          {
           "marker": {
            "color": "purple",
            "size": 10,
            "symbol": "diamond"
           },
           "mode": "markers",
           "name": "Freekick Position",
           "showlegend": false,
           "type": "scatter",
           "x": [
            95
           ],
           "y": [
            62
           ]
          },
          {
           "marker": {
            "color": "orange",
            "size": 8,
            "symbol": "x"
           },
           "mode": "markers",
           "name": "Opponent",
           "showlegend": false,
           "type": "scatter",
           "x": [
            108.00615443856704
           ],
           "y": [
            43.80793554652633
           ]
          },
          {
           "marker": {
            "color": "orange",
            "size": 8,
            "symbol": "x"
           },
           "mode": "markers",
           "name": "Opponent",
           "showlegend": false,
           "type": "scatter",
           "x": [
            111.90739851122483
           ],
           "y": [
            47.029294957878314
           ]
          },
          {
           "marker": {
            "color": "orange",
            "size": 8,
            "symbol": "x"
           },
           "mode": "markers",
           "name": "Opponent",
           "showlegend": false,
           "type": "scatter",
           "x": [
            109.69742545427236
           ],
           "y": [
            48.03773445793831
           ]
          },
          {
           "marker": {
            "color": "orange",
            "size": 8,
            "symbol": "x"
           },
           "mode": "markers",
           "name": "Opponent",
           "showlegend": false,
           "type": "scatter",
           "x": [
            103.80656397910276
           ],
           "y": [
            48.61025793348464
           ]
          },
          {
           "marker": {
            "color": "orange",
            "size": 8,
            "symbol": "x"
           },
           "mode": "markers",
           "name": "Opponent",
           "showlegend": false,
           "type": "scatter",
           "x": [
            117.7267524942179
           ],
           "y": [
            49.267902892188985
           ]
          },
          {
           "marker": {
            "color": "orange",
            "size": 8,
            "symbol": "x"
           },
           "mode": "markers",
           "name": "Opponent",
           "showlegend": false,
           "type": "scatter",
           "x": [
            118.54388524949289
           ],
           "y": [
            39.19481578475043
           ]
          },
          {
           "marker": {
            "color": "blue",
            "size": 8,
            "symbol": "circle"
           },
           "mode": "markers",
           "name": "Teammate",
           "showlegend": false,
           "type": "scatter",
           "x": [
            106.12383936164059
           ],
           "y": [
            48.736982201946795
           ]
          },
          {
           "marker": {
            "color": "blue",
            "size": 8,
            "symbol": "circle"
           },
           "mode": "markers",
           "name": "Teammate",
           "showlegend": false,
           "type": "scatter",
           "x": [
            109.60395078080045
           ],
           "y": [
            48.02689878036874
           ]
          },
          {
           "marker": {
            "color": "blue",
            "size": 8,
            "symbol": "circle"
           },
           "mode": "markers",
           "name": "Teammate",
           "showlegend": false,
           "type": "scatter",
           "x": [
            103.6928374419468
           ],
           "y": [
            47.6700456515311
           ]
          },
          {
           "marker": {
            "color": "blue",
            "size": 8,
            "symbol": "circle"
           },
           "mode": "markers",
           "name": "Teammate",
           "showlegend": false,
           "type": "scatter",
           "x": [
            101.17897045670938
           ],
           "y": [
            47.10543255269176
           ]
          },
          {
           "mode": "lines+markers",
           "name": "Line Plot",
           "type": "scatter",
           "x": [
            0,
            1,
            2
           ],
           "y": [
            0.10442892,
            0.14224926,
            0.16282678
           ]
          }
         ],
         "name": "2"
        },
        {
         "data": [
          {
           "hoverinfo": "skip",
           "line": {
            "color": "black",
            "width": 4
           },
           "mode": "lines",
           "showlegend": false,
           "type": "scatter",
           "x": [
            0,
            120,
            120,
            0,
            0
           ],
           "y": [
            0,
            0,
            80,
            80,
            0
           ]
          },
          {
           "hoverinfo": "skip",
           "line": {
            "color": "black",
            "width": 4
           },
           "mode": "lines",
           "showlegend": false,
           "type": "scatter",
           "x": [
            60,
            60
           ],
           "y": [
            0,
            80
           ]
          },
          {
           "hoverinfo": "skip",
           "line": {
            "color": "black",
            "width": 4
           },
           "mode": "lines",
           "showlegend": false,
           "type": "scatter",
           "x": [
            0,
            16.459249641096918,
            16.459249641096918,
            0
           ],
           "y": [
            16,
            16,
            64,
            64
           ]
          },
          {
           "hoverinfo": "skip",
           "line": {
            "color": "black",
            "width": 4
           },
           "mode": "lines",
           "showlegend": false,
           "type": "scatter",
           "x": [
            120,
            103.54075035890308,
            103.54075035890308,
            120
           ],
           "y": [
            16,
            16,
            64,
            64
           ]
          },
          {
           "hoverinfo": "skip",
           "line": {
            "color": "black",
            "width": 4
           },
           "mode": "lines",
           "showlegend": false,
           "type": "scatter",
           "x": [
            0,
            5.486416547032306,
            5.486416547032306,
            0
           ],
           "y": [
            28,
            28,
            52,
            52
           ]
          },
          {
           "hoverinfo": "skip",
           "line": {
            "color": "black",
            "width": 4
           },
           "mode": "lines",
           "showlegend": false,
           "type": "scatter",
           "x": [
            120,
            114.5135834529677,
            114.5135834529677,
            120
           ],
           "y": [
            28,
            28,
            52,
            52
           ]
          },
          {
           "hoverinfo": "skip",
           "line": {
            "color": "black"
           },
           "mode": "markers",
           "showlegend": false,
           "type": "scatter",
           "x": [
            10.972833094064612
           ],
           "y": [
            40
           ]
          },
          {
           "hoverinfo": "skip",
           "line": {
            "color": "black"
           },
           "mode": "markers",
           "showlegend": false,
           "type": "scatter",
           "x": [
            109.02716690593539
           ],
           "y": [
            40
           ]
          },
          {
           "hoverinfo": "skip",
           "line": {
            "color": "black"
           },
           "mode": "markers",
           "showlegend": false,
           "type": "scatter",
           "x": [
            60
           ],
           "y": [
            40
           ]
          },
          {
           "marker": {
            "color": "black",
            "size": 10,
            "symbol": "star"
           },
           "mode": "markers",
           "name": "Shot Position",
           "showlegend": false,
           "type": "scatter",
           "x": [
            111
           ],
           "y": [
            43.63305915560684
           ]
          },
          {
           "marker": {
            "color": "purple",
            "size": 10,
            "symbol": "diamond"
           },
           "mode": "markers",
           "name": "Freekick Position",
           "showlegend": false,
           "type": "scatter",
           "x": [
            95
           ],
           "y": [
            62
           ]
          },
          {
           "marker": {
            "color": "orange",
            "size": 8,
            "symbol": "x"
           },
           "mode": "markers",
           "name": "Opponent",
           "showlegend": false,
           "type": "scatter",
           "x": [
            108.00615443856704
           ],
           "y": [
            43.80793554652633
           ]
          },
          {
           "marker": {
            "color": "orange",
            "size": 8,
            "symbol": "x"
           },
           "mode": "markers",
           "name": "Opponent",
           "showlegend": false,
           "type": "scatter",
           "x": [
            111.90739851122483
           ],
           "y": [
            47.029294957878314
           ]
          },
          {
           "marker": {
            "color": "orange",
            "size": 8,
            "symbol": "x"
           },
           "mode": "markers",
           "name": "Opponent",
           "showlegend": false,
           "type": "scatter",
           "x": [
            109.69742545427236
           ],
           "y": [
            48.03773445793831
           ]
          },
          {
           "marker": {
            "color": "orange",
            "size": 8,
            "symbol": "x"
           },
           "mode": "markers",
           "name": "Opponent",
           "showlegend": false,
           "type": "scatter",
           "x": [
            103.80656397910276
           ],
           "y": [
            48.61025793348464
           ]
          },
          {
           "marker": {
            "color": "orange",
            "size": 8,
            "symbol": "x"
           },
           "mode": "markers",
           "name": "Opponent",
           "showlegend": false,
           "type": "scatter",
           "x": [
            117.7267524942179
           ],
           "y": [
            49.267902892188985
           ]
          },
          {
           "marker": {
            "color": "orange",
            "size": 8,
            "symbol": "x"
           },
           "mode": "markers",
           "name": "Opponent",
           "showlegend": false,
           "type": "scatter",
           "x": [
            118.54388524949289
           ],
           "y": [
            39.19481578475043
           ]
          },
          {
           "marker": {
            "color": "blue",
            "size": 8,
            "symbol": "circle"
           },
           "mode": "markers",
           "name": "Teammate",
           "showlegend": false,
           "type": "scatter",
           "x": [
            106.12383936164059
           ],
           "y": [
            48.736982201946795
           ]
          },
          {
           "marker": {
            "color": "blue",
            "size": 8,
            "symbol": "circle"
           },
           "mode": "markers",
           "name": "Teammate",
           "showlegend": false,
           "type": "scatter",
           "x": [
            109.60395078080045
           ],
           "y": [
            48.02689878036874
           ]
          },
          {
           "marker": {
            "color": "blue",
            "size": 8,
            "symbol": "circle"
           },
           "mode": "markers",
           "name": "Teammate",
           "showlegend": false,
           "type": "scatter",
           "x": [
            103.6928374419468
           ],
           "y": [
            47.6700456515311
           ]
          },
          {
           "marker": {
            "color": "blue",
            "size": 8,
            "symbol": "circle"
           },
           "mode": "markers",
           "name": "Teammate",
           "showlegend": false,
           "type": "scatter",
           "x": [
            101.17897045670938
           ],
           "y": [
            47.10543255269176
           ]
          },
          {
           "mode": "lines+markers",
           "name": "Line Plot",
           "type": "scatter",
           "x": [
            0,
            1,
            2,
            3
           ],
           "y": [
            0.10442892,
            0.14224926,
            0.16282678,
            0.16282678
           ]
          }
         ],
         "name": "3"
        },
        {
         "data": [
          {
           "hoverinfo": "skip",
           "line": {
            "color": "black",
            "width": 4
           },
           "mode": "lines",
           "showlegend": false,
           "type": "scatter",
           "x": [
            0,
            120,
            120,
            0,
            0
           ],
           "y": [
            0,
            0,
            80,
            80,
            0
           ]
          },
          {
           "hoverinfo": "skip",
           "line": {
            "color": "black",
            "width": 4
           },
           "mode": "lines",
           "showlegend": false,
           "type": "scatter",
           "x": [
            60,
            60
           ],
           "y": [
            0,
            80
           ]
          },
          {
           "hoverinfo": "skip",
           "line": {
            "color": "black",
            "width": 4
           },
           "mode": "lines",
           "showlegend": false,
           "type": "scatter",
           "x": [
            0,
            16.459249641096918,
            16.459249641096918,
            0
           ],
           "y": [
            16,
            16,
            64,
            64
           ]
          },
          {
           "hoverinfo": "skip",
           "line": {
            "color": "black",
            "width": 4
           },
           "mode": "lines",
           "showlegend": false,
           "type": "scatter",
           "x": [
            120,
            103.54075035890308,
            103.54075035890308,
            120
           ],
           "y": [
            16,
            16,
            64,
            64
           ]
          },
          {
           "hoverinfo": "skip",
           "line": {
            "color": "black",
            "width": 4
           },
           "mode": "lines",
           "showlegend": false,
           "type": "scatter",
           "x": [
            0,
            5.486416547032306,
            5.486416547032306,
            0
           ],
           "y": [
            28,
            28,
            52,
            52
           ]
          },
          {
           "hoverinfo": "skip",
           "line": {
            "color": "black",
            "width": 4
           },
           "mode": "lines",
           "showlegend": false,
           "type": "scatter",
           "x": [
            120,
            114.5135834529677,
            114.5135834529677,
            120
           ],
           "y": [
            28,
            28,
            52,
            52
           ]
          },
          {
           "hoverinfo": "skip",
           "line": {
            "color": "black"
           },
           "mode": "markers",
           "showlegend": false,
           "type": "scatter",
           "x": [
            10.972833094064612
           ],
           "y": [
            40
           ]
          },
          {
           "hoverinfo": "skip",
           "line": {
            "color": "black"
           },
           "mode": "markers",
           "showlegend": false,
           "type": "scatter",
           "x": [
            109.02716690593539
           ],
           "y": [
            40
           ]
          },
          {
           "hoverinfo": "skip",
           "line": {
            "color": "black"
           },
           "mode": "markers",
           "showlegend": false,
           "type": "scatter",
           "x": [
            60
           ],
           "y": [
            40
           ]
          },
          {
           "marker": {
            "color": "black",
            "size": 10,
            "symbol": "star"
           },
           "mode": "markers",
           "name": "Shot Position",
           "showlegend": false,
           "type": "scatter",
           "x": [
            111
           ],
           "y": [
            43.63305915560684
           ]
          },
          {
           "marker": {
            "color": "purple",
            "size": 10,
            "symbol": "diamond"
           },
           "mode": "markers",
           "name": "Freekick Position",
           "showlegend": false,
           "type": "scatter",
           "x": [
            95
           ],
           "y": [
            62
           ]
          },
          {
           "marker": {
            "color": "orange",
            "size": 8,
            "symbol": "x"
           },
           "mode": "markers",
           "name": "Opponent",
           "showlegend": false,
           "type": "scatter",
           "x": [
            108.00615443856704
           ],
           "y": [
            43.80793554652633
           ]
          },
          {
           "marker": {
            "color": "orange",
            "size": 8,
            "symbol": "x"
           },
           "mode": "markers",
           "name": "Opponent",
           "showlegend": false,
           "type": "scatter",
           "x": [
            111.90739851122483
           ],
           "y": [
            47.029294957878314
           ]
          },
          {
           "marker": {
            "color": "orange",
            "size": 8,
            "symbol": "x"
           },
           "mode": "markers",
           "name": "Opponent",
           "showlegend": false,
           "type": "scatter",
           "x": [
            109.69742545427236
           ],
           "y": [
            48.03773445793831
           ]
          },
          {
           "marker": {
            "color": "orange",
            "size": 8,
            "symbol": "x"
           },
           "mode": "markers",
           "name": "Opponent",
           "showlegend": false,
           "type": "scatter",
           "x": [
            103.80656397910276
           ],
           "y": [
            48.61025793348464
           ]
          },
          {
           "marker": {
            "color": "orange",
            "size": 8,
            "symbol": "x"
           },
           "mode": "markers",
           "name": "Opponent",
           "showlegend": false,
           "type": "scatter",
           "x": [
            117.7267524942179
           ],
           "y": [
            49.267902892188985
           ]
          },
          {
           "marker": {
            "color": "orange",
            "size": 8,
            "symbol": "x"
           },
           "mode": "markers",
           "name": "Opponent",
           "showlegend": false,
           "type": "scatter",
           "x": [
            118.54388524949289
           ],
           "y": [
            39.19481578475043
           ]
          },
          {
           "marker": {
            "color": "blue",
            "size": 8,
            "symbol": "circle"
           },
           "mode": "markers",
           "name": "Teammate",
           "showlegend": false,
           "type": "scatter",
           "x": [
            106.12383936164059
           ],
           "y": [
            48.736982201946795
           ]
          },
          {
           "marker": {
            "color": "blue",
            "size": 8,
            "symbol": "circle"
           },
           "mode": "markers",
           "name": "Teammate",
           "showlegend": false,
           "type": "scatter",
           "x": [
            109.60395078080045
           ],
           "y": [
            51.48440927535849
           ]
          },
          {
           "marker": {
            "color": "blue",
            "size": 8,
            "symbol": "circle"
           },
           "mode": "markers",
           "name": "Teammate",
           "showlegend": false,
           "type": "scatter",
           "x": [
            103.6928374419468
           ],
           "y": [
            47.6700456515311
           ]
          },
          {
           "marker": {
            "color": "blue",
            "size": 8,
            "symbol": "circle"
           },
           "mode": "markers",
           "name": "Teammate",
           "showlegend": false,
           "type": "scatter",
           "x": [
            101.17897045670938
           ],
           "y": [
            46.02381438635826
           ]
          },
          {
           "mode": "lines+markers",
           "name": "Line Plot",
           "type": "scatter",
           "x": [
            0,
            1,
            2,
            3,
            4
           ],
           "y": [
            0.10442892,
            0.14224926,
            0.16282678,
            0.16282678,
            0.16452551
           ]
          }
         ],
         "name": "4"
        },
        {
         "data": [
          {
           "hoverinfo": "skip",
           "line": {
            "color": "black",
            "width": 4
           },
           "mode": "lines",
           "showlegend": false,
           "type": "scatter",
           "x": [
            0,
            120,
            120,
            0,
            0
           ],
           "y": [
            0,
            0,
            80,
            80,
            0
           ]
          },
          {
           "hoverinfo": "skip",
           "line": {
            "color": "black",
            "width": 4
           },
           "mode": "lines",
           "showlegend": false,
           "type": "scatter",
           "x": [
            60,
            60
           ],
           "y": [
            0,
            80
           ]
          },
          {
           "hoverinfo": "skip",
           "line": {
            "color": "black",
            "width": 4
           },
           "mode": "lines",
           "showlegend": false,
           "type": "scatter",
           "x": [
            0,
            16.459249641096918,
            16.459249641096918,
            0
           ],
           "y": [
            16,
            16,
            64,
            64
           ]
          },
          {
           "hoverinfo": "skip",
           "line": {
            "color": "black",
            "width": 4
           },
           "mode": "lines",
           "showlegend": false,
           "type": "scatter",
           "x": [
            120,
            103.54075035890308,
            103.54075035890308,
            120
           ],
           "y": [
            16,
            16,
            64,
            64
           ]
          },
          {
           "hoverinfo": "skip",
           "line": {
            "color": "black",
            "width": 4
           },
           "mode": "lines",
           "showlegend": false,
           "type": "scatter",
           "x": [
            0,
            5.486416547032306,
            5.486416547032306,
            0
           ],
           "y": [
            28,
            28,
            52,
            52
           ]
          },
          {
           "hoverinfo": "skip",
           "line": {
            "color": "black",
            "width": 4
           },
           "mode": "lines",
           "showlegend": false,
           "type": "scatter",
           "x": [
            120,
            114.5135834529677,
            114.5135834529677,
            120
           ],
           "y": [
            28,
            28,
            52,
            52
           ]
          },
          {
           "hoverinfo": "skip",
           "line": {
            "color": "black"
           },
           "mode": "markers",
           "showlegend": false,
           "type": "scatter",
           "x": [
            10.972833094064612
           ],
           "y": [
            40
           ]
          },
          {
           "hoverinfo": "skip",
           "line": {
            "color": "black"
           },
           "mode": "markers",
           "showlegend": false,
           "type": "scatter",
           "x": [
            109.02716690593539
           ],
           "y": [
            40
           ]
          },
          {
           "hoverinfo": "skip",
           "line": {
            "color": "black"
           },
           "mode": "markers",
           "showlegend": false,
           "type": "scatter",
           "x": [
            60
           ],
           "y": [
            40
           ]
          },
          {
           "marker": {
            "color": "black",
            "size": 10,
            "symbol": "star"
           },
           "mode": "markers",
           "name": "Shot Position",
           "showlegend": false,
           "type": "scatter",
           "x": [
            111
           ],
           "y": [
            43.63305915560684
           ]
          },
          {
           "marker": {
            "color": "purple",
            "size": 10,
            "symbol": "diamond"
           },
           "mode": "markers",
           "name": "Freekick Position",
           "showlegend": false,
           "type": "scatter",
           "x": [
            95
           ],
           "y": [
            62
           ]
          },
          {
           "marker": {
            "color": "orange",
            "size": 8,
            "symbol": "x"
           },
           "mode": "markers",
           "name": "Opponent",
           "showlegend": false,
           "type": "scatter",
           "x": [
            108.00615443856704
           ],
           "y": [
            43.80793554652633
           ]
          },
          {
           "marker": {
            "color": "orange",
            "size": 8,
            "symbol": "x"
           },
           "mode": "markers",
           "name": "Opponent",
           "showlegend": false,
           "type": "scatter",
           "x": [
            111.90739851122483
           ],
           "y": [
            47.029294957878314
           ]
          },
          {
           "marker": {
            "color": "orange",
            "size": 8,
            "symbol": "x"
           },
           "mode": "markers",
           "name": "Opponent",
           "showlegend": false,
           "type": "scatter",
           "x": [
            109.69742545427236
           ],
           "y": [
            48.03773445793831
           ]
          },
          {
           "marker": {
            "color": "orange",
            "size": 8,
            "symbol": "x"
           },
           "mode": "markers",
           "name": "Opponent",
           "showlegend": false,
           "type": "scatter",
           "x": [
            103.80656397910276
           ],
           "y": [
            48.61025793348464
           ]
          },
          {
           "marker": {
            "color": "orange",
            "size": 8,
            "symbol": "x"
           },
           "mode": "markers",
           "name": "Opponent",
           "showlegend": false,
           "type": "scatter",
           "x": [
            117.7267524942179
           ],
           "y": [
            49.267902892188985
           ]
          },
          {
           "marker": {
            "color": "orange",
            "size": 8,
            "symbol": "x"
           },
           "mode": "markers",
           "name": "Opponent",
           "showlegend": false,
           "type": "scatter",
           "x": [
            118.54388524949289
           ],
           "y": [
            39.19481578475043
           ]
          },
          {
           "marker": {
            "color": "blue",
            "size": 8,
            "symbol": "circle"
           },
           "mode": "markers",
           "name": "Teammate",
           "showlegend": false,
           "type": "scatter",
           "x": [
            110.67123202654521
           ],
           "y": [
            48.578817210387776
           ]
          },
          {
           "marker": {
            "color": "blue",
            "size": 8,
            "symbol": "circle"
           },
           "mode": "markers",
           "name": "Teammate",
           "showlegend": false,
           "type": "scatter",
           "x": [
            107.51548780237916
           ],
           "y": [
            51.48440927535849
           ]
          },
          {
           "marker": {
            "color": "blue",
            "size": 8,
            "symbol": "circle"
           },
           "mode": "markers",
           "name": "Teammate",
           "showlegend": false,
           "type": "scatter",
           "x": [
            103.6928374419468
           ],
           "y": [
            47.6700456515311
           ]
          },
          {
           "marker": {
            "color": "blue",
            "size": 8,
            "symbol": "circle"
           },
           "mode": "markers",
           "name": "Teammate",
           "showlegend": false,
           "type": "scatter",
           "x": [
            101.17897045670938
           ],
           "y": [
            47.10543255269176
           ]
          },
          {
           "mode": "lines+markers",
           "name": "Line Plot",
           "type": "scatter",
           "x": [
            0,
            1,
            2,
            3,
            4,
            5
           ],
           "y": [
            0.10442892,
            0.14224926,
            0.16282678,
            0.16282678,
            0.16452551,
            0.16554648
           ]
          }
         ],
         "name": "5"
        },
        {
         "data": [
          {
           "hoverinfo": "skip",
           "line": {
            "color": "black",
            "width": 4
           },
           "mode": "lines",
           "showlegend": false,
           "type": "scatter",
           "x": [
            0,
            120,
            120,
            0,
            0
           ],
           "y": [
            0,
            0,
            80,
            80,
            0
           ]
          },
          {
           "hoverinfo": "skip",
           "line": {
            "color": "black",
            "width": 4
           },
           "mode": "lines",
           "showlegend": false,
           "type": "scatter",
           "x": [
            60,
            60
           ],
           "y": [
            0,
            80
           ]
          },
          {
           "hoverinfo": "skip",
           "line": {
            "color": "black",
            "width": 4
           },
           "mode": "lines",
           "showlegend": false,
           "type": "scatter",
           "x": [
            0,
            16.459249641096918,
            16.459249641096918,
            0
           ],
           "y": [
            16,
            16,
            64,
            64
           ]
          },
          {
           "hoverinfo": "skip",
           "line": {
            "color": "black",
            "width": 4
           },
           "mode": "lines",
           "showlegend": false,
           "type": "scatter",
           "x": [
            120,
            103.54075035890308,
            103.54075035890308,
            120
           ],
           "y": [
            16,
            16,
            64,
            64
           ]
          },
          {
           "hoverinfo": "skip",
           "line": {
            "color": "black",
            "width": 4
           },
           "mode": "lines",
           "showlegend": false,
           "type": "scatter",
           "x": [
            0,
            5.486416547032306,
            5.486416547032306,
            0
           ],
           "y": [
            28,
            28,
            52,
            52
           ]
          },
          {
           "hoverinfo": "skip",
           "line": {
            "color": "black",
            "width": 4
           },
           "mode": "lines",
           "showlegend": false,
           "type": "scatter",
           "x": [
            120,
            114.5135834529677,
            114.5135834529677,
            120
           ],
           "y": [
            28,
            28,
            52,
            52
           ]
          },
          {
           "hoverinfo": "skip",
           "line": {
            "color": "black"
           },
           "mode": "markers",
           "showlegend": false,
           "type": "scatter",
           "x": [
            10.972833094064612
           ],
           "y": [
            40
           ]
          },
          {
           "hoverinfo": "skip",
           "line": {
            "color": "black"
           },
           "mode": "markers",
           "showlegend": false,
           "type": "scatter",
           "x": [
            109.02716690593539
           ],
           "y": [
            40
           ]
          },
          {
           "hoverinfo": "skip",
           "line": {
            "color": "black"
           },
           "mode": "markers",
           "showlegend": false,
           "type": "scatter",
           "x": [
            60
           ],
           "y": [
            40
           ]
          },
          {
           "marker": {
            "color": "black",
            "size": 10,
            "symbol": "star"
           },
           "mode": "markers",
           "name": "Shot Position",
           "showlegend": false,
           "type": "scatter",
           "x": [
            111
           ],
           "y": [
            41.43966349390907
           ]
          },
          {
           "marker": {
            "color": "purple",
            "size": 10,
            "symbol": "diamond"
           },
           "mode": "markers",
           "name": "Freekick Position",
           "showlegend": false,
           "type": "scatter",
           "x": [
            95
           ],
           "y": [
            62
           ]
          },
          {
           "marker": {
            "color": "orange",
            "size": 8,
            "symbol": "x"
           },
           "mode": "markers",
           "name": "Opponent",
           "showlegend": false,
           "type": "scatter",
           "x": [
            108.00615443856704
           ],
           "y": [
            43.80793554652633
           ]
          },
          {
           "marker": {
            "color": "orange",
            "size": 8,
            "symbol": "x"
           },
           "mode": "markers",
           "name": "Opponent",
           "showlegend": false,
           "type": "scatter",
           "x": [
            111.90739851122483
           ],
           "y": [
            47.029294957878314
           ]
          },
          {
           "marker": {
            "color": "orange",
            "size": 8,
            "symbol": "x"
           },
           "mode": "markers",
           "name": "Opponent",
           "showlegend": false,
           "type": "scatter",
           "x": [
            109.69742545427236
           ],
           "y": [
            48.03773445793831
           ]
          },
          {
           "marker": {
            "color": "orange",
            "size": 8,
            "symbol": "x"
           },
           "mode": "markers",
           "name": "Opponent",
           "showlegend": false,
           "type": "scatter",
           "x": [
            103.80656397910276
           ],
           "y": [
            48.61025793348464
           ]
          },
          {
           "marker": {
            "color": "orange",
            "size": 8,
            "symbol": "x"
           },
           "mode": "markers",
           "name": "Opponent",
           "showlegend": false,
           "type": "scatter",
           "x": [
            117.7267524942179
           ],
           "y": [
            49.267902892188985
           ]
          },
          {
           "marker": {
            "color": "orange",
            "size": 8,
            "symbol": "x"
           },
           "mode": "markers",
           "name": "Opponent",
           "showlegend": false,
           "type": "scatter",
           "x": [
            118.54388524949289
           ],
           "y": [
            39.19481578475043
           ]
          },
          {
           "marker": {
            "color": "blue",
            "size": 8,
            "symbol": "circle"
           },
           "mode": "markers",
           "name": "Teammate",
           "showlegend": false,
           "type": "scatter",
           "x": [
            110.67123202654521
           ],
           "y": [
            48.578817210387776
           ]
          },
          {
           "marker": {
            "color": "blue",
            "size": 8,
            "symbol": "circle"
           },
           "mode": "markers",
           "name": "Teammate",
           "showlegend": false,
           "type": "scatter",
           "x": [
            107.51548780237916
           ],
           "y": [
            51.48440927535849
           ]
          },
          {
           "marker": {
            "color": "blue",
            "size": 8,
            "symbol": "circle"
           },
           "mode": "markers",
           "name": "Teammate",
           "showlegend": false,
           "type": "scatter",
           "x": [
            103.6928374419468
           ],
           "y": [
            47.6700456515311
           ]
          },
          {
           "marker": {
            "color": "blue",
            "size": 8,
            "symbol": "circle"
           },
           "mode": "markers",
           "name": "Teammate",
           "showlegend": false,
           "type": "scatter",
           "x": [
            101.17897045670938
           ],
           "y": [
            47.10543255269176
           ]
          },
          {
           "mode": "lines+markers",
           "name": "Line Plot",
           "type": "scatter",
           "x": [
            0,
            1,
            2,
            3,
            4,
            5,
            6
           ],
           "y": [
            0.10442892,
            0.14224926,
            0.16282678,
            0.16282678,
            0.16452551,
            0.16554648,
            0.17032182
           ]
          }
         ],
         "name": "6"
        },
        {
         "data": [
          {
           "hoverinfo": "skip",
           "line": {
            "color": "black",
            "width": 4
           },
           "mode": "lines",
           "showlegend": false,
           "type": "scatter",
           "x": [
            0,
            120,
            120,
            0,
            0
           ],
           "y": [
            0,
            0,
            80,
            80,
            0
           ]
          },
          {
           "hoverinfo": "skip",
           "line": {
            "color": "black",
            "width": 4
           },
           "mode": "lines",
           "showlegend": false,
           "type": "scatter",
           "x": [
            60,
            60
           ],
           "y": [
            0,
            80
           ]
          },
          {
           "hoverinfo": "skip",
           "line": {
            "color": "black",
            "width": 4
           },
           "mode": "lines",
           "showlegend": false,
           "type": "scatter",
           "x": [
            0,
            16.459249641096918,
            16.459249641096918,
            0
           ],
           "y": [
            16,
            16,
            64,
            64
           ]
          },
          {
           "hoverinfo": "skip",
           "line": {
            "color": "black",
            "width": 4
           },
           "mode": "lines",
           "showlegend": false,
           "type": "scatter",
           "x": [
            120,
            103.54075035890308,
            103.54075035890308,
            120
           ],
           "y": [
            16,
            16,
            64,
            64
           ]
          },
          {
           "hoverinfo": "skip",
           "line": {
            "color": "black",
            "width": 4
           },
           "mode": "lines",
           "showlegend": false,
           "type": "scatter",
           "x": [
            0,
            5.486416547032306,
            5.486416547032306,
            0
           ],
           "y": [
            28,
            28,
            52,
            52
           ]
          },
          {
           "hoverinfo": "skip",
           "line": {
            "color": "black",
            "width": 4
           },
           "mode": "lines",
           "showlegend": false,
           "type": "scatter",
           "x": [
            120,
            114.5135834529677,
            114.5135834529677,
            120
           ],
           "y": [
            28,
            28,
            52,
            52
           ]
          },
          {
           "hoverinfo": "skip",
           "line": {
            "color": "black"
           },
           "mode": "markers",
           "showlegend": false,
           "type": "scatter",
           "x": [
            10.972833094064612
           ],
           "y": [
            40
           ]
          },
          {
           "hoverinfo": "skip",
           "line": {
            "color": "black"
           },
           "mode": "markers",
           "showlegend": false,
           "type": "scatter",
           "x": [
            109.02716690593539
           ],
           "y": [
            40
           ]
          },
          {
           "hoverinfo": "skip",
           "line": {
            "color": "black"
           },
           "mode": "markers",
           "showlegend": false,
           "type": "scatter",
           "x": [
            60
           ],
           "y": [
            40
           ]
          },
          {
           "marker": {
            "color": "black",
            "size": 10,
            "symbol": "star"
           },
           "mode": "markers",
           "name": "Shot Position",
           "showlegend": false,
           "type": "scatter",
           "x": [
            111
           ],
           "y": [
            41.43966349390907
           ]
          },
          {
           "marker": {
            "color": "purple",
            "size": 10,
            "symbol": "diamond"
           },
           "mode": "markers",
           "name": "Freekick Position",
           "showlegend": false,
           "type": "scatter",
           "x": [
            95
           ],
           "y": [
            62
           ]
          },
          {
           "marker": {
            "color": "orange",
            "size": 8,
            "symbol": "x"
           },
           "mode": "markers",
           "name": "Opponent",
           "showlegend": false,
           "type": "scatter",
           "x": [
            108.00615443856704
           ],
           "y": [
            43.80793554652633
           ]
          },
          {
           "marker": {
            "color": "orange",
            "size": 8,
            "symbol": "x"
           },
           "mode": "markers",
           "name": "Opponent",
           "showlegend": false,
           "type": "scatter",
           "x": [
            111.90739851122483
           ],
           "y": [
            47.029294957878314
           ]
          },
          {
           "marker": {
            "color": "orange",
            "size": 8,
            "symbol": "x"
           },
           "mode": "markers",
           "name": "Opponent",
           "showlegend": false,
           "type": "scatter",
           "x": [
            109.69742545427236
           ],
           "y": [
            48.03773445793831
           ]
          },
          {
           "marker": {
            "color": "orange",
            "size": 8,
            "symbol": "x"
           },
           "mode": "markers",
           "name": "Opponent",
           "showlegend": false,
           "type": "scatter",
           "x": [
            103.80656397910276
           ],
           "y": [
            48.61025793348464
           ]
          },
          {
           "marker": {
            "color": "orange",
            "size": 8,
            "symbol": "x"
           },
           "mode": "markers",
           "name": "Opponent",
           "showlegend": false,
           "type": "scatter",
           "x": [
            117.7267524942179
           ],
           "y": [
            49.267902892188985
           ]
          },
          {
           "marker": {
            "color": "orange",
            "size": 8,
            "symbol": "x"
           },
           "mode": "markers",
           "name": "Opponent",
           "showlegend": false,
           "type": "scatter",
           "x": [
            118.54388524949289
           ],
           "y": [
            39.19481578475043
           ]
          },
          {
           "marker": {
            "color": "blue",
            "size": 8,
            "symbol": "circle"
           },
           "mode": "markers",
           "name": "Teammate",
           "showlegend": false,
           "type": "scatter",
           "x": [
            110.67123202654521
           ],
           "y": [
            48.578817210387776
           ]
          },
          {
           "marker": {
            "color": "blue",
            "size": 8,
            "symbol": "circle"
           },
           "mode": "markers",
           "name": "Teammate",
           "showlegend": false,
           "type": "scatter",
           "x": [
            107.51548780237916
           ],
           "y": [
            51.48440927535849
           ]
          },
          {
           "marker": {
            "color": "blue",
            "size": 8,
            "symbol": "circle"
           },
           "mode": "markers",
           "name": "Teammate",
           "showlegend": false,
           "type": "scatter",
           "x": [
            103.6928374419468
           ],
           "y": [
            47.6700456515311
           ]
          },
          {
           "marker": {
            "color": "blue",
            "size": 8,
            "symbol": "circle"
           },
           "mode": "markers",
           "name": "Teammate",
           "showlegend": false,
           "type": "scatter",
           "x": [
            101.17897045670938
           ],
           "y": [
            47.10543255269176
           ]
          },
          {
           "mode": "lines+markers",
           "name": "Line Plot",
           "type": "scatter",
           "x": [
            0,
            1,
            2,
            3,
            4,
            5,
            6,
            7
           ],
           "y": [
            0.10442892,
            0.14224926,
            0.16282678,
            0.16282678,
            0.16452551,
            0.16554648,
            0.17032182,
            0.17032182
           ]
          }
         ],
         "name": "7"
        },
        {
         "data": [
          {
           "hoverinfo": "skip",
           "line": {
            "color": "black",
            "width": 4
           },
           "mode": "lines",
           "showlegend": false,
           "type": "scatter",
           "x": [
            0,
            120,
            120,
            0,
            0
           ],
           "y": [
            0,
            0,
            80,
            80,
            0
           ]
          },
          {
           "hoverinfo": "skip",
           "line": {
            "color": "black",
            "width": 4
           },
           "mode": "lines",
           "showlegend": false,
           "type": "scatter",
           "x": [
            60,
            60
           ],
           "y": [
            0,
            80
           ]
          },
          {
           "hoverinfo": "skip",
           "line": {
            "color": "black",
            "width": 4
           },
           "mode": "lines",
           "showlegend": false,
           "type": "scatter",
           "x": [
            0,
            16.459249641096918,
            16.459249641096918,
            0
           ],
           "y": [
            16,
            16,
            64,
            64
           ]
          },
          {
           "hoverinfo": "skip",
           "line": {
            "color": "black",
            "width": 4
           },
           "mode": "lines",
           "showlegend": false,
           "type": "scatter",
           "x": [
            120,
            103.54075035890308,
            103.54075035890308,
            120
           ],
           "y": [
            16,
            16,
            64,
            64
           ]
          },
          {
           "hoverinfo": "skip",
           "line": {
            "color": "black",
            "width": 4
           },
           "mode": "lines",
           "showlegend": false,
           "type": "scatter",
           "x": [
            0,
            5.486416547032306,
            5.486416547032306,
            0
           ],
           "y": [
            28,
            28,
            52,
            52
           ]
          },
          {
           "hoverinfo": "skip",
           "line": {
            "color": "black",
            "width": 4
           },
           "mode": "lines",
           "showlegend": false,
           "type": "scatter",
           "x": [
            120,
            114.5135834529677,
            114.5135834529677,
            120
           ],
           "y": [
            28,
            28,
            52,
            52
           ]
          },
          {
           "hoverinfo": "skip",
           "line": {
            "color": "black"
           },
           "mode": "markers",
           "showlegend": false,
           "type": "scatter",
           "x": [
            10.972833094064612
           ],
           "y": [
            40
           ]
          },
          {
           "hoverinfo": "skip",
           "line": {
            "color": "black"
           },
           "mode": "markers",
           "showlegend": false,
           "type": "scatter",
           "x": [
            109.02716690593539
           ],
           "y": [
            40
           ]
          },
          {
           "hoverinfo": "skip",
           "line": {
            "color": "black"
           },
           "mode": "markers",
           "showlegend": false,
           "type": "scatter",
           "x": [
            60
           ],
           "y": [
            40
           ]
          },
          {
           "marker": {
            "color": "black",
            "size": 10,
            "symbol": "star"
           },
           "mode": "markers",
           "name": "Shot Position",
           "showlegend": false,
           "type": "scatter",
           "x": [
            111
           ],
           "y": [
            40.93587480838928
           ]
          },
          {
           "marker": {
            "color": "purple",
            "size": 10,
            "symbol": "diamond"
           },
           "mode": "markers",
           "name": "Freekick Position",
           "showlegend": false,
           "type": "scatter",
           "x": [
            95
           ],
           "y": [
            62
           ]
          },
          {
           "marker": {
            "color": "orange",
            "size": 8,
            "symbol": "x"
           },
           "mode": "markers",
           "name": "Opponent",
           "showlegend": false,
           "type": "scatter",
           "x": [
            108.00615443856704
           ],
           "y": [
            43.80793554652633
           ]
          },
          {
           "marker": {
            "color": "orange",
            "size": 8,
            "symbol": "x"
           },
           "mode": "markers",
           "name": "Opponent",
           "showlegend": false,
           "type": "scatter",
           "x": [
            111.90739851122483
           ],
           "y": [
            47.029294957878314
           ]
          },
          {
           "marker": {
            "color": "orange",
            "size": 8,
            "symbol": "x"
           },
           "mode": "markers",
           "name": "Opponent",
           "showlegend": false,
           "type": "scatter",
           "x": [
            109.69742545427236
           ],
           "y": [
            48.03773445793831
           ]
          },
          {
           "marker": {
            "color": "orange",
            "size": 8,
            "symbol": "x"
           },
           "mode": "markers",
           "name": "Opponent",
           "showlegend": false,
           "type": "scatter",
           "x": [
            103.80656397910276
           ],
           "y": [
            48.61025793348464
           ]
          },
          {
           "marker": {
            "color": "orange",
            "size": 8,
            "symbol": "x"
           },
           "mode": "markers",
           "name": "Opponent",
           "showlegend": false,
           "type": "scatter",
           "x": [
            117.7267524942179
           ],
           "y": [
            49.267902892188985
           ]
          },
          {
           "marker": {
            "color": "orange",
            "size": 8,
            "symbol": "x"
           },
           "mode": "markers",
           "name": "Opponent",
           "showlegend": false,
           "type": "scatter",
           "x": [
            118.54388524949289
           ],
           "y": [
            39.19481578475043
           ]
          },
          {
           "marker": {
            "color": "blue",
            "size": 8,
            "symbol": "circle"
           },
           "mode": "markers",
           "name": "Teammate",
           "showlegend": false,
           "type": "scatter",
           "x": [
            110.67123202654521
           ],
           "y": [
            48.578817210387776
           ]
          },
          {
           "marker": {
            "color": "blue",
            "size": 8,
            "symbol": "circle"
           },
           "mode": "markers",
           "name": "Teammate",
           "showlegend": false,
           "type": "scatter",
           "x": [
            107.51548780237916
           ],
           "y": [
            51.48440927535849
           ]
          },
          {
           "marker": {
            "color": "blue",
            "size": 8,
            "symbol": "circle"
           },
           "mode": "markers",
           "name": "Teammate",
           "showlegend": false,
           "type": "scatter",
           "x": [
            103.6928374419468
           ],
           "y": [
            47.6700456515311
           ]
          },
          {
           "marker": {
            "color": "blue",
            "size": 8,
            "symbol": "circle"
           },
           "mode": "markers",
           "name": "Teammate",
           "showlegend": false,
           "type": "scatter",
           "x": [
            101.17897045670938
           ],
           "y": [
            47.10543255269176
           ]
          },
          {
           "mode": "lines+markers",
           "name": "Line Plot",
           "type": "scatter",
           "x": [
            0,
            1,
            2,
            3,
            4,
            5,
            6,
            7,
            8
           ],
           "y": [
            0.10442892,
            0.14224926,
            0.16282678,
            0.16282678,
            0.16452551,
            0.16554648,
            0.17032182,
            0.17032182,
            0.18504907
           ]
          }
         ],
         "name": "8"
        },
        {
         "data": [
          {
           "hoverinfo": "skip",
           "line": {
            "color": "black",
            "width": 4
           },
           "mode": "lines",
           "showlegend": false,
           "type": "scatter",
           "x": [
            0,
            120,
            120,
            0,
            0
           ],
           "y": [
            0,
            0,
            80,
            80,
            0
           ]
          },
          {
           "hoverinfo": "skip",
           "line": {
            "color": "black",
            "width": 4
           },
           "mode": "lines",
           "showlegend": false,
           "type": "scatter",
           "x": [
            60,
            60
           ],
           "y": [
            0,
            80
           ]
          },
          {
           "hoverinfo": "skip",
           "line": {
            "color": "black",
            "width": 4
           },
           "mode": "lines",
           "showlegend": false,
           "type": "scatter",
           "x": [
            0,
            16.459249641096918,
            16.459249641096918,
            0
           ],
           "y": [
            16,
            16,
            64,
            64
           ]
          },
          {
           "hoverinfo": "skip",
           "line": {
            "color": "black",
            "width": 4
           },
           "mode": "lines",
           "showlegend": false,
           "type": "scatter",
           "x": [
            120,
            103.54075035890308,
            103.54075035890308,
            120
           ],
           "y": [
            16,
            16,
            64,
            64
           ]
          },
          {
           "hoverinfo": "skip",
           "line": {
            "color": "black",
            "width": 4
           },
           "mode": "lines",
           "showlegend": false,
           "type": "scatter",
           "x": [
            0,
            5.486416547032306,
            5.486416547032306,
            0
           ],
           "y": [
            28,
            28,
            52,
            52
           ]
          },
          {
           "hoverinfo": "skip",
           "line": {
            "color": "black",
            "width": 4
           },
           "mode": "lines",
           "showlegend": false,
           "type": "scatter",
           "x": [
            120,
            114.5135834529677,
            114.5135834529677,
            120
           ],
           "y": [
            28,
            28,
            52,
            52
           ]
          },
          {
           "hoverinfo": "skip",
           "line": {
            "color": "black"
           },
           "mode": "markers",
           "showlegend": false,
           "type": "scatter",
           "x": [
            10.972833094064612
           ],
           "y": [
            40
           ]
          },
          {
           "hoverinfo": "skip",
           "line": {
            "color": "black"
           },
           "mode": "markers",
           "showlegend": false,
           "type": "scatter",
           "x": [
            109.02716690593539
           ],
           "y": [
            40
           ]
          },
          {
           "hoverinfo": "skip",
           "line": {
            "color": "black"
           },
           "mode": "markers",
           "showlegend": false,
           "type": "scatter",
           "x": [
            60
           ],
           "y": [
            40
           ]
          },
          {
           "marker": {
            "color": "black",
            "size": 10,
            "symbol": "star"
           },
           "mode": "markers",
           "name": "Shot Position",
           "showlegend": false,
           "type": "scatter",
           "x": [
            111
           ],
           "y": [
            40.93587480838928
           ]
          },
          {
           "marker": {
            "color": "purple",
            "size": 10,
            "symbol": "diamond"
           },
           "mode": "markers",
           "name": "Freekick Position",
           "showlegend": false,
           "type": "scatter",
           "x": [
            95
           ],
           "y": [
            62
           ]
          },
          {
           "marker": {
            "color": "orange",
            "size": 8,
            "symbol": "x"
           },
           "mode": "markers",
           "name": "Opponent",
           "showlegend": false,
           "type": "scatter",
           "x": [
            108.00615443856704
           ],
           "y": [
            43.80793554652633
           ]
          },
          {
           "marker": {
            "color": "orange",
            "size": 8,
            "symbol": "x"
           },
           "mode": "markers",
           "name": "Opponent",
           "showlegend": false,
           "type": "scatter",
           "x": [
            111.90739851122483
           ],
           "y": [
            47.029294957878314
           ]
          },
          {
           "marker": {
            "color": "orange",
            "size": 8,
            "symbol": "x"
           },
           "mode": "markers",
           "name": "Opponent",
           "showlegend": false,
           "type": "scatter",
           "x": [
            109.69742545427236
           ],
           "y": [
            48.03773445793831
           ]
          },
          {
           "marker": {
            "color": "orange",
            "size": 8,
            "symbol": "x"
           },
           "mode": "markers",
           "name": "Opponent",
           "showlegend": false,
           "type": "scatter",
           "x": [
            103.80656397910276
           ],
           "y": [
            48.61025793348464
           ]
          },
          {
           "marker": {
            "color": "orange",
            "size": 8,
            "symbol": "x"
           },
           "mode": "markers",
           "name": "Opponent",
           "showlegend": false,
           "type": "scatter",
           "x": [
            117.7267524942179
           ],
           "y": [
            49.267902892188985
           ]
          },
          {
           "marker": {
            "color": "orange",
            "size": 8,
            "symbol": "x"
           },
           "mode": "markers",
           "name": "Opponent",
           "showlegend": false,
           "type": "scatter",
           "x": [
            118.54388524949289
           ],
           "y": [
            39.19481578475043
           ]
          },
          {
           "marker": {
            "color": "blue",
            "size": 8,
            "symbol": "circle"
           },
           "mode": "markers",
           "name": "Teammate",
           "showlegend": false,
           "type": "scatter",
           "x": [
            110.67123202654521
           ],
           "y": [
            48.578817210387776
           ]
          },
          {
           "marker": {
            "color": "blue",
            "size": 8,
            "symbol": "circle"
           },
           "mode": "markers",
           "name": "Teammate",
           "showlegend": false,
           "type": "scatter",
           "x": [
            107.51548780237916
           ],
           "y": [
            51.48440927535849
           ]
          },
          {
           "marker": {
            "color": "blue",
            "size": 8,
            "symbol": "circle"
           },
           "mode": "markers",
           "name": "Teammate",
           "showlegend": false,
           "type": "scatter",
           "x": [
            103.96692797650995
           ],
           "y": [
            47.49109266230045
           ]
          },
          {
           "marker": {
            "color": "blue",
            "size": 8,
            "symbol": "circle"
           },
           "mode": "markers",
           "name": "Teammate",
           "showlegend": false,
           "type": "scatter",
           "x": [
            101.65302221833127
           ],
           "y": [
            49.51111699801942
           ]
          },
          {
           "mode": "lines+markers",
           "name": "Line Plot",
           "type": "scatter",
           "x": [
            0,
            1,
            2,
            3,
            4,
            5,
            6,
            7,
            8,
            9
           ],
           "y": [
            0.10442892,
            0.14224926,
            0.16282678,
            0.16282678,
            0.16452551,
            0.16554648,
            0.17032182,
            0.17032182,
            0.18504907,
            0.18508397
           ]
          }
         ],
         "name": "9"
        },
        {
         "data": [
          {
           "hoverinfo": "skip",
           "line": {
            "color": "black",
            "width": 4
           },
           "mode": "lines",
           "showlegend": false,
           "type": "scatter",
           "x": [
            0,
            120,
            120,
            0,
            0
           ],
           "y": [
            0,
            0,
            80,
            80,
            0
           ]
          },
          {
           "hoverinfo": "skip",
           "line": {
            "color": "black",
            "width": 4
           },
           "mode": "lines",
           "showlegend": false,
           "type": "scatter",
           "x": [
            60,
            60
           ],
           "y": [
            0,
            80
           ]
          },
          {
           "hoverinfo": "skip",
           "line": {
            "color": "black",
            "width": 4
           },
           "mode": "lines",
           "showlegend": false,
           "type": "scatter",
           "x": [
            0,
            16.459249641096918,
            16.459249641096918,
            0
           ],
           "y": [
            16,
            16,
            64,
            64
           ]
          },
          {
           "hoverinfo": "skip",
           "line": {
            "color": "black",
            "width": 4
           },
           "mode": "lines",
           "showlegend": false,
           "type": "scatter",
           "x": [
            120,
            103.54075035890308,
            103.54075035890308,
            120
           ],
           "y": [
            16,
            16,
            64,
            64
           ]
          },
          {
           "hoverinfo": "skip",
           "line": {
            "color": "black",
            "width": 4
           },
           "mode": "lines",
           "showlegend": false,
           "type": "scatter",
           "x": [
            0,
            5.486416547032306,
            5.486416547032306,
            0
           ],
           "y": [
            28,
            28,
            52,
            52
           ]
          },
          {
           "hoverinfo": "skip",
           "line": {
            "color": "black",
            "width": 4
           },
           "mode": "lines",
           "showlegend": false,
           "type": "scatter",
           "x": [
            120,
            114.5135834529677,
            114.5135834529677,
            120
           ],
           "y": [
            28,
            28,
            52,
            52
           ]
          },
          {
           "hoverinfo": "skip",
           "line": {
            "color": "black"
           },
           "mode": "markers",
           "showlegend": false,
           "type": "scatter",
           "x": [
            10.972833094064612
           ],
           "y": [
            40
           ]
          },
          {
           "hoverinfo": "skip",
           "line": {
            "color": "black"
           },
           "mode": "markers",
           "showlegend": false,
           "type": "scatter",
           "x": [
            109.02716690593539
           ],
           "y": [
            40
           ]
          },
          {
           "hoverinfo": "skip",
           "line": {
            "color": "black"
           },
           "mode": "markers",
           "showlegend": false,
           "type": "scatter",
           "x": [
            60
           ],
           "y": [
            40
           ]
          },
          {
           "marker": {
            "color": "black",
            "size": 10,
            "symbol": "star"
           },
           "mode": "markers",
           "name": "Shot Position",
           "showlegend": false,
           "type": "scatter",
           "x": [
            111
           ],
           "y": [
            40.93587480838928
           ]
          },
          {
           "marker": {
            "color": "purple",
            "size": 10,
            "symbol": "diamond"
           },
           "mode": "markers",
           "name": "Freekick Position",
           "showlegend": false,
           "type": "scatter",
           "x": [
            95
           ],
           "y": [
            62
           ]
          },
          {
           "marker": {
            "color": "orange",
            "size": 8,
            "symbol": "x"
           },
           "mode": "markers",
           "name": "Opponent",
           "showlegend": false,
           "type": "scatter",
           "x": [
            108.00615443856704
           ],
           "y": [
            43.80793554652633
           ]
          },
          {
           "marker": {
            "color": "orange",
            "size": 8,
            "symbol": "x"
           },
           "mode": "markers",
           "name": "Opponent",
           "showlegend": false,
           "type": "scatter",
           "x": [
            111.90739851122483
           ],
           "y": [
            47.029294957878314
           ]
          },
          {
           "marker": {
            "color": "orange",
            "size": 8,
            "symbol": "x"
           },
           "mode": "markers",
           "name": "Opponent",
           "showlegend": false,
           "type": "scatter",
           "x": [
            109.69742545427236
           ],
           "y": [
            48.03773445793831
           ]
          },
          {
           "marker": {
            "color": "orange",
            "size": 8,
            "symbol": "x"
           },
           "mode": "markers",
           "name": "Opponent",
           "showlegend": false,
           "type": "scatter",
           "x": [
            103.80656397910276
           ],
           "y": [
            48.61025793348464
           ]
          },
          {
           "marker": {
            "color": "orange",
            "size": 8,
            "symbol": "x"
           },
           "mode": "markers",
           "name": "Opponent",
           "showlegend": false,
           "type": "scatter",
           "x": [
            117.7267524942179
           ],
           "y": [
            49.267902892188985
           ]
          },
          {
           "marker": {
            "color": "orange",
            "size": 8,
            "symbol": "x"
           },
           "mode": "markers",
           "name": "Opponent",
           "showlegend": false,
           "type": "scatter",
           "x": [
            118.54388524949289
           ],
           "y": [
            39.19481578475043
           ]
          },
          {
           "marker": {
            "color": "blue",
            "size": 8,
            "symbol": "circle"
           },
           "mode": "markers",
           "name": "Teammate",
           "showlegend": false,
           "type": "scatter",
           "x": [
            108.82739420898001
           ],
           "y": [
            45.950390892879824
           ]
          },
          {
           "marker": {
            "color": "blue",
            "size": 8,
            "symbol": "circle"
           },
           "mode": "markers",
           "name": "Teammate",
           "showlegend": false,
           "type": "scatter",
           "x": [
            107.51548780237916
           ],
           "y": [
            51.48440927535849
           ]
          },
          {
           "marker": {
            "color": "blue",
            "size": 8,
            "symbol": "circle"
           },
           "mode": "markers",
           "name": "Teammate",
           "showlegend": false,
           "type": "scatter",
           "x": [
            103.6928374419468
           ],
           "y": [
            47.6700456515311
           ]
          },
          {
           "marker": {
            "color": "blue",
            "size": 8,
            "symbol": "circle"
           },
           "mode": "markers",
           "name": "Teammate",
           "showlegend": false,
           "type": "scatter",
           "x": [
            101.17897045670938
           ],
           "y": [
            49.51111699801942
           ]
          },
          {
           "mode": "lines+markers",
           "name": "Line Plot",
           "type": "scatter",
           "x": [
            0,
            1,
            2,
            3,
            4,
            5,
            6,
            7,
            8,
            9,
            10
           ],
           "y": [
            0.10442892,
            0.14224926,
            0.16282678,
            0.16282678,
            0.16452551,
            0.16554648,
            0.17032182,
            0.17032182,
            0.18504907,
            0.18508397,
            0.1854914
           ]
          }
         ],
         "name": "10"
        },
        {
         "data": [
          {
           "hoverinfo": "skip",
           "line": {
            "color": "black",
            "width": 4
           },
           "mode": "lines",
           "showlegend": false,
           "type": "scatter",
           "x": [
            0,
            120,
            120,
            0,
            0
           ],
           "y": [
            0,
            0,
            80,
            80,
            0
           ]
          },
          {
           "hoverinfo": "skip",
           "line": {
            "color": "black",
            "width": 4
           },
           "mode": "lines",
           "showlegend": false,
           "type": "scatter",
           "x": [
            60,
            60
           ],
           "y": [
            0,
            80
           ]
          },
          {
           "hoverinfo": "skip",
           "line": {
            "color": "black",
            "width": 4
           },
           "mode": "lines",
           "showlegend": false,
           "type": "scatter",
           "x": [
            0,
            16.459249641096918,
            16.459249641096918,
            0
           ],
           "y": [
            16,
            16,
            64,
            64
           ]
          },
          {
           "hoverinfo": "skip",
           "line": {
            "color": "black",
            "width": 4
           },
           "mode": "lines",
           "showlegend": false,
           "type": "scatter",
           "x": [
            120,
            103.54075035890308,
            103.54075035890308,
            120
           ],
           "y": [
            16,
            16,
            64,
            64
           ]
          },
          {
           "hoverinfo": "skip",
           "line": {
            "color": "black",
            "width": 4
           },
           "mode": "lines",
           "showlegend": false,
           "type": "scatter",
           "x": [
            0,
            5.486416547032306,
            5.486416547032306,
            0
           ],
           "y": [
            28,
            28,
            52,
            52
           ]
          },
          {
           "hoverinfo": "skip",
           "line": {
            "color": "black",
            "width": 4
           },
           "mode": "lines",
           "showlegend": false,
           "type": "scatter",
           "x": [
            120,
            114.5135834529677,
            114.5135834529677,
            120
           ],
           "y": [
            28,
            28,
            52,
            52
           ]
          },
          {
           "hoverinfo": "skip",
           "line": {
            "color": "black"
           },
           "mode": "markers",
           "showlegend": false,
           "type": "scatter",
           "x": [
            10.972833094064612
           ],
           "y": [
            40
           ]
          },
          {
           "hoverinfo": "skip",
           "line": {
            "color": "black"
           },
           "mode": "markers",
           "showlegend": false,
           "type": "scatter",
           "x": [
            109.02716690593539
           ],
           "y": [
            40
           ]
          },
          {
           "hoverinfo": "skip",
           "line": {
            "color": "black"
           },
           "mode": "markers",
           "showlegend": false,
           "type": "scatter",
           "x": [
            60
           ],
           "y": [
            40
           ]
          },
          {
           "marker": {
            "color": "black",
            "size": 10,
            "symbol": "star"
           },
           "mode": "markers",
           "name": "Shot Position",
           "showlegend": false,
           "type": "scatter",
           "x": [
            111
           ],
           "y": [
            40.93587480838928
           ]
          },
          {
           "marker": {
            "color": "purple",
            "size": 10,
            "symbol": "diamond"
           },
           "mode": "markers",
           "name": "Freekick Position",
           "showlegend": false,
           "type": "scatter",
           "x": [
            95
           ],
           "y": [
            62
           ]
          },
          {
           "marker": {
            "color": "orange",
            "size": 8,
            "symbol": "x"
           },
           "mode": "markers",
           "name": "Opponent",
           "showlegend": false,
           "type": "scatter",
           "x": [
            108.00615443856704
           ],
           "y": [
            43.80793554652633
           ]
          },
          {
           "marker": {
            "color": "orange",
            "size": 8,
            "symbol": "x"
           },
           "mode": "markers",
           "name": "Opponent",
           "showlegend": false,
           "type": "scatter",
           "x": [
            111.90739851122483
           ],
           "y": [
            47.029294957878314
           ]
          },
          {
           "marker": {
            "color": "orange",
            "size": 8,
            "symbol": "x"
           },
           "mode": "markers",
           "name": "Opponent",
           "showlegend": false,
           "type": "scatter",
           "x": [
            109.69742545427236
           ],
           "y": [
            48.03773445793831
           ]
          },
          {
           "marker": {
            "color": "orange",
            "size": 8,
            "symbol": "x"
           },
           "mode": "markers",
           "name": "Opponent",
           "showlegend": false,
           "type": "scatter",
           "x": [
            103.80656397910276
           ],
           "y": [
            48.61025793348464
           ]
          },
          {
           "marker": {
            "color": "orange",
            "size": 8,
            "symbol": "x"
           },
           "mode": "markers",
           "name": "Opponent",
           "showlegend": false,
           "type": "scatter",
           "x": [
            117.7267524942179
           ],
           "y": [
            49.267902892188985
           ]
          },
          {
           "marker": {
            "color": "orange",
            "size": 8,
            "symbol": "x"
           },
           "mode": "markers",
           "name": "Opponent",
           "showlegend": false,
           "type": "scatter",
           "x": [
            118.54388524949289
           ],
           "y": [
            39.19481578475043
           ]
          },
          {
           "marker": {
            "color": "blue",
            "size": 8,
            "symbol": "circle"
           },
           "mode": "markers",
           "name": "Teammate",
           "showlegend": false,
           "type": "scatter",
           "x": [
            110.67123202654521
           ],
           "y": [
            48.578817210387776
           ]
          },
          {
           "marker": {
            "color": "blue",
            "size": 8,
            "symbol": "circle"
           },
           "mode": "markers",
           "name": "Teammate",
           "showlegend": false,
           "type": "scatter",
           "x": [
            109.56348328002386
           ],
           "y": [
            49.85850526353982
           ]
          },
          {
           "marker": {
            "color": "blue",
            "size": 8,
            "symbol": "circle"
           },
           "mode": "markers",
           "name": "Teammate",
           "showlegend": false,
           "type": "scatter",
           "x": [
            103.6928374419468
           ],
           "y": [
            47.49109266230045
           ]
          },
          {
           "marker": {
            "color": "blue",
            "size": 8,
            "symbol": "circle"
           },
           "mode": "markers",
           "name": "Teammate",
           "showlegend": false,
           "type": "scatter",
           "x": [
            101.17897045670938
           ],
           "y": [
            47.10543255269176
           ]
          },
          {
           "mode": "lines+markers",
           "name": "Line Plot",
           "type": "scatter",
           "x": [
            0,
            1,
            2,
            3,
            4,
            5,
            6,
            7,
            8,
            9,
            10,
            11
           ],
           "y": [
            0.10442892,
            0.14224926,
            0.16282678,
            0.16282678,
            0.16452551,
            0.16554648,
            0.17032182,
            0.17032182,
            0.18504907,
            0.18508397,
            0.1854914,
            0.1870719
           ]
          }
         ],
         "name": "11"
        },
        {
         "data": [
          {
           "hoverinfo": "skip",
           "line": {
            "color": "black",
            "width": 4
           },
           "mode": "lines",
           "showlegend": false,
           "type": "scatter",
           "x": [
            0,
            120,
            120,
            0,
            0
           ],
           "y": [
            0,
            0,
            80,
            80,
            0
           ]
          },
          {
           "hoverinfo": "skip",
           "line": {
            "color": "black",
            "width": 4
           },
           "mode": "lines",
           "showlegend": false,
           "type": "scatter",
           "x": [
            60,
            60
           ],
           "y": [
            0,
            80
           ]
          },
          {
           "hoverinfo": "skip",
           "line": {
            "color": "black",
            "width": 4
           },
           "mode": "lines",
           "showlegend": false,
           "type": "scatter",
           "x": [
            0,
            16.459249641096918,
            16.459249641096918,
            0
           ],
           "y": [
            16,
            16,
            64,
            64
           ]
          },
          {
           "hoverinfo": "skip",
           "line": {
            "color": "black",
            "width": 4
           },
           "mode": "lines",
           "showlegend": false,
           "type": "scatter",
           "x": [
            120,
            103.54075035890308,
            103.54075035890308,
            120
           ],
           "y": [
            16,
            16,
            64,
            64
           ]
          },
          {
           "hoverinfo": "skip",
           "line": {
            "color": "black",
            "width": 4
           },
           "mode": "lines",
           "showlegend": false,
           "type": "scatter",
           "x": [
            0,
            5.486416547032306,
            5.486416547032306,
            0
           ],
           "y": [
            28,
            28,
            52,
            52
           ]
          },
          {
           "hoverinfo": "skip",
           "line": {
            "color": "black",
            "width": 4
           },
           "mode": "lines",
           "showlegend": false,
           "type": "scatter",
           "x": [
            120,
            114.5135834529677,
            114.5135834529677,
            120
           ],
           "y": [
            28,
            28,
            52,
            52
           ]
          },
          {
           "hoverinfo": "skip",
           "line": {
            "color": "black"
           },
           "mode": "markers",
           "showlegend": false,
           "type": "scatter",
           "x": [
            10.972833094064612
           ],
           "y": [
            40
           ]
          },
          {
           "hoverinfo": "skip",
           "line": {
            "color": "black"
           },
           "mode": "markers",
           "showlegend": false,
           "type": "scatter",
           "x": [
            109.02716690593539
           ],
           "y": [
            40
           ]
          },
          {
           "hoverinfo": "skip",
           "line": {
            "color": "black"
           },
           "mode": "markers",
           "showlegend": false,
           "type": "scatter",
           "x": [
            60
           ],
           "y": [
            40
           ]
          },
          {
           "marker": {
            "color": "black",
            "size": 10,
            "symbol": "star"
           },
           "mode": "markers",
           "name": "Shot Position",
           "showlegend": false,
           "type": "scatter",
           "x": [
            111
           ],
           "y": [
            40.93587480838928
           ]
          },
          {
           "marker": {
            "color": "purple",
            "size": 10,
            "symbol": "diamond"
           },
           "mode": "markers",
           "name": "Freekick Position",
           "showlegend": false,
           "type": "scatter",
           "x": [
            95
           ],
           "y": [
            62
           ]
          },
          {
           "marker": {
            "color": "orange",
            "size": 8,
            "symbol": "x"
           },
           "mode": "markers",
           "name": "Opponent",
           "showlegend": false,
           "type": "scatter",
           "x": [
            108.00615443856704
           ],
           "y": [
            43.80793554652633
           ]
          },
          {
           "marker": {
            "color": "orange",
            "size": 8,
            "symbol": "x"
           },
           "mode": "markers",
           "name": "Opponent",
           "showlegend": false,
           "type": "scatter",
           "x": [
            111.90739851122483
           ],
           "y": [
            47.029294957878314
           ]
          },
          {
           "marker": {
            "color": "orange",
            "size": 8,
            "symbol": "x"
           },
           "mode": "markers",
           "name": "Opponent",
           "showlegend": false,
           "type": "scatter",
           "x": [
            109.69742545427236
           ],
           "y": [
            48.03773445793831
           ]
          },
          {
           "marker": {
            "color": "orange",
            "size": 8,
            "symbol": "x"
           },
           "mode": "markers",
           "name": "Opponent",
           "showlegend": false,
           "type": "scatter",
           "x": [
            103.80656397910276
           ],
           "y": [
            48.61025793348464
           ]
          },
          {
           "marker": {
            "color": "orange",
            "size": 8,
            "symbol": "x"
           },
           "mode": "markers",
           "name": "Opponent",
           "showlegend": false,
           "type": "scatter",
           "x": [
            117.7267524942179
           ],
           "y": [
            49.267902892188985
           ]
          },
          {
           "marker": {
            "color": "orange",
            "size": 8,
            "symbol": "x"
           },
           "mode": "markers",
           "name": "Opponent",
           "showlegend": false,
           "type": "scatter",
           "x": [
            118.54388524949289
           ],
           "y": [
            39.19481578475043
           ]
          },
          {
           "marker": {
            "color": "blue",
            "size": 8,
            "symbol": "circle"
           },
           "mode": "markers",
           "name": "Teammate",
           "showlegend": false,
           "type": "scatter",
           "x": [
            110.67123202654521
           ],
           "y": [
            48.578817210387776
           ]
          },
          {
           "marker": {
            "color": "blue",
            "size": 8,
            "symbol": "circle"
           },
           "mode": "markers",
           "name": "Teammate",
           "showlegend": false,
           "type": "scatter",
           "x": [
            104.60803612599295
           ],
           "y": [
            47.56757111557219
           ]
          },
          {
           "marker": {
            "color": "blue",
            "size": 8,
            "symbol": "circle"
           },
           "mode": "markers",
           "name": "Teammate",
           "showlegend": false,
           "type": "scatter",
           "x": [
            102.48155777916111
           ],
           "y": [
            46.80005179153434
           ]
          },
          {
           "marker": {
            "color": "blue",
            "size": 8,
            "symbol": "circle"
           },
           "mode": "markers",
           "name": "Teammate",
           "showlegend": false,
           "type": "scatter",
           "x": [
            101.17897045670938
           ],
           "y": [
            47.10543255269176
           ]
          },
          {
           "mode": "lines+markers",
           "name": "Line Plot",
           "type": "scatter",
           "x": [
            0,
            1,
            2,
            3,
            4,
            5,
            6,
            7,
            8,
            9,
            10,
            11,
            12
           ],
           "y": [
            0.10442892,
            0.14224926,
            0.16282678,
            0.16282678,
            0.16452551,
            0.16554648,
            0.17032182,
            0.17032182,
            0.18504907,
            0.18508397,
            0.1854914,
            0.1870719,
            0.1872687
           ]
          }
         ],
         "name": "12"
        },
        {
         "data": [
          {
           "hoverinfo": "skip",
           "line": {
            "color": "black",
            "width": 4
           },
           "mode": "lines",
           "showlegend": false,
           "type": "scatter",
           "x": [
            0,
            120,
            120,
            0,
            0
           ],
           "y": [
            0,
            0,
            80,
            80,
            0
           ]
          },
          {
           "hoverinfo": "skip",
           "line": {
            "color": "black",
            "width": 4
           },
           "mode": "lines",
           "showlegend": false,
           "type": "scatter",
           "x": [
            60,
            60
           ],
           "y": [
            0,
            80
           ]
          },
          {
           "hoverinfo": "skip",
           "line": {
            "color": "black",
            "width": 4
           },
           "mode": "lines",
           "showlegend": false,
           "type": "scatter",
           "x": [
            0,
            16.459249641096918,
            16.459249641096918,
            0
           ],
           "y": [
            16,
            16,
            64,
            64
           ]
          },
          {
           "hoverinfo": "skip",
           "line": {
            "color": "black",
            "width": 4
           },
           "mode": "lines",
           "showlegend": false,
           "type": "scatter",
           "x": [
            120,
            103.54075035890308,
            103.54075035890308,
            120
           ],
           "y": [
            16,
            16,
            64,
            64
           ]
          },
          {
           "hoverinfo": "skip",
           "line": {
            "color": "black",
            "width": 4
           },
           "mode": "lines",
           "showlegend": false,
           "type": "scatter",
           "x": [
            0,
            5.486416547032306,
            5.486416547032306,
            0
           ],
           "y": [
            28,
            28,
            52,
            52
           ]
          },
          {
           "hoverinfo": "skip",
           "line": {
            "color": "black",
            "width": 4
           },
           "mode": "lines",
           "showlegend": false,
           "type": "scatter",
           "x": [
            120,
            114.5135834529677,
            114.5135834529677,
            120
           ],
           "y": [
            28,
            28,
            52,
            52
           ]
          },
          {
           "hoverinfo": "skip",
           "line": {
            "color": "black"
           },
           "mode": "markers",
           "showlegend": false,
           "type": "scatter",
           "x": [
            10.972833094064612
           ],
           "y": [
            40
           ]
          },
          {
           "hoverinfo": "skip",
           "line": {
            "color": "black"
           },
           "mode": "markers",
           "showlegend": false,
           "type": "scatter",
           "x": [
            109.02716690593539
           ],
           "y": [
            40
           ]
          },
          {
           "hoverinfo": "skip",
           "line": {
            "color": "black"
           },
           "mode": "markers",
           "showlegend": false,
           "type": "scatter",
           "x": [
            60
           ],
           "y": [
            40
           ]
          },
          {
           "marker": {
            "color": "black",
            "size": 10,
            "symbol": "star"
           },
           "mode": "markers",
           "name": "Shot Position",
           "showlegend": false,
           "type": "scatter",
           "x": [
            111
           ],
           "y": [
            40.93587480838928
           ]
          },
          {
           "marker": {
            "color": "purple",
            "size": 10,
            "symbol": "diamond"
           },
           "mode": "markers",
           "name": "Freekick Position",
           "showlegend": false,
           "type": "scatter",
           "x": [
            95
           ],
           "y": [
            62
           ]
          },
          {
           "marker": {
            "color": "orange",
            "size": 8,
            "symbol": "x"
           },
           "mode": "markers",
           "name": "Opponent",
           "showlegend": false,
           "type": "scatter",
           "x": [
            108.00615443856704
           ],
           "y": [
            43.80793554652633
           ]
          },
          {
           "marker": {
            "color": "orange",
            "size": 8,
            "symbol": "x"
           },
           "mode": "markers",
           "name": "Opponent",
           "showlegend": false,
           "type": "scatter",
           "x": [
            111.90739851122483
           ],
           "y": [
            47.029294957878314
           ]
          },
          {
           "marker": {
            "color": "orange",
            "size": 8,
            "symbol": "x"
           },
           "mode": "markers",
           "name": "Opponent",
           "showlegend": false,
           "type": "scatter",
           "x": [
            109.69742545427236
           ],
           "y": [
            48.03773445793831
           ]
          },
          {
           "marker": {
            "color": "orange",
            "size": 8,
            "symbol": "x"
           },
           "mode": "markers",
           "name": "Opponent",
           "showlegend": false,
           "type": "scatter",
           "x": [
            103.80656397910276
           ],
           "y": [
            48.61025793348464
           ]
          },
          {
           "marker": {
            "color": "orange",
            "size": 8,
            "symbol": "x"
           },
           "mode": "markers",
           "name": "Opponent",
           "showlegend": false,
           "type": "scatter",
           "x": [
            117.7267524942179
           ],
           "y": [
            49.267902892188985
           ]
          },
          {
           "marker": {
            "color": "orange",
            "size": 8,
            "symbol": "x"
           },
           "mode": "markers",
           "name": "Opponent",
           "showlegend": false,
           "type": "scatter",
           "x": [
            118.54388524949289
           ],
           "y": [
            39.19481578475043
           ]
          },
          {
           "marker": {
            "color": "blue",
            "size": 8,
            "symbol": "circle"
           },
           "mode": "markers",
           "name": "Teammate",
           "showlegend": false,
           "type": "scatter",
           "x": [
            110.67123202654521
           ],
           "y": [
            48.578817210387776
           ]
          },
          {
           "marker": {
            "color": "blue",
            "size": 8,
            "symbol": "circle"
           },
           "mode": "markers",
           "name": "Teammate",
           "showlegend": false,
           "type": "scatter",
           "x": [
            109.56348328002386
           ],
           "y": [
            49.85850526353982
           ]
          },
          {
           "marker": {
            "color": "blue",
            "size": 8,
            "symbol": "circle"
           },
           "mode": "markers",
           "name": "Teammate",
           "showlegend": false,
           "type": "scatter",
           "x": [
            103.6928374419468
           ],
           "y": [
            47.49109266230045
           ]
          },
          {
           "marker": {
            "color": "blue",
            "size": 8,
            "symbol": "circle"
           },
           "mode": "markers",
           "name": "Teammate",
           "showlegend": false,
           "type": "scatter",
           "x": [
            101.17897045670938
           ],
           "y": [
            47.10543255269176
           ]
          },
          {
           "mode": "lines+markers",
           "name": "Line Plot",
           "type": "scatter",
           "x": [
            0,
            1,
            2,
            3,
            4,
            5,
            6,
            7,
            8,
            9,
            10,
            11,
            12,
            13
           ],
           "y": [
            0.10442892,
            0.14224926,
            0.16282678,
            0.16282678,
            0.16452551,
            0.16554648,
            0.17032182,
            0.17032182,
            0.18504907,
            0.18508397,
            0.1854914,
            0.1870719,
            0.1872687,
            0.18752642
           ]
          }
         ],
         "name": "13"
        },
        {
         "data": [
          {
           "hoverinfo": "skip",
           "line": {
            "color": "black",
            "width": 4
           },
           "mode": "lines",
           "showlegend": false,
           "type": "scatter",
           "x": [
            0,
            120,
            120,
            0,
            0
           ],
           "y": [
            0,
            0,
            80,
            80,
            0
           ]
          },
          {
           "hoverinfo": "skip",
           "line": {
            "color": "black",
            "width": 4
           },
           "mode": "lines",
           "showlegend": false,
           "type": "scatter",
           "x": [
            60,
            60
           ],
           "y": [
            0,
            80
           ]
          },
          {
           "hoverinfo": "skip",
           "line": {
            "color": "black",
            "width": 4
           },
           "mode": "lines",
           "showlegend": false,
           "type": "scatter",
           "x": [
            0,
            16.459249641096918,
            16.459249641096918,
            0
           ],
           "y": [
            16,
            16,
            64,
            64
           ]
          },
          {
           "hoverinfo": "skip",
           "line": {
            "color": "black",
            "width": 4
           },
           "mode": "lines",
           "showlegend": false,
           "type": "scatter",
           "x": [
            120,
            103.54075035890308,
            103.54075035890308,
            120
           ],
           "y": [
            16,
            16,
            64,
            64
           ]
          },
          {
           "hoverinfo": "skip",
           "line": {
            "color": "black",
            "width": 4
           },
           "mode": "lines",
           "showlegend": false,
           "type": "scatter",
           "x": [
            0,
            5.486416547032306,
            5.486416547032306,
            0
           ],
           "y": [
            28,
            28,
            52,
            52
           ]
          },
          {
           "hoverinfo": "skip",
           "line": {
            "color": "black",
            "width": 4
           },
           "mode": "lines",
           "showlegend": false,
           "type": "scatter",
           "x": [
            120,
            114.5135834529677,
            114.5135834529677,
            120
           ],
           "y": [
            28,
            28,
            52,
            52
           ]
          },
          {
           "hoverinfo": "skip",
           "line": {
            "color": "black"
           },
           "mode": "markers",
           "showlegend": false,
           "type": "scatter",
           "x": [
            10.972833094064612
           ],
           "y": [
            40
           ]
          },
          {
           "hoverinfo": "skip",
           "line": {
            "color": "black"
           },
           "mode": "markers",
           "showlegend": false,
           "type": "scatter",
           "x": [
            109.02716690593539
           ],
           "y": [
            40
           ]
          },
          {
           "hoverinfo": "skip",
           "line": {
            "color": "black"
           },
           "mode": "markers",
           "showlegend": false,
           "type": "scatter",
           "x": [
            60
           ],
           "y": [
            40
           ]
          },
          {
           "marker": {
            "color": "black",
            "size": 10,
            "symbol": "star"
           },
           "mode": "markers",
           "name": "Shot Position",
           "showlegend": false,
           "type": "scatter",
           "x": [
            111
           ],
           "y": [
            40.93587480838928
           ]
          },
          {
           "marker": {
            "color": "purple",
            "size": 10,
            "symbol": "diamond"
           },
           "mode": "markers",
           "name": "Freekick Position",
           "showlegend": false,
           "type": "scatter",
           "x": [
            95
           ],
           "y": [
            62
           ]
          },
          {
           "marker": {
            "color": "orange",
            "size": 8,
            "symbol": "x"
           },
           "mode": "markers",
           "name": "Opponent",
           "showlegend": false,
           "type": "scatter",
           "x": [
            108.00615443856704
           ],
           "y": [
            43.80793554652633
           ]
          },
          {
           "marker": {
            "color": "orange",
            "size": 8,
            "symbol": "x"
           },
           "mode": "markers",
           "name": "Opponent",
           "showlegend": false,
           "type": "scatter",
           "x": [
            111.90739851122483
           ],
           "y": [
            47.029294957878314
           ]
          },
          {
           "marker": {
            "color": "orange",
            "size": 8,
            "symbol": "x"
           },
           "mode": "markers",
           "name": "Opponent",
           "showlegend": false,
           "type": "scatter",
           "x": [
            109.69742545427236
           ],
           "y": [
            48.03773445793831
           ]
          },
          {
           "marker": {
            "color": "orange",
            "size": 8,
            "symbol": "x"
           },
           "mode": "markers",
           "name": "Opponent",
           "showlegend": false,
           "type": "scatter",
           "x": [
            103.80656397910276
           ],
           "y": [
            48.61025793348464
           ]
          },
          {
           "marker": {
            "color": "orange",
            "size": 8,
            "symbol": "x"
           },
           "mode": "markers",
           "name": "Opponent",
           "showlegend": false,
           "type": "scatter",
           "x": [
            117.7267524942179
           ],
           "y": [
            49.267902892188985
           ]
          },
          {
           "marker": {
            "color": "orange",
            "size": 8,
            "symbol": "x"
           },
           "mode": "markers",
           "name": "Opponent",
           "showlegend": false,
           "type": "scatter",
           "x": [
            118.54388524949289
           ],
           "y": [
            39.19481578475043
           ]
          },
          {
           "marker": {
            "color": "blue",
            "size": 8,
            "symbol": "circle"
           },
           "mode": "markers",
           "name": "Teammate",
           "showlegend": false,
           "type": "scatter",
           "x": [
            110.67123202654521
           ],
           "y": [
            48.578817210387776
           ]
          },
          {
           "marker": {
            "color": "blue",
            "size": 8,
            "symbol": "circle"
           },
           "mode": "markers",
           "name": "Teammate",
           "showlegend": false,
           "type": "scatter",
           "x": [
            104.60803612599295
           ],
           "y": [
            47.56757111557219
           ]
          },
          {
           "marker": {
            "color": "blue",
            "size": 8,
            "symbol": "circle"
           },
           "mode": "markers",
           "name": "Teammate",
           "showlegend": false,
           "type": "scatter",
           "x": [
            103.6928374419468
           ],
           "y": [
            50.17563081041984
           ]
          },
          {
           "marker": {
            "color": "blue",
            "size": 8,
            "symbol": "circle"
           },
           "mode": "markers",
           "name": "Teammate",
           "showlegend": false,
           "type": "scatter",
           "x": [
            100.49939899793563
           ],
           "y": [
            49.32977997460318
           ]
          },
          {
           "mode": "lines+markers",
           "name": "Line Plot",
           "type": "scatter",
           "x": [
            0,
            1,
            2,
            3,
            4,
            5,
            6,
            7,
            8,
            9,
            10,
            11,
            12,
            13,
            14
           ],
           "y": [
            0.10442892,
            0.14224926,
            0.16282678,
            0.16282678,
            0.16452551,
            0.16554648,
            0.17032182,
            0.17032182,
            0.18504907,
            0.18508397,
            0.1854914,
            0.1870719,
            0.1872687,
            0.18752642,
            0.18792188
           ]
          }
         ],
         "name": "14"
        },
        {
         "data": [
          {
           "hoverinfo": "skip",
           "line": {
            "color": "black",
            "width": 4
           },
           "mode": "lines",
           "showlegend": false,
           "type": "scatter",
           "x": [
            0,
            120,
            120,
            0,
            0
           ],
           "y": [
            0,
            0,
            80,
            80,
            0
           ]
          },
          {
           "hoverinfo": "skip",
           "line": {
            "color": "black",
            "width": 4
           },
           "mode": "lines",
           "showlegend": false,
           "type": "scatter",
           "x": [
            60,
            60
           ],
           "y": [
            0,
            80
           ]
          },
          {
           "hoverinfo": "skip",
           "line": {
            "color": "black",
            "width": 4
           },
           "mode": "lines",
           "showlegend": false,
           "type": "scatter",
           "x": [
            0,
            16.459249641096918,
            16.459249641096918,
            0
           ],
           "y": [
            16,
            16,
            64,
            64
           ]
          },
          {
           "hoverinfo": "skip",
           "line": {
            "color": "black",
            "width": 4
           },
           "mode": "lines",
           "showlegend": false,
           "type": "scatter",
           "x": [
            120,
            103.54075035890308,
            103.54075035890308,
            120
           ],
           "y": [
            16,
            16,
            64,
            64
           ]
          },
          {
           "hoverinfo": "skip",
           "line": {
            "color": "black",
            "width": 4
           },
           "mode": "lines",
           "showlegend": false,
           "type": "scatter",
           "x": [
            0,
            5.486416547032306,
            5.486416547032306,
            0
           ],
           "y": [
            28,
            28,
            52,
            52
           ]
          },
          {
           "hoverinfo": "skip",
           "line": {
            "color": "black",
            "width": 4
           },
           "mode": "lines",
           "showlegend": false,
           "type": "scatter",
           "x": [
            120,
            114.5135834529677,
            114.5135834529677,
            120
           ],
           "y": [
            28,
            28,
            52,
            52
           ]
          },
          {
           "hoverinfo": "skip",
           "line": {
            "color": "black"
           },
           "mode": "markers",
           "showlegend": false,
           "type": "scatter",
           "x": [
            10.972833094064612
           ],
           "y": [
            40
           ]
          },
          {
           "hoverinfo": "skip",
           "line": {
            "color": "black"
           },
           "mode": "markers",
           "showlegend": false,
           "type": "scatter",
           "x": [
            109.02716690593539
           ],
           "y": [
            40
           ]
          },
          {
           "hoverinfo": "skip",
           "line": {
            "color": "black"
           },
           "mode": "markers",
           "showlegend": false,
           "type": "scatter",
           "x": [
            60
           ],
           "y": [
            40
           ]
          },
          {
           "marker": {
            "color": "black",
            "size": 10,
            "symbol": "star"
           },
           "mode": "markers",
           "name": "Shot Position",
           "showlegend": false,
           "type": "scatter",
           "x": [
            111
           ],
           "y": [
            40.93587480838928
           ]
          },
          {
           "marker": {
            "color": "purple",
            "size": 10,
            "symbol": "diamond"
           },
           "mode": "markers",
           "name": "Freekick Position",
           "showlegend": false,
           "type": "scatter",
           "x": [
            95
           ],
           "y": [
            62
           ]
          },
          {
           "marker": {
            "color": "orange",
            "size": 8,
            "symbol": "x"
           },
           "mode": "markers",
           "name": "Opponent",
           "showlegend": false,
           "type": "scatter",
           "x": [
            108.00615443856704
           ],
           "y": [
            43.80793554652633
           ]
          },
          {
           "marker": {
            "color": "orange",
            "size": 8,
            "symbol": "x"
           },
           "mode": "markers",
           "name": "Opponent",
           "showlegend": false,
           "type": "scatter",
           "x": [
            111.90739851122483
           ],
           "y": [
            47.029294957878314
           ]
          },
          {
           "marker": {
            "color": "orange",
            "size": 8,
            "symbol": "x"
           },
           "mode": "markers",
           "name": "Opponent",
           "showlegend": false,
           "type": "scatter",
           "x": [
            109.69742545427236
           ],
           "y": [
            48.03773445793831
           ]
          },
          {
           "marker": {
            "color": "orange",
            "size": 8,
            "symbol": "x"
           },
           "mode": "markers",
           "name": "Opponent",
           "showlegend": false,
           "type": "scatter",
           "x": [
            103.80656397910276
           ],
           "y": [
            48.61025793348464
           ]
          },
          {
           "marker": {
            "color": "orange",
            "size": 8,
            "symbol": "x"
           },
           "mode": "markers",
           "name": "Opponent",
           "showlegend": false,
           "type": "scatter",
           "x": [
            117.7267524942179
           ],
           "y": [
            49.267902892188985
           ]
          },
          {
           "marker": {
            "color": "orange",
            "size": 8,
            "symbol": "x"
           },
           "mode": "markers",
           "name": "Opponent",
           "showlegend": false,
           "type": "scatter",
           "x": [
            118.54388524949289
           ],
           "y": [
            39.19481578475043
           ]
          },
          {
           "marker": {
            "color": "blue",
            "size": 8,
            "symbol": "circle"
           },
           "mode": "markers",
           "name": "Teammate",
           "showlegend": false,
           "type": "scatter",
           "x": [
            110.67123202654521
           ],
           "y": [
            48.578817210387776
           ]
          },
          {
           "marker": {
            "color": "blue",
            "size": 8,
            "symbol": "circle"
           },
           "mode": "markers",
           "name": "Teammate",
           "showlegend": false,
           "type": "scatter",
           "x": [
            104.60803612599295
           ],
           "y": [
            47.56757111557219
           ]
          },
          {
           "marker": {
            "color": "blue",
            "size": 8,
            "symbol": "circle"
           },
           "mode": "markers",
           "name": "Teammate",
           "showlegend": false,
           "type": "scatter",
           "x": [
            103.6928374419468
           ],
           "y": [
            50.17563081041984
           ]
          },
          {
           "marker": {
            "color": "blue",
            "size": 8,
            "symbol": "circle"
           },
           "mode": "markers",
           "name": "Teammate",
           "showlegend": false,
           "type": "scatter",
           "x": [
            100.49939899793563
           ],
           "y": [
            49.32977997460318
           ]
          },
          {
           "mode": "lines+markers",
           "name": "Line Plot",
           "type": "scatter",
           "x": [
            0,
            1,
            2,
            3,
            4,
            5,
            6,
            7,
            8,
            9,
            10,
            11,
            12,
            13,
            14,
            15
           ],
           "y": [
            0.10442892,
            0.14224926,
            0.16282678,
            0.16282678,
            0.16452551,
            0.16554648,
            0.17032182,
            0.17032182,
            0.18504907,
            0.18508397,
            0.1854914,
            0.1870719,
            0.1872687,
            0.18752642,
            0.18792188,
            0.18792188
           ]
          }
         ],
         "name": "15"
        },
        {
         "data": [
          {
           "hoverinfo": "skip",
           "line": {
            "color": "black",
            "width": 4
           },
           "mode": "lines",
           "showlegend": false,
           "type": "scatter",
           "x": [
            0,
            120,
            120,
            0,
            0
           ],
           "y": [
            0,
            0,
            80,
            80,
            0
           ]
          },
          {
           "hoverinfo": "skip",
           "line": {
            "color": "black",
            "width": 4
           },
           "mode": "lines",
           "showlegend": false,
           "type": "scatter",
           "x": [
            60,
            60
           ],
           "y": [
            0,
            80
           ]
          },
          {
           "hoverinfo": "skip",
           "line": {
            "color": "black",
            "width": 4
           },
           "mode": "lines",
           "showlegend": false,
           "type": "scatter",
           "x": [
            0,
            16.459249641096918,
            16.459249641096918,
            0
           ],
           "y": [
            16,
            16,
            64,
            64
           ]
          },
          {
           "hoverinfo": "skip",
           "line": {
            "color": "black",
            "width": 4
           },
           "mode": "lines",
           "showlegend": false,
           "type": "scatter",
           "x": [
            120,
            103.54075035890308,
            103.54075035890308,
            120
           ],
           "y": [
            16,
            16,
            64,
            64
           ]
          },
          {
           "hoverinfo": "skip",
           "line": {
            "color": "black",
            "width": 4
           },
           "mode": "lines",
           "showlegend": false,
           "type": "scatter",
           "x": [
            0,
            5.486416547032306,
            5.486416547032306,
            0
           ],
           "y": [
            28,
            28,
            52,
            52
           ]
          },
          {
           "hoverinfo": "skip",
           "line": {
            "color": "black",
            "width": 4
           },
           "mode": "lines",
           "showlegend": false,
           "type": "scatter",
           "x": [
            120,
            114.5135834529677,
            114.5135834529677,
            120
           ],
           "y": [
            28,
            28,
            52,
            52
           ]
          },
          {
           "hoverinfo": "skip",
           "line": {
            "color": "black"
           },
           "mode": "markers",
           "showlegend": false,
           "type": "scatter",
           "x": [
            10.972833094064612
           ],
           "y": [
            40
           ]
          },
          {
           "hoverinfo": "skip",
           "line": {
            "color": "black"
           },
           "mode": "markers",
           "showlegend": false,
           "type": "scatter",
           "x": [
            109.02716690593539
           ],
           "y": [
            40
           ]
          },
          {
           "hoverinfo": "skip",
           "line": {
            "color": "black"
           },
           "mode": "markers",
           "showlegend": false,
           "type": "scatter",
           "x": [
            60
           ],
           "y": [
            40
           ]
          },
          {
           "marker": {
            "color": "black",
            "size": 10,
            "symbol": "star"
           },
           "mode": "markers",
           "name": "Shot Position",
           "showlegend": false,
           "type": "scatter",
           "x": [
            111
           ],
           "y": [
            40.93587480838928
           ]
          },
          {
           "marker": {
            "color": "purple",
            "size": 10,
            "symbol": "diamond"
           },
           "mode": "markers",
           "name": "Freekick Position",
           "showlegend": false,
           "type": "scatter",
           "x": [
            95
           ],
           "y": [
            62
           ]
          },
          {
           "marker": {
            "color": "orange",
            "size": 8,
            "symbol": "x"
           },
           "mode": "markers",
           "name": "Opponent",
           "showlegend": false,
           "type": "scatter",
           "x": [
            108.00615443856704
           ],
           "y": [
            43.80793554652633
           ]
          },
          {
           "marker": {
            "color": "orange",
            "size": 8,
            "symbol": "x"
           },
           "mode": "markers",
           "name": "Opponent",
           "showlegend": false,
           "type": "scatter",
           "x": [
            111.90739851122483
           ],
           "y": [
            47.029294957878314
           ]
          },
          {
           "marker": {
            "color": "orange",
            "size": 8,
            "symbol": "x"
           },
           "mode": "markers",
           "name": "Opponent",
           "showlegend": false,
           "type": "scatter",
           "x": [
            109.69742545427236
           ],
           "y": [
            48.03773445793831
           ]
          },
          {
           "marker": {
            "color": "orange",
            "size": 8,
            "symbol": "x"
           },
           "mode": "markers",
           "name": "Opponent",
           "showlegend": false,
           "type": "scatter",
           "x": [
            103.80656397910276
           ],
           "y": [
            48.61025793348464
           ]
          },
          {
           "marker": {
            "color": "orange",
            "size": 8,
            "symbol": "x"
           },
           "mode": "markers",
           "name": "Opponent",
           "showlegend": false,
           "type": "scatter",
           "x": [
            117.7267524942179
           ],
           "y": [
            49.267902892188985
           ]
          },
          {
           "marker": {
            "color": "orange",
            "size": 8,
            "symbol": "x"
           },
           "mode": "markers",
           "name": "Opponent",
           "showlegend": false,
           "type": "scatter",
           "x": [
            118.54388524949289
           ],
           "y": [
            39.19481578475043
           ]
          },
          {
           "marker": {
            "color": "blue",
            "size": 8,
            "symbol": "circle"
           },
           "mode": "markers",
           "name": "Teammate",
           "showlegend": false,
           "type": "scatter",
           "x": [
            109.76183726608053
           ],
           "y": [
            47.07196786783253
           ]
          },
          {
           "marker": {
            "color": "blue",
            "size": 8,
            "symbol": "circle"
           },
           "mode": "markers",
           "name": "Teammate",
           "showlegend": false,
           "type": "scatter",
           "x": [
            109.56348328002386
           ],
           "y": [
            49.85850526353982
           ]
          },
          {
           "marker": {
            "color": "blue",
            "size": 8,
            "symbol": "circle"
           },
           "mode": "markers",
           "name": "Teammate",
           "showlegend": false,
           "type": "scatter",
           "x": [
            103.6928374419468
           ],
           "y": [
            50.17563081041984
           ]
          },
          {
           "marker": {
            "color": "blue",
            "size": 8,
            "symbol": "circle"
           },
           "mode": "markers",
           "name": "Teammate",
           "showlegend": false,
           "type": "scatter",
           "x": [
            100.49939899793563
           ],
           "y": [
            49.32977997460318
           ]
          },
          {
           "mode": "lines+markers",
           "name": "Line Plot",
           "type": "scatter",
           "x": [
            0,
            1,
            2,
            3,
            4,
            5,
            6,
            7,
            8,
            9,
            10,
            11,
            12,
            13,
            14,
            15,
            16
           ],
           "y": [
            0.10442892,
            0.14224926,
            0.16282678,
            0.16282678,
            0.16452551,
            0.16554648,
            0.17032182,
            0.17032182,
            0.18504907,
            0.18508397,
            0.1854914,
            0.1870719,
            0.1872687,
            0.18752642,
            0.18792188,
            0.18792188,
            0.18810053
           ]
          }
         ],
         "name": "16"
        },
        {
         "data": [
          {
           "hoverinfo": "skip",
           "line": {
            "color": "black",
            "width": 4
           },
           "mode": "lines",
           "showlegend": false,
           "type": "scatter",
           "x": [
            0,
            120,
            120,
            0,
            0
           ],
           "y": [
            0,
            0,
            80,
            80,
            0
           ]
          },
          {
           "hoverinfo": "skip",
           "line": {
            "color": "black",
            "width": 4
           },
           "mode": "lines",
           "showlegend": false,
           "type": "scatter",
           "x": [
            60,
            60
           ],
           "y": [
            0,
            80
           ]
          },
          {
           "hoverinfo": "skip",
           "line": {
            "color": "black",
            "width": 4
           },
           "mode": "lines",
           "showlegend": false,
           "type": "scatter",
           "x": [
            0,
            16.459249641096918,
            16.459249641096918,
            0
           ],
           "y": [
            16,
            16,
            64,
            64
           ]
          },
          {
           "hoverinfo": "skip",
           "line": {
            "color": "black",
            "width": 4
           },
           "mode": "lines",
           "showlegend": false,
           "type": "scatter",
           "x": [
            120,
            103.54075035890308,
            103.54075035890308,
            120
           ],
           "y": [
            16,
            16,
            64,
            64
           ]
          },
          {
           "hoverinfo": "skip",
           "line": {
            "color": "black",
            "width": 4
           },
           "mode": "lines",
           "showlegend": false,
           "type": "scatter",
           "x": [
            0,
            5.486416547032306,
            5.486416547032306,
            0
           ],
           "y": [
            28,
            28,
            52,
            52
           ]
          },
          {
           "hoverinfo": "skip",
           "line": {
            "color": "black",
            "width": 4
           },
           "mode": "lines",
           "showlegend": false,
           "type": "scatter",
           "x": [
            120,
            114.5135834529677,
            114.5135834529677,
            120
           ],
           "y": [
            28,
            28,
            52,
            52
           ]
          },
          {
           "hoverinfo": "skip",
           "line": {
            "color": "black"
           },
           "mode": "markers",
           "showlegend": false,
           "type": "scatter",
           "x": [
            10.972833094064612
           ],
           "y": [
            40
           ]
          },
          {
           "hoverinfo": "skip",
           "line": {
            "color": "black"
           },
           "mode": "markers",
           "showlegend": false,
           "type": "scatter",
           "x": [
            109.02716690593539
           ],
           "y": [
            40
           ]
          },
          {
           "hoverinfo": "skip",
           "line": {
            "color": "black"
           },
           "mode": "markers",
           "showlegend": false,
           "type": "scatter",
           "x": [
            60
           ],
           "y": [
            40
           ]
          },
          {
           "marker": {
            "color": "black",
            "size": 10,
            "symbol": "star"
           },
           "mode": "markers",
           "name": "Shot Position",
           "showlegend": false,
           "type": "scatter",
           "x": [
            111
           ],
           "y": [
            40.93587480838928
           ]
          },
          {
           "marker": {
            "color": "purple",
            "size": 10,
            "symbol": "diamond"
           },
           "mode": "markers",
           "name": "Freekick Position",
           "showlegend": false,
           "type": "scatter",
           "x": [
            95
           ],
           "y": [
            62
           ]
          },
          {
           "marker": {
            "color": "orange",
            "size": 8,
            "symbol": "x"
           },
           "mode": "markers",
           "name": "Opponent",
           "showlegend": false,
           "type": "scatter",
           "x": [
            108.00615443856704
           ],
           "y": [
            43.80793554652633
           ]
          },
          {
           "marker": {
            "color": "orange",
            "size": 8,
            "symbol": "x"
           },
           "mode": "markers",
           "name": "Opponent",
           "showlegend": false,
           "type": "scatter",
           "x": [
            111.90739851122483
           ],
           "y": [
            47.029294957878314
           ]
          },
          {
           "marker": {
            "color": "orange",
            "size": 8,
            "symbol": "x"
           },
           "mode": "markers",
           "name": "Opponent",
           "showlegend": false,
           "type": "scatter",
           "x": [
            109.69742545427236
           ],
           "y": [
            48.03773445793831
           ]
          },
          {
           "marker": {
            "color": "orange",
            "size": 8,
            "symbol": "x"
           },
           "mode": "markers",
           "name": "Opponent",
           "showlegend": false,
           "type": "scatter",
           "x": [
            103.80656397910276
           ],
           "y": [
            48.61025793348464
           ]
          },
          {
           "marker": {
            "color": "orange",
            "size": 8,
            "symbol": "x"
           },
           "mode": "markers",
           "name": "Opponent",
           "showlegend": false,
           "type": "scatter",
           "x": [
            117.7267524942179
           ],
           "y": [
            49.267902892188985
           ]
          },
          {
           "marker": {
            "color": "orange",
            "size": 8,
            "symbol": "x"
           },
           "mode": "markers",
           "name": "Opponent",
           "showlegend": false,
           "type": "scatter",
           "x": [
            118.54388524949289
           ],
           "y": [
            39.19481578475043
           ]
          },
          {
           "marker": {
            "color": "blue",
            "size": 8,
            "symbol": "circle"
           },
           "mode": "markers",
           "name": "Teammate",
           "showlegend": false,
           "type": "scatter",
           "x": [
            109.88895181276523
           ],
           "y": [
            45.12920656501976
           ]
          },
          {
           "marker": {
            "color": "blue",
            "size": 8,
            "symbol": "circle"
           },
           "mode": "markers",
           "name": "Teammate",
           "showlegend": false,
           "type": "scatter",
           "x": [
            109.56348328002386
           ],
           "y": [
            49.85850526353982
           ]
          },
          {
           "marker": {
            "color": "blue",
            "size": 8,
            "symbol": "circle"
           },
           "mode": "markers",
           "name": "Teammate",
           "showlegend": false,
           "type": "scatter",
           "x": [
            103.6928374419468
           ],
           "y": [
            50.17563081041984
           ]
          },
          {
           "marker": {
            "color": "blue",
            "size": 8,
            "symbol": "circle"
           },
           "mode": "markers",
           "name": "Teammate",
           "showlegend": false,
           "type": "scatter",
           "x": [
            100.49939899793563
           ],
           "y": [
            49.32977997460318
           ]
          },
          {
           "mode": "lines+markers",
           "name": "Line Plot",
           "type": "scatter",
           "x": [
            0,
            1,
            2,
            3,
            4,
            5,
            6,
            7,
            8,
            9,
            10,
            11,
            12,
            13,
            14,
            15,
            16,
            17
           ],
           "y": [
            0.10442892,
            0.14224926,
            0.16282678,
            0.16282678,
            0.16452551,
            0.16554648,
            0.17032182,
            0.17032182,
            0.18504907,
            0.18508397,
            0.1854914,
            0.1870719,
            0.1872687,
            0.18752642,
            0.18792188,
            0.18792188,
            0.18810053,
            0.18864377
           ]
          }
         ],
         "name": "17"
        },
        {
         "data": [
          {
           "hoverinfo": "skip",
           "line": {
            "color": "black",
            "width": 4
           },
           "mode": "lines",
           "showlegend": false,
           "type": "scatter",
           "x": [
            0,
            120,
            120,
            0,
            0
           ],
           "y": [
            0,
            0,
            80,
            80,
            0
           ]
          },
          {
           "hoverinfo": "skip",
           "line": {
            "color": "black",
            "width": 4
           },
           "mode": "lines",
           "showlegend": false,
           "type": "scatter",
           "x": [
            60,
            60
           ],
           "y": [
            0,
            80
           ]
          },
          {
           "hoverinfo": "skip",
           "line": {
            "color": "black",
            "width": 4
           },
           "mode": "lines",
           "showlegend": false,
           "type": "scatter",
           "x": [
            0,
            16.459249641096918,
            16.459249641096918,
            0
           ],
           "y": [
            16,
            16,
            64,
            64
           ]
          },
          {
           "hoverinfo": "skip",
           "line": {
            "color": "black",
            "width": 4
           },
           "mode": "lines",
           "showlegend": false,
           "type": "scatter",
           "x": [
            120,
            103.54075035890308,
            103.54075035890308,
            120
           ],
           "y": [
            16,
            16,
            64,
            64
           ]
          },
          {
           "hoverinfo": "skip",
           "line": {
            "color": "black",
            "width": 4
           },
           "mode": "lines",
           "showlegend": false,
           "type": "scatter",
           "x": [
            0,
            5.486416547032306,
            5.486416547032306,
            0
           ],
           "y": [
            28,
            28,
            52,
            52
           ]
          },
          {
           "hoverinfo": "skip",
           "line": {
            "color": "black",
            "width": 4
           },
           "mode": "lines",
           "showlegend": false,
           "type": "scatter",
           "x": [
            120,
            114.5135834529677,
            114.5135834529677,
            120
           ],
           "y": [
            28,
            28,
            52,
            52
           ]
          },
          {
           "hoverinfo": "skip",
           "line": {
            "color": "black"
           },
           "mode": "markers",
           "showlegend": false,
           "type": "scatter",
           "x": [
            10.972833094064612
           ],
           "y": [
            40
           ]
          },
          {
           "hoverinfo": "skip",
           "line": {
            "color": "black"
           },
           "mode": "markers",
           "showlegend": false,
           "type": "scatter",
           "x": [
            109.02716690593539
           ],
           "y": [
            40
           ]
          },
          {
           "hoverinfo": "skip",
           "line": {
            "color": "black"
           },
           "mode": "markers",
           "showlegend": false,
           "type": "scatter",
           "x": [
            60
           ],
           "y": [
            40
           ]
          },
          {
           "marker": {
            "color": "black",
            "size": 10,
            "symbol": "star"
           },
           "mode": "markers",
           "name": "Shot Position",
           "showlegend": false,
           "type": "scatter",
           "x": [
            111
           ],
           "y": [
            40.93587480838928
           ]
          },
          {
           "marker": {
            "color": "purple",
            "size": 10,
            "symbol": "diamond"
           },
           "mode": "markers",
           "name": "Freekick Position",
           "showlegend": false,
           "type": "scatter",
           "x": [
            95
           ],
           "y": [
            62
           ]
          },
          {
           "marker": {
            "color": "orange",
            "size": 8,
            "symbol": "x"
           },
           "mode": "markers",
           "name": "Opponent",
           "showlegend": false,
           "type": "scatter",
           "x": [
            108.00615443856704
           ],
           "y": [
            43.80793554652633
           ]
          },
          {
           "marker": {
            "color": "orange",
            "size": 8,
            "symbol": "x"
           },
           "mode": "markers",
           "name": "Opponent",
           "showlegend": false,
           "type": "scatter",
           "x": [
            111.90739851122483
           ],
           "y": [
            47.029294957878314
           ]
          },
          {
           "marker": {
            "color": "orange",
            "size": 8,
            "symbol": "x"
           },
           "mode": "markers",
           "name": "Opponent",
           "showlegend": false,
           "type": "scatter",
           "x": [
            109.69742545427236
           ],
           "y": [
            48.03773445793831
           ]
          },
          {
           "marker": {
            "color": "orange",
            "size": 8,
            "symbol": "x"
           },
           "mode": "markers",
           "name": "Opponent",
           "showlegend": false,
           "type": "scatter",
           "x": [
            103.80656397910276
           ],
           "y": [
            48.61025793348464
           ]
          },
          {
           "marker": {
            "color": "orange",
            "size": 8,
            "symbol": "x"
           },
           "mode": "markers",
           "name": "Opponent",
           "showlegend": false,
           "type": "scatter",
           "x": [
            117.7267524942179
           ],
           "y": [
            49.267902892188985
           ]
          },
          {
           "marker": {
            "color": "orange",
            "size": 8,
            "symbol": "x"
           },
           "mode": "markers",
           "name": "Opponent",
           "showlegend": false,
           "type": "scatter",
           "x": [
            118.54388524949289
           ],
           "y": [
            39.19481578475043
           ]
          },
          {
           "marker": {
            "color": "blue",
            "size": 8,
            "symbol": "circle"
           },
           "mode": "markers",
           "name": "Teammate",
           "showlegend": false,
           "type": "scatter",
           "x": [
            110.32824909326267
           ],
           "y": [
            46.626707360490805
           ]
          },
          {
           "marker": {
            "color": "blue",
            "size": 8,
            "symbol": "circle"
           },
           "mode": "markers",
           "name": "Teammate",
           "showlegend": false,
           "type": "scatter",
           "x": [
            109.56348328002386
           ],
           "y": [
            49.85850526353982
           ]
          },
          {
           "marker": {
            "color": "blue",
            "size": 8,
            "symbol": "circle"
           },
           "mode": "markers",
           "name": "Teammate",
           "showlegend": false,
           "type": "scatter",
           "x": [
            107.06287292981946
           ],
           "y": [
            48.154478971834024
           ]
          },
          {
           "marker": {
            "color": "blue",
            "size": 8,
            "symbol": "circle"
           },
           "mode": "markers",
           "name": "Teammate",
           "showlegend": false,
           "type": "scatter",
           "x": [
            101.17897045670938
           ],
           "y": [
            49.32977997460318
           ]
          },
          {
           "mode": "lines+markers",
           "name": "Line Plot",
           "type": "scatter",
           "x": [
            0,
            1,
            2,
            3,
            4,
            5,
            6,
            7,
            8,
            9,
            10,
            11,
            12,
            13,
            14,
            15,
            16,
            17,
            18
           ],
           "y": [
            0.10442892,
            0.14224926,
            0.16282678,
            0.16282678,
            0.16452551,
            0.16554648,
            0.17032182,
            0.17032182,
            0.18504907,
            0.18508397,
            0.1854914,
            0.1870719,
            0.1872687,
            0.18752642,
            0.18792188,
            0.18792188,
            0.18810053,
            0.18864377,
            0.18866037
           ]
          }
         ],
         "name": "18"
        },
        {
         "data": [
          {
           "hoverinfo": "skip",
           "line": {
            "color": "black",
            "width": 4
           },
           "mode": "lines",
           "showlegend": false,
           "type": "scatter",
           "x": [
            0,
            120,
            120,
            0,
            0
           ],
           "y": [
            0,
            0,
            80,
            80,
            0
           ]
          },
          {
           "hoverinfo": "skip",
           "line": {
            "color": "black",
            "width": 4
           },
           "mode": "lines",
           "showlegend": false,
           "type": "scatter",
           "x": [
            60,
            60
           ],
           "y": [
            0,
            80
           ]
          },
          {
           "hoverinfo": "skip",
           "line": {
            "color": "black",
            "width": 4
           },
           "mode": "lines",
           "showlegend": false,
           "type": "scatter",
           "x": [
            0,
            16.459249641096918,
            16.459249641096918,
            0
           ],
           "y": [
            16,
            16,
            64,
            64
           ]
          },
          {
           "hoverinfo": "skip",
           "line": {
            "color": "black",
            "width": 4
           },
           "mode": "lines",
           "showlegend": false,
           "type": "scatter",
           "x": [
            120,
            103.54075035890308,
            103.54075035890308,
            120
           ],
           "y": [
            16,
            16,
            64,
            64
           ]
          },
          {
           "hoverinfo": "skip",
           "line": {
            "color": "black",
            "width": 4
           },
           "mode": "lines",
           "showlegend": false,
           "type": "scatter",
           "x": [
            0,
            5.486416547032306,
            5.486416547032306,
            0
           ],
           "y": [
            28,
            28,
            52,
            52
           ]
          },
          {
           "hoverinfo": "skip",
           "line": {
            "color": "black",
            "width": 4
           },
           "mode": "lines",
           "showlegend": false,
           "type": "scatter",
           "x": [
            120,
            114.5135834529677,
            114.5135834529677,
            120
           ],
           "y": [
            28,
            28,
            52,
            52
           ]
          },
          {
           "hoverinfo": "skip",
           "line": {
            "color": "black"
           },
           "mode": "markers",
           "showlegend": false,
           "type": "scatter",
           "x": [
            10.972833094064612
           ],
           "y": [
            40
           ]
          },
          {
           "hoverinfo": "skip",
           "line": {
            "color": "black"
           },
           "mode": "markers",
           "showlegend": false,
           "type": "scatter",
           "x": [
            109.02716690593539
           ],
           "y": [
            40
           ]
          },
          {
           "hoverinfo": "skip",
           "line": {
            "color": "black"
           },
           "mode": "markers",
           "showlegend": false,
           "type": "scatter",
           "x": [
            60
           ],
           "y": [
            40
           ]
          },
          {
           "marker": {
            "color": "black",
            "size": 10,
            "symbol": "star"
           },
           "mode": "markers",
           "name": "Shot Position",
           "showlegend": false,
           "type": "scatter",
           "x": [
            111
           ],
           "y": [
            40.93587480838928
           ]
          },
          {
           "marker": {
            "color": "purple",
            "size": 10,
            "symbol": "diamond"
           },
           "mode": "markers",
           "name": "Freekick Position",
           "showlegend": false,
           "type": "scatter",
           "x": [
            95
           ],
           "y": [
            62
           ]
          },
          {
           "marker": {
            "color": "orange",
            "size": 8,
            "symbol": "x"
           },
           "mode": "markers",
           "name": "Opponent",
           "showlegend": false,
           "type": "scatter",
           "x": [
            108.00615443856704
           ],
           "y": [
            43.80793554652633
           ]
          },
          {
           "marker": {
            "color": "orange",
            "size": 8,
            "symbol": "x"
           },
           "mode": "markers",
           "name": "Opponent",
           "showlegend": false,
           "type": "scatter",
           "x": [
            111.90739851122483
           ],
           "y": [
            47.029294957878314
           ]
          },
          {
           "marker": {
            "color": "orange",
            "size": 8,
            "symbol": "x"
           },
           "mode": "markers",
           "name": "Opponent",
           "showlegend": false,
           "type": "scatter",
           "x": [
            109.69742545427236
           ],
           "y": [
            48.03773445793831
           ]
          },
          {
           "marker": {
            "color": "orange",
            "size": 8,
            "symbol": "x"
           },
           "mode": "markers",
           "name": "Opponent",
           "showlegend": false,
           "type": "scatter",
           "x": [
            103.80656397910276
           ],
           "y": [
            48.61025793348464
           ]
          },
          {
           "marker": {
            "color": "orange",
            "size": 8,
            "symbol": "x"
           },
           "mode": "markers",
           "name": "Opponent",
           "showlegend": false,
           "type": "scatter",
           "x": [
            117.7267524942179
           ],
           "y": [
            49.267902892188985
           ]
          },
          {
           "marker": {
            "color": "orange",
            "size": 8,
            "symbol": "x"
           },
           "mode": "markers",
           "name": "Opponent",
           "showlegend": false,
           "type": "scatter",
           "x": [
            118.54388524949289
           ],
           "y": [
            39.19481578475043
           ]
          },
          {
           "marker": {
            "color": "blue",
            "size": 8,
            "symbol": "circle"
           },
           "mode": "markers",
           "name": "Teammate",
           "showlegend": false,
           "type": "scatter",
           "x": [
            110.67123202654521
           ],
           "y": [
            48.578817210387776
           ]
          },
          {
           "marker": {
            "color": "blue",
            "size": 8,
            "symbol": "circle"
           },
           "mode": "markers",
           "name": "Teammate",
           "showlegend": false,
           "type": "scatter",
           "x": [
            109.56348328002386
           ],
           "y": [
            49.85850526353982
           ]
          },
          {
           "marker": {
            "color": "blue",
            "size": 8,
            "symbol": "circle"
           },
           "mode": "markers",
           "name": "Teammate",
           "showlegend": false,
           "type": "scatter",
           "x": [
            108.9415327537955
           ],
           "y": [
            48.762400185707165
           ]
          },
          {
           "marker": {
            "color": "blue",
            "size": 8,
            "symbol": "circle"
           },
           "mode": "markers",
           "name": "Teammate",
           "showlegend": false,
           "type": "scatter",
           "x": [
            100.49939899793563
           ],
           "y": [
            49.32977997460318
           ]
          },
          {
           "mode": "lines+markers",
           "name": "Line Plot",
           "type": "scatter",
           "x": [
            0,
            1,
            2,
            3,
            4,
            5,
            6,
            7,
            8,
            9,
            10,
            11,
            12,
            13,
            14,
            15,
            16,
            17,
            18,
            19
           ],
           "y": [
            0.10442892,
            0.14224926,
            0.16282678,
            0.16282678,
            0.16452551,
            0.16554648,
            0.17032182,
            0.17032182,
            0.18504907,
            0.18508397,
            0.1854914,
            0.1870719,
            0.1872687,
            0.18752642,
            0.18792188,
            0.18792188,
            0.18810053,
            0.18864377,
            0.18866037,
            0.18910883
           ]
          }
         ],
         "name": "19"
        },
        {
         "data": [
          {
           "hoverinfo": "skip",
           "line": {
            "color": "black",
            "width": 4
           },
           "mode": "lines",
           "showlegend": false,
           "type": "scatter",
           "x": [
            0,
            120,
            120,
            0,
            0
           ],
           "y": [
            0,
            0,
            80,
            80,
            0
           ]
          },
          {
           "hoverinfo": "skip",
           "line": {
            "color": "black",
            "width": 4
           },
           "mode": "lines",
           "showlegend": false,
           "type": "scatter",
           "x": [
            60,
            60
           ],
           "y": [
            0,
            80
           ]
          },
          {
           "hoverinfo": "skip",
           "line": {
            "color": "black",
            "width": 4
           },
           "mode": "lines",
           "showlegend": false,
           "type": "scatter",
           "x": [
            0,
            16.459249641096918,
            16.459249641096918,
            0
           ],
           "y": [
            16,
            16,
            64,
            64
           ]
          },
          {
           "hoverinfo": "skip",
           "line": {
            "color": "black",
            "width": 4
           },
           "mode": "lines",
           "showlegend": false,
           "type": "scatter",
           "x": [
            120,
            103.54075035890308,
            103.54075035890308,
            120
           ],
           "y": [
            16,
            16,
            64,
            64
           ]
          },
          {
           "hoverinfo": "skip",
           "line": {
            "color": "black",
            "width": 4
           },
           "mode": "lines",
           "showlegend": false,
           "type": "scatter",
           "x": [
            0,
            5.486416547032306,
            5.486416547032306,
            0
           ],
           "y": [
            28,
            28,
            52,
            52
           ]
          },
          {
           "hoverinfo": "skip",
           "line": {
            "color": "black",
            "width": 4
           },
           "mode": "lines",
           "showlegend": false,
           "type": "scatter",
           "x": [
            120,
            114.5135834529677,
            114.5135834529677,
            120
           ],
           "y": [
            28,
            28,
            52,
            52
           ]
          },
          {
           "hoverinfo": "skip",
           "line": {
            "color": "black"
           },
           "mode": "markers",
           "showlegend": false,
           "type": "scatter",
           "x": [
            10.972833094064612
           ],
           "y": [
            40
           ]
          },
          {
           "hoverinfo": "skip",
           "line": {
            "color": "black"
           },
           "mode": "markers",
           "showlegend": false,
           "type": "scatter",
           "x": [
            109.02716690593539
           ],
           "y": [
            40
           ]
          },
          {
           "hoverinfo": "skip",
           "line": {
            "color": "black"
           },
           "mode": "markers",
           "showlegend": false,
           "type": "scatter",
           "x": [
            60
           ],
           "y": [
            40
           ]
          },
          {
           "marker": {
            "color": "black",
            "size": 10,
            "symbol": "star"
           },
           "mode": "markers",
           "name": "Shot Position",
           "showlegend": false,
           "type": "scatter",
           "x": [
            111
           ],
           "y": [
            40.93587480838928
           ]
          },
          {
           "marker": {
            "color": "purple",
            "size": 10,
            "symbol": "diamond"
           },
           "mode": "markers",
           "name": "Freekick Position",
           "showlegend": false,
           "type": "scatter",
           "x": [
            95
           ],
           "y": [
            62
           ]
          },
          {
           "marker": {
            "color": "orange",
            "size": 8,
            "symbol": "x"
           },
           "mode": "markers",
           "name": "Opponent",
           "showlegend": false,
           "type": "scatter",
           "x": [
            108.00615443856704
           ],
           "y": [
            43.80793554652633
           ]
          },
          {
           "marker": {
            "color": "orange",
            "size": 8,
            "symbol": "x"
           },
           "mode": "markers",
           "name": "Opponent",
           "showlegend": false,
           "type": "scatter",
           "x": [
            111.90739851122483
           ],
           "y": [
            47.029294957878314
           ]
          },
          {
           "marker": {
            "color": "orange",
            "size": 8,
            "symbol": "x"
           },
           "mode": "markers",
           "name": "Opponent",
           "showlegend": false,
           "type": "scatter",
           "x": [
            109.69742545427236
           ],
           "y": [
            48.03773445793831
           ]
          },
          {
           "marker": {
            "color": "orange",
            "size": 8,
            "symbol": "x"
           },
           "mode": "markers",
           "name": "Opponent",
           "showlegend": false,
           "type": "scatter",
           "x": [
            103.80656397910276
           ],
           "y": [
            48.61025793348464
           ]
          },
          {
           "marker": {
            "color": "orange",
            "size": 8,
            "symbol": "x"
           },
           "mode": "markers",
           "name": "Opponent",
           "showlegend": false,
           "type": "scatter",
           "x": [
            117.7267524942179
           ],
           "y": [
            49.267902892188985
           ]
          },
          {
           "marker": {
            "color": "orange",
            "size": 8,
            "symbol": "x"
           },
           "mode": "markers",
           "name": "Opponent",
           "showlegend": false,
           "type": "scatter",
           "x": [
            118.54388524949289
           ],
           "y": [
            39.19481578475043
           ]
          },
          {
           "marker": {
            "color": "blue",
            "size": 8,
            "symbol": "circle"
           },
           "mode": "markers",
           "name": "Teammate",
           "showlegend": false,
           "type": "scatter",
           "x": [
            109.88895181276523
           ],
           "y": [
            45.12920656501976
           ]
          },
          {
           "marker": {
            "color": "blue",
            "size": 8,
            "symbol": "circle"
           },
           "mode": "markers",
           "name": "Teammate",
           "showlegend": false,
           "type": "scatter",
           "x": [
            104.60803612599295
           ],
           "y": [
            47.56757111557219
           ]
          },
          {
           "marker": {
            "color": "blue",
            "size": 8,
            "symbol": "circle"
           },
           "mode": "markers",
           "name": "Teammate",
           "showlegend": false,
           "type": "scatter",
           "x": [
            107.06287292981946
           ],
           "y": [
            48.154478971834024
           ]
          },
          {
           "marker": {
            "color": "blue",
            "size": 8,
            "symbol": "circle"
           },
           "mode": "markers",
           "name": "Teammate",
           "showlegend": false,
           "type": "scatter",
           "x": [
            100.30941820585636
           ],
           "y": [
            49.21435281022161
           ]
          },
          {
           "mode": "lines+markers",
           "name": "Line Plot",
           "type": "scatter",
           "x": [
            0,
            1,
            2,
            3,
            4,
            5,
            6,
            7,
            8,
            9,
            10,
            11,
            12,
            13,
            14,
            15,
            16,
            17,
            18,
            19,
            20
           ],
           "y": [
            0.10442892,
            0.14224926,
            0.16282678,
            0.16282678,
            0.16452551,
            0.16554648,
            0.17032182,
            0.17032182,
            0.18504907,
            0.18508397,
            0.1854914,
            0.1870719,
            0.1872687,
            0.18752642,
            0.18792188,
            0.18792188,
            0.18810053,
            0.18864377,
            0.18866037,
            0.18910883,
            0.18983072
           ]
          }
         ],
         "name": "20"
        },
        {
         "data": [
          {
           "hoverinfo": "skip",
           "line": {
            "color": "black",
            "width": 4
           },
           "mode": "lines",
           "showlegend": false,
           "type": "scatter",
           "x": [
            0,
            120,
            120,
            0,
            0
           ],
           "y": [
            0,
            0,
            80,
            80,
            0
           ]
          },
          {
           "hoverinfo": "skip",
           "line": {
            "color": "black",
            "width": 4
           },
           "mode": "lines",
           "showlegend": false,
           "type": "scatter",
           "x": [
            60,
            60
           ],
           "y": [
            0,
            80
           ]
          },
          {
           "hoverinfo": "skip",
           "line": {
            "color": "black",
            "width": 4
           },
           "mode": "lines",
           "showlegend": false,
           "type": "scatter",
           "x": [
            0,
            16.459249641096918,
            16.459249641096918,
            0
           ],
           "y": [
            16,
            16,
            64,
            64
           ]
          },
          {
           "hoverinfo": "skip",
           "line": {
            "color": "black",
            "width": 4
           },
           "mode": "lines",
           "showlegend": false,
           "type": "scatter",
           "x": [
            120,
            103.54075035890308,
            103.54075035890308,
            120
           ],
           "y": [
            16,
            16,
            64,
            64
           ]
          },
          {
           "hoverinfo": "skip",
           "line": {
            "color": "black",
            "width": 4
           },
           "mode": "lines",
           "showlegend": false,
           "type": "scatter",
           "x": [
            0,
            5.486416547032306,
            5.486416547032306,
            0
           ],
           "y": [
            28,
            28,
            52,
            52
           ]
          },
          {
           "hoverinfo": "skip",
           "line": {
            "color": "black",
            "width": 4
           },
           "mode": "lines",
           "showlegend": false,
           "type": "scatter",
           "x": [
            120,
            114.5135834529677,
            114.5135834529677,
            120
           ],
           "y": [
            28,
            28,
            52,
            52
           ]
          },
          {
           "hoverinfo": "skip",
           "line": {
            "color": "black"
           },
           "mode": "markers",
           "showlegend": false,
           "type": "scatter",
           "x": [
            10.972833094064612
           ],
           "y": [
            40
           ]
          },
          {
           "hoverinfo": "skip",
           "line": {
            "color": "black"
           },
           "mode": "markers",
           "showlegend": false,
           "type": "scatter",
           "x": [
            109.02716690593539
           ],
           "y": [
            40
           ]
          },
          {
           "hoverinfo": "skip",
           "line": {
            "color": "black"
           },
           "mode": "markers",
           "showlegend": false,
           "type": "scatter",
           "x": [
            60
           ],
           "y": [
            40
           ]
          },
          {
           "marker": {
            "color": "black",
            "size": 10,
            "symbol": "star"
           },
           "mode": "markers",
           "name": "Shot Position",
           "showlegend": false,
           "type": "scatter",
           "x": [
            111
           ],
           "y": [
            40.93587480838928
           ]
          },
          {
           "marker": {
            "color": "purple",
            "size": 10,
            "symbol": "diamond"
           },
           "mode": "markers",
           "name": "Freekick Position",
           "showlegend": false,
           "type": "scatter",
           "x": [
            95
           ],
           "y": [
            62
           ]
          },
          {
           "marker": {
            "color": "orange",
            "size": 8,
            "symbol": "x"
           },
           "mode": "markers",
           "name": "Opponent",
           "showlegend": false,
           "type": "scatter",
           "x": [
            108.00615443856704
           ],
           "y": [
            43.80793554652633
           ]
          },
          {
           "marker": {
            "color": "orange",
            "size": 8,
            "symbol": "x"
           },
           "mode": "markers",
           "name": "Opponent",
           "showlegend": false,
           "type": "scatter",
           "x": [
            111.90739851122483
           ],
           "y": [
            47.029294957878314
           ]
          },
          {
           "marker": {
            "color": "orange",
            "size": 8,
            "symbol": "x"
           },
           "mode": "markers",
           "name": "Opponent",
           "showlegend": false,
           "type": "scatter",
           "x": [
            109.69742545427236
           ],
           "y": [
            48.03773445793831
           ]
          },
          {
           "marker": {
            "color": "orange",
            "size": 8,
            "symbol": "x"
           },
           "mode": "markers",
           "name": "Opponent",
           "showlegend": false,
           "type": "scatter",
           "x": [
            103.80656397910276
           ],
           "y": [
            48.61025793348464
           ]
          },
          {
           "marker": {
            "color": "orange",
            "size": 8,
            "symbol": "x"
           },
           "mode": "markers",
           "name": "Opponent",
           "showlegend": false,
           "type": "scatter",
           "x": [
            117.7267524942179
           ],
           "y": [
            49.267902892188985
           ]
          },
          {
           "marker": {
            "color": "orange",
            "size": 8,
            "symbol": "x"
           },
           "mode": "markers",
           "name": "Opponent",
           "showlegend": false,
           "type": "scatter",
           "x": [
            118.54388524949289
           ],
           "y": [
            39.19481578475043
           ]
          },
          {
           "marker": {
            "color": "blue",
            "size": 8,
            "symbol": "circle"
           },
           "mode": "markers",
           "name": "Teammate",
           "showlegend": false,
           "type": "scatter",
           "x": [
            109.88895181276523
           ],
           "y": [
            45.12920656501976
           ]
          },
          {
           "marker": {
            "color": "blue",
            "size": 8,
            "symbol": "circle"
           },
           "mode": "markers",
           "name": "Teammate",
           "showlegend": false,
           "type": "scatter",
           "x": [
            104.60803612599295
           ],
           "y": [
            47.56757111557219
           ]
          },
          {
           "marker": {
            "color": "blue",
            "size": 8,
            "symbol": "circle"
           },
           "mode": "markers",
           "name": "Teammate",
           "showlegend": false,
           "type": "scatter",
           "x": [
            107.06287292981946
           ],
           "y": [
            48.154478971834024
           ]
          },
          {
           "marker": {
            "color": "blue",
            "size": 8,
            "symbol": "circle"
           },
           "mode": "markers",
           "name": "Teammate",
           "showlegend": false,
           "type": "scatter",
           "x": [
            100.30941820585636
           ],
           "y": [
            49.21435281022161
           ]
          },
          {
           "mode": "lines+markers",
           "name": "Line Plot",
           "type": "scatter",
           "x": [
            0,
            1,
            2,
            3,
            4,
            5,
            6,
            7,
            8,
            9,
            10,
            11,
            12,
            13,
            14,
            15,
            16,
            17,
            18,
            19,
            20,
            21
           ],
           "y": [
            0.10442892,
            0.14224926,
            0.16282678,
            0.16282678,
            0.16452551,
            0.16554648,
            0.17032182,
            0.17032182,
            0.18504907,
            0.18508397,
            0.1854914,
            0.1870719,
            0.1872687,
            0.18752642,
            0.18792188,
            0.18792188,
            0.18810053,
            0.18864377,
            0.18866037,
            0.18910883,
            0.18983072,
            0.18983072
           ]
          }
         ],
         "name": "21"
        },
        {
         "data": [
          {
           "hoverinfo": "skip",
           "line": {
            "color": "black",
            "width": 4
           },
           "mode": "lines",
           "showlegend": false,
           "type": "scatter",
           "x": [
            0,
            120,
            120,
            0,
            0
           ],
           "y": [
            0,
            0,
            80,
            80,
            0
           ]
          },
          {
           "hoverinfo": "skip",
           "line": {
            "color": "black",
            "width": 4
           },
           "mode": "lines",
           "showlegend": false,
           "type": "scatter",
           "x": [
            60,
            60
           ],
           "y": [
            0,
            80
           ]
          },
          {
           "hoverinfo": "skip",
           "line": {
            "color": "black",
            "width": 4
           },
           "mode": "lines",
           "showlegend": false,
           "type": "scatter",
           "x": [
            0,
            16.459249641096918,
            16.459249641096918,
            0
           ],
           "y": [
            16,
            16,
            64,
            64
           ]
          },
          {
           "hoverinfo": "skip",
           "line": {
            "color": "black",
            "width": 4
           },
           "mode": "lines",
           "showlegend": false,
           "type": "scatter",
           "x": [
            120,
            103.54075035890308,
            103.54075035890308,
            120
           ],
           "y": [
            16,
            16,
            64,
            64
           ]
          },
          {
           "hoverinfo": "skip",
           "line": {
            "color": "black",
            "width": 4
           },
           "mode": "lines",
           "showlegend": false,
           "type": "scatter",
           "x": [
            0,
            5.486416547032306,
            5.486416547032306,
            0
           ],
           "y": [
            28,
            28,
            52,
            52
           ]
          },
          {
           "hoverinfo": "skip",
           "line": {
            "color": "black",
            "width": 4
           },
           "mode": "lines",
           "showlegend": false,
           "type": "scatter",
           "x": [
            120,
            114.5135834529677,
            114.5135834529677,
            120
           ],
           "y": [
            28,
            28,
            52,
            52
           ]
          },
          {
           "hoverinfo": "skip",
           "line": {
            "color": "black"
           },
           "mode": "markers",
           "showlegend": false,
           "type": "scatter",
           "x": [
            10.972833094064612
           ],
           "y": [
            40
           ]
          },
          {
           "hoverinfo": "skip",
           "line": {
            "color": "black"
           },
           "mode": "markers",
           "showlegend": false,
           "type": "scatter",
           "x": [
            109.02716690593539
           ],
           "y": [
            40
           ]
          },
          {
           "hoverinfo": "skip",
           "line": {
            "color": "black"
           },
           "mode": "markers",
           "showlegend": false,
           "type": "scatter",
           "x": [
            60
           ],
           "y": [
            40
           ]
          },
          {
           "marker": {
            "color": "black",
            "size": 10,
            "symbol": "star"
           },
           "mode": "markers",
           "name": "Shot Position",
           "showlegend": false,
           "type": "scatter",
           "x": [
            111
           ],
           "y": [
            40.93587480838928
           ]
          },
          {
           "marker": {
            "color": "purple",
            "size": 10,
            "symbol": "diamond"
           },
           "mode": "markers",
           "name": "Freekick Position",
           "showlegend": false,
           "type": "scatter",
           "x": [
            95
           ],
           "y": [
            62
           ]
          },
          {
           "marker": {
            "color": "orange",
            "size": 8,
            "symbol": "x"
           },
           "mode": "markers",
           "name": "Opponent",
           "showlegend": false,
           "type": "scatter",
           "x": [
            108.00615443856704
           ],
           "y": [
            43.80793554652633
           ]
          },
          {
           "marker": {
            "color": "orange",
            "size": 8,
            "symbol": "x"
           },
           "mode": "markers",
           "name": "Opponent",
           "showlegend": false,
           "type": "scatter",
           "x": [
            111.90739851122483
           ],
           "y": [
            47.029294957878314
           ]
          },
          {
           "marker": {
            "color": "orange",
            "size": 8,
            "symbol": "x"
           },
           "mode": "markers",
           "name": "Opponent",
           "showlegend": false,
           "type": "scatter",
           "x": [
            109.69742545427236
           ],
           "y": [
            48.03773445793831
           ]
          },
          {
           "marker": {
            "color": "orange",
            "size": 8,
            "symbol": "x"
           },
           "mode": "markers",
           "name": "Opponent",
           "showlegend": false,
           "type": "scatter",
           "x": [
            103.80656397910276
           ],
           "y": [
            48.61025793348464
           ]
          },
          {
           "marker": {
            "color": "orange",
            "size": 8,
            "symbol": "x"
           },
           "mode": "markers",
           "name": "Opponent",
           "showlegend": false,
           "type": "scatter",
           "x": [
            117.7267524942179
           ],
           "y": [
            49.267902892188985
           ]
          },
          {
           "marker": {
            "color": "orange",
            "size": 8,
            "symbol": "x"
           },
           "mode": "markers",
           "name": "Opponent",
           "showlegend": false,
           "type": "scatter",
           "x": [
            118.54388524949289
           ],
           "y": [
            39.19481578475043
           ]
          },
          {
           "marker": {
            "color": "blue",
            "size": 8,
            "symbol": "circle"
           },
           "mode": "markers",
           "name": "Teammate",
           "showlegend": false,
           "type": "scatter",
           "x": [
            109.88895181276523
           ],
           "y": [
            45.12920656501976
           ]
          },
          {
           "marker": {
            "color": "blue",
            "size": 8,
            "symbol": "circle"
           },
           "mode": "markers",
           "name": "Teammate",
           "showlegend": false,
           "type": "scatter",
           "x": [
            104.60803612599295
           ],
           "y": [
            47.56757111557219
           ]
          },
          {
           "marker": {
            "color": "blue",
            "size": 8,
            "symbol": "circle"
           },
           "mode": "markers",
           "name": "Teammate",
           "showlegend": false,
           "type": "scatter",
           "x": [
            107.06287292981946
           ],
           "y": [
            48.154478971834024
           ]
          },
          {
           "marker": {
            "color": "blue",
            "size": 8,
            "symbol": "circle"
           },
           "mode": "markers",
           "name": "Teammate",
           "showlegend": false,
           "type": "scatter",
           "x": [
            100.30941820585636
           ],
           "y": [
            49.21435281022161
           ]
          },
          {
           "mode": "lines+markers",
           "name": "Line Plot",
           "type": "scatter",
           "x": [
            0,
            1,
            2,
            3,
            4,
            5,
            6,
            7,
            8,
            9,
            10,
            11,
            12,
            13,
            14,
            15,
            16,
            17,
            18,
            19,
            20,
            21,
            22
           ],
           "y": [
            0.10442892,
            0.14224926,
            0.16282678,
            0.16282678,
            0.16452551,
            0.16554648,
            0.17032182,
            0.17032182,
            0.18504907,
            0.18508397,
            0.1854914,
            0.1870719,
            0.1872687,
            0.18752642,
            0.18792188,
            0.18792188,
            0.18810053,
            0.18864377,
            0.18866037,
            0.18910883,
            0.18983072,
            0.18983072,
            0.18983072
           ]
          }
         ],
         "name": "22"
        },
        {
         "data": [
          {
           "hoverinfo": "skip",
           "line": {
            "color": "black",
            "width": 4
           },
           "mode": "lines",
           "showlegend": false,
           "type": "scatter",
           "x": [
            0,
            120,
            120,
            0,
            0
           ],
           "y": [
            0,
            0,
            80,
            80,
            0
           ]
          },
          {
           "hoverinfo": "skip",
           "line": {
            "color": "black",
            "width": 4
           },
           "mode": "lines",
           "showlegend": false,
           "type": "scatter",
           "x": [
            60,
            60
           ],
           "y": [
            0,
            80
           ]
          },
          {
           "hoverinfo": "skip",
           "line": {
            "color": "black",
            "width": 4
           },
           "mode": "lines",
           "showlegend": false,
           "type": "scatter",
           "x": [
            0,
            16.459249641096918,
            16.459249641096918,
            0
           ],
           "y": [
            16,
            16,
            64,
            64
           ]
          },
          {
           "hoverinfo": "skip",
           "line": {
            "color": "black",
            "width": 4
           },
           "mode": "lines",
           "showlegend": false,
           "type": "scatter",
           "x": [
            120,
            103.54075035890308,
            103.54075035890308,
            120
           ],
           "y": [
            16,
            16,
            64,
            64
           ]
          },
          {
           "hoverinfo": "skip",
           "line": {
            "color": "black",
            "width": 4
           },
           "mode": "lines",
           "showlegend": false,
           "type": "scatter",
           "x": [
            0,
            5.486416547032306,
            5.486416547032306,
            0
           ],
           "y": [
            28,
            28,
            52,
            52
           ]
          },
          {
           "hoverinfo": "skip",
           "line": {
            "color": "black",
            "width": 4
           },
           "mode": "lines",
           "showlegend": false,
           "type": "scatter",
           "x": [
            120,
            114.5135834529677,
            114.5135834529677,
            120
           ],
           "y": [
            28,
            28,
            52,
            52
           ]
          },
          {
           "hoverinfo": "skip",
           "line": {
            "color": "black"
           },
           "mode": "markers",
           "showlegend": false,
           "type": "scatter",
           "x": [
            10.972833094064612
           ],
           "y": [
            40
           ]
          },
          {
           "hoverinfo": "skip",
           "line": {
            "color": "black"
           },
           "mode": "markers",
           "showlegend": false,
           "type": "scatter",
           "x": [
            109.02716690593539
           ],
           "y": [
            40
           ]
          },
          {
           "hoverinfo": "skip",
           "line": {
            "color": "black"
           },
           "mode": "markers",
           "showlegend": false,
           "type": "scatter",
           "x": [
            60
           ],
           "y": [
            40
           ]
          },
          {
           "marker": {
            "color": "black",
            "size": 10,
            "symbol": "star"
           },
           "mode": "markers",
           "name": "Shot Position",
           "showlegend": false,
           "type": "scatter",
           "x": [
            111
           ],
           "y": [
            40.93587480838928
           ]
          },
          {
           "marker": {
            "color": "purple",
            "size": 10,
            "symbol": "diamond"
           },
           "mode": "markers",
           "name": "Freekick Position",
           "showlegend": false,
           "type": "scatter",
           "x": [
            95
           ],
           "y": [
            62
           ]
          },
          {
           "marker": {
            "color": "orange",
            "size": 8,
            "symbol": "x"
           },
           "mode": "markers",
           "name": "Opponent",
           "showlegend": false,
           "type": "scatter",
           "x": [
            108.00615443856704
           ],
           "y": [
            43.80793554652633
           ]
          },
          {
           "marker": {
            "color": "orange",
            "size": 8,
            "symbol": "x"
           },
           "mode": "markers",
           "name": "Opponent",
           "showlegend": false,
           "type": "scatter",
           "x": [
            111.90739851122483
           ],
           "y": [
            47.029294957878314
           ]
          },
          {
           "marker": {
            "color": "orange",
            "size": 8,
            "symbol": "x"
           },
           "mode": "markers",
           "name": "Opponent",
           "showlegend": false,
           "type": "scatter",
           "x": [
            109.69742545427236
           ],
           "y": [
            48.03773445793831
           ]
          },
          {
           "marker": {
            "color": "orange",
            "size": 8,
            "symbol": "x"
           },
           "mode": "markers",
           "name": "Opponent",
           "showlegend": false,
           "type": "scatter",
           "x": [
            103.80656397910276
           ],
           "y": [
            48.61025793348464
           ]
          },
          {
           "marker": {
            "color": "orange",
            "size": 8,
            "symbol": "x"
           },
           "mode": "markers",
           "name": "Opponent",
           "showlegend": false,
           "type": "scatter",
           "x": [
            117.7267524942179
           ],
           "y": [
            49.267902892188985
           ]
          },
          {
           "marker": {
            "color": "orange",
            "size": 8,
            "symbol": "x"
           },
           "mode": "markers",
           "name": "Opponent",
           "showlegend": false,
           "type": "scatter",
           "x": [
            118.54388524949289
           ],
           "y": [
            39.19481578475043
           ]
          },
          {
           "marker": {
            "color": "blue",
            "size": 8,
            "symbol": "circle"
           },
           "mode": "markers",
           "name": "Teammate",
           "showlegend": false,
           "type": "scatter",
           "x": [
            109.88895181276523
           ],
           "y": [
            45.12920656501976
           ]
          },
          {
           "marker": {
            "color": "blue",
            "size": 8,
            "symbol": "circle"
           },
           "mode": "markers",
           "name": "Teammate",
           "showlegend": false,
           "type": "scatter",
           "x": [
            104.60803612599295
           ],
           "y": [
            47.56757111557219
           ]
          },
          {
           "marker": {
            "color": "blue",
            "size": 8,
            "symbol": "circle"
           },
           "mode": "markers",
           "name": "Teammate",
           "showlegend": false,
           "type": "scatter",
           "x": [
            107.06287292981946
           ],
           "y": [
            48.154478971834024
           ]
          },
          {
           "marker": {
            "color": "blue",
            "size": 8,
            "symbol": "circle"
           },
           "mode": "markers",
           "name": "Teammate",
           "showlegend": false,
           "type": "scatter",
           "x": [
            100.30941820585636
           ],
           "y": [
            49.21435281022161
           ]
          },
          {
           "mode": "lines+markers",
           "name": "Line Plot",
           "type": "scatter",
           "x": [
            0,
            1,
            2,
            3,
            4,
            5,
            6,
            7,
            8,
            9,
            10,
            11,
            12,
            13,
            14,
            15,
            16,
            17,
            18,
            19,
            20,
            21,
            22,
            23
           ],
           "y": [
            0.10442892,
            0.14224926,
            0.16282678,
            0.16282678,
            0.16452551,
            0.16554648,
            0.17032182,
            0.17032182,
            0.18504907,
            0.18508397,
            0.1854914,
            0.1870719,
            0.1872687,
            0.18752642,
            0.18792188,
            0.18792188,
            0.18810053,
            0.18864377,
            0.18866037,
            0.18910883,
            0.18983072,
            0.18983072,
            0.18983072,
            0.19038348
           ]
          }
         ],
         "name": "23"
        },
        {
         "data": [
          {
           "hoverinfo": "skip",
           "line": {
            "color": "black",
            "width": 4
           },
           "mode": "lines",
           "showlegend": false,
           "type": "scatter",
           "x": [
            0,
            120,
            120,
            0,
            0
           ],
           "y": [
            0,
            0,
            80,
            80,
            0
           ]
          },
          {
           "hoverinfo": "skip",
           "line": {
            "color": "black",
            "width": 4
           },
           "mode": "lines",
           "showlegend": false,
           "type": "scatter",
           "x": [
            60,
            60
           ],
           "y": [
            0,
            80
           ]
          },
          {
           "hoverinfo": "skip",
           "line": {
            "color": "black",
            "width": 4
           },
           "mode": "lines",
           "showlegend": false,
           "type": "scatter",
           "x": [
            0,
            16.459249641096918,
            16.459249641096918,
            0
           ],
           "y": [
            16,
            16,
            64,
            64
           ]
          },
          {
           "hoverinfo": "skip",
           "line": {
            "color": "black",
            "width": 4
           },
           "mode": "lines",
           "showlegend": false,
           "type": "scatter",
           "x": [
            120,
            103.54075035890308,
            103.54075035890308,
            120
           ],
           "y": [
            16,
            16,
            64,
            64
           ]
          },
          {
           "hoverinfo": "skip",
           "line": {
            "color": "black",
            "width": 4
           },
           "mode": "lines",
           "showlegend": false,
           "type": "scatter",
           "x": [
            0,
            5.486416547032306,
            5.486416547032306,
            0
           ],
           "y": [
            28,
            28,
            52,
            52
           ]
          },
          {
           "hoverinfo": "skip",
           "line": {
            "color": "black",
            "width": 4
           },
           "mode": "lines",
           "showlegend": false,
           "type": "scatter",
           "x": [
            120,
            114.5135834529677,
            114.5135834529677,
            120
           ],
           "y": [
            28,
            28,
            52,
            52
           ]
          },
          {
           "hoverinfo": "skip",
           "line": {
            "color": "black"
           },
           "mode": "markers",
           "showlegend": false,
           "type": "scatter",
           "x": [
            10.972833094064612
           ],
           "y": [
            40
           ]
          },
          {
           "hoverinfo": "skip",
           "line": {
            "color": "black"
           },
           "mode": "markers",
           "showlegend": false,
           "type": "scatter",
           "x": [
            109.02716690593539
           ],
           "y": [
            40
           ]
          },
          {
           "hoverinfo": "skip",
           "line": {
            "color": "black"
           },
           "mode": "markers",
           "showlegend": false,
           "type": "scatter",
           "x": [
            60
           ],
           "y": [
            40
           ]
          },
          {
           "marker": {
            "color": "black",
            "size": 10,
            "symbol": "star"
           },
           "mode": "markers",
           "name": "Shot Position",
           "showlegend": false,
           "type": "scatter",
           "x": [
            111
           ],
           "y": [
            40.93587480838928
           ]
          },
          {
           "marker": {
            "color": "purple",
            "size": 10,
            "symbol": "diamond"
           },
           "mode": "markers",
           "name": "Freekick Position",
           "showlegend": false,
           "type": "scatter",
           "x": [
            95
           ],
           "y": [
            62
           ]
          },
          {
           "marker": {
            "color": "orange",
            "size": 8,
            "symbol": "x"
           },
           "mode": "markers",
           "name": "Opponent",
           "showlegend": false,
           "type": "scatter",
           "x": [
            108.00615443856704
           ],
           "y": [
            43.80793554652633
           ]
          },
          {
           "marker": {
            "color": "orange",
            "size": 8,
            "symbol": "x"
           },
           "mode": "markers",
           "name": "Opponent",
           "showlegend": false,
           "type": "scatter",
           "x": [
            111.90739851122483
           ],
           "y": [
            47.029294957878314
           ]
          },
          {
           "marker": {
            "color": "orange",
            "size": 8,
            "symbol": "x"
           },
           "mode": "markers",
           "name": "Opponent",
           "showlegend": false,
           "type": "scatter",
           "x": [
            109.69742545427236
           ],
           "y": [
            48.03773445793831
           ]
          },
          {
           "marker": {
            "color": "orange",
            "size": 8,
            "symbol": "x"
           },
           "mode": "markers",
           "name": "Opponent",
           "showlegend": false,
           "type": "scatter",
           "x": [
            103.80656397910276
           ],
           "y": [
            48.61025793348464
           ]
          },
          {
           "marker": {
            "color": "orange",
            "size": 8,
            "symbol": "x"
           },
           "mode": "markers",
           "name": "Opponent",
           "showlegend": false,
           "type": "scatter",
           "x": [
            117.7267524942179
           ],
           "y": [
            49.267902892188985
           ]
          },
          {
           "marker": {
            "color": "orange",
            "size": 8,
            "symbol": "x"
           },
           "mode": "markers",
           "name": "Opponent",
           "showlegend": false,
           "type": "scatter",
           "x": [
            118.54388524949289
           ],
           "y": [
            39.19481578475043
           ]
          },
          {
           "marker": {
            "color": "blue",
            "size": 8,
            "symbol": "circle"
           },
           "mode": "markers",
           "name": "Teammate",
           "showlegend": false,
           "type": "scatter",
           "x": [
            109.88895181276523
           ],
           "y": [
            45.12920656501976
           ]
          },
          {
           "marker": {
            "color": "blue",
            "size": 8,
            "symbol": "circle"
           },
           "mode": "markers",
           "name": "Teammate",
           "showlegend": false,
           "type": "scatter",
           "x": [
            104.60803612599295
           ],
           "y": [
            47.56757111557219
           ]
          },
          {
           "marker": {
            "color": "blue",
            "size": 8,
            "symbol": "circle"
           },
           "mode": "markers",
           "name": "Teammate",
           "showlegend": false,
           "type": "scatter",
           "x": [
            107.06287292981946
           ],
           "y": [
            48.154478971834024
           ]
          },
          {
           "marker": {
            "color": "blue",
            "size": 8,
            "symbol": "circle"
           },
           "mode": "markers",
           "name": "Teammate",
           "showlegend": false,
           "type": "scatter",
           "x": [
            100.30941820585636
           ],
           "y": [
            49.21435281022161
           ]
          },
          {
           "mode": "lines+markers",
           "name": "Line Plot",
           "type": "scatter",
           "x": [
            0,
            1,
            2,
            3,
            4,
            5,
            6,
            7,
            8,
            9,
            10,
            11,
            12,
            13,
            14,
            15,
            16,
            17,
            18,
            19,
            20,
            21,
            22,
            23,
            24
           ],
           "y": [
            0.10442892,
            0.14224926,
            0.16282678,
            0.16282678,
            0.16452551,
            0.16554648,
            0.17032182,
            0.17032182,
            0.18504907,
            0.18508397,
            0.1854914,
            0.1870719,
            0.1872687,
            0.18752642,
            0.18792188,
            0.18792188,
            0.18810053,
            0.18864377,
            0.18866037,
            0.18910883,
            0.18983072,
            0.18983072,
            0.18983072,
            0.19038348,
            0.19038348
           ]
          }
         ],
         "name": "24"
        },
        {
         "data": [
          {
           "hoverinfo": "skip",
           "line": {
            "color": "black",
            "width": 4
           },
           "mode": "lines",
           "showlegend": false,
           "type": "scatter",
           "x": [
            0,
            120,
            120,
            0,
            0
           ],
           "y": [
            0,
            0,
            80,
            80,
            0
           ]
          },
          {
           "hoverinfo": "skip",
           "line": {
            "color": "black",
            "width": 4
           },
           "mode": "lines",
           "showlegend": false,
           "type": "scatter",
           "x": [
            60,
            60
           ],
           "y": [
            0,
            80
           ]
          },
          {
           "hoverinfo": "skip",
           "line": {
            "color": "black",
            "width": 4
           },
           "mode": "lines",
           "showlegend": false,
           "type": "scatter",
           "x": [
            0,
            16.459249641096918,
            16.459249641096918,
            0
           ],
           "y": [
            16,
            16,
            64,
            64
           ]
          },
          {
           "hoverinfo": "skip",
           "line": {
            "color": "black",
            "width": 4
           },
           "mode": "lines",
           "showlegend": false,
           "type": "scatter",
           "x": [
            120,
            103.54075035890308,
            103.54075035890308,
            120
           ],
           "y": [
            16,
            16,
            64,
            64
           ]
          },
          {
           "hoverinfo": "skip",
           "line": {
            "color": "black",
            "width": 4
           },
           "mode": "lines",
           "showlegend": false,
           "type": "scatter",
           "x": [
            0,
            5.486416547032306,
            5.486416547032306,
            0
           ],
           "y": [
            28,
            28,
            52,
            52
           ]
          },
          {
           "hoverinfo": "skip",
           "line": {
            "color": "black",
            "width": 4
           },
           "mode": "lines",
           "showlegend": false,
           "type": "scatter",
           "x": [
            120,
            114.5135834529677,
            114.5135834529677,
            120
           ],
           "y": [
            28,
            28,
            52,
            52
           ]
          },
          {
           "hoverinfo": "skip",
           "line": {
            "color": "black"
           },
           "mode": "markers",
           "showlegend": false,
           "type": "scatter",
           "x": [
            10.972833094064612
           ],
           "y": [
            40
           ]
          },
          {
           "hoverinfo": "skip",
           "line": {
            "color": "black"
           },
           "mode": "markers",
           "showlegend": false,
           "type": "scatter",
           "x": [
            109.02716690593539
           ],
           "y": [
            40
           ]
          },
          {
           "hoverinfo": "skip",
           "line": {
            "color": "black"
           },
           "mode": "markers",
           "showlegend": false,
           "type": "scatter",
           "x": [
            60
           ],
           "y": [
            40
           ]
          },
          {
           "marker": {
            "color": "black",
            "size": 10,
            "symbol": "star"
           },
           "mode": "markers",
           "name": "Shot Position",
           "showlegend": false,
           "type": "scatter",
           "x": [
            111
           ],
           "y": [
            40.93587480838928
           ]
          },
          {
           "marker": {
            "color": "purple",
            "size": 10,
            "symbol": "diamond"
           },
           "mode": "markers",
           "name": "Freekick Position",
           "showlegend": false,
           "type": "scatter",
           "x": [
            95
           ],
           "y": [
            62
           ]
          },
          {
           "marker": {
            "color": "orange",
            "size": 8,
            "symbol": "x"
           },
           "mode": "markers",
           "name": "Opponent",
           "showlegend": false,
           "type": "scatter",
           "x": [
            108.00615443856704
           ],
           "y": [
            43.80793554652633
           ]
          },
          {
           "marker": {
            "color": "orange",
            "size": 8,
            "symbol": "x"
           },
           "mode": "markers",
           "name": "Opponent",
           "showlegend": false,
           "type": "scatter",
           "x": [
            111.90739851122483
           ],
           "y": [
            47.029294957878314
           ]
          },
          {
           "marker": {
            "color": "orange",
            "size": 8,
            "symbol": "x"
           },
           "mode": "markers",
           "name": "Opponent",
           "showlegend": false,
           "type": "scatter",
           "x": [
            109.69742545427236
           ],
           "y": [
            48.03773445793831
           ]
          },
          {
           "marker": {
            "color": "orange",
            "size": 8,
            "symbol": "x"
           },
           "mode": "markers",
           "name": "Opponent",
           "showlegend": false,
           "type": "scatter",
           "x": [
            103.80656397910276
           ],
           "y": [
            48.61025793348464
           ]
          },
          {
           "marker": {
            "color": "orange",
            "size": 8,
            "symbol": "x"
           },
           "mode": "markers",
           "name": "Opponent",
           "showlegend": false,
           "type": "scatter",
           "x": [
            117.7267524942179
           ],
           "y": [
            49.267902892188985
           ]
          },
          {
           "marker": {
            "color": "orange",
            "size": 8,
            "symbol": "x"
           },
           "mode": "markers",
           "name": "Opponent",
           "showlegend": false,
           "type": "scatter",
           "x": [
            118.54388524949289
           ],
           "y": [
            39.19481578475043
           ]
          },
          {
           "marker": {
            "color": "blue",
            "size": 8,
            "symbol": "circle"
           },
           "mode": "markers",
           "name": "Teammate",
           "showlegend": false,
           "type": "scatter",
           "x": [
            109.88895181276523
           ],
           "y": [
            45.12920656501976
           ]
          },
          {
           "marker": {
            "color": "blue",
            "size": 8,
            "symbol": "circle"
           },
           "mode": "markers",
           "name": "Teammate",
           "showlegend": false,
           "type": "scatter",
           "x": [
            104.60803612599295
           ],
           "y": [
            47.56757111557219
           ]
          },
          {
           "marker": {
            "color": "blue",
            "size": 8,
            "symbol": "circle"
           },
           "mode": "markers",
           "name": "Teammate",
           "showlegend": false,
           "type": "scatter",
           "x": [
            107.06287292981946
           ],
           "y": [
            48.154478971834024
           ]
          },
          {
           "marker": {
            "color": "blue",
            "size": 8,
            "symbol": "circle"
           },
           "mode": "markers",
           "name": "Teammate",
           "showlegend": false,
           "type": "scatter",
           "x": [
            100.30941820585636
           ],
           "y": [
            49.21435281022161
           ]
          },
          {
           "mode": "lines+markers",
           "name": "Line Plot",
           "type": "scatter",
           "x": [
            0,
            1,
            2,
            3,
            4,
            5,
            6,
            7,
            8,
            9,
            10,
            11,
            12,
            13,
            14,
            15,
            16,
            17,
            18,
            19,
            20,
            21,
            22,
            23,
            24,
            25
           ],
           "y": [
            0.10442892,
            0.14224926,
            0.16282678,
            0.16282678,
            0.16452551,
            0.16554648,
            0.17032182,
            0.17032182,
            0.18504907,
            0.18508397,
            0.1854914,
            0.1870719,
            0.1872687,
            0.18752642,
            0.18792188,
            0.18792188,
            0.18810053,
            0.18864377,
            0.18866037,
            0.18910883,
            0.18983072,
            0.18983072,
            0.18983072,
            0.19038348,
            0.19038348,
            0.19038348
           ]
          }
         ],
         "name": "25"
        },
        {
         "data": [
          {
           "hoverinfo": "skip",
           "line": {
            "color": "black",
            "width": 4
           },
           "mode": "lines",
           "showlegend": false,
           "type": "scatter",
           "x": [
            0,
            120,
            120,
            0,
            0
           ],
           "y": [
            0,
            0,
            80,
            80,
            0
           ]
          },
          {
           "hoverinfo": "skip",
           "line": {
            "color": "black",
            "width": 4
           },
           "mode": "lines",
           "showlegend": false,
           "type": "scatter",
           "x": [
            60,
            60
           ],
           "y": [
            0,
            80
           ]
          },
          {
           "hoverinfo": "skip",
           "line": {
            "color": "black",
            "width": 4
           },
           "mode": "lines",
           "showlegend": false,
           "type": "scatter",
           "x": [
            0,
            16.459249641096918,
            16.459249641096918,
            0
           ],
           "y": [
            16,
            16,
            64,
            64
           ]
          },
          {
           "hoverinfo": "skip",
           "line": {
            "color": "black",
            "width": 4
           },
           "mode": "lines",
           "showlegend": false,
           "type": "scatter",
           "x": [
            120,
            103.54075035890308,
            103.54075035890308,
            120
           ],
           "y": [
            16,
            16,
            64,
            64
           ]
          },
          {
           "hoverinfo": "skip",
           "line": {
            "color": "black",
            "width": 4
           },
           "mode": "lines",
           "showlegend": false,
           "type": "scatter",
           "x": [
            0,
            5.486416547032306,
            5.486416547032306,
            0
           ],
           "y": [
            28,
            28,
            52,
            52
           ]
          },
          {
           "hoverinfo": "skip",
           "line": {
            "color": "black",
            "width": 4
           },
           "mode": "lines",
           "showlegend": false,
           "type": "scatter",
           "x": [
            120,
            114.5135834529677,
            114.5135834529677,
            120
           ],
           "y": [
            28,
            28,
            52,
            52
           ]
          },
          {
           "hoverinfo": "skip",
           "line": {
            "color": "black"
           },
           "mode": "markers",
           "showlegend": false,
           "type": "scatter",
           "x": [
            10.972833094064612
           ],
           "y": [
            40
           ]
          },
          {
           "hoverinfo": "skip",
           "line": {
            "color": "black"
           },
           "mode": "markers",
           "showlegend": false,
           "type": "scatter",
           "x": [
            109.02716690593539
           ],
           "y": [
            40
           ]
          },
          {
           "hoverinfo": "skip",
           "line": {
            "color": "black"
           },
           "mode": "markers",
           "showlegend": false,
           "type": "scatter",
           "x": [
            60
           ],
           "y": [
            40
           ]
          },
          {
           "marker": {
            "color": "black",
            "size": 10,
            "symbol": "star"
           },
           "mode": "markers",
           "name": "Shot Position",
           "showlegend": false,
           "type": "scatter",
           "x": [
            111
           ],
           "y": [
            40.93587480838928
           ]
          },
          {
           "marker": {
            "color": "purple",
            "size": 10,
            "symbol": "diamond"
           },
           "mode": "markers",
           "name": "Freekick Position",
           "showlegend": false,
           "type": "scatter",
           "x": [
            95
           ],
           "y": [
            62
           ]
          },
          {
           "marker": {
            "color": "orange",
            "size": 8,
            "symbol": "x"
           },
           "mode": "markers",
           "name": "Opponent",
           "showlegend": false,
           "type": "scatter",
           "x": [
            108.00615443856704
           ],
           "y": [
            43.80793554652633
           ]
          },
          {
           "marker": {
            "color": "orange",
            "size": 8,
            "symbol": "x"
           },
           "mode": "markers",
           "name": "Opponent",
           "showlegend": false,
           "type": "scatter",
           "x": [
            111.90739851122483
           ],
           "y": [
            47.029294957878314
           ]
          },
          {
           "marker": {
            "color": "orange",
            "size": 8,
            "symbol": "x"
           },
           "mode": "markers",
           "name": "Opponent",
           "showlegend": false,
           "type": "scatter",
           "x": [
            109.69742545427236
           ],
           "y": [
            48.03773445793831
           ]
          },
          {
           "marker": {
            "color": "orange",
            "size": 8,
            "symbol": "x"
           },
           "mode": "markers",
           "name": "Opponent",
           "showlegend": false,
           "type": "scatter",
           "x": [
            103.80656397910276
           ],
           "y": [
            48.61025793348464
           ]
          },
          {
           "marker": {
            "color": "orange",
            "size": 8,
            "symbol": "x"
           },
           "mode": "markers",
           "name": "Opponent",
           "showlegend": false,
           "type": "scatter",
           "x": [
            117.7267524942179
           ],
           "y": [
            49.267902892188985
           ]
          },
          {
           "marker": {
            "color": "orange",
            "size": 8,
            "symbol": "x"
           },
           "mode": "markers",
           "name": "Opponent",
           "showlegend": false,
           "type": "scatter",
           "x": [
            118.54388524949289
           ],
           "y": [
            39.19481578475043
           ]
          },
          {
           "marker": {
            "color": "blue",
            "size": 8,
            "symbol": "circle"
           },
           "mode": "markers",
           "name": "Teammate",
           "showlegend": false,
           "type": "scatter",
           "x": [
            110.67123202654521
           ],
           "y": [
            45.12920656501976
           ]
          },
          {
           "marker": {
            "color": "blue",
            "size": 8,
            "symbol": "circle"
           },
           "mode": "markers",
           "name": "Teammate",
           "showlegend": false,
           "type": "scatter",
           "x": [
            111.0067237114748
           ],
           "y": [
            43.86404977354399
           ]
          },
          {
           "marker": {
            "color": "blue",
            "size": 8,
            "symbol": "circle"
           },
           "mode": "markers",
           "name": "Teammate",
           "showlegend": false,
           "type": "scatter",
           "x": [
            107.06287292981946
           ],
           "y": [
            48.154478971834024
           ]
          },
          {
           "marker": {
            "color": "blue",
            "size": 8,
            "symbol": "circle"
           },
           "mode": "markers",
           "name": "Teammate",
           "showlegend": false,
           "type": "scatter",
           "x": [
            100.30941820585636
           ],
           "y": [
            49.21435281022161
           ]
          },
          {
           "mode": "lines+markers",
           "name": "Line Plot",
           "type": "scatter",
           "x": [
            0,
            1,
            2,
            3,
            4,
            5,
            6,
            7,
            8,
            9,
            10,
            11,
            12,
            13,
            14,
            15,
            16,
            17,
            18,
            19,
            20,
            21,
            22,
            23,
            24,
            25,
            26
           ],
           "y": [
            0.10442892,
            0.14224926,
            0.16282678,
            0.16282678,
            0.16452551,
            0.16554648,
            0.17032182,
            0.17032182,
            0.18504907,
            0.18508397,
            0.1854914,
            0.1870719,
            0.1872687,
            0.18752642,
            0.18792188,
            0.18792188,
            0.18810053,
            0.18864377,
            0.18866037,
            0.18910883,
            0.18983072,
            0.18983072,
            0.18983072,
            0.19038348,
            0.19038348,
            0.19038348,
            0.19261675
           ]
          }
         ],
         "name": "26"
        },
        {
         "data": [
          {
           "hoverinfo": "skip",
           "line": {
            "color": "black",
            "width": 4
           },
           "mode": "lines",
           "showlegend": false,
           "type": "scatter",
           "x": [
            0,
            120,
            120,
            0,
            0
           ],
           "y": [
            0,
            0,
            80,
            80,
            0
           ]
          },
          {
           "hoverinfo": "skip",
           "line": {
            "color": "black",
            "width": 4
           },
           "mode": "lines",
           "showlegend": false,
           "type": "scatter",
           "x": [
            60,
            60
           ],
           "y": [
            0,
            80
           ]
          },
          {
           "hoverinfo": "skip",
           "line": {
            "color": "black",
            "width": 4
           },
           "mode": "lines",
           "showlegend": false,
           "type": "scatter",
           "x": [
            0,
            16.459249641096918,
            16.459249641096918,
            0
           ],
           "y": [
            16,
            16,
            64,
            64
           ]
          },
          {
           "hoverinfo": "skip",
           "line": {
            "color": "black",
            "width": 4
           },
           "mode": "lines",
           "showlegend": false,
           "type": "scatter",
           "x": [
            120,
            103.54075035890308,
            103.54075035890308,
            120
           ],
           "y": [
            16,
            16,
            64,
            64
           ]
          },
          {
           "hoverinfo": "skip",
           "line": {
            "color": "black",
            "width": 4
           },
           "mode": "lines",
           "showlegend": false,
           "type": "scatter",
           "x": [
            0,
            5.486416547032306,
            5.486416547032306,
            0
           ],
           "y": [
            28,
            28,
            52,
            52
           ]
          },
          {
           "hoverinfo": "skip",
           "line": {
            "color": "black",
            "width": 4
           },
           "mode": "lines",
           "showlegend": false,
           "type": "scatter",
           "x": [
            120,
            114.5135834529677,
            114.5135834529677,
            120
           ],
           "y": [
            28,
            28,
            52,
            52
           ]
          },
          {
           "hoverinfo": "skip",
           "line": {
            "color": "black"
           },
           "mode": "markers",
           "showlegend": false,
           "type": "scatter",
           "x": [
            10.972833094064612
           ],
           "y": [
            40
           ]
          },
          {
           "hoverinfo": "skip",
           "line": {
            "color": "black"
           },
           "mode": "markers",
           "showlegend": false,
           "type": "scatter",
           "x": [
            109.02716690593539
           ],
           "y": [
            40
           ]
          },
          {
           "hoverinfo": "skip",
           "line": {
            "color": "black"
           },
           "mode": "markers",
           "showlegend": false,
           "type": "scatter",
           "x": [
            60
           ],
           "y": [
            40
           ]
          },
          {
           "marker": {
            "color": "black",
            "size": 10,
            "symbol": "star"
           },
           "mode": "markers",
           "name": "Shot Position",
           "showlegend": false,
           "type": "scatter",
           "x": [
            111
           ],
           "y": [
            40.93587480838928
           ]
          },
          {
           "marker": {
            "color": "purple",
            "size": 10,
            "symbol": "diamond"
           },
           "mode": "markers",
           "name": "Freekick Position",
           "showlegend": false,
           "type": "scatter",
           "x": [
            95
           ],
           "y": [
            62
           ]
          },
          {
           "marker": {
            "color": "orange",
            "size": 8,
            "symbol": "x"
           },
           "mode": "markers",
           "name": "Opponent",
           "showlegend": false,
           "type": "scatter",
           "x": [
            108.00615443856704
           ],
           "y": [
            43.80793554652633
           ]
          },
          {
           "marker": {
            "color": "orange",
            "size": 8,
            "symbol": "x"
           },
           "mode": "markers",
           "name": "Opponent",
           "showlegend": false,
           "type": "scatter",
           "x": [
            111.90739851122483
           ],
           "y": [
            47.029294957878314
           ]
          },
          {
           "marker": {
            "color": "orange",
            "size": 8,
            "symbol": "x"
           },
           "mode": "markers",
           "name": "Opponent",
           "showlegend": false,
           "type": "scatter",
           "x": [
            109.69742545427236
           ],
           "y": [
            48.03773445793831
           ]
          },
          {
           "marker": {
            "color": "orange",
            "size": 8,
            "symbol": "x"
           },
           "mode": "markers",
           "name": "Opponent",
           "showlegend": false,
           "type": "scatter",
           "x": [
            103.80656397910276
           ],
           "y": [
            48.61025793348464
           ]
          },
          {
           "marker": {
            "color": "orange",
            "size": 8,
            "symbol": "x"
           },
           "mode": "markers",
           "name": "Opponent",
           "showlegend": false,
           "type": "scatter",
           "x": [
            117.7267524942179
           ],
           "y": [
            49.267902892188985
           ]
          },
          {
           "marker": {
            "color": "orange",
            "size": 8,
            "symbol": "x"
           },
           "mode": "markers",
           "name": "Opponent",
           "showlegend": false,
           "type": "scatter",
           "x": [
            118.54388524949289
           ],
           "y": [
            39.19481578475043
           ]
          },
          {
           "marker": {
            "color": "blue",
            "size": 8,
            "symbol": "circle"
           },
           "mode": "markers",
           "name": "Teammate",
           "showlegend": false,
           "type": "scatter",
           "x": [
            110.67123202654521
           ],
           "y": [
            45.12920656501976
           ]
          },
          {
           "marker": {
            "color": "blue",
            "size": 8,
            "symbol": "circle"
           },
           "mode": "markers",
           "name": "Teammate",
           "showlegend": false,
           "type": "scatter",
           "x": [
            111.0067237114748
           ],
           "y": [
            43.86404977354399
           ]
          },
          {
           "marker": {
            "color": "blue",
            "size": 8,
            "symbol": "circle"
           },
           "mode": "markers",
           "name": "Teammate",
           "showlegend": false,
           "type": "scatter",
           "x": [
            107.06287292981946
           ],
           "y": [
            48.154478971834024
           ]
          },
          {
           "marker": {
            "color": "blue",
            "size": 8,
            "symbol": "circle"
           },
           "mode": "markers",
           "name": "Teammate",
           "showlegend": false,
           "type": "scatter",
           "x": [
            100.30941820585636
           ],
           "y": [
            49.21435281022161
           ]
          },
          {
           "mode": "lines+markers",
           "name": "Line Plot",
           "type": "scatter",
           "x": [
            0,
            1,
            2,
            3,
            4,
            5,
            6,
            7,
            8,
            9,
            10,
            11,
            12,
            13,
            14,
            15,
            16,
            17,
            18,
            19,
            20,
            21,
            22,
            23,
            24,
            25,
            26,
            27
           ],
           "y": [
            0.10442892,
            0.14224926,
            0.16282678,
            0.16282678,
            0.16452551,
            0.16554648,
            0.17032182,
            0.17032182,
            0.18504907,
            0.18508397,
            0.1854914,
            0.1870719,
            0.1872687,
            0.18752642,
            0.18792188,
            0.18792188,
            0.18810053,
            0.18864377,
            0.18866037,
            0.18910883,
            0.18983072,
            0.18983072,
            0.18983072,
            0.19038348,
            0.19038348,
            0.19038348,
            0.19261675,
            0.19261675
           ]
          }
         ],
         "name": "27"
        },
        {
         "data": [
          {
           "hoverinfo": "skip",
           "line": {
            "color": "black",
            "width": 4
           },
           "mode": "lines",
           "showlegend": false,
           "type": "scatter",
           "x": [
            0,
            120,
            120,
            0,
            0
           ],
           "y": [
            0,
            0,
            80,
            80,
            0
           ]
          },
          {
           "hoverinfo": "skip",
           "line": {
            "color": "black",
            "width": 4
           },
           "mode": "lines",
           "showlegend": false,
           "type": "scatter",
           "x": [
            60,
            60
           ],
           "y": [
            0,
            80
           ]
          },
          {
           "hoverinfo": "skip",
           "line": {
            "color": "black",
            "width": 4
           },
           "mode": "lines",
           "showlegend": false,
           "type": "scatter",
           "x": [
            0,
            16.459249641096918,
            16.459249641096918,
            0
           ],
           "y": [
            16,
            16,
            64,
            64
           ]
          },
          {
           "hoverinfo": "skip",
           "line": {
            "color": "black",
            "width": 4
           },
           "mode": "lines",
           "showlegend": false,
           "type": "scatter",
           "x": [
            120,
            103.54075035890308,
            103.54075035890308,
            120
           ],
           "y": [
            16,
            16,
            64,
            64
           ]
          },
          {
           "hoverinfo": "skip",
           "line": {
            "color": "black",
            "width": 4
           },
           "mode": "lines",
           "showlegend": false,
           "type": "scatter",
           "x": [
            0,
            5.486416547032306,
            5.486416547032306,
            0
           ],
           "y": [
            28,
            28,
            52,
            52
           ]
          },
          {
           "hoverinfo": "skip",
           "line": {
            "color": "black",
            "width": 4
           },
           "mode": "lines",
           "showlegend": false,
           "type": "scatter",
           "x": [
            120,
            114.5135834529677,
            114.5135834529677,
            120
           ],
           "y": [
            28,
            28,
            52,
            52
           ]
          },
          {
           "hoverinfo": "skip",
           "line": {
            "color": "black"
           },
           "mode": "markers",
           "showlegend": false,
           "type": "scatter",
           "x": [
            10.972833094064612
           ],
           "y": [
            40
           ]
          },
          {
           "hoverinfo": "skip",
           "line": {
            "color": "black"
           },
           "mode": "markers",
           "showlegend": false,
           "type": "scatter",
           "x": [
            109.02716690593539
           ],
           "y": [
            40
           ]
          },
          {
           "hoverinfo": "skip",
           "line": {
            "color": "black"
           },
           "mode": "markers",
           "showlegend": false,
           "type": "scatter",
           "x": [
            60
           ],
           "y": [
            40
           ]
          },
          {
           "marker": {
            "color": "black",
            "size": 10,
            "symbol": "star"
           },
           "mode": "markers",
           "name": "Shot Position",
           "showlegend": false,
           "type": "scatter",
           "x": [
            111
           ],
           "y": [
            40.93587480838928
           ]
          },
          {
           "marker": {
            "color": "purple",
            "size": 10,
            "symbol": "diamond"
           },
           "mode": "markers",
           "name": "Freekick Position",
           "showlegend": false,
           "type": "scatter",
           "x": [
            95
           ],
           "y": [
            62
           ]
          },
          {
           "marker": {
            "color": "orange",
            "size": 8,
            "symbol": "x"
           },
           "mode": "markers",
           "name": "Opponent",
           "showlegend": false,
           "type": "scatter",
           "x": [
            108.00615443856704
           ],
           "y": [
            43.80793554652633
           ]
          },
          {
           "marker": {
            "color": "orange",
            "size": 8,
            "symbol": "x"
           },
           "mode": "markers",
           "name": "Opponent",
           "showlegend": false,
           "type": "scatter",
           "x": [
            111.90739851122483
           ],
           "y": [
            47.029294957878314
           ]
          },
          {
           "marker": {
            "color": "orange",
            "size": 8,
            "symbol": "x"
           },
           "mode": "markers",
           "name": "Opponent",
           "showlegend": false,
           "type": "scatter",
           "x": [
            109.69742545427236
           ],
           "y": [
            48.03773445793831
           ]
          },
          {
           "marker": {
            "color": "orange",
            "size": 8,
            "symbol": "x"
           },
           "mode": "markers",
           "name": "Opponent",
           "showlegend": false,
           "type": "scatter",
           "x": [
            103.80656397910276
           ],
           "y": [
            48.61025793348464
           ]
          },
          {
           "marker": {
            "color": "orange",
            "size": 8,
            "symbol": "x"
           },
           "mode": "markers",
           "name": "Opponent",
           "showlegend": false,
           "type": "scatter",
           "x": [
            117.7267524942179
           ],
           "y": [
            49.267902892188985
           ]
          },
          {
           "marker": {
            "color": "orange",
            "size": 8,
            "symbol": "x"
           },
           "mode": "markers",
           "name": "Opponent",
           "showlegend": false,
           "type": "scatter",
           "x": [
            118.54388524949289
           ],
           "y": [
            39.19481578475043
           ]
          },
          {
           "marker": {
            "color": "blue",
            "size": 8,
            "symbol": "circle"
           },
           "mode": "markers",
           "name": "Teammate",
           "showlegend": false,
           "type": "scatter",
           "x": [
            110.67123202654521
           ],
           "y": [
            45.12920656501976
           ]
          },
          {
           "marker": {
            "color": "blue",
            "size": 8,
            "symbol": "circle"
           },
           "mode": "markers",
           "name": "Teammate",
           "showlegend": false,
           "type": "scatter",
           "x": [
            111.0067237114748
           ],
           "y": [
            43.86404977354399
           ]
          },
          {
           "marker": {
            "color": "blue",
            "size": 8,
            "symbol": "circle"
           },
           "mode": "markers",
           "name": "Teammate",
           "showlegend": false,
           "type": "scatter",
           "x": [
            107.06287292981946
           ],
           "y": [
            48.154478971834024
           ]
          },
          {
           "marker": {
            "color": "blue",
            "size": 8,
            "symbol": "circle"
           },
           "mode": "markers",
           "name": "Teammate",
           "showlegend": false,
           "type": "scatter",
           "x": [
            100.30941820585636
           ],
           "y": [
            49.21435281022161
           ]
          },
          {
           "mode": "lines+markers",
           "name": "Line Plot",
           "type": "scatter",
           "x": [
            0,
            1,
            2,
            3,
            4,
            5,
            6,
            7,
            8,
            9,
            10,
            11,
            12,
            13,
            14,
            15,
            16,
            17,
            18,
            19,
            20,
            21,
            22,
            23,
            24,
            25,
            26,
            27,
            28
           ],
           "y": [
            0.10442892,
            0.14224926,
            0.16282678,
            0.16282678,
            0.16452551,
            0.16554648,
            0.17032182,
            0.17032182,
            0.18504907,
            0.18508397,
            0.1854914,
            0.1870719,
            0.1872687,
            0.18752642,
            0.18792188,
            0.18792188,
            0.18810053,
            0.18864377,
            0.18866037,
            0.18910883,
            0.18983072,
            0.18983072,
            0.18983072,
            0.19038348,
            0.19038348,
            0.19038348,
            0.19261675,
            0.19261675,
            0.19261675
           ]
          }
         ],
         "name": "28"
        },
        {
         "data": [
          {
           "hoverinfo": "skip",
           "line": {
            "color": "black",
            "width": 4
           },
           "mode": "lines",
           "showlegend": false,
           "type": "scatter",
           "x": [
            0,
            120,
            120,
            0,
            0
           ],
           "y": [
            0,
            0,
            80,
            80,
            0
           ]
          },
          {
           "hoverinfo": "skip",
           "line": {
            "color": "black",
            "width": 4
           },
           "mode": "lines",
           "showlegend": false,
           "type": "scatter",
           "x": [
            60,
            60
           ],
           "y": [
            0,
            80
           ]
          },
          {
           "hoverinfo": "skip",
           "line": {
            "color": "black",
            "width": 4
           },
           "mode": "lines",
           "showlegend": false,
           "type": "scatter",
           "x": [
            0,
            16.459249641096918,
            16.459249641096918,
            0
           ],
           "y": [
            16,
            16,
            64,
            64
           ]
          },
          {
           "hoverinfo": "skip",
           "line": {
            "color": "black",
            "width": 4
           },
           "mode": "lines",
           "showlegend": false,
           "type": "scatter",
           "x": [
            120,
            103.54075035890308,
            103.54075035890308,
            120
           ],
           "y": [
            16,
            16,
            64,
            64
           ]
          },
          {
           "hoverinfo": "skip",
           "line": {
            "color": "black",
            "width": 4
           },
           "mode": "lines",
           "showlegend": false,
           "type": "scatter",
           "x": [
            0,
            5.486416547032306,
            5.486416547032306,
            0
           ],
           "y": [
            28,
            28,
            52,
            52
           ]
          },
          {
           "hoverinfo": "skip",
           "line": {
            "color": "black",
            "width": 4
           },
           "mode": "lines",
           "showlegend": false,
           "type": "scatter",
           "x": [
            120,
            114.5135834529677,
            114.5135834529677,
            120
           ],
           "y": [
            28,
            28,
            52,
            52
           ]
          },
          {
           "hoverinfo": "skip",
           "line": {
            "color": "black"
           },
           "mode": "markers",
           "showlegend": false,
           "type": "scatter",
           "x": [
            10.972833094064612
           ],
           "y": [
            40
           ]
          },
          {
           "hoverinfo": "skip",
           "line": {
            "color": "black"
           },
           "mode": "markers",
           "showlegend": false,
           "type": "scatter",
           "x": [
            109.02716690593539
           ],
           "y": [
            40
           ]
          },
          {
           "hoverinfo": "skip",
           "line": {
            "color": "black"
           },
           "mode": "markers",
           "showlegend": false,
           "type": "scatter",
           "x": [
            60
           ],
           "y": [
            40
           ]
          },
          {
           "marker": {
            "color": "black",
            "size": 10,
            "symbol": "star"
           },
           "mode": "markers",
           "name": "Shot Position",
           "showlegend": false,
           "type": "scatter",
           "x": [
            111
           ],
           "y": [
            40.93587480838928
           ]
          },
          {
           "marker": {
            "color": "purple",
            "size": 10,
            "symbol": "diamond"
           },
           "mode": "markers",
           "name": "Freekick Position",
           "showlegend": false,
           "type": "scatter",
           "x": [
            95
           ],
           "y": [
            62
           ]
          },
          {
           "marker": {
            "color": "orange",
            "size": 8,
            "symbol": "x"
           },
           "mode": "markers",
           "name": "Opponent",
           "showlegend": false,
           "type": "scatter",
           "x": [
            108.00615443856704
           ],
           "y": [
            43.80793554652633
           ]
          },
          {
           "marker": {
            "color": "orange",
            "size": 8,
            "symbol": "x"
           },
           "mode": "markers",
           "name": "Opponent",
           "showlegend": false,
           "type": "scatter",
           "x": [
            111.90739851122483
           ],
           "y": [
            47.029294957878314
           ]
          },
          {
           "marker": {
            "color": "orange",
            "size": 8,
            "symbol": "x"
           },
           "mode": "markers",
           "name": "Opponent",
           "showlegend": false,
           "type": "scatter",
           "x": [
            109.69742545427236
           ],
           "y": [
            48.03773445793831
           ]
          },
          {
           "marker": {
            "color": "orange",
            "size": 8,
            "symbol": "x"
           },
           "mode": "markers",
           "name": "Opponent",
           "showlegend": false,
           "type": "scatter",
           "x": [
            103.80656397910276
           ],
           "y": [
            48.61025793348464
           ]
          },
          {
           "marker": {
            "color": "orange",
            "size": 8,
            "symbol": "x"
           },
           "mode": "markers",
           "name": "Opponent",
           "showlegend": false,
           "type": "scatter",
           "x": [
            117.7267524942179
           ],
           "y": [
            49.267902892188985
           ]
          },
          {
           "marker": {
            "color": "orange",
            "size": 8,
            "symbol": "x"
           },
           "mode": "markers",
           "name": "Opponent",
           "showlegend": false,
           "type": "scatter",
           "x": [
            118.54388524949289
           ],
           "y": [
            39.19481578475043
           ]
          },
          {
           "marker": {
            "color": "blue",
            "size": 8,
            "symbol": "circle"
           },
           "mode": "markers",
           "name": "Teammate",
           "showlegend": false,
           "type": "scatter",
           "x": [
            110.67123202654521
           ],
           "y": [
            45.12920656501976
           ]
          },
          {
           "marker": {
            "color": "blue",
            "size": 8,
            "symbol": "circle"
           },
           "mode": "markers",
           "name": "Teammate",
           "showlegend": false,
           "type": "scatter",
           "x": [
            111.0067237114748
           ],
           "y": [
            43.86404977354399
           ]
          },
          {
           "marker": {
            "color": "blue",
            "size": 8,
            "symbol": "circle"
           },
           "mode": "markers",
           "name": "Teammate",
           "showlegend": false,
           "type": "scatter",
           "x": [
            107.06287292981946
           ],
           "y": [
            48.154478971834024
           ]
          },
          {
           "marker": {
            "color": "blue",
            "size": 8,
            "symbol": "circle"
           },
           "mode": "markers",
           "name": "Teammate",
           "showlegend": false,
           "type": "scatter",
           "x": [
            100.30941820585636
           ],
           "y": [
            49.21435281022161
           ]
          },
          {
           "mode": "lines+markers",
           "name": "Line Plot",
           "type": "scatter",
           "x": [
            0,
            1,
            2,
            3,
            4,
            5,
            6,
            7,
            8,
            9,
            10,
            11,
            12,
            13,
            14,
            15,
            16,
            17,
            18,
            19,
            20,
            21,
            22,
            23,
            24,
            25,
            26,
            27,
            28,
            29
           ],
           "y": [
            0.10442892,
            0.14224926,
            0.16282678,
            0.16282678,
            0.16452551,
            0.16554648,
            0.17032182,
            0.17032182,
            0.18504907,
            0.18508397,
            0.1854914,
            0.1870719,
            0.1872687,
            0.18752642,
            0.18792188,
            0.18792188,
            0.18810053,
            0.18864377,
            0.18866037,
            0.18910883,
            0.18983072,
            0.18983072,
            0.18983072,
            0.19038348,
            0.19038348,
            0.19038348,
            0.19261675,
            0.19261675,
            0.19261675,
            0.19261675
           ]
          }
         ],
         "name": "29"
        },
        {
         "data": [
          {
           "hoverinfo": "skip",
           "line": {
            "color": "black",
            "width": 4
           },
           "mode": "lines",
           "showlegend": false,
           "type": "scatter",
           "x": [
            0,
            120,
            120,
            0,
            0
           ],
           "y": [
            0,
            0,
            80,
            80,
            0
           ]
          },
          {
           "hoverinfo": "skip",
           "line": {
            "color": "black",
            "width": 4
           },
           "mode": "lines",
           "showlegend": false,
           "type": "scatter",
           "x": [
            60,
            60
           ],
           "y": [
            0,
            80
           ]
          },
          {
           "hoverinfo": "skip",
           "line": {
            "color": "black",
            "width": 4
           },
           "mode": "lines",
           "showlegend": false,
           "type": "scatter",
           "x": [
            0,
            16.459249641096918,
            16.459249641096918,
            0
           ],
           "y": [
            16,
            16,
            64,
            64
           ]
          },
          {
           "hoverinfo": "skip",
           "line": {
            "color": "black",
            "width": 4
           },
           "mode": "lines",
           "showlegend": false,
           "type": "scatter",
           "x": [
            120,
            103.54075035890308,
            103.54075035890308,
            120
           ],
           "y": [
            16,
            16,
            64,
            64
           ]
          },
          {
           "hoverinfo": "skip",
           "line": {
            "color": "black",
            "width": 4
           },
           "mode": "lines",
           "showlegend": false,
           "type": "scatter",
           "x": [
            0,
            5.486416547032306,
            5.486416547032306,
            0
           ],
           "y": [
            28,
            28,
            52,
            52
           ]
          },
          {
           "hoverinfo": "skip",
           "line": {
            "color": "black",
            "width": 4
           },
           "mode": "lines",
           "showlegend": false,
           "type": "scatter",
           "x": [
            120,
            114.5135834529677,
            114.5135834529677,
            120
           ],
           "y": [
            28,
            28,
            52,
            52
           ]
          },
          {
           "hoverinfo": "skip",
           "line": {
            "color": "black"
           },
           "mode": "markers",
           "showlegend": false,
           "type": "scatter",
           "x": [
            10.972833094064612
           ],
           "y": [
            40
           ]
          },
          {
           "hoverinfo": "skip",
           "line": {
            "color": "black"
           },
           "mode": "markers",
           "showlegend": false,
           "type": "scatter",
           "x": [
            109.02716690593539
           ],
           "y": [
            40
           ]
          },
          {
           "hoverinfo": "skip",
           "line": {
            "color": "black"
           },
           "mode": "markers",
           "showlegend": false,
           "type": "scatter",
           "x": [
            60
           ],
           "y": [
            40
           ]
          },
          {
           "marker": {
            "color": "black",
            "size": 10,
            "symbol": "star"
           },
           "mode": "markers",
           "name": "Shot Position",
           "showlegend": false,
           "type": "scatter",
           "x": [
            111
           ],
           "y": [
            40.93587480838928
           ]
          },
          {
           "marker": {
            "color": "purple",
            "size": 10,
            "symbol": "diamond"
           },
           "mode": "markers",
           "name": "Freekick Position",
           "showlegend": false,
           "type": "scatter",
           "x": [
            95
           ],
           "y": [
            62
           ]
          },
          {
           "marker": {
            "color": "orange",
            "size": 8,
            "symbol": "x"
           },
           "mode": "markers",
           "name": "Opponent",
           "showlegend": false,
           "type": "scatter",
           "x": [
            108.00615443856704
           ],
           "y": [
            43.80793554652633
           ]
          },
          {
           "marker": {
            "color": "orange",
            "size": 8,
            "symbol": "x"
           },
           "mode": "markers",
           "name": "Opponent",
           "showlegend": false,
           "type": "scatter",
           "x": [
            111.90739851122483
           ],
           "y": [
            47.029294957878314
           ]
          },
          {
           "marker": {
            "color": "orange",
            "size": 8,
            "symbol": "x"
           },
           "mode": "markers",
           "name": "Opponent",
           "showlegend": false,
           "type": "scatter",
           "x": [
            109.69742545427236
           ],
           "y": [
            48.03773445793831
           ]
          },
          {
           "marker": {
            "color": "orange",
            "size": 8,
            "symbol": "x"
           },
           "mode": "markers",
           "name": "Opponent",
           "showlegend": false,
           "type": "scatter",
           "x": [
            103.80656397910276
           ],
           "y": [
            48.61025793348464
           ]
          },
          {
           "marker": {
            "color": "orange",
            "size": 8,
            "symbol": "x"
           },
           "mode": "markers",
           "name": "Opponent",
           "showlegend": false,
           "type": "scatter",
           "x": [
            117.7267524942179
           ],
           "y": [
            49.267902892188985
           ]
          },
          {
           "marker": {
            "color": "orange",
            "size": 8,
            "symbol": "x"
           },
           "mode": "markers",
           "name": "Opponent",
           "showlegend": false,
           "type": "scatter",
           "x": [
            118.54388524949289
           ],
           "y": [
            39.19481578475043
           ]
          },
          {
           "marker": {
            "color": "blue",
            "size": 8,
            "symbol": "circle"
           },
           "mode": "markers",
           "name": "Teammate",
           "showlegend": false,
           "type": "scatter",
           "x": [
            110.67123202654521
           ],
           "y": [
            45.12920656501976
           ]
          },
          {
           "marker": {
            "color": "blue",
            "size": 8,
            "symbol": "circle"
           },
           "mode": "markers",
           "name": "Teammate",
           "showlegend": false,
           "type": "scatter",
           "x": [
            111.0067237114748
           ],
           "y": [
            43.86404977354399
           ]
          },
          {
           "marker": {
            "color": "blue",
            "size": 8,
            "symbol": "circle"
           },
           "mode": "markers",
           "name": "Teammate",
           "showlegend": false,
           "type": "scatter",
           "x": [
            107.06287292981946
           ],
           "y": [
            48.154478971834024
           ]
          },
          {
           "marker": {
            "color": "blue",
            "size": 8,
            "symbol": "circle"
           },
           "mode": "markers",
           "name": "Teammate",
           "showlegend": false,
           "type": "scatter",
           "x": [
            100.30941820585636
           ],
           "y": [
            49.21435281022161
           ]
          },
          {
           "mode": "lines+markers",
           "name": "Line Plot",
           "type": "scatter",
           "x": [
            0,
            1,
            2,
            3,
            4,
            5,
            6,
            7,
            8,
            9,
            10,
            11,
            12,
            13,
            14,
            15,
            16,
            17,
            18,
            19,
            20,
            21,
            22,
            23,
            24,
            25,
            26,
            27,
            28,
            29,
            30
           ],
           "y": [
            0.10442892,
            0.14224926,
            0.16282678,
            0.16282678,
            0.16452551,
            0.16554648,
            0.17032182,
            0.17032182,
            0.18504907,
            0.18508397,
            0.1854914,
            0.1870719,
            0.1872687,
            0.18752642,
            0.18792188,
            0.18792188,
            0.18810053,
            0.18864377,
            0.18866037,
            0.18910883,
            0.18983072,
            0.18983072,
            0.18983072,
            0.19038348,
            0.19038348,
            0.19038348,
            0.19261675,
            0.19261675,
            0.19261675,
            0.19261675,
            0.19261675
           ]
          }
         ],
         "name": "30"
        },
        {
         "data": [
          {
           "hoverinfo": "skip",
           "line": {
            "color": "black",
            "width": 4
           },
           "mode": "lines",
           "showlegend": false,
           "type": "scatter",
           "x": [
            0,
            120,
            120,
            0,
            0
           ],
           "y": [
            0,
            0,
            80,
            80,
            0
           ]
          },
          {
           "hoverinfo": "skip",
           "line": {
            "color": "black",
            "width": 4
           },
           "mode": "lines",
           "showlegend": false,
           "type": "scatter",
           "x": [
            60,
            60
           ],
           "y": [
            0,
            80
           ]
          },
          {
           "hoverinfo": "skip",
           "line": {
            "color": "black",
            "width": 4
           },
           "mode": "lines",
           "showlegend": false,
           "type": "scatter",
           "x": [
            0,
            16.459249641096918,
            16.459249641096918,
            0
           ],
           "y": [
            16,
            16,
            64,
            64
           ]
          },
          {
           "hoverinfo": "skip",
           "line": {
            "color": "black",
            "width": 4
           },
           "mode": "lines",
           "showlegend": false,
           "type": "scatter",
           "x": [
            120,
            103.54075035890308,
            103.54075035890308,
            120
           ],
           "y": [
            16,
            16,
            64,
            64
           ]
          },
          {
           "hoverinfo": "skip",
           "line": {
            "color": "black",
            "width": 4
           },
           "mode": "lines",
           "showlegend": false,
           "type": "scatter",
           "x": [
            0,
            5.486416547032306,
            5.486416547032306,
            0
           ],
           "y": [
            28,
            28,
            52,
            52
           ]
          },
          {
           "hoverinfo": "skip",
           "line": {
            "color": "black",
            "width": 4
           },
           "mode": "lines",
           "showlegend": false,
           "type": "scatter",
           "x": [
            120,
            114.5135834529677,
            114.5135834529677,
            120
           ],
           "y": [
            28,
            28,
            52,
            52
           ]
          },
          {
           "hoverinfo": "skip",
           "line": {
            "color": "black"
           },
           "mode": "markers",
           "showlegend": false,
           "type": "scatter",
           "x": [
            10.972833094064612
           ],
           "y": [
            40
           ]
          },
          {
           "hoverinfo": "skip",
           "line": {
            "color": "black"
           },
           "mode": "markers",
           "showlegend": false,
           "type": "scatter",
           "x": [
            109.02716690593539
           ],
           "y": [
            40
           ]
          },
          {
           "hoverinfo": "skip",
           "line": {
            "color": "black"
           },
           "mode": "markers",
           "showlegend": false,
           "type": "scatter",
           "x": [
            60
           ],
           "y": [
            40
           ]
          },
          {
           "marker": {
            "color": "black",
            "size": 10,
            "symbol": "star"
           },
           "mode": "markers",
           "name": "Shot Position",
           "showlegend": false,
           "type": "scatter",
           "x": [
            111
           ],
           "y": [
            40.93587480838928
           ]
          },
          {
           "marker": {
            "color": "purple",
            "size": 10,
            "symbol": "diamond"
           },
           "mode": "markers",
           "name": "Freekick Position",
           "showlegend": false,
           "type": "scatter",
           "x": [
            95
           ],
           "y": [
            62
           ]
          },
          {
           "marker": {
            "color": "orange",
            "size": 8,
            "symbol": "x"
           },
           "mode": "markers",
           "name": "Opponent",
           "showlegend": false,
           "type": "scatter",
           "x": [
            108.00615443856704
           ],
           "y": [
            43.80793554652633
           ]
          },
          {
           "marker": {
            "color": "orange",
            "size": 8,
            "symbol": "x"
           },
           "mode": "markers",
           "name": "Opponent",
           "showlegend": false,
           "type": "scatter",
           "x": [
            111.90739851122483
           ],
           "y": [
            47.029294957878314
           ]
          },
          {
           "marker": {
            "color": "orange",
            "size": 8,
            "symbol": "x"
           },
           "mode": "markers",
           "name": "Opponent",
           "showlegend": false,
           "type": "scatter",
           "x": [
            109.69742545427236
           ],
           "y": [
            48.03773445793831
           ]
          },
          {
           "marker": {
            "color": "orange",
            "size": 8,
            "symbol": "x"
           },
           "mode": "markers",
           "name": "Opponent",
           "showlegend": false,
           "type": "scatter",
           "x": [
            103.80656397910276
           ],
           "y": [
            48.61025793348464
           ]
          },
          {
           "marker": {
            "color": "orange",
            "size": 8,
            "symbol": "x"
           },
           "mode": "markers",
           "name": "Opponent",
           "showlegend": false,
           "type": "scatter",
           "x": [
            117.7267524942179
           ],
           "y": [
            49.267902892188985
           ]
          },
          {
           "marker": {
            "color": "orange",
            "size": 8,
            "symbol": "x"
           },
           "mode": "markers",
           "name": "Opponent",
           "showlegend": false,
           "type": "scatter",
           "x": [
            118.54388524949289
           ],
           "y": [
            39.19481578475043
           ]
          },
          {
           "marker": {
            "color": "blue",
            "size": 8,
            "symbol": "circle"
           },
           "mode": "markers",
           "name": "Teammate",
           "showlegend": false,
           "type": "scatter",
           "x": [
            110.67123202654521
           ],
           "y": [
            45.12920656501976
           ]
          },
          {
           "marker": {
            "color": "blue",
            "size": 8,
            "symbol": "circle"
           },
           "mode": "markers",
           "name": "Teammate",
           "showlegend": false,
           "type": "scatter",
           "x": [
            111.0067237114748
           ],
           "y": [
            43.86404977354399
           ]
          },
          {
           "marker": {
            "color": "blue",
            "size": 8,
            "symbol": "circle"
           },
           "mode": "markers",
           "name": "Teammate",
           "showlegend": false,
           "type": "scatter",
           "x": [
            107.06287292981946
           ],
           "y": [
            48.154478971834024
           ]
          },
          {
           "marker": {
            "color": "blue",
            "size": 8,
            "symbol": "circle"
           },
           "mode": "markers",
           "name": "Teammate",
           "showlegend": false,
           "type": "scatter",
           "x": [
            100.30941820585636
           ],
           "y": [
            49.21435281022161
           ]
          },
          {
           "mode": "lines+markers",
           "name": "Line Plot",
           "type": "scatter",
           "x": [
            0,
            1,
            2,
            3,
            4,
            5,
            6,
            7,
            8,
            9,
            10,
            11,
            12,
            13,
            14,
            15,
            16,
            17,
            18,
            19,
            20,
            21,
            22,
            23,
            24,
            25,
            26,
            27,
            28,
            29,
            30,
            31
           ],
           "y": [
            0.10442892,
            0.14224926,
            0.16282678,
            0.16282678,
            0.16452551,
            0.16554648,
            0.17032182,
            0.17032182,
            0.18504907,
            0.18508397,
            0.1854914,
            0.1870719,
            0.1872687,
            0.18752642,
            0.18792188,
            0.18792188,
            0.18810053,
            0.18864377,
            0.18866037,
            0.18910883,
            0.18983072,
            0.18983072,
            0.18983072,
            0.19038348,
            0.19038348,
            0.19038348,
            0.19261675,
            0.19261675,
            0.19261675,
            0.19261675,
            0.19261675,
            0.19261675
           ]
          }
         ],
         "name": "31"
        },
        {
         "data": [
          {
           "hoverinfo": "skip",
           "line": {
            "color": "black",
            "width": 4
           },
           "mode": "lines",
           "showlegend": false,
           "type": "scatter",
           "x": [
            0,
            120,
            120,
            0,
            0
           ],
           "y": [
            0,
            0,
            80,
            80,
            0
           ]
          },
          {
           "hoverinfo": "skip",
           "line": {
            "color": "black",
            "width": 4
           },
           "mode": "lines",
           "showlegend": false,
           "type": "scatter",
           "x": [
            60,
            60
           ],
           "y": [
            0,
            80
           ]
          },
          {
           "hoverinfo": "skip",
           "line": {
            "color": "black",
            "width": 4
           },
           "mode": "lines",
           "showlegend": false,
           "type": "scatter",
           "x": [
            0,
            16.459249641096918,
            16.459249641096918,
            0
           ],
           "y": [
            16,
            16,
            64,
            64
           ]
          },
          {
           "hoverinfo": "skip",
           "line": {
            "color": "black",
            "width": 4
           },
           "mode": "lines",
           "showlegend": false,
           "type": "scatter",
           "x": [
            120,
            103.54075035890308,
            103.54075035890308,
            120
           ],
           "y": [
            16,
            16,
            64,
            64
           ]
          },
          {
           "hoverinfo": "skip",
           "line": {
            "color": "black",
            "width": 4
           },
           "mode": "lines",
           "showlegend": false,
           "type": "scatter",
           "x": [
            0,
            5.486416547032306,
            5.486416547032306,
            0
           ],
           "y": [
            28,
            28,
            52,
            52
           ]
          },
          {
           "hoverinfo": "skip",
           "line": {
            "color": "black",
            "width": 4
           },
           "mode": "lines",
           "showlegend": false,
           "type": "scatter",
           "x": [
            120,
            114.5135834529677,
            114.5135834529677,
            120
           ],
           "y": [
            28,
            28,
            52,
            52
           ]
          },
          {
           "hoverinfo": "skip",
           "line": {
            "color": "black"
           },
           "mode": "markers",
           "showlegend": false,
           "type": "scatter",
           "x": [
            10.972833094064612
           ],
           "y": [
            40
           ]
          },
          {
           "hoverinfo": "skip",
           "line": {
            "color": "black"
           },
           "mode": "markers",
           "showlegend": false,
           "type": "scatter",
           "x": [
            109.02716690593539
           ],
           "y": [
            40
           ]
          },
          {
           "hoverinfo": "skip",
           "line": {
            "color": "black"
           },
           "mode": "markers",
           "showlegend": false,
           "type": "scatter",
           "x": [
            60
           ],
           "y": [
            40
           ]
          },
          {
           "marker": {
            "color": "black",
            "size": 10,
            "symbol": "star"
           },
           "mode": "markers",
           "name": "Shot Position",
           "showlegend": false,
           "type": "scatter",
           "x": [
            111
           ],
           "y": [
            40.93587480838928
           ]
          },
          {
           "marker": {
            "color": "purple",
            "size": 10,
            "symbol": "diamond"
           },
           "mode": "markers",
           "name": "Freekick Position",
           "showlegend": false,
           "type": "scatter",
           "x": [
            95
           ],
           "y": [
            62
           ]
          },
          {
           "marker": {
            "color": "orange",
            "size": 8,
            "symbol": "x"
           },
           "mode": "markers",
           "name": "Opponent",
           "showlegend": false,
           "type": "scatter",
           "x": [
            108.00615443856704
           ],
           "y": [
            43.80793554652633
           ]
          },
          {
           "marker": {
            "color": "orange",
            "size": 8,
            "symbol": "x"
           },
           "mode": "markers",
           "name": "Opponent",
           "showlegend": false,
           "type": "scatter",
           "x": [
            111.90739851122483
           ],
           "y": [
            47.029294957878314
           ]
          },
          {
           "marker": {
            "color": "orange",
            "size": 8,
            "symbol": "x"
           },
           "mode": "markers",
           "name": "Opponent",
           "showlegend": false,
           "type": "scatter",
           "x": [
            109.69742545427236
           ],
           "y": [
            48.03773445793831
           ]
          },
          {
           "marker": {
            "color": "orange",
            "size": 8,
            "symbol": "x"
           },
           "mode": "markers",
           "name": "Opponent",
           "showlegend": false,
           "type": "scatter",
           "x": [
            103.80656397910276
           ],
           "y": [
            48.61025793348464
           ]
          },
          {
           "marker": {
            "color": "orange",
            "size": 8,
            "symbol": "x"
           },
           "mode": "markers",
           "name": "Opponent",
           "showlegend": false,
           "type": "scatter",
           "x": [
            117.7267524942179
           ],
           "y": [
            49.267902892188985
           ]
          },
          {
           "marker": {
            "color": "orange",
            "size": 8,
            "symbol": "x"
           },
           "mode": "markers",
           "name": "Opponent",
           "showlegend": false,
           "type": "scatter",
           "x": [
            118.54388524949289
           ],
           "y": [
            39.19481578475043
           ]
          },
          {
           "marker": {
            "color": "blue",
            "size": 8,
            "symbol": "circle"
           },
           "mode": "markers",
           "name": "Teammate",
           "showlegend": false,
           "type": "scatter",
           "x": [
            110.67123202654521
           ],
           "y": [
            45.12920656501976
           ]
          },
          {
           "marker": {
            "color": "blue",
            "size": 8,
            "symbol": "circle"
           },
           "mode": "markers",
           "name": "Teammate",
           "showlegend": false,
           "type": "scatter",
           "x": [
            111.0067237114748
           ],
           "y": [
            43.86404977354399
           ]
          },
          {
           "marker": {
            "color": "blue",
            "size": 8,
            "symbol": "circle"
           },
           "mode": "markers",
           "name": "Teammate",
           "showlegend": false,
           "type": "scatter",
           "x": [
            107.06287292981946
           ],
           "y": [
            48.154478971834024
           ]
          },
          {
           "marker": {
            "color": "blue",
            "size": 8,
            "symbol": "circle"
           },
           "mode": "markers",
           "name": "Teammate",
           "showlegend": false,
           "type": "scatter",
           "x": [
            100.30941820585636
           ],
           "y": [
            49.21435281022161
           ]
          },
          {
           "mode": "lines+markers",
           "name": "Line Plot",
           "type": "scatter",
           "x": [
            0,
            1,
            2,
            3,
            4,
            5,
            6,
            7,
            8,
            9,
            10,
            11,
            12,
            13,
            14,
            15,
            16,
            17,
            18,
            19,
            20,
            21,
            22,
            23,
            24,
            25,
            26,
            27,
            28,
            29,
            30,
            31,
            32
           ],
           "y": [
            0.10442892,
            0.14224926,
            0.16282678,
            0.16282678,
            0.16452551,
            0.16554648,
            0.17032182,
            0.17032182,
            0.18504907,
            0.18508397,
            0.1854914,
            0.1870719,
            0.1872687,
            0.18752642,
            0.18792188,
            0.18792188,
            0.18810053,
            0.18864377,
            0.18866037,
            0.18910883,
            0.18983072,
            0.18983072,
            0.18983072,
            0.19038348,
            0.19038348,
            0.19038348,
            0.19261675,
            0.19261675,
            0.19261675,
            0.19261675,
            0.19261675,
            0.19261675,
            0.19261675
           ]
          }
         ],
         "name": "32"
        },
        {
         "data": [
          {
           "hoverinfo": "skip",
           "line": {
            "color": "black",
            "width": 4
           },
           "mode": "lines",
           "showlegend": false,
           "type": "scatter",
           "x": [
            0,
            120,
            120,
            0,
            0
           ],
           "y": [
            0,
            0,
            80,
            80,
            0
           ]
          },
          {
           "hoverinfo": "skip",
           "line": {
            "color": "black",
            "width": 4
           },
           "mode": "lines",
           "showlegend": false,
           "type": "scatter",
           "x": [
            60,
            60
           ],
           "y": [
            0,
            80
           ]
          },
          {
           "hoverinfo": "skip",
           "line": {
            "color": "black",
            "width": 4
           },
           "mode": "lines",
           "showlegend": false,
           "type": "scatter",
           "x": [
            0,
            16.459249641096918,
            16.459249641096918,
            0
           ],
           "y": [
            16,
            16,
            64,
            64
           ]
          },
          {
           "hoverinfo": "skip",
           "line": {
            "color": "black",
            "width": 4
           },
           "mode": "lines",
           "showlegend": false,
           "type": "scatter",
           "x": [
            120,
            103.54075035890308,
            103.54075035890308,
            120
           ],
           "y": [
            16,
            16,
            64,
            64
           ]
          },
          {
           "hoverinfo": "skip",
           "line": {
            "color": "black",
            "width": 4
           },
           "mode": "lines",
           "showlegend": false,
           "type": "scatter",
           "x": [
            0,
            5.486416547032306,
            5.486416547032306,
            0
           ],
           "y": [
            28,
            28,
            52,
            52
           ]
          },
          {
           "hoverinfo": "skip",
           "line": {
            "color": "black",
            "width": 4
           },
           "mode": "lines",
           "showlegend": false,
           "type": "scatter",
           "x": [
            120,
            114.5135834529677,
            114.5135834529677,
            120
           ],
           "y": [
            28,
            28,
            52,
            52
           ]
          },
          {
           "hoverinfo": "skip",
           "line": {
            "color": "black"
           },
           "mode": "markers",
           "showlegend": false,
           "type": "scatter",
           "x": [
            10.972833094064612
           ],
           "y": [
            40
           ]
          },
          {
           "hoverinfo": "skip",
           "line": {
            "color": "black"
           },
           "mode": "markers",
           "showlegend": false,
           "type": "scatter",
           "x": [
            109.02716690593539
           ],
           "y": [
            40
           ]
          },
          {
           "hoverinfo": "skip",
           "line": {
            "color": "black"
           },
           "mode": "markers",
           "showlegend": false,
           "type": "scatter",
           "x": [
            60
           ],
           "y": [
            40
           ]
          },
          {
           "marker": {
            "color": "black",
            "size": 10,
            "symbol": "star"
           },
           "mode": "markers",
           "name": "Shot Position",
           "showlegend": false,
           "type": "scatter",
           "x": [
            111
           ],
           "y": [
            40.93587480838928
           ]
          },
          {
           "marker": {
            "color": "purple",
            "size": 10,
            "symbol": "diamond"
           },
           "mode": "markers",
           "name": "Freekick Position",
           "showlegend": false,
           "type": "scatter",
           "x": [
            95
           ],
           "y": [
            62
           ]
          },
          {
           "marker": {
            "color": "orange",
            "size": 8,
            "symbol": "x"
           },
           "mode": "markers",
           "name": "Opponent",
           "showlegend": false,
           "type": "scatter",
           "x": [
            108.00615443856704
           ],
           "y": [
            43.80793554652633
           ]
          },
          {
           "marker": {
            "color": "orange",
            "size": 8,
            "symbol": "x"
           },
           "mode": "markers",
           "name": "Opponent",
           "showlegend": false,
           "type": "scatter",
           "x": [
            111.90739851122483
           ],
           "y": [
            47.029294957878314
           ]
          },
          {
           "marker": {
            "color": "orange",
            "size": 8,
            "symbol": "x"
           },
           "mode": "markers",
           "name": "Opponent",
           "showlegend": false,
           "type": "scatter",
           "x": [
            109.69742545427236
           ],
           "y": [
            48.03773445793831
           ]
          },
          {
           "marker": {
            "color": "orange",
            "size": 8,
            "symbol": "x"
           },
           "mode": "markers",
           "name": "Opponent",
           "showlegend": false,
           "type": "scatter",
           "x": [
            103.80656397910276
           ],
           "y": [
            48.61025793348464
           ]
          },
          {
           "marker": {
            "color": "orange",
            "size": 8,
            "symbol": "x"
           },
           "mode": "markers",
           "name": "Opponent",
           "showlegend": false,
           "type": "scatter",
           "x": [
            117.7267524942179
           ],
           "y": [
            49.267902892188985
           ]
          },
          {
           "marker": {
            "color": "orange",
            "size": 8,
            "symbol": "x"
           },
           "mode": "markers",
           "name": "Opponent",
           "showlegend": false,
           "type": "scatter",
           "x": [
            118.54388524949289
           ],
           "y": [
            39.19481578475043
           ]
          },
          {
           "marker": {
            "color": "blue",
            "size": 8,
            "symbol": "circle"
           },
           "mode": "markers",
           "name": "Teammate",
           "showlegend": false,
           "type": "scatter",
           "x": [
            110.67123202654521
           ],
           "y": [
            45.12920656501976
           ]
          },
          {
           "marker": {
            "color": "blue",
            "size": 8,
            "symbol": "circle"
           },
           "mode": "markers",
           "name": "Teammate",
           "showlegend": false,
           "type": "scatter",
           "x": [
            111.0067237114748
           ],
           "y": [
            43.86404977354399
           ]
          },
          {
           "marker": {
            "color": "blue",
            "size": 8,
            "symbol": "circle"
           },
           "mode": "markers",
           "name": "Teammate",
           "showlegend": false,
           "type": "scatter",
           "x": [
            107.06287292981946
           ],
           "y": [
            48.154478971834024
           ]
          },
          {
           "marker": {
            "color": "blue",
            "size": 8,
            "symbol": "circle"
           },
           "mode": "markers",
           "name": "Teammate",
           "showlegend": false,
           "type": "scatter",
           "x": [
            100.30941820585636
           ],
           "y": [
            49.21435281022161
           ]
          },
          {
           "mode": "lines+markers",
           "name": "Line Plot",
           "type": "scatter",
           "x": [
            0,
            1,
            2,
            3,
            4,
            5,
            6,
            7,
            8,
            9,
            10,
            11,
            12,
            13,
            14,
            15,
            16,
            17,
            18,
            19,
            20,
            21,
            22,
            23,
            24,
            25,
            26,
            27,
            28,
            29,
            30,
            31,
            32,
            33
           ],
           "y": [
            0.10442892,
            0.14224926,
            0.16282678,
            0.16282678,
            0.16452551,
            0.16554648,
            0.17032182,
            0.17032182,
            0.18504907,
            0.18508397,
            0.1854914,
            0.1870719,
            0.1872687,
            0.18752642,
            0.18792188,
            0.18792188,
            0.18810053,
            0.18864377,
            0.18866037,
            0.18910883,
            0.18983072,
            0.18983072,
            0.18983072,
            0.19038348,
            0.19038348,
            0.19038348,
            0.19261675,
            0.19261675,
            0.19261675,
            0.19261675,
            0.19261675,
            0.19261675,
            0.19261675,
            0.19261675
           ]
          }
         ],
         "name": "33"
        },
        {
         "data": [
          {
           "hoverinfo": "skip",
           "line": {
            "color": "black",
            "width": 4
           },
           "mode": "lines",
           "showlegend": false,
           "type": "scatter",
           "x": [
            0,
            120,
            120,
            0,
            0
           ],
           "y": [
            0,
            0,
            80,
            80,
            0
           ]
          },
          {
           "hoverinfo": "skip",
           "line": {
            "color": "black",
            "width": 4
           },
           "mode": "lines",
           "showlegend": false,
           "type": "scatter",
           "x": [
            60,
            60
           ],
           "y": [
            0,
            80
           ]
          },
          {
           "hoverinfo": "skip",
           "line": {
            "color": "black",
            "width": 4
           },
           "mode": "lines",
           "showlegend": false,
           "type": "scatter",
           "x": [
            0,
            16.459249641096918,
            16.459249641096918,
            0
           ],
           "y": [
            16,
            16,
            64,
            64
           ]
          },
          {
           "hoverinfo": "skip",
           "line": {
            "color": "black",
            "width": 4
           },
           "mode": "lines",
           "showlegend": false,
           "type": "scatter",
           "x": [
            120,
            103.54075035890308,
            103.54075035890308,
            120
           ],
           "y": [
            16,
            16,
            64,
            64
           ]
          },
          {
           "hoverinfo": "skip",
           "line": {
            "color": "black",
            "width": 4
           },
           "mode": "lines",
           "showlegend": false,
           "type": "scatter",
           "x": [
            0,
            5.486416547032306,
            5.486416547032306,
            0
           ],
           "y": [
            28,
            28,
            52,
            52
           ]
          },
          {
           "hoverinfo": "skip",
           "line": {
            "color": "black",
            "width": 4
           },
           "mode": "lines",
           "showlegend": false,
           "type": "scatter",
           "x": [
            120,
            114.5135834529677,
            114.5135834529677,
            120
           ],
           "y": [
            28,
            28,
            52,
            52
           ]
          },
          {
           "hoverinfo": "skip",
           "line": {
            "color": "black"
           },
           "mode": "markers",
           "showlegend": false,
           "type": "scatter",
           "x": [
            10.972833094064612
           ],
           "y": [
            40
           ]
          },
          {
           "hoverinfo": "skip",
           "line": {
            "color": "black"
           },
           "mode": "markers",
           "showlegend": false,
           "type": "scatter",
           "x": [
            109.02716690593539
           ],
           "y": [
            40
           ]
          },
          {
           "hoverinfo": "skip",
           "line": {
            "color": "black"
           },
           "mode": "markers",
           "showlegend": false,
           "type": "scatter",
           "x": [
            60
           ],
           "y": [
            40
           ]
          },
          {
           "marker": {
            "color": "black",
            "size": 10,
            "symbol": "star"
           },
           "mode": "markers",
           "name": "Shot Position",
           "showlegend": false,
           "type": "scatter",
           "x": [
            111
           ],
           "y": [
            40.93587480838928
           ]
          },
          {
           "marker": {
            "color": "purple",
            "size": 10,
            "symbol": "diamond"
           },
           "mode": "markers",
           "name": "Freekick Position",
           "showlegend": false,
           "type": "scatter",
           "x": [
            95
           ],
           "y": [
            62
           ]
          },
          {
           "marker": {
            "color": "orange",
            "size": 8,
            "symbol": "x"
           },
           "mode": "markers",
           "name": "Opponent",
           "showlegend": false,
           "type": "scatter",
           "x": [
            108.00615443856704
           ],
           "y": [
            43.80793554652633
           ]
          },
          {
           "marker": {
            "color": "orange",
            "size": 8,
            "symbol": "x"
           },
           "mode": "markers",
           "name": "Opponent",
           "showlegend": false,
           "type": "scatter",
           "x": [
            111.90739851122483
           ],
           "y": [
            47.029294957878314
           ]
          },
          {
           "marker": {
            "color": "orange",
            "size": 8,
            "symbol": "x"
           },
           "mode": "markers",
           "name": "Opponent",
           "showlegend": false,
           "type": "scatter",
           "x": [
            109.69742545427236
           ],
           "y": [
            48.03773445793831
           ]
          },
          {
           "marker": {
            "color": "orange",
            "size": 8,
            "symbol": "x"
           },
           "mode": "markers",
           "name": "Opponent",
           "showlegend": false,
           "type": "scatter",
           "x": [
            103.80656397910276
           ],
           "y": [
            48.61025793348464
           ]
          },
          {
           "marker": {
            "color": "orange",
            "size": 8,
            "symbol": "x"
           },
           "mode": "markers",
           "name": "Opponent",
           "showlegend": false,
           "type": "scatter",
           "x": [
            117.7267524942179
           ],
           "y": [
            49.267902892188985
           ]
          },
          {
           "marker": {
            "color": "orange",
            "size": 8,
            "symbol": "x"
           },
           "mode": "markers",
           "name": "Opponent",
           "showlegend": false,
           "type": "scatter",
           "x": [
            118.54388524949289
           ],
           "y": [
            39.19481578475043
           ]
          },
          {
           "marker": {
            "color": "blue",
            "size": 8,
            "symbol": "circle"
           },
           "mode": "markers",
           "name": "Teammate",
           "showlegend": false,
           "type": "scatter",
           "x": [
            110.67123202654521
           ],
           "y": [
            45.12920656501976
           ]
          },
          {
           "marker": {
            "color": "blue",
            "size": 8,
            "symbol": "circle"
           },
           "mode": "markers",
           "name": "Teammate",
           "showlegend": false,
           "type": "scatter",
           "x": [
            111.0067237114748
           ],
           "y": [
            43.86404977354399
           ]
          },
          {
           "marker": {
            "color": "blue",
            "size": 8,
            "symbol": "circle"
           },
           "mode": "markers",
           "name": "Teammate",
           "showlegend": false,
           "type": "scatter",
           "x": [
            107.06287292981946
           ],
           "y": [
            48.154478971834024
           ]
          },
          {
           "marker": {
            "color": "blue",
            "size": 8,
            "symbol": "circle"
           },
           "mode": "markers",
           "name": "Teammate",
           "showlegend": false,
           "type": "scatter",
           "x": [
            100.30941820585636
           ],
           "y": [
            49.21435281022161
           ]
          },
          {
           "mode": "lines+markers",
           "name": "Line Plot",
           "type": "scatter",
           "x": [
            0,
            1,
            2,
            3,
            4,
            5,
            6,
            7,
            8,
            9,
            10,
            11,
            12,
            13,
            14,
            15,
            16,
            17,
            18,
            19,
            20,
            21,
            22,
            23,
            24,
            25,
            26,
            27,
            28,
            29,
            30,
            31,
            32,
            33,
            34
           ],
           "y": [
            0.10442892,
            0.14224926,
            0.16282678,
            0.16282678,
            0.16452551,
            0.16554648,
            0.17032182,
            0.17032182,
            0.18504907,
            0.18508397,
            0.1854914,
            0.1870719,
            0.1872687,
            0.18752642,
            0.18792188,
            0.18792188,
            0.18810053,
            0.18864377,
            0.18866037,
            0.18910883,
            0.18983072,
            0.18983072,
            0.18983072,
            0.19038348,
            0.19038348,
            0.19038348,
            0.19261675,
            0.19261675,
            0.19261675,
            0.19261675,
            0.19261675,
            0.19261675,
            0.19261675,
            0.19261675,
            0.19261675
           ]
          }
         ],
         "name": "34"
        },
        {
         "data": [
          {
           "hoverinfo": "skip",
           "line": {
            "color": "black",
            "width": 4
           },
           "mode": "lines",
           "showlegend": false,
           "type": "scatter",
           "x": [
            0,
            120,
            120,
            0,
            0
           ],
           "y": [
            0,
            0,
            80,
            80,
            0
           ]
          },
          {
           "hoverinfo": "skip",
           "line": {
            "color": "black",
            "width": 4
           },
           "mode": "lines",
           "showlegend": false,
           "type": "scatter",
           "x": [
            60,
            60
           ],
           "y": [
            0,
            80
           ]
          },
          {
           "hoverinfo": "skip",
           "line": {
            "color": "black",
            "width": 4
           },
           "mode": "lines",
           "showlegend": false,
           "type": "scatter",
           "x": [
            0,
            16.459249641096918,
            16.459249641096918,
            0
           ],
           "y": [
            16,
            16,
            64,
            64
           ]
          },
          {
           "hoverinfo": "skip",
           "line": {
            "color": "black",
            "width": 4
           },
           "mode": "lines",
           "showlegend": false,
           "type": "scatter",
           "x": [
            120,
            103.54075035890308,
            103.54075035890308,
            120
           ],
           "y": [
            16,
            16,
            64,
            64
           ]
          },
          {
           "hoverinfo": "skip",
           "line": {
            "color": "black",
            "width": 4
           },
           "mode": "lines",
           "showlegend": false,
           "type": "scatter",
           "x": [
            0,
            5.486416547032306,
            5.486416547032306,
            0
           ],
           "y": [
            28,
            28,
            52,
            52
           ]
          },
          {
           "hoverinfo": "skip",
           "line": {
            "color": "black",
            "width": 4
           },
           "mode": "lines",
           "showlegend": false,
           "type": "scatter",
           "x": [
            120,
            114.5135834529677,
            114.5135834529677,
            120
           ],
           "y": [
            28,
            28,
            52,
            52
           ]
          },
          {
           "hoverinfo": "skip",
           "line": {
            "color": "black"
           },
           "mode": "markers",
           "showlegend": false,
           "type": "scatter",
           "x": [
            10.972833094064612
           ],
           "y": [
            40
           ]
          },
          {
           "hoverinfo": "skip",
           "line": {
            "color": "black"
           },
           "mode": "markers",
           "showlegend": false,
           "type": "scatter",
           "x": [
            109.02716690593539
           ],
           "y": [
            40
           ]
          },
          {
           "hoverinfo": "skip",
           "line": {
            "color": "black"
           },
           "mode": "markers",
           "showlegend": false,
           "type": "scatter",
           "x": [
            60
           ],
           "y": [
            40
           ]
          },
          {
           "marker": {
            "color": "black",
            "size": 10,
            "symbol": "star"
           },
           "mode": "markers",
           "name": "Shot Position",
           "showlegend": false,
           "type": "scatter",
           "x": [
            111
           ],
           "y": [
            40.93587480838928
           ]
          },
          {
           "marker": {
            "color": "purple",
            "size": 10,
            "symbol": "diamond"
           },
           "mode": "markers",
           "name": "Freekick Position",
           "showlegend": false,
           "type": "scatter",
           "x": [
            95
           ],
           "y": [
            62
           ]
          },
          {
           "marker": {
            "color": "orange",
            "size": 8,
            "symbol": "x"
           },
           "mode": "markers",
           "name": "Opponent",
           "showlegend": false,
           "type": "scatter",
           "x": [
            108.00615443856704
           ],
           "y": [
            43.80793554652633
           ]
          },
          {
           "marker": {
            "color": "orange",
            "size": 8,
            "symbol": "x"
           },
           "mode": "markers",
           "name": "Opponent",
           "showlegend": false,
           "type": "scatter",
           "x": [
            111.90739851122483
           ],
           "y": [
            47.029294957878314
           ]
          },
          {
           "marker": {
            "color": "orange",
            "size": 8,
            "symbol": "x"
           },
           "mode": "markers",
           "name": "Opponent",
           "showlegend": false,
           "type": "scatter",
           "x": [
            109.69742545427236
           ],
           "y": [
            48.03773445793831
           ]
          },
          {
           "marker": {
            "color": "orange",
            "size": 8,
            "symbol": "x"
           },
           "mode": "markers",
           "name": "Opponent",
           "showlegend": false,
           "type": "scatter",
           "x": [
            103.80656397910276
           ],
           "y": [
            48.61025793348464
           ]
          },
          {
           "marker": {
            "color": "orange",
            "size": 8,
            "symbol": "x"
           },
           "mode": "markers",
           "name": "Opponent",
           "showlegend": false,
           "type": "scatter",
           "x": [
            117.7267524942179
           ],
           "y": [
            49.267902892188985
           ]
          },
          {
           "marker": {
            "color": "orange",
            "size": 8,
            "symbol": "x"
           },
           "mode": "markers",
           "name": "Opponent",
           "showlegend": false,
           "type": "scatter",
           "x": [
            118.54388524949289
           ],
           "y": [
            39.19481578475043
           ]
          },
          {
           "marker": {
            "color": "blue",
            "size": 8,
            "symbol": "circle"
           },
           "mode": "markers",
           "name": "Teammate",
           "showlegend": false,
           "type": "scatter",
           "x": [
            106.36344090275583
           ],
           "y": [
            43.61844718278512
           ]
          },
          {
           "marker": {
            "color": "blue",
            "size": 8,
            "symbol": "circle"
           },
           "mode": "markers",
           "name": "Teammate",
           "showlegend": false,
           "type": "scatter",
           "x": [
            111.22351377458534
           ],
           "y": [
            43.8469859383912
           ]
          },
          {
           "marker": {
            "color": "blue",
            "size": 8,
            "symbol": "circle"
           },
           "mode": "markers",
           "name": "Teammate",
           "showlegend": false,
           "type": "scatter",
           "x": [
            106.75962854066337
           ],
           "y": [
            47.825824441814774
           ]
          },
          {
           "marker": {
            "color": "blue",
            "size": 8,
            "symbol": "circle"
           },
           "mode": "markers",
           "name": "Teammate",
           "showlegend": false,
           "type": "scatter",
           "x": [
            98.20886466941256
           ],
           "y": [
            46.430042742017456
           ]
          },
          {
           "mode": "lines+markers",
           "name": "Line Plot",
           "type": "scatter",
           "x": [
            0,
            1,
            2,
            3,
            4,
            5,
            6,
            7,
            8,
            9,
            10,
            11,
            12,
            13,
            14,
            15,
            16,
            17,
            18,
            19,
            20,
            21,
            22,
            23,
            24,
            25,
            26,
            27,
            28,
            29,
            30,
            31,
            32,
            33,
            34,
            35
           ],
           "y": [
            0.10442892,
            0.14224926,
            0.16282678,
            0.16282678,
            0.16452551,
            0.16554648,
            0.17032182,
            0.17032182,
            0.18504907,
            0.18508397,
            0.1854914,
            0.1870719,
            0.1872687,
            0.18752642,
            0.18792188,
            0.18792188,
            0.18810053,
            0.18864377,
            0.18866037,
            0.18910883,
            0.18983072,
            0.18983072,
            0.18983072,
            0.19038348,
            0.19038348,
            0.19038348,
            0.19261675,
            0.19261675,
            0.19261675,
            0.19261675,
            0.19261675,
            0.19261675,
            0.19261675,
            0.19261675,
            0.19261675,
            0.19317539
           ]
          }
         ],
         "name": "35"
        },
        {
         "data": [
          {
           "hoverinfo": "skip",
           "line": {
            "color": "black",
            "width": 4
           },
           "mode": "lines",
           "showlegend": false,
           "type": "scatter",
           "x": [
            0,
            120,
            120,
            0,
            0
           ],
           "y": [
            0,
            0,
            80,
            80,
            0
           ]
          },
          {
           "hoverinfo": "skip",
           "line": {
            "color": "black",
            "width": 4
           },
           "mode": "lines",
           "showlegend": false,
           "type": "scatter",
           "x": [
            60,
            60
           ],
           "y": [
            0,
            80
           ]
          },
          {
           "hoverinfo": "skip",
           "line": {
            "color": "black",
            "width": 4
           },
           "mode": "lines",
           "showlegend": false,
           "type": "scatter",
           "x": [
            0,
            16.459249641096918,
            16.459249641096918,
            0
           ],
           "y": [
            16,
            16,
            64,
            64
           ]
          },
          {
           "hoverinfo": "skip",
           "line": {
            "color": "black",
            "width": 4
           },
           "mode": "lines",
           "showlegend": false,
           "type": "scatter",
           "x": [
            120,
            103.54075035890308,
            103.54075035890308,
            120
           ],
           "y": [
            16,
            16,
            64,
            64
           ]
          },
          {
           "hoverinfo": "skip",
           "line": {
            "color": "black",
            "width": 4
           },
           "mode": "lines",
           "showlegend": false,
           "type": "scatter",
           "x": [
            0,
            5.486416547032306,
            5.486416547032306,
            0
           ],
           "y": [
            28,
            28,
            52,
            52
           ]
          },
          {
           "hoverinfo": "skip",
           "line": {
            "color": "black",
            "width": 4
           },
           "mode": "lines",
           "showlegend": false,
           "type": "scatter",
           "x": [
            120,
            114.5135834529677,
            114.5135834529677,
            120
           ],
           "y": [
            28,
            28,
            52,
            52
           ]
          },
          {
           "hoverinfo": "skip",
           "line": {
            "color": "black"
           },
           "mode": "markers",
           "showlegend": false,
           "type": "scatter",
           "x": [
            10.972833094064612
           ],
           "y": [
            40
           ]
          },
          {
           "hoverinfo": "skip",
           "line": {
            "color": "black"
           },
           "mode": "markers",
           "showlegend": false,
           "type": "scatter",
           "x": [
            109.02716690593539
           ],
           "y": [
            40
           ]
          },
          {
           "hoverinfo": "skip",
           "line": {
            "color": "black"
           },
           "mode": "markers",
           "showlegend": false,
           "type": "scatter",
           "x": [
            60
           ],
           "y": [
            40
           ]
          },
          {
           "marker": {
            "color": "black",
            "size": 10,
            "symbol": "star"
           },
           "mode": "markers",
           "name": "Shot Position",
           "showlegend": false,
           "type": "scatter",
           "x": [
            111
           ],
           "y": [
            40.93587480838928
           ]
          },
          {
           "marker": {
            "color": "purple",
            "size": 10,
            "symbol": "diamond"
           },
           "mode": "markers",
           "name": "Freekick Position",
           "showlegend": false,
           "type": "scatter",
           "x": [
            95
           ],
           "y": [
            62
           ]
          },
          {
           "marker": {
            "color": "orange",
            "size": 8,
            "symbol": "x"
           },
           "mode": "markers",
           "name": "Opponent",
           "showlegend": false,
           "type": "scatter",
           "x": [
            108.00615443856704
           ],
           "y": [
            43.80793554652633
           ]
          },
          {
           "marker": {
            "color": "orange",
            "size": 8,
            "symbol": "x"
           },
           "mode": "markers",
           "name": "Opponent",
           "showlegend": false,
           "type": "scatter",
           "x": [
            111.90739851122483
           ],
           "y": [
            47.029294957878314
           ]
          },
          {
           "marker": {
            "color": "orange",
            "size": 8,
            "symbol": "x"
           },
           "mode": "markers",
           "name": "Opponent",
           "showlegend": false,
           "type": "scatter",
           "x": [
            109.69742545427236
           ],
           "y": [
            48.03773445793831
           ]
          },
          {
           "marker": {
            "color": "orange",
            "size": 8,
            "symbol": "x"
           },
           "mode": "markers",
           "name": "Opponent",
           "showlegend": false,
           "type": "scatter",
           "x": [
            103.80656397910276
           ],
           "y": [
            48.61025793348464
           ]
          },
          {
           "marker": {
            "color": "orange",
            "size": 8,
            "symbol": "x"
           },
           "mode": "markers",
           "name": "Opponent",
           "showlegend": false,
           "type": "scatter",
           "x": [
            117.7267524942179
           ],
           "y": [
            49.267902892188985
           ]
          },
          {
           "marker": {
            "color": "orange",
            "size": 8,
            "symbol": "x"
           },
           "mode": "markers",
           "name": "Opponent",
           "showlegend": false,
           "type": "scatter",
           "x": [
            118.54388524949289
           ],
           "y": [
            39.19481578475043
           ]
          },
          {
           "marker": {
            "color": "blue",
            "size": 8,
            "symbol": "circle"
           },
           "mode": "markers",
           "name": "Teammate",
           "showlegend": false,
           "type": "scatter",
           "x": [
            106.36344090275583
           ],
           "y": [
            43.61844718278512
           ]
          },
          {
           "marker": {
            "color": "blue",
            "size": 8,
            "symbol": "circle"
           },
           "mode": "markers",
           "name": "Teammate",
           "showlegend": false,
           "type": "scatter",
           "x": [
            111.22351377458534
           ],
           "y": [
            43.8469859383912
           ]
          },
          {
           "marker": {
            "color": "blue",
            "size": 8,
            "symbol": "circle"
           },
           "mode": "markers",
           "name": "Teammate",
           "showlegend": false,
           "type": "scatter",
           "x": [
            106.75962854066337
           ],
           "y": [
            47.825824441814774
           ]
          },
          {
           "marker": {
            "color": "blue",
            "size": 8,
            "symbol": "circle"
           },
           "mode": "markers",
           "name": "Teammate",
           "showlegend": false,
           "type": "scatter",
           "x": [
            98.20886466941256
           ],
           "y": [
            46.430042742017456
           ]
          },
          {
           "mode": "lines+markers",
           "name": "Line Plot",
           "type": "scatter",
           "x": [
            0,
            1,
            2,
            3,
            4,
            5,
            6,
            7,
            8,
            9,
            10,
            11,
            12,
            13,
            14,
            15,
            16,
            17,
            18,
            19,
            20,
            21,
            22,
            23,
            24,
            25,
            26,
            27,
            28,
            29,
            30,
            31,
            32,
            33,
            34,
            35,
            36
           ],
           "y": [
            0.10442892,
            0.14224926,
            0.16282678,
            0.16282678,
            0.16452551,
            0.16554648,
            0.17032182,
            0.17032182,
            0.18504907,
            0.18508397,
            0.1854914,
            0.1870719,
            0.1872687,
            0.18752642,
            0.18792188,
            0.18792188,
            0.18810053,
            0.18864377,
            0.18866037,
            0.18910883,
            0.18983072,
            0.18983072,
            0.18983072,
            0.19038348,
            0.19038348,
            0.19038348,
            0.19261675,
            0.19261675,
            0.19261675,
            0.19261675,
            0.19261675,
            0.19261675,
            0.19261675,
            0.19261675,
            0.19261675,
            0.19317539,
            0.19319032
           ]
          }
         ],
         "name": "36"
        },
        {
         "data": [
          {
           "hoverinfo": "skip",
           "line": {
            "color": "black",
            "width": 4
           },
           "mode": "lines",
           "showlegend": false,
           "type": "scatter",
           "x": [
            0,
            120,
            120,
            0,
            0
           ],
           "y": [
            0,
            0,
            80,
            80,
            0
           ]
          },
          {
           "hoverinfo": "skip",
           "line": {
            "color": "black",
            "width": 4
           },
           "mode": "lines",
           "showlegend": false,
           "type": "scatter",
           "x": [
            60,
            60
           ],
           "y": [
            0,
            80
           ]
          },
          {
           "hoverinfo": "skip",
           "line": {
            "color": "black",
            "width": 4
           },
           "mode": "lines",
           "showlegend": false,
           "type": "scatter",
           "x": [
            0,
            16.459249641096918,
            16.459249641096918,
            0
           ],
           "y": [
            16,
            16,
            64,
            64
           ]
          },
          {
           "hoverinfo": "skip",
           "line": {
            "color": "black",
            "width": 4
           },
           "mode": "lines",
           "showlegend": false,
           "type": "scatter",
           "x": [
            120,
            103.54075035890308,
            103.54075035890308,
            120
           ],
           "y": [
            16,
            16,
            64,
            64
           ]
          },
          {
           "hoverinfo": "skip",
           "line": {
            "color": "black",
            "width": 4
           },
           "mode": "lines",
           "showlegend": false,
           "type": "scatter",
           "x": [
            0,
            5.486416547032306,
            5.486416547032306,
            0
           ],
           "y": [
            28,
            28,
            52,
            52
           ]
          },
          {
           "hoverinfo": "skip",
           "line": {
            "color": "black",
            "width": 4
           },
           "mode": "lines",
           "showlegend": false,
           "type": "scatter",
           "x": [
            120,
            114.5135834529677,
            114.5135834529677,
            120
           ],
           "y": [
            28,
            28,
            52,
            52
           ]
          },
          {
           "hoverinfo": "skip",
           "line": {
            "color": "black"
           },
           "mode": "markers",
           "showlegend": false,
           "type": "scatter",
           "x": [
            10.972833094064612
           ],
           "y": [
            40
           ]
          },
          {
           "hoverinfo": "skip",
           "line": {
            "color": "black"
           },
           "mode": "markers",
           "showlegend": false,
           "type": "scatter",
           "x": [
            109.02716690593539
           ],
           "y": [
            40
           ]
          },
          {
           "hoverinfo": "skip",
           "line": {
            "color": "black"
           },
           "mode": "markers",
           "showlegend": false,
           "type": "scatter",
           "x": [
            60
           ],
           "y": [
            40
           ]
          },
          {
           "marker": {
            "color": "black",
            "size": 10,
            "symbol": "star"
           },
           "mode": "markers",
           "name": "Shot Position",
           "showlegend": false,
           "type": "scatter",
           "x": [
            111
           ],
           "y": [
            40.93587480838928
           ]
          },
          {
           "marker": {
            "color": "purple",
            "size": 10,
            "symbol": "diamond"
           },
           "mode": "markers",
           "name": "Freekick Position",
           "showlegend": false,
           "type": "scatter",
           "x": [
            95
           ],
           "y": [
            62
           ]
          },
          {
           "marker": {
            "color": "orange",
            "size": 8,
            "symbol": "x"
           },
           "mode": "markers",
           "name": "Opponent",
           "showlegend": false,
           "type": "scatter",
           "x": [
            108.00615443856704
           ],
           "y": [
            43.80793554652633
           ]
          },
          {
           "marker": {
            "color": "orange",
            "size": 8,
            "symbol": "x"
           },
           "mode": "markers",
           "name": "Opponent",
           "showlegend": false,
           "type": "scatter",
           "x": [
            111.90739851122483
           ],
           "y": [
            47.029294957878314
           ]
          },
          {
           "marker": {
            "color": "orange",
            "size": 8,
            "symbol": "x"
           },
           "mode": "markers",
           "name": "Opponent",
           "showlegend": false,
           "type": "scatter",
           "x": [
            109.69742545427236
           ],
           "y": [
            48.03773445793831
           ]
          },
          {
           "marker": {
            "color": "orange",
            "size": 8,
            "symbol": "x"
           },
           "mode": "markers",
           "name": "Opponent",
           "showlegend": false,
           "type": "scatter",
           "x": [
            103.80656397910276
           ],
           "y": [
            48.61025793348464
           ]
          },
          {
           "marker": {
            "color": "orange",
            "size": 8,
            "symbol": "x"
           },
           "mode": "markers",
           "name": "Opponent",
           "showlegend": false,
           "type": "scatter",
           "x": [
            117.7267524942179
           ],
           "y": [
            49.267902892188985
           ]
          },
          {
           "marker": {
            "color": "orange",
            "size": 8,
            "symbol": "x"
           },
           "mode": "markers",
           "name": "Opponent",
           "showlegend": false,
           "type": "scatter",
           "x": [
            118.54388524949289
           ],
           "y": [
            39.19481578475043
           ]
          },
          {
           "marker": {
            "color": "blue",
            "size": 8,
            "symbol": "circle"
           },
           "mode": "markers",
           "name": "Teammate",
           "showlegend": false,
           "type": "scatter",
           "x": [
            106.36344090275583
           ],
           "y": [
            43.61844718278512
           ]
          },
          {
           "marker": {
            "color": "blue",
            "size": 8,
            "symbol": "circle"
           },
           "mode": "markers",
           "name": "Teammate",
           "showlegend": false,
           "type": "scatter",
           "x": [
            111.22351377458534
           ],
           "y": [
            43.8469859383912
           ]
          },
          {
           "marker": {
            "color": "blue",
            "size": 8,
            "symbol": "circle"
           },
           "mode": "markers",
           "name": "Teammate",
           "showlegend": false,
           "type": "scatter",
           "x": [
            106.75962854066337
           ],
           "y": [
            47.825824441814774
           ]
          },
          {
           "marker": {
            "color": "blue",
            "size": 8,
            "symbol": "circle"
           },
           "mode": "markers",
           "name": "Teammate",
           "showlegend": false,
           "type": "scatter",
           "x": [
            98.20886466941256
           ],
           "y": [
            46.430042742017456
           ]
          },
          {
           "mode": "lines+markers",
           "name": "Line Plot",
           "type": "scatter",
           "x": [
            0,
            1,
            2,
            3,
            4,
            5,
            6,
            7,
            8,
            9,
            10,
            11,
            12,
            13,
            14,
            15,
            16,
            17,
            18,
            19,
            20,
            21,
            22,
            23,
            24,
            25,
            26,
            27,
            28,
            29,
            30,
            31,
            32,
            33,
            34,
            35,
            36,
            37
           ],
           "y": [
            0.10442892,
            0.14224926,
            0.16282678,
            0.16282678,
            0.16452551,
            0.16554648,
            0.17032182,
            0.17032182,
            0.18504907,
            0.18508397,
            0.1854914,
            0.1870719,
            0.1872687,
            0.18752642,
            0.18792188,
            0.18792188,
            0.18810053,
            0.18864377,
            0.18866037,
            0.18910883,
            0.18983072,
            0.18983072,
            0.18983072,
            0.19038348,
            0.19038348,
            0.19038348,
            0.19261675,
            0.19261675,
            0.19261675,
            0.19261675,
            0.19261675,
            0.19261675,
            0.19261675,
            0.19261675,
            0.19261675,
            0.19317539,
            0.19319032,
            0.19319032
           ]
          }
         ],
         "name": "37"
        },
        {
         "data": [
          {
           "hoverinfo": "skip",
           "line": {
            "color": "black",
            "width": 4
           },
           "mode": "lines",
           "showlegend": false,
           "type": "scatter",
           "x": [
            0,
            120,
            120,
            0,
            0
           ],
           "y": [
            0,
            0,
            80,
            80,
            0
           ]
          },
          {
           "hoverinfo": "skip",
           "line": {
            "color": "black",
            "width": 4
           },
           "mode": "lines",
           "showlegend": false,
           "type": "scatter",
           "x": [
            60,
            60
           ],
           "y": [
            0,
            80
           ]
          },
          {
           "hoverinfo": "skip",
           "line": {
            "color": "black",
            "width": 4
           },
           "mode": "lines",
           "showlegend": false,
           "type": "scatter",
           "x": [
            0,
            16.459249641096918,
            16.459249641096918,
            0
           ],
           "y": [
            16,
            16,
            64,
            64
           ]
          },
          {
           "hoverinfo": "skip",
           "line": {
            "color": "black",
            "width": 4
           },
           "mode": "lines",
           "showlegend": false,
           "type": "scatter",
           "x": [
            120,
            103.54075035890308,
            103.54075035890308,
            120
           ],
           "y": [
            16,
            16,
            64,
            64
           ]
          },
          {
           "hoverinfo": "skip",
           "line": {
            "color": "black",
            "width": 4
           },
           "mode": "lines",
           "showlegend": false,
           "type": "scatter",
           "x": [
            0,
            5.486416547032306,
            5.486416547032306,
            0
           ],
           "y": [
            28,
            28,
            52,
            52
           ]
          },
          {
           "hoverinfo": "skip",
           "line": {
            "color": "black",
            "width": 4
           },
           "mode": "lines",
           "showlegend": false,
           "type": "scatter",
           "x": [
            120,
            114.5135834529677,
            114.5135834529677,
            120
           ],
           "y": [
            28,
            28,
            52,
            52
           ]
          },
          {
           "hoverinfo": "skip",
           "line": {
            "color": "black"
           },
           "mode": "markers",
           "showlegend": false,
           "type": "scatter",
           "x": [
            10.972833094064612
           ],
           "y": [
            40
           ]
          },
          {
           "hoverinfo": "skip",
           "line": {
            "color": "black"
           },
           "mode": "markers",
           "showlegend": false,
           "type": "scatter",
           "x": [
            109.02716690593539
           ],
           "y": [
            40
           ]
          },
          {
           "hoverinfo": "skip",
           "line": {
            "color": "black"
           },
           "mode": "markers",
           "showlegend": false,
           "type": "scatter",
           "x": [
            60
           ],
           "y": [
            40
           ]
          },
          {
           "marker": {
            "color": "black",
            "size": 10,
            "symbol": "star"
           },
           "mode": "markers",
           "name": "Shot Position",
           "showlegend": false,
           "type": "scatter",
           "x": [
            111
           ],
           "y": [
            40.93587480838928
           ]
          },
          {
           "marker": {
            "color": "purple",
            "size": 10,
            "symbol": "diamond"
           },
           "mode": "markers",
           "name": "Freekick Position",
           "showlegend": false,
           "type": "scatter",
           "x": [
            95
           ],
           "y": [
            62
           ]
          },
          {
           "marker": {
            "color": "orange",
            "size": 8,
            "symbol": "x"
           },
           "mode": "markers",
           "name": "Opponent",
           "showlegend": false,
           "type": "scatter",
           "x": [
            108.00615443856704
           ],
           "y": [
            43.80793554652633
           ]
          },
          {
           "marker": {
            "color": "orange",
            "size": 8,
            "symbol": "x"
           },
           "mode": "markers",
           "name": "Opponent",
           "showlegend": false,
           "type": "scatter",
           "x": [
            111.90739851122483
           ],
           "y": [
            47.029294957878314
           ]
          },
          {
           "marker": {
            "color": "orange",
            "size": 8,
            "symbol": "x"
           },
           "mode": "markers",
           "name": "Opponent",
           "showlegend": false,
           "type": "scatter",
           "x": [
            109.69742545427236
           ],
           "y": [
            48.03773445793831
           ]
          },
          {
           "marker": {
            "color": "orange",
            "size": 8,
            "symbol": "x"
           },
           "mode": "markers",
           "name": "Opponent",
           "showlegend": false,
           "type": "scatter",
           "x": [
            103.80656397910276
           ],
           "y": [
            48.61025793348464
           ]
          },
          {
           "marker": {
            "color": "orange",
            "size": 8,
            "symbol": "x"
           },
           "mode": "markers",
           "name": "Opponent",
           "showlegend": false,
           "type": "scatter",
           "x": [
            117.7267524942179
           ],
           "y": [
            49.267902892188985
           ]
          },
          {
           "marker": {
            "color": "orange",
            "size": 8,
            "symbol": "x"
           },
           "mode": "markers",
           "name": "Opponent",
           "showlegend": false,
           "type": "scatter",
           "x": [
            118.54388524949289
           ],
           "y": [
            39.19481578475043
           ]
          },
          {
           "marker": {
            "color": "blue",
            "size": 8,
            "symbol": "circle"
           },
           "mode": "markers",
           "name": "Teammate",
           "showlegend": false,
           "type": "scatter",
           "x": [
            106.36344090275583
           ],
           "y": [
            43.61844718278512
           ]
          },
          {
           "marker": {
            "color": "blue",
            "size": 8,
            "symbol": "circle"
           },
           "mode": "markers",
           "name": "Teammate",
           "showlegend": false,
           "type": "scatter",
           "x": [
            111.22351377458534
           ],
           "y": [
            43.8469859383912
           ]
          },
          {
           "marker": {
            "color": "blue",
            "size": 8,
            "symbol": "circle"
           },
           "mode": "markers",
           "name": "Teammate",
           "showlegend": false,
           "type": "scatter",
           "x": [
            106.75962854066337
           ],
           "y": [
            47.825824441814774
           ]
          },
          {
           "marker": {
            "color": "blue",
            "size": 8,
            "symbol": "circle"
           },
           "mode": "markers",
           "name": "Teammate",
           "showlegend": false,
           "type": "scatter",
           "x": [
            98.20886466941256
           ],
           "y": [
            46.430042742017456
           ]
          },
          {
           "mode": "lines+markers",
           "name": "Line Plot",
           "type": "scatter",
           "x": [
            0,
            1,
            2,
            3,
            4,
            5,
            6,
            7,
            8,
            9,
            10,
            11,
            12,
            13,
            14,
            15,
            16,
            17,
            18,
            19,
            20,
            21,
            22,
            23,
            24,
            25,
            26,
            27,
            28,
            29,
            30,
            31,
            32,
            33,
            34,
            35,
            36,
            37,
            38
           ],
           "y": [
            0.10442892,
            0.14224926,
            0.16282678,
            0.16282678,
            0.16452551,
            0.16554648,
            0.17032182,
            0.17032182,
            0.18504907,
            0.18508397,
            0.1854914,
            0.1870719,
            0.1872687,
            0.18752642,
            0.18792188,
            0.18792188,
            0.18810053,
            0.18864377,
            0.18866037,
            0.18910883,
            0.18983072,
            0.18983072,
            0.18983072,
            0.19038348,
            0.19038348,
            0.19038348,
            0.19261675,
            0.19261675,
            0.19261675,
            0.19261675,
            0.19261675,
            0.19261675,
            0.19261675,
            0.19261675,
            0.19261675,
            0.19317539,
            0.19319032,
            0.19319032,
            0.19319032
           ]
          }
         ],
         "name": "38"
        },
        {
         "data": [
          {
           "hoverinfo": "skip",
           "line": {
            "color": "black",
            "width": 4
           },
           "mode": "lines",
           "showlegend": false,
           "type": "scatter",
           "x": [
            0,
            120,
            120,
            0,
            0
           ],
           "y": [
            0,
            0,
            80,
            80,
            0
           ]
          },
          {
           "hoverinfo": "skip",
           "line": {
            "color": "black",
            "width": 4
           },
           "mode": "lines",
           "showlegend": false,
           "type": "scatter",
           "x": [
            60,
            60
           ],
           "y": [
            0,
            80
           ]
          },
          {
           "hoverinfo": "skip",
           "line": {
            "color": "black",
            "width": 4
           },
           "mode": "lines",
           "showlegend": false,
           "type": "scatter",
           "x": [
            0,
            16.459249641096918,
            16.459249641096918,
            0
           ],
           "y": [
            16,
            16,
            64,
            64
           ]
          },
          {
           "hoverinfo": "skip",
           "line": {
            "color": "black",
            "width": 4
           },
           "mode": "lines",
           "showlegend": false,
           "type": "scatter",
           "x": [
            120,
            103.54075035890308,
            103.54075035890308,
            120
           ],
           "y": [
            16,
            16,
            64,
            64
           ]
          },
          {
           "hoverinfo": "skip",
           "line": {
            "color": "black",
            "width": 4
           },
           "mode": "lines",
           "showlegend": false,
           "type": "scatter",
           "x": [
            0,
            5.486416547032306,
            5.486416547032306,
            0
           ],
           "y": [
            28,
            28,
            52,
            52
           ]
          },
          {
           "hoverinfo": "skip",
           "line": {
            "color": "black",
            "width": 4
           },
           "mode": "lines",
           "showlegend": false,
           "type": "scatter",
           "x": [
            120,
            114.5135834529677,
            114.5135834529677,
            120
           ],
           "y": [
            28,
            28,
            52,
            52
           ]
          },
          {
           "hoverinfo": "skip",
           "line": {
            "color": "black"
           },
           "mode": "markers",
           "showlegend": false,
           "type": "scatter",
           "x": [
            10.972833094064612
           ],
           "y": [
            40
           ]
          },
          {
           "hoverinfo": "skip",
           "line": {
            "color": "black"
           },
           "mode": "markers",
           "showlegend": false,
           "type": "scatter",
           "x": [
            109.02716690593539
           ],
           "y": [
            40
           ]
          },
          {
           "hoverinfo": "skip",
           "line": {
            "color": "black"
           },
           "mode": "markers",
           "showlegend": false,
           "type": "scatter",
           "x": [
            60
           ],
           "y": [
            40
           ]
          },
          {
           "marker": {
            "color": "black",
            "size": 10,
            "symbol": "star"
           },
           "mode": "markers",
           "name": "Shot Position",
           "showlegend": false,
           "type": "scatter",
           "x": [
            111
           ],
           "y": [
            40.93587480838928
           ]
          },
          {
           "marker": {
            "color": "purple",
            "size": 10,
            "symbol": "diamond"
           },
           "mode": "markers",
           "name": "Freekick Position",
           "showlegend": false,
           "type": "scatter",
           "x": [
            95
           ],
           "y": [
            62
           ]
          },
          {
           "marker": {
            "color": "orange",
            "size": 8,
            "symbol": "x"
           },
           "mode": "markers",
           "name": "Opponent",
           "showlegend": false,
           "type": "scatter",
           "x": [
            108.00615443856704
           ],
           "y": [
            43.80793554652633
           ]
          },
          {
           "marker": {
            "color": "orange",
            "size": 8,
            "symbol": "x"
           },
           "mode": "markers",
           "name": "Opponent",
           "showlegend": false,
           "type": "scatter",
           "x": [
            111.90739851122483
           ],
           "y": [
            47.029294957878314
           ]
          },
          {
           "marker": {
            "color": "orange",
            "size": 8,
            "symbol": "x"
           },
           "mode": "markers",
           "name": "Opponent",
           "showlegend": false,
           "type": "scatter",
           "x": [
            109.69742545427236
           ],
           "y": [
            48.03773445793831
           ]
          },
          {
           "marker": {
            "color": "orange",
            "size": 8,
            "symbol": "x"
           },
           "mode": "markers",
           "name": "Opponent",
           "showlegend": false,
           "type": "scatter",
           "x": [
            103.80656397910276
           ],
           "y": [
            48.61025793348464
           ]
          },
          {
           "marker": {
            "color": "orange",
            "size": 8,
            "symbol": "x"
           },
           "mode": "markers",
           "name": "Opponent",
           "showlegend": false,
           "type": "scatter",
           "x": [
            117.7267524942179
           ],
           "y": [
            49.267902892188985
           ]
          },
          {
           "marker": {
            "color": "orange",
            "size": 8,
            "symbol": "x"
           },
           "mode": "markers",
           "name": "Opponent",
           "showlegend": false,
           "type": "scatter",
           "x": [
            118.54388524949289
           ],
           "y": [
            39.19481578475043
           ]
          },
          {
           "marker": {
            "color": "blue",
            "size": 8,
            "symbol": "circle"
           },
           "mode": "markers",
           "name": "Teammate",
           "showlegend": false,
           "type": "scatter",
           "x": [
            106.36344090275583
           ],
           "y": [
            43.61844718278512
           ]
          },
          {
           "marker": {
            "color": "blue",
            "size": 8,
            "symbol": "circle"
           },
           "mode": "markers",
           "name": "Teammate",
           "showlegend": false,
           "type": "scatter",
           "x": [
            111.22351377458534
           ],
           "y": [
            43.8469859383912
           ]
          },
          {
           "marker": {
            "color": "blue",
            "size": 8,
            "symbol": "circle"
           },
           "mode": "markers",
           "name": "Teammate",
           "showlegend": false,
           "type": "scatter",
           "x": [
            106.75962854066337
           ],
           "y": [
            47.825824441814774
           ]
          },
          {
           "marker": {
            "color": "blue",
            "size": 8,
            "symbol": "circle"
           },
           "mode": "markers",
           "name": "Teammate",
           "showlegend": false,
           "type": "scatter",
           "x": [
            98.20886466941256
           ],
           "y": [
            46.430042742017456
           ]
          },
          {
           "mode": "lines+markers",
           "name": "Line Plot",
           "type": "scatter",
           "x": [
            0,
            1,
            2,
            3,
            4,
            5,
            6,
            7,
            8,
            9,
            10,
            11,
            12,
            13,
            14,
            15,
            16,
            17,
            18,
            19,
            20,
            21,
            22,
            23,
            24,
            25,
            26,
            27,
            28,
            29,
            30,
            31,
            32,
            33,
            34,
            35,
            36,
            37,
            38,
            39
           ],
           "y": [
            0.10442892,
            0.14224926,
            0.16282678,
            0.16282678,
            0.16452551,
            0.16554648,
            0.17032182,
            0.17032182,
            0.18504907,
            0.18508397,
            0.1854914,
            0.1870719,
            0.1872687,
            0.18752642,
            0.18792188,
            0.18792188,
            0.18810053,
            0.18864377,
            0.18866037,
            0.18910883,
            0.18983072,
            0.18983072,
            0.18983072,
            0.19038348,
            0.19038348,
            0.19038348,
            0.19261675,
            0.19261675,
            0.19261675,
            0.19261675,
            0.19261675,
            0.19261675,
            0.19261675,
            0.19261675,
            0.19261675,
            0.19317539,
            0.19319032,
            0.19319032,
            0.19319032,
            0.19319032
           ]
          }
         ],
         "name": "39"
        },
        {
         "data": [
          {
           "hoverinfo": "skip",
           "line": {
            "color": "black",
            "width": 4
           },
           "mode": "lines",
           "showlegend": false,
           "type": "scatter",
           "x": [
            0,
            120,
            120,
            0,
            0
           ],
           "y": [
            0,
            0,
            80,
            80,
            0
           ]
          },
          {
           "hoverinfo": "skip",
           "line": {
            "color": "black",
            "width": 4
           },
           "mode": "lines",
           "showlegend": false,
           "type": "scatter",
           "x": [
            60,
            60
           ],
           "y": [
            0,
            80
           ]
          },
          {
           "hoverinfo": "skip",
           "line": {
            "color": "black",
            "width": 4
           },
           "mode": "lines",
           "showlegend": false,
           "type": "scatter",
           "x": [
            0,
            16.459249641096918,
            16.459249641096918,
            0
           ],
           "y": [
            16,
            16,
            64,
            64
           ]
          },
          {
           "hoverinfo": "skip",
           "line": {
            "color": "black",
            "width": 4
           },
           "mode": "lines",
           "showlegend": false,
           "type": "scatter",
           "x": [
            120,
            103.54075035890308,
            103.54075035890308,
            120
           ],
           "y": [
            16,
            16,
            64,
            64
           ]
          },
          {
           "hoverinfo": "skip",
           "line": {
            "color": "black",
            "width": 4
           },
           "mode": "lines",
           "showlegend": false,
           "type": "scatter",
           "x": [
            0,
            5.486416547032306,
            5.486416547032306,
            0
           ],
           "y": [
            28,
            28,
            52,
            52
           ]
          },
          {
           "hoverinfo": "skip",
           "line": {
            "color": "black",
            "width": 4
           },
           "mode": "lines",
           "showlegend": false,
           "type": "scatter",
           "x": [
            120,
            114.5135834529677,
            114.5135834529677,
            120
           ],
           "y": [
            28,
            28,
            52,
            52
           ]
          },
          {
           "hoverinfo": "skip",
           "line": {
            "color": "black"
           },
           "mode": "markers",
           "showlegend": false,
           "type": "scatter",
           "x": [
            10.972833094064612
           ],
           "y": [
            40
           ]
          },
          {
           "hoverinfo": "skip",
           "line": {
            "color": "black"
           },
           "mode": "markers",
           "showlegend": false,
           "type": "scatter",
           "x": [
            109.02716690593539
           ],
           "y": [
            40
           ]
          },
          {
           "hoverinfo": "skip",
           "line": {
            "color": "black"
           },
           "mode": "markers",
           "showlegend": false,
           "type": "scatter",
           "x": [
            60
           ],
           "y": [
            40
           ]
          },
          {
           "marker": {
            "color": "black",
            "size": 10,
            "symbol": "star"
           },
           "mode": "markers",
           "name": "Shot Position",
           "showlegend": false,
           "type": "scatter",
           "x": [
            111
           ],
           "y": [
            40.93587480838928
           ]
          },
          {
           "marker": {
            "color": "purple",
            "size": 10,
            "symbol": "diamond"
           },
           "mode": "markers",
           "name": "Freekick Position",
           "showlegend": false,
           "type": "scatter",
           "x": [
            95
           ],
           "y": [
            62
           ]
          },
          {
           "marker": {
            "color": "orange",
            "size": 8,
            "symbol": "x"
           },
           "mode": "markers",
           "name": "Opponent",
           "showlegend": false,
           "type": "scatter",
           "x": [
            108.00615443856704
           ],
           "y": [
            43.80793554652633
           ]
          },
          {
           "marker": {
            "color": "orange",
            "size": 8,
            "symbol": "x"
           },
           "mode": "markers",
           "name": "Opponent",
           "showlegend": false,
           "type": "scatter",
           "x": [
            111.90739851122483
           ],
           "y": [
            47.029294957878314
           ]
          },
          {
           "marker": {
            "color": "orange",
            "size": 8,
            "symbol": "x"
           },
           "mode": "markers",
           "name": "Opponent",
           "showlegend": false,
           "type": "scatter",
           "x": [
            109.69742545427236
           ],
           "y": [
            48.03773445793831
           ]
          },
          {
           "marker": {
            "color": "orange",
            "size": 8,
            "symbol": "x"
           },
           "mode": "markers",
           "name": "Opponent",
           "showlegend": false,
           "type": "scatter",
           "x": [
            103.80656397910276
           ],
           "y": [
            48.61025793348464
           ]
          },
          {
           "marker": {
            "color": "orange",
            "size": 8,
            "symbol": "x"
           },
           "mode": "markers",
           "name": "Opponent",
           "showlegend": false,
           "type": "scatter",
           "x": [
            117.7267524942179
           ],
           "y": [
            49.267902892188985
           ]
          },
          {
           "marker": {
            "color": "orange",
            "size": 8,
            "symbol": "x"
           },
           "mode": "markers",
           "name": "Opponent",
           "showlegend": false,
           "type": "scatter",
           "x": [
            118.54388524949289
           ],
           "y": [
            39.19481578475043
           ]
          },
          {
           "marker": {
            "color": "blue",
            "size": 8,
            "symbol": "circle"
           },
           "mode": "markers",
           "name": "Teammate",
           "showlegend": false,
           "type": "scatter",
           "x": [
            106.36344090275583
           ],
           "y": [
            43.61844718278512
           ]
          },
          {
           "marker": {
            "color": "blue",
            "size": 8,
            "symbol": "circle"
           },
           "mode": "markers",
           "name": "Teammate",
           "showlegend": false,
           "type": "scatter",
           "x": [
            111.22351377458534
           ],
           "y": [
            43.8469859383912
           ]
          },
          {
           "marker": {
            "color": "blue",
            "size": 8,
            "symbol": "circle"
           },
           "mode": "markers",
           "name": "Teammate",
           "showlegend": false,
           "type": "scatter",
           "x": [
            106.75962854066337
           ],
           "y": [
            47.825824441814774
           ]
          },
          {
           "marker": {
            "color": "blue",
            "size": 8,
            "symbol": "circle"
           },
           "mode": "markers",
           "name": "Teammate",
           "showlegend": false,
           "type": "scatter",
           "x": [
            98.20886466941256
           ],
           "y": [
            46.430042742017456
           ]
          },
          {
           "mode": "lines+markers",
           "name": "Line Plot",
           "type": "scatter",
           "x": [
            0,
            1,
            2,
            3,
            4,
            5,
            6,
            7,
            8,
            9,
            10,
            11,
            12,
            13,
            14,
            15,
            16,
            17,
            18,
            19,
            20,
            21,
            22,
            23,
            24,
            25,
            26,
            27,
            28,
            29,
            30,
            31,
            32,
            33,
            34,
            35,
            36,
            37,
            38,
            39,
            40
           ],
           "y": [
            0.10442892,
            0.14224926,
            0.16282678,
            0.16282678,
            0.16452551,
            0.16554648,
            0.17032182,
            0.17032182,
            0.18504907,
            0.18508397,
            0.1854914,
            0.1870719,
            0.1872687,
            0.18752642,
            0.18792188,
            0.18792188,
            0.18810053,
            0.18864377,
            0.18866037,
            0.18910883,
            0.18983072,
            0.18983072,
            0.18983072,
            0.19038348,
            0.19038348,
            0.19038348,
            0.19261675,
            0.19261675,
            0.19261675,
            0.19261675,
            0.19261675,
            0.19261675,
            0.19261675,
            0.19261675,
            0.19261675,
            0.19317539,
            0.19319032,
            0.19319032,
            0.19319032,
            0.19319032,
            0.19319032
           ]
          }
         ],
         "name": "40"
        },
        {
         "data": [
          {
           "hoverinfo": "skip",
           "line": {
            "color": "black",
            "width": 4
           },
           "mode": "lines",
           "showlegend": false,
           "type": "scatter",
           "x": [
            0,
            120,
            120,
            0,
            0
           ],
           "y": [
            0,
            0,
            80,
            80,
            0
           ]
          },
          {
           "hoverinfo": "skip",
           "line": {
            "color": "black",
            "width": 4
           },
           "mode": "lines",
           "showlegend": false,
           "type": "scatter",
           "x": [
            60,
            60
           ],
           "y": [
            0,
            80
           ]
          },
          {
           "hoverinfo": "skip",
           "line": {
            "color": "black",
            "width": 4
           },
           "mode": "lines",
           "showlegend": false,
           "type": "scatter",
           "x": [
            0,
            16.459249641096918,
            16.459249641096918,
            0
           ],
           "y": [
            16,
            16,
            64,
            64
           ]
          },
          {
           "hoverinfo": "skip",
           "line": {
            "color": "black",
            "width": 4
           },
           "mode": "lines",
           "showlegend": false,
           "type": "scatter",
           "x": [
            120,
            103.54075035890308,
            103.54075035890308,
            120
           ],
           "y": [
            16,
            16,
            64,
            64
           ]
          },
          {
           "hoverinfo": "skip",
           "line": {
            "color": "black",
            "width": 4
           },
           "mode": "lines",
           "showlegend": false,
           "type": "scatter",
           "x": [
            0,
            5.486416547032306,
            5.486416547032306,
            0
           ],
           "y": [
            28,
            28,
            52,
            52
           ]
          },
          {
           "hoverinfo": "skip",
           "line": {
            "color": "black",
            "width": 4
           },
           "mode": "lines",
           "showlegend": false,
           "type": "scatter",
           "x": [
            120,
            114.5135834529677,
            114.5135834529677,
            120
           ],
           "y": [
            28,
            28,
            52,
            52
           ]
          },
          {
           "hoverinfo": "skip",
           "line": {
            "color": "black"
           },
           "mode": "markers",
           "showlegend": false,
           "type": "scatter",
           "x": [
            10.972833094064612
           ],
           "y": [
            40
           ]
          },
          {
           "hoverinfo": "skip",
           "line": {
            "color": "black"
           },
           "mode": "markers",
           "showlegend": false,
           "type": "scatter",
           "x": [
            109.02716690593539
           ],
           "y": [
            40
           ]
          },
          {
           "hoverinfo": "skip",
           "line": {
            "color": "black"
           },
           "mode": "markers",
           "showlegend": false,
           "type": "scatter",
           "x": [
            60
           ],
           "y": [
            40
           ]
          },
          {
           "marker": {
            "color": "black",
            "size": 10,
            "symbol": "star"
           },
           "mode": "markers",
           "name": "Shot Position",
           "showlegend": false,
           "type": "scatter",
           "x": [
            111
           ],
           "y": [
            40.93587480838928
           ]
          },
          {
           "marker": {
            "color": "purple",
            "size": 10,
            "symbol": "diamond"
           },
           "mode": "markers",
           "name": "Freekick Position",
           "showlegend": false,
           "type": "scatter",
           "x": [
            95
           ],
           "y": [
            62
           ]
          },
          {
           "marker": {
            "color": "orange",
            "size": 8,
            "symbol": "x"
           },
           "mode": "markers",
           "name": "Opponent",
           "showlegend": false,
           "type": "scatter",
           "x": [
            108.00615443856704
           ],
           "y": [
            43.80793554652633
           ]
          },
          {
           "marker": {
            "color": "orange",
            "size": 8,
            "symbol": "x"
           },
           "mode": "markers",
           "name": "Opponent",
           "showlegend": false,
           "type": "scatter",
           "x": [
            111.90739851122483
           ],
           "y": [
            47.029294957878314
           ]
          },
          {
           "marker": {
            "color": "orange",
            "size": 8,
            "symbol": "x"
           },
           "mode": "markers",
           "name": "Opponent",
           "showlegend": false,
           "type": "scatter",
           "x": [
            109.69742545427236
           ],
           "y": [
            48.03773445793831
           ]
          },
          {
           "marker": {
            "color": "orange",
            "size": 8,
            "symbol": "x"
           },
           "mode": "markers",
           "name": "Opponent",
           "showlegend": false,
           "type": "scatter",
           "x": [
            103.80656397910276
           ],
           "y": [
            48.61025793348464
           ]
          },
          {
           "marker": {
            "color": "orange",
            "size": 8,
            "symbol": "x"
           },
           "mode": "markers",
           "name": "Opponent",
           "showlegend": false,
           "type": "scatter",
           "x": [
            117.7267524942179
           ],
           "y": [
            49.267902892188985
           ]
          },
          {
           "marker": {
            "color": "orange",
            "size": 8,
            "symbol": "x"
           },
           "mode": "markers",
           "name": "Opponent",
           "showlegend": false,
           "type": "scatter",
           "x": [
            118.54388524949289
           ],
           "y": [
            39.19481578475043
           ]
          },
          {
           "marker": {
            "color": "blue",
            "size": 8,
            "symbol": "circle"
           },
           "mode": "markers",
           "name": "Teammate",
           "showlegend": false,
           "type": "scatter",
           "x": [
            106.36344090275583
           ],
           "y": [
            43.61844718278512
           ]
          },
          {
           "marker": {
            "color": "blue",
            "size": 8,
            "symbol": "circle"
           },
           "mode": "markers",
           "name": "Teammate",
           "showlegend": false,
           "type": "scatter",
           "x": [
            111.22351377458534
           ],
           "y": [
            43.8469859383912
           ]
          },
          {
           "marker": {
            "color": "blue",
            "size": 8,
            "symbol": "circle"
           },
           "mode": "markers",
           "name": "Teammate",
           "showlegend": false,
           "type": "scatter",
           "x": [
            106.75962854066337
           ],
           "y": [
            47.825824441814774
           ]
          },
          {
           "marker": {
            "color": "blue",
            "size": 8,
            "symbol": "circle"
           },
           "mode": "markers",
           "name": "Teammate",
           "showlegend": false,
           "type": "scatter",
           "x": [
            98.20886466941256
           ],
           "y": [
            46.430042742017456
           ]
          },
          {
           "mode": "lines+markers",
           "name": "Line Plot",
           "type": "scatter",
           "x": [
            0,
            1,
            2,
            3,
            4,
            5,
            6,
            7,
            8,
            9,
            10,
            11,
            12,
            13,
            14,
            15,
            16,
            17,
            18,
            19,
            20,
            21,
            22,
            23,
            24,
            25,
            26,
            27,
            28,
            29,
            30,
            31,
            32,
            33,
            34,
            35,
            36,
            37,
            38,
            39,
            40,
            41
           ],
           "y": [
            0.10442892,
            0.14224926,
            0.16282678,
            0.16282678,
            0.16452551,
            0.16554648,
            0.17032182,
            0.17032182,
            0.18504907,
            0.18508397,
            0.1854914,
            0.1870719,
            0.1872687,
            0.18752642,
            0.18792188,
            0.18792188,
            0.18810053,
            0.18864377,
            0.18866037,
            0.18910883,
            0.18983072,
            0.18983072,
            0.18983072,
            0.19038348,
            0.19038348,
            0.19038348,
            0.19261675,
            0.19261675,
            0.19261675,
            0.19261675,
            0.19261675,
            0.19261675,
            0.19261675,
            0.19261675,
            0.19261675,
            0.19317539,
            0.19319032,
            0.19319032,
            0.19319032,
            0.19319032,
            0.19319032,
            0.19319032
           ]
          }
         ],
         "name": "41"
        },
        {
         "data": [
          {
           "hoverinfo": "skip",
           "line": {
            "color": "black",
            "width": 4
           },
           "mode": "lines",
           "showlegend": false,
           "type": "scatter",
           "x": [
            0,
            120,
            120,
            0,
            0
           ],
           "y": [
            0,
            0,
            80,
            80,
            0
           ]
          },
          {
           "hoverinfo": "skip",
           "line": {
            "color": "black",
            "width": 4
           },
           "mode": "lines",
           "showlegend": false,
           "type": "scatter",
           "x": [
            60,
            60
           ],
           "y": [
            0,
            80
           ]
          },
          {
           "hoverinfo": "skip",
           "line": {
            "color": "black",
            "width": 4
           },
           "mode": "lines",
           "showlegend": false,
           "type": "scatter",
           "x": [
            0,
            16.459249641096918,
            16.459249641096918,
            0
           ],
           "y": [
            16,
            16,
            64,
            64
           ]
          },
          {
           "hoverinfo": "skip",
           "line": {
            "color": "black",
            "width": 4
           },
           "mode": "lines",
           "showlegend": false,
           "type": "scatter",
           "x": [
            120,
            103.54075035890308,
            103.54075035890308,
            120
           ],
           "y": [
            16,
            16,
            64,
            64
           ]
          },
          {
           "hoverinfo": "skip",
           "line": {
            "color": "black",
            "width": 4
           },
           "mode": "lines",
           "showlegend": false,
           "type": "scatter",
           "x": [
            0,
            5.486416547032306,
            5.486416547032306,
            0
           ],
           "y": [
            28,
            28,
            52,
            52
           ]
          },
          {
           "hoverinfo": "skip",
           "line": {
            "color": "black",
            "width": 4
           },
           "mode": "lines",
           "showlegend": false,
           "type": "scatter",
           "x": [
            120,
            114.5135834529677,
            114.5135834529677,
            120
           ],
           "y": [
            28,
            28,
            52,
            52
           ]
          },
          {
           "hoverinfo": "skip",
           "line": {
            "color": "black"
           },
           "mode": "markers",
           "showlegend": false,
           "type": "scatter",
           "x": [
            10.972833094064612
           ],
           "y": [
            40
           ]
          },
          {
           "hoverinfo": "skip",
           "line": {
            "color": "black"
           },
           "mode": "markers",
           "showlegend": false,
           "type": "scatter",
           "x": [
            109.02716690593539
           ],
           "y": [
            40
           ]
          },
          {
           "hoverinfo": "skip",
           "line": {
            "color": "black"
           },
           "mode": "markers",
           "showlegend": false,
           "type": "scatter",
           "x": [
            60
           ],
           "y": [
            40
           ]
          },
          {
           "marker": {
            "color": "black",
            "size": 10,
            "symbol": "star"
           },
           "mode": "markers",
           "name": "Shot Position",
           "showlegend": false,
           "type": "scatter",
           "x": [
            111
           ],
           "y": [
            40.93587480838928
           ]
          },
          {
           "marker": {
            "color": "purple",
            "size": 10,
            "symbol": "diamond"
           },
           "mode": "markers",
           "name": "Freekick Position",
           "showlegend": false,
           "type": "scatter",
           "x": [
            95
           ],
           "y": [
            62
           ]
          },
          {
           "marker": {
            "color": "orange",
            "size": 8,
            "symbol": "x"
           },
           "mode": "markers",
           "name": "Opponent",
           "showlegend": false,
           "type": "scatter",
           "x": [
            108.00615443856704
           ],
           "y": [
            43.80793554652633
           ]
          },
          {
           "marker": {
            "color": "orange",
            "size": 8,
            "symbol": "x"
           },
           "mode": "markers",
           "name": "Opponent",
           "showlegend": false,
           "type": "scatter",
           "x": [
            111.90739851122483
           ],
           "y": [
            47.029294957878314
           ]
          },
          {
           "marker": {
            "color": "orange",
            "size": 8,
            "symbol": "x"
           },
           "mode": "markers",
           "name": "Opponent",
           "showlegend": false,
           "type": "scatter",
           "x": [
            109.69742545427236
           ],
           "y": [
            48.03773445793831
           ]
          },
          {
           "marker": {
            "color": "orange",
            "size": 8,
            "symbol": "x"
           },
           "mode": "markers",
           "name": "Opponent",
           "showlegend": false,
           "type": "scatter",
           "x": [
            103.80656397910276
           ],
           "y": [
            48.61025793348464
           ]
          },
          {
           "marker": {
            "color": "orange",
            "size": 8,
            "symbol": "x"
           },
           "mode": "markers",
           "name": "Opponent",
           "showlegend": false,
           "type": "scatter",
           "x": [
            117.7267524942179
           ],
           "y": [
            49.267902892188985
           ]
          },
          {
           "marker": {
            "color": "orange",
            "size": 8,
            "symbol": "x"
           },
           "mode": "markers",
           "name": "Opponent",
           "showlegend": false,
           "type": "scatter",
           "x": [
            118.54388524949289
           ],
           "y": [
            39.19481578475043
           ]
          },
          {
           "marker": {
            "color": "blue",
            "size": 8,
            "symbol": "circle"
           },
           "mode": "markers",
           "name": "Teammate",
           "showlegend": false,
           "type": "scatter",
           "x": [
            106.36344090275583
           ],
           "y": [
            43.61844718278512
           ]
          },
          {
           "marker": {
            "color": "blue",
            "size": 8,
            "symbol": "circle"
           },
           "mode": "markers",
           "name": "Teammate",
           "showlegend": false,
           "type": "scatter",
           "x": [
            111.22351377458534
           ],
           "y": [
            43.8469859383912
           ]
          },
          {
           "marker": {
            "color": "blue",
            "size": 8,
            "symbol": "circle"
           },
           "mode": "markers",
           "name": "Teammate",
           "showlegend": false,
           "type": "scatter",
           "x": [
            106.75962854066337
           ],
           "y": [
            47.825824441814774
           ]
          },
          {
           "marker": {
            "color": "blue",
            "size": 8,
            "symbol": "circle"
           },
           "mode": "markers",
           "name": "Teammate",
           "showlegend": false,
           "type": "scatter",
           "x": [
            98.20886466941256
           ],
           "y": [
            46.430042742017456
           ]
          },
          {
           "mode": "lines+markers",
           "name": "Line Plot",
           "type": "scatter",
           "x": [
            0,
            1,
            2,
            3,
            4,
            5,
            6,
            7,
            8,
            9,
            10,
            11,
            12,
            13,
            14,
            15,
            16,
            17,
            18,
            19,
            20,
            21,
            22,
            23,
            24,
            25,
            26,
            27,
            28,
            29,
            30,
            31,
            32,
            33,
            34,
            35,
            36,
            37,
            38,
            39,
            40,
            41,
            42
           ],
           "y": [
            0.10442892,
            0.14224926,
            0.16282678,
            0.16282678,
            0.16452551,
            0.16554648,
            0.17032182,
            0.17032182,
            0.18504907,
            0.18508397,
            0.1854914,
            0.1870719,
            0.1872687,
            0.18752642,
            0.18792188,
            0.18792188,
            0.18810053,
            0.18864377,
            0.18866037,
            0.18910883,
            0.18983072,
            0.18983072,
            0.18983072,
            0.19038348,
            0.19038348,
            0.19038348,
            0.19261675,
            0.19261675,
            0.19261675,
            0.19261675,
            0.19261675,
            0.19261675,
            0.19261675,
            0.19261675,
            0.19261675,
            0.19317539,
            0.19319032,
            0.19319032,
            0.19319032,
            0.19319032,
            0.19319032,
            0.19319032,
            0.19319032
           ]
          }
         ],
         "name": "42"
        },
        {
         "data": [
          {
           "hoverinfo": "skip",
           "line": {
            "color": "black",
            "width": 4
           },
           "mode": "lines",
           "showlegend": false,
           "type": "scatter",
           "x": [
            0,
            120,
            120,
            0,
            0
           ],
           "y": [
            0,
            0,
            80,
            80,
            0
           ]
          },
          {
           "hoverinfo": "skip",
           "line": {
            "color": "black",
            "width": 4
           },
           "mode": "lines",
           "showlegend": false,
           "type": "scatter",
           "x": [
            60,
            60
           ],
           "y": [
            0,
            80
           ]
          },
          {
           "hoverinfo": "skip",
           "line": {
            "color": "black",
            "width": 4
           },
           "mode": "lines",
           "showlegend": false,
           "type": "scatter",
           "x": [
            0,
            16.459249641096918,
            16.459249641096918,
            0
           ],
           "y": [
            16,
            16,
            64,
            64
           ]
          },
          {
           "hoverinfo": "skip",
           "line": {
            "color": "black",
            "width": 4
           },
           "mode": "lines",
           "showlegend": false,
           "type": "scatter",
           "x": [
            120,
            103.54075035890308,
            103.54075035890308,
            120
           ],
           "y": [
            16,
            16,
            64,
            64
           ]
          },
          {
           "hoverinfo": "skip",
           "line": {
            "color": "black",
            "width": 4
           },
           "mode": "lines",
           "showlegend": false,
           "type": "scatter",
           "x": [
            0,
            5.486416547032306,
            5.486416547032306,
            0
           ],
           "y": [
            28,
            28,
            52,
            52
           ]
          },
          {
           "hoverinfo": "skip",
           "line": {
            "color": "black",
            "width": 4
           },
           "mode": "lines",
           "showlegend": false,
           "type": "scatter",
           "x": [
            120,
            114.5135834529677,
            114.5135834529677,
            120
           ],
           "y": [
            28,
            28,
            52,
            52
           ]
          },
          {
           "hoverinfo": "skip",
           "line": {
            "color": "black"
           },
           "mode": "markers",
           "showlegend": false,
           "type": "scatter",
           "x": [
            10.972833094064612
           ],
           "y": [
            40
           ]
          },
          {
           "hoverinfo": "skip",
           "line": {
            "color": "black"
           },
           "mode": "markers",
           "showlegend": false,
           "type": "scatter",
           "x": [
            109.02716690593539
           ],
           "y": [
            40
           ]
          },
          {
           "hoverinfo": "skip",
           "line": {
            "color": "black"
           },
           "mode": "markers",
           "showlegend": false,
           "type": "scatter",
           "x": [
            60
           ],
           "y": [
            40
           ]
          },
          {
           "marker": {
            "color": "black",
            "size": 10,
            "symbol": "star"
           },
           "mode": "markers",
           "name": "Shot Position",
           "showlegend": false,
           "type": "scatter",
           "x": [
            111
           ],
           "y": [
            40.93587480838928
           ]
          },
          {
           "marker": {
            "color": "purple",
            "size": 10,
            "symbol": "diamond"
           },
           "mode": "markers",
           "name": "Freekick Position",
           "showlegend": false,
           "type": "scatter",
           "x": [
            95
           ],
           "y": [
            62
           ]
          },
          {
           "marker": {
            "color": "orange",
            "size": 8,
            "symbol": "x"
           },
           "mode": "markers",
           "name": "Opponent",
           "showlegend": false,
           "type": "scatter",
           "x": [
            108.00615443856704
           ],
           "y": [
            43.80793554652633
           ]
          },
          {
           "marker": {
            "color": "orange",
            "size": 8,
            "symbol": "x"
           },
           "mode": "markers",
           "name": "Opponent",
           "showlegend": false,
           "type": "scatter",
           "x": [
            111.90739851122483
           ],
           "y": [
            47.029294957878314
           ]
          },
          {
           "marker": {
            "color": "orange",
            "size": 8,
            "symbol": "x"
           },
           "mode": "markers",
           "name": "Opponent",
           "showlegend": false,
           "type": "scatter",
           "x": [
            109.69742545427236
           ],
           "y": [
            48.03773445793831
           ]
          },
          {
           "marker": {
            "color": "orange",
            "size": 8,
            "symbol": "x"
           },
           "mode": "markers",
           "name": "Opponent",
           "showlegend": false,
           "type": "scatter",
           "x": [
            103.80656397910276
           ],
           "y": [
            48.61025793348464
           ]
          },
          {
           "marker": {
            "color": "orange",
            "size": 8,
            "symbol": "x"
           },
           "mode": "markers",
           "name": "Opponent",
           "showlegend": false,
           "type": "scatter",
           "x": [
            117.7267524942179
           ],
           "y": [
            49.267902892188985
           ]
          },
          {
           "marker": {
            "color": "orange",
            "size": 8,
            "symbol": "x"
           },
           "mode": "markers",
           "name": "Opponent",
           "showlegend": false,
           "type": "scatter",
           "x": [
            118.54388524949289
           ],
           "y": [
            39.19481578475043
           ]
          },
          {
           "marker": {
            "color": "blue",
            "size": 8,
            "symbol": "circle"
           },
           "mode": "markers",
           "name": "Teammate",
           "showlegend": false,
           "type": "scatter",
           "x": [
            106.36344090275583
           ],
           "y": [
            43.61844718278512
           ]
          },
          {
           "marker": {
            "color": "blue",
            "size": 8,
            "symbol": "circle"
           },
           "mode": "markers",
           "name": "Teammate",
           "showlegend": false,
           "type": "scatter",
           "x": [
            111.22351377458534
           ],
           "y": [
            43.8469859383912
           ]
          },
          {
           "marker": {
            "color": "blue",
            "size": 8,
            "symbol": "circle"
           },
           "mode": "markers",
           "name": "Teammate",
           "showlegend": false,
           "type": "scatter",
           "x": [
            106.75962854066337
           ],
           "y": [
            47.825824441814774
           ]
          },
          {
           "marker": {
            "color": "blue",
            "size": 8,
            "symbol": "circle"
           },
           "mode": "markers",
           "name": "Teammate",
           "showlegend": false,
           "type": "scatter",
           "x": [
            98.20886466941256
           ],
           "y": [
            46.430042742017456
           ]
          },
          {
           "mode": "lines+markers",
           "name": "Line Plot",
           "type": "scatter",
           "x": [
            0,
            1,
            2,
            3,
            4,
            5,
            6,
            7,
            8,
            9,
            10,
            11,
            12,
            13,
            14,
            15,
            16,
            17,
            18,
            19,
            20,
            21,
            22,
            23,
            24,
            25,
            26,
            27,
            28,
            29,
            30,
            31,
            32,
            33,
            34,
            35,
            36,
            37,
            38,
            39,
            40,
            41,
            42,
            43
           ],
           "y": [
            0.10442892,
            0.14224926,
            0.16282678,
            0.16282678,
            0.16452551,
            0.16554648,
            0.17032182,
            0.17032182,
            0.18504907,
            0.18508397,
            0.1854914,
            0.1870719,
            0.1872687,
            0.18752642,
            0.18792188,
            0.18792188,
            0.18810053,
            0.18864377,
            0.18866037,
            0.18910883,
            0.18983072,
            0.18983072,
            0.18983072,
            0.19038348,
            0.19038348,
            0.19038348,
            0.19261675,
            0.19261675,
            0.19261675,
            0.19261675,
            0.19261675,
            0.19261675,
            0.19261675,
            0.19261675,
            0.19261675,
            0.19317539,
            0.19319032,
            0.19319032,
            0.19319032,
            0.19319032,
            0.19319032,
            0.19319032,
            0.19319032,
            0.19319032
           ]
          }
         ],
         "name": "43"
        },
        {
         "data": [
          {
           "hoverinfo": "skip",
           "line": {
            "color": "black",
            "width": 4
           },
           "mode": "lines",
           "showlegend": false,
           "type": "scatter",
           "x": [
            0,
            120,
            120,
            0,
            0
           ],
           "y": [
            0,
            0,
            80,
            80,
            0
           ]
          },
          {
           "hoverinfo": "skip",
           "line": {
            "color": "black",
            "width": 4
           },
           "mode": "lines",
           "showlegend": false,
           "type": "scatter",
           "x": [
            60,
            60
           ],
           "y": [
            0,
            80
           ]
          },
          {
           "hoverinfo": "skip",
           "line": {
            "color": "black",
            "width": 4
           },
           "mode": "lines",
           "showlegend": false,
           "type": "scatter",
           "x": [
            0,
            16.459249641096918,
            16.459249641096918,
            0
           ],
           "y": [
            16,
            16,
            64,
            64
           ]
          },
          {
           "hoverinfo": "skip",
           "line": {
            "color": "black",
            "width": 4
           },
           "mode": "lines",
           "showlegend": false,
           "type": "scatter",
           "x": [
            120,
            103.54075035890308,
            103.54075035890308,
            120
           ],
           "y": [
            16,
            16,
            64,
            64
           ]
          },
          {
           "hoverinfo": "skip",
           "line": {
            "color": "black",
            "width": 4
           },
           "mode": "lines",
           "showlegend": false,
           "type": "scatter",
           "x": [
            0,
            5.486416547032306,
            5.486416547032306,
            0
           ],
           "y": [
            28,
            28,
            52,
            52
           ]
          },
          {
           "hoverinfo": "skip",
           "line": {
            "color": "black",
            "width": 4
           },
           "mode": "lines",
           "showlegend": false,
           "type": "scatter",
           "x": [
            120,
            114.5135834529677,
            114.5135834529677,
            120
           ],
           "y": [
            28,
            28,
            52,
            52
           ]
          },
          {
           "hoverinfo": "skip",
           "line": {
            "color": "black"
           },
           "mode": "markers",
           "showlegend": false,
           "type": "scatter",
           "x": [
            10.972833094064612
           ],
           "y": [
            40
           ]
          },
          {
           "hoverinfo": "skip",
           "line": {
            "color": "black"
           },
           "mode": "markers",
           "showlegend": false,
           "type": "scatter",
           "x": [
            109.02716690593539
           ],
           "y": [
            40
           ]
          },
          {
           "hoverinfo": "skip",
           "line": {
            "color": "black"
           },
           "mode": "markers",
           "showlegend": false,
           "type": "scatter",
           "x": [
            60
           ],
           "y": [
            40
           ]
          },
          {
           "marker": {
            "color": "black",
            "size": 10,
            "symbol": "star"
           },
           "mode": "markers",
           "name": "Shot Position",
           "showlegend": false,
           "type": "scatter",
           "x": [
            111
           ],
           "y": [
            40.93587480838928
           ]
          },
          {
           "marker": {
            "color": "purple",
            "size": 10,
            "symbol": "diamond"
           },
           "mode": "markers",
           "name": "Freekick Position",
           "showlegend": false,
           "type": "scatter",
           "x": [
            95
           ],
           "y": [
            62
           ]
          },
          {
           "marker": {
            "color": "orange",
            "size": 8,
            "symbol": "x"
           },
           "mode": "markers",
           "name": "Opponent",
           "showlegend": false,
           "type": "scatter",
           "x": [
            108.00615443856704
           ],
           "y": [
            43.80793554652633
           ]
          },
          {
           "marker": {
            "color": "orange",
            "size": 8,
            "symbol": "x"
           },
           "mode": "markers",
           "name": "Opponent",
           "showlegend": false,
           "type": "scatter",
           "x": [
            111.90739851122483
           ],
           "y": [
            47.029294957878314
           ]
          },
          {
           "marker": {
            "color": "orange",
            "size": 8,
            "symbol": "x"
           },
           "mode": "markers",
           "name": "Opponent",
           "showlegend": false,
           "type": "scatter",
           "x": [
            109.69742545427236
           ],
           "y": [
            48.03773445793831
           ]
          },
          {
           "marker": {
            "color": "orange",
            "size": 8,
            "symbol": "x"
           },
           "mode": "markers",
           "name": "Opponent",
           "showlegend": false,
           "type": "scatter",
           "x": [
            103.80656397910276
           ],
           "y": [
            48.61025793348464
           ]
          },
          {
           "marker": {
            "color": "orange",
            "size": 8,
            "symbol": "x"
           },
           "mode": "markers",
           "name": "Opponent",
           "showlegend": false,
           "type": "scatter",
           "x": [
            117.7267524942179
           ],
           "y": [
            49.267902892188985
           ]
          },
          {
           "marker": {
            "color": "orange",
            "size": 8,
            "symbol": "x"
           },
           "mode": "markers",
           "name": "Opponent",
           "showlegend": false,
           "type": "scatter",
           "x": [
            118.54388524949289
           ],
           "y": [
            39.19481578475043
           ]
          },
          {
           "marker": {
            "color": "blue",
            "size": 8,
            "symbol": "circle"
           },
           "mode": "markers",
           "name": "Teammate",
           "showlegend": false,
           "type": "scatter",
           "x": [
            106.36344090275583
           ],
           "y": [
            43.61844718278512
           ]
          },
          {
           "marker": {
            "color": "blue",
            "size": 8,
            "symbol": "circle"
           },
           "mode": "markers",
           "name": "Teammate",
           "showlegend": false,
           "type": "scatter",
           "x": [
            111.22351377458534
           ],
           "y": [
            43.8469859383912
           ]
          },
          {
           "marker": {
            "color": "blue",
            "size": 8,
            "symbol": "circle"
           },
           "mode": "markers",
           "name": "Teammate",
           "showlegend": false,
           "type": "scatter",
           "x": [
            106.75962854066337
           ],
           "y": [
            47.825824441814774
           ]
          },
          {
           "marker": {
            "color": "blue",
            "size": 8,
            "symbol": "circle"
           },
           "mode": "markers",
           "name": "Teammate",
           "showlegend": false,
           "type": "scatter",
           "x": [
            98.20886466941256
           ],
           "y": [
            46.430042742017456
           ]
          },
          {
           "mode": "lines+markers",
           "name": "Line Plot",
           "type": "scatter",
           "x": [
            0,
            1,
            2,
            3,
            4,
            5,
            6,
            7,
            8,
            9,
            10,
            11,
            12,
            13,
            14,
            15,
            16,
            17,
            18,
            19,
            20,
            21,
            22,
            23,
            24,
            25,
            26,
            27,
            28,
            29,
            30,
            31,
            32,
            33,
            34,
            35,
            36,
            37,
            38,
            39,
            40,
            41,
            42,
            43,
            44
           ],
           "y": [
            0.10442892,
            0.14224926,
            0.16282678,
            0.16282678,
            0.16452551,
            0.16554648,
            0.17032182,
            0.17032182,
            0.18504907,
            0.18508397,
            0.1854914,
            0.1870719,
            0.1872687,
            0.18752642,
            0.18792188,
            0.18792188,
            0.18810053,
            0.18864377,
            0.18866037,
            0.18910883,
            0.18983072,
            0.18983072,
            0.18983072,
            0.19038348,
            0.19038348,
            0.19038348,
            0.19261675,
            0.19261675,
            0.19261675,
            0.19261675,
            0.19261675,
            0.19261675,
            0.19261675,
            0.19261675,
            0.19261675,
            0.19317539,
            0.19319032,
            0.19319032,
            0.19319032,
            0.19319032,
            0.19319032,
            0.19319032,
            0.19319032,
            0.19319032,
            0.19319032
           ]
          }
         ],
         "name": "44"
        },
        {
         "data": [
          {
           "hoverinfo": "skip",
           "line": {
            "color": "black",
            "width": 4
           },
           "mode": "lines",
           "showlegend": false,
           "type": "scatter",
           "x": [
            0,
            120,
            120,
            0,
            0
           ],
           "y": [
            0,
            0,
            80,
            80,
            0
           ]
          },
          {
           "hoverinfo": "skip",
           "line": {
            "color": "black",
            "width": 4
           },
           "mode": "lines",
           "showlegend": false,
           "type": "scatter",
           "x": [
            60,
            60
           ],
           "y": [
            0,
            80
           ]
          },
          {
           "hoverinfo": "skip",
           "line": {
            "color": "black",
            "width": 4
           },
           "mode": "lines",
           "showlegend": false,
           "type": "scatter",
           "x": [
            0,
            16.459249641096918,
            16.459249641096918,
            0
           ],
           "y": [
            16,
            16,
            64,
            64
           ]
          },
          {
           "hoverinfo": "skip",
           "line": {
            "color": "black",
            "width": 4
           },
           "mode": "lines",
           "showlegend": false,
           "type": "scatter",
           "x": [
            120,
            103.54075035890308,
            103.54075035890308,
            120
           ],
           "y": [
            16,
            16,
            64,
            64
           ]
          },
          {
           "hoverinfo": "skip",
           "line": {
            "color": "black",
            "width": 4
           },
           "mode": "lines",
           "showlegend": false,
           "type": "scatter",
           "x": [
            0,
            5.486416547032306,
            5.486416547032306,
            0
           ],
           "y": [
            28,
            28,
            52,
            52
           ]
          },
          {
           "hoverinfo": "skip",
           "line": {
            "color": "black",
            "width": 4
           },
           "mode": "lines",
           "showlegend": false,
           "type": "scatter",
           "x": [
            120,
            114.5135834529677,
            114.5135834529677,
            120
           ],
           "y": [
            28,
            28,
            52,
            52
           ]
          },
          {
           "hoverinfo": "skip",
           "line": {
            "color": "black"
           },
           "mode": "markers",
           "showlegend": false,
           "type": "scatter",
           "x": [
            10.972833094064612
           ],
           "y": [
            40
           ]
          },
          {
           "hoverinfo": "skip",
           "line": {
            "color": "black"
           },
           "mode": "markers",
           "showlegend": false,
           "type": "scatter",
           "x": [
            109.02716690593539
           ],
           "y": [
            40
           ]
          },
          {
           "hoverinfo": "skip",
           "line": {
            "color": "black"
           },
           "mode": "markers",
           "showlegend": false,
           "type": "scatter",
           "x": [
            60
           ],
           "y": [
            40
           ]
          },
          {
           "marker": {
            "color": "black",
            "size": 10,
            "symbol": "star"
           },
           "mode": "markers",
           "name": "Shot Position",
           "showlegend": false,
           "type": "scatter",
           "x": [
            111
           ],
           "y": [
            40.93587480838928
           ]
          },
          {
           "marker": {
            "color": "purple",
            "size": 10,
            "symbol": "diamond"
           },
           "mode": "markers",
           "name": "Freekick Position",
           "showlegend": false,
           "type": "scatter",
           "x": [
            95
           ],
           "y": [
            62
           ]
          },
          {
           "marker": {
            "color": "orange",
            "size": 8,
            "symbol": "x"
           },
           "mode": "markers",
           "name": "Opponent",
           "showlegend": false,
           "type": "scatter",
           "x": [
            108.00615443856704
           ],
           "y": [
            43.80793554652633
           ]
          },
          {
           "marker": {
            "color": "orange",
            "size": 8,
            "symbol": "x"
           },
           "mode": "markers",
           "name": "Opponent",
           "showlegend": false,
           "type": "scatter",
           "x": [
            111.90739851122483
           ],
           "y": [
            47.029294957878314
           ]
          },
          {
           "marker": {
            "color": "orange",
            "size": 8,
            "symbol": "x"
           },
           "mode": "markers",
           "name": "Opponent",
           "showlegend": false,
           "type": "scatter",
           "x": [
            109.69742545427236
           ],
           "y": [
            48.03773445793831
           ]
          },
          {
           "marker": {
            "color": "orange",
            "size": 8,
            "symbol": "x"
           },
           "mode": "markers",
           "name": "Opponent",
           "showlegend": false,
           "type": "scatter",
           "x": [
            103.80656397910276
           ],
           "y": [
            48.61025793348464
           ]
          },
          {
           "marker": {
            "color": "orange",
            "size": 8,
            "symbol": "x"
           },
           "mode": "markers",
           "name": "Opponent",
           "showlegend": false,
           "type": "scatter",
           "x": [
            117.7267524942179
           ],
           "y": [
            49.267902892188985
           ]
          },
          {
           "marker": {
            "color": "orange",
            "size": 8,
            "symbol": "x"
           },
           "mode": "markers",
           "name": "Opponent",
           "showlegend": false,
           "type": "scatter",
           "x": [
            118.54388524949289
           ],
           "y": [
            39.19481578475043
           ]
          },
          {
           "marker": {
            "color": "blue",
            "size": 8,
            "symbol": "circle"
           },
           "mode": "markers",
           "name": "Teammate",
           "showlegend": false,
           "type": "scatter",
           "x": [
            109.43542273040624
           ],
           "y": [
            45.43514892240621
           ]
          },
          {
           "marker": {
            "color": "blue",
            "size": 8,
            "symbol": "circle"
           },
           "mode": "markers",
           "name": "Teammate",
           "showlegend": false,
           "type": "scatter",
           "x": [
            111.22351377458534
           ],
           "y": [
            43.8469859383912
           ]
          },
          {
           "marker": {
            "color": "blue",
            "size": 8,
            "symbol": "circle"
           },
           "mode": "markers",
           "name": "Teammate",
           "showlegend": false,
           "type": "scatter",
           "x": [
            106.75962854066337
           ],
           "y": [
            47.825824441814774
           ]
          },
          {
           "marker": {
            "color": "blue",
            "size": 8,
            "symbol": "circle"
           },
           "mode": "markers",
           "name": "Teammate",
           "showlegend": false,
           "type": "scatter",
           "x": [
            98.36071003405084
           ],
           "y": [
            46.430042742017456
           ]
          },
          {
           "mode": "lines+markers",
           "name": "Line Plot",
           "type": "scatter",
           "x": [
            0,
            1,
            2,
            3,
            4,
            5,
            6,
            7,
            8,
            9,
            10,
            11,
            12,
            13,
            14,
            15,
            16,
            17,
            18,
            19,
            20,
            21,
            22,
            23,
            24,
            25,
            26,
            27,
            28,
            29,
            30,
            31,
            32,
            33,
            34,
            35,
            36,
            37,
            38,
            39,
            40,
            41,
            42,
            43,
            44,
            45
           ],
           "y": [
            0.10442892,
            0.14224926,
            0.16282678,
            0.16282678,
            0.16452551,
            0.16554648,
            0.17032182,
            0.17032182,
            0.18504907,
            0.18508397,
            0.1854914,
            0.1870719,
            0.1872687,
            0.18752642,
            0.18792188,
            0.18792188,
            0.18810053,
            0.18864377,
            0.18866037,
            0.18910883,
            0.18983072,
            0.18983072,
            0.18983072,
            0.19038348,
            0.19038348,
            0.19038348,
            0.19261675,
            0.19261675,
            0.19261675,
            0.19261675,
            0.19261675,
            0.19261675,
            0.19261675,
            0.19261675,
            0.19261675,
            0.19317539,
            0.19319032,
            0.19319032,
            0.19319032,
            0.19319032,
            0.19319032,
            0.19319032,
            0.19319032,
            0.19319032,
            0.19319032,
            0.19320494
           ]
          }
         ],
         "name": "45"
        },
        {
         "data": [
          {
           "hoverinfo": "skip",
           "line": {
            "color": "black",
            "width": 4
           },
           "mode": "lines",
           "showlegend": false,
           "type": "scatter",
           "x": [
            0,
            120,
            120,
            0,
            0
           ],
           "y": [
            0,
            0,
            80,
            80,
            0
           ]
          },
          {
           "hoverinfo": "skip",
           "line": {
            "color": "black",
            "width": 4
           },
           "mode": "lines",
           "showlegend": false,
           "type": "scatter",
           "x": [
            60,
            60
           ],
           "y": [
            0,
            80
           ]
          },
          {
           "hoverinfo": "skip",
           "line": {
            "color": "black",
            "width": 4
           },
           "mode": "lines",
           "showlegend": false,
           "type": "scatter",
           "x": [
            0,
            16.459249641096918,
            16.459249641096918,
            0
           ],
           "y": [
            16,
            16,
            64,
            64
           ]
          },
          {
           "hoverinfo": "skip",
           "line": {
            "color": "black",
            "width": 4
           },
           "mode": "lines",
           "showlegend": false,
           "type": "scatter",
           "x": [
            120,
            103.54075035890308,
            103.54075035890308,
            120
           ],
           "y": [
            16,
            16,
            64,
            64
           ]
          },
          {
           "hoverinfo": "skip",
           "line": {
            "color": "black",
            "width": 4
           },
           "mode": "lines",
           "showlegend": false,
           "type": "scatter",
           "x": [
            0,
            5.486416547032306,
            5.486416547032306,
            0
           ],
           "y": [
            28,
            28,
            52,
            52
           ]
          },
          {
           "hoverinfo": "skip",
           "line": {
            "color": "black",
            "width": 4
           },
           "mode": "lines",
           "showlegend": false,
           "type": "scatter",
           "x": [
            120,
            114.5135834529677,
            114.5135834529677,
            120
           ],
           "y": [
            28,
            28,
            52,
            52
           ]
          },
          {
           "hoverinfo": "skip",
           "line": {
            "color": "black"
           },
           "mode": "markers",
           "showlegend": false,
           "type": "scatter",
           "x": [
            10.972833094064612
           ],
           "y": [
            40
           ]
          },
          {
           "hoverinfo": "skip",
           "line": {
            "color": "black"
           },
           "mode": "markers",
           "showlegend": false,
           "type": "scatter",
           "x": [
            109.02716690593539
           ],
           "y": [
            40
           ]
          },
          {
           "hoverinfo": "skip",
           "line": {
            "color": "black"
           },
           "mode": "markers",
           "showlegend": false,
           "type": "scatter",
           "x": [
            60
           ],
           "y": [
            40
           ]
          },
          {
           "marker": {
            "color": "black",
            "size": 10,
            "symbol": "star"
           },
           "mode": "markers",
           "name": "Shot Position",
           "showlegend": false,
           "type": "scatter",
           "x": [
            111
           ],
           "y": [
            40.93587480838928
           ]
          },
          {
           "marker": {
            "color": "purple",
            "size": 10,
            "symbol": "diamond"
           },
           "mode": "markers",
           "name": "Freekick Position",
           "showlegend": false,
           "type": "scatter",
           "x": [
            95
           ],
           "y": [
            62
           ]
          },
          {
           "marker": {
            "color": "orange",
            "size": 8,
            "symbol": "x"
           },
           "mode": "markers",
           "name": "Opponent",
           "showlegend": false,
           "type": "scatter",
           "x": [
            108.00615443856704
           ],
           "y": [
            43.80793554652633
           ]
          },
          {
           "marker": {
            "color": "orange",
            "size": 8,
            "symbol": "x"
           },
           "mode": "markers",
           "name": "Opponent",
           "showlegend": false,
           "type": "scatter",
           "x": [
            111.90739851122483
           ],
           "y": [
            47.029294957878314
           ]
          },
          {
           "marker": {
            "color": "orange",
            "size": 8,
            "symbol": "x"
           },
           "mode": "markers",
           "name": "Opponent",
           "showlegend": false,
           "type": "scatter",
           "x": [
            109.69742545427236
           ],
           "y": [
            48.03773445793831
           ]
          },
          {
           "marker": {
            "color": "orange",
            "size": 8,
            "symbol": "x"
           },
           "mode": "markers",
           "name": "Opponent",
           "showlegend": false,
           "type": "scatter",
           "x": [
            103.80656397910276
           ],
           "y": [
            48.61025793348464
           ]
          },
          {
           "marker": {
            "color": "orange",
            "size": 8,
            "symbol": "x"
           },
           "mode": "markers",
           "name": "Opponent",
           "showlegend": false,
           "type": "scatter",
           "x": [
            117.7267524942179
           ],
           "y": [
            49.267902892188985
           ]
          },
          {
           "marker": {
            "color": "orange",
            "size": 8,
            "symbol": "x"
           },
           "mode": "markers",
           "name": "Opponent",
           "showlegend": false,
           "type": "scatter",
           "x": [
            118.54388524949289
           ],
           "y": [
            39.19481578475043
           ]
          },
          {
           "marker": {
            "color": "blue",
            "size": 8,
            "symbol": "circle"
           },
           "mode": "markers",
           "name": "Teammate",
           "showlegend": false,
           "type": "scatter",
           "x": [
            109.43542273040624
           ],
           "y": [
            45.43514892240621
           ]
          },
          {
           "marker": {
            "color": "blue",
            "size": 8,
            "symbol": "circle"
           },
           "mode": "markers",
           "name": "Teammate",
           "showlegend": false,
           "type": "scatter",
           "x": [
            111.22351377458534
           ],
           "y": [
            43.8469859383912
           ]
          },
          {
           "marker": {
            "color": "blue",
            "size": 8,
            "symbol": "circle"
           },
           "mode": "markers",
           "name": "Teammate",
           "showlegend": false,
           "type": "scatter",
           "x": [
            106.75962854066337
           ],
           "y": [
            47.825824441814774
           ]
          },
          {
           "marker": {
            "color": "blue",
            "size": 8,
            "symbol": "circle"
           },
           "mode": "markers",
           "name": "Teammate",
           "showlegend": false,
           "type": "scatter",
           "x": [
            98.36071003405084
           ],
           "y": [
            46.430042742017456
           ]
          },
          {
           "mode": "lines+markers",
           "name": "Line Plot",
           "type": "scatter",
           "x": [
            0,
            1,
            2,
            3,
            4,
            5,
            6,
            7,
            8,
            9,
            10,
            11,
            12,
            13,
            14,
            15,
            16,
            17,
            18,
            19,
            20,
            21,
            22,
            23,
            24,
            25,
            26,
            27,
            28,
            29,
            30,
            31,
            32,
            33,
            34,
            35,
            36,
            37,
            38,
            39,
            40,
            41,
            42,
            43,
            44,
            45,
            46
           ],
           "y": [
            0.10442892,
            0.14224926,
            0.16282678,
            0.16282678,
            0.16452551,
            0.16554648,
            0.17032182,
            0.17032182,
            0.18504907,
            0.18508397,
            0.1854914,
            0.1870719,
            0.1872687,
            0.18752642,
            0.18792188,
            0.18792188,
            0.18810053,
            0.18864377,
            0.18866037,
            0.18910883,
            0.18983072,
            0.18983072,
            0.18983072,
            0.19038348,
            0.19038348,
            0.19038348,
            0.19261675,
            0.19261675,
            0.19261675,
            0.19261675,
            0.19261675,
            0.19261675,
            0.19261675,
            0.19261675,
            0.19261675,
            0.19317539,
            0.19319032,
            0.19319032,
            0.19319032,
            0.19319032,
            0.19319032,
            0.19319032,
            0.19319032,
            0.19319032,
            0.19319032,
            0.19320494,
            0.19320494
           ]
          }
         ],
         "name": "46"
        },
        {
         "data": [
          {
           "hoverinfo": "skip",
           "line": {
            "color": "black",
            "width": 4
           },
           "mode": "lines",
           "showlegend": false,
           "type": "scatter",
           "x": [
            0,
            120,
            120,
            0,
            0
           ],
           "y": [
            0,
            0,
            80,
            80,
            0
           ]
          },
          {
           "hoverinfo": "skip",
           "line": {
            "color": "black",
            "width": 4
           },
           "mode": "lines",
           "showlegend": false,
           "type": "scatter",
           "x": [
            60,
            60
           ],
           "y": [
            0,
            80
           ]
          },
          {
           "hoverinfo": "skip",
           "line": {
            "color": "black",
            "width": 4
           },
           "mode": "lines",
           "showlegend": false,
           "type": "scatter",
           "x": [
            0,
            16.459249641096918,
            16.459249641096918,
            0
           ],
           "y": [
            16,
            16,
            64,
            64
           ]
          },
          {
           "hoverinfo": "skip",
           "line": {
            "color": "black",
            "width": 4
           },
           "mode": "lines",
           "showlegend": false,
           "type": "scatter",
           "x": [
            120,
            103.54075035890308,
            103.54075035890308,
            120
           ],
           "y": [
            16,
            16,
            64,
            64
           ]
          },
          {
           "hoverinfo": "skip",
           "line": {
            "color": "black",
            "width": 4
           },
           "mode": "lines",
           "showlegend": false,
           "type": "scatter",
           "x": [
            0,
            5.486416547032306,
            5.486416547032306,
            0
           ],
           "y": [
            28,
            28,
            52,
            52
           ]
          },
          {
           "hoverinfo": "skip",
           "line": {
            "color": "black",
            "width": 4
           },
           "mode": "lines",
           "showlegend": false,
           "type": "scatter",
           "x": [
            120,
            114.5135834529677,
            114.5135834529677,
            120
           ],
           "y": [
            28,
            28,
            52,
            52
           ]
          },
          {
           "hoverinfo": "skip",
           "line": {
            "color": "black"
           },
           "mode": "markers",
           "showlegend": false,
           "type": "scatter",
           "x": [
            10.972833094064612
           ],
           "y": [
            40
           ]
          },
          {
           "hoverinfo": "skip",
           "line": {
            "color": "black"
           },
           "mode": "markers",
           "showlegend": false,
           "type": "scatter",
           "x": [
            109.02716690593539
           ],
           "y": [
            40
           ]
          },
          {
           "hoverinfo": "skip",
           "line": {
            "color": "black"
           },
           "mode": "markers",
           "showlegend": false,
           "type": "scatter",
           "x": [
            60
           ],
           "y": [
            40
           ]
          },
          {
           "marker": {
            "color": "black",
            "size": 10,
            "symbol": "star"
           },
           "mode": "markers",
           "name": "Shot Position",
           "showlegend": false,
           "type": "scatter",
           "x": [
            111
           ],
           "y": [
            40.93587480838928
           ]
          },
          {
           "marker": {
            "color": "purple",
            "size": 10,
            "symbol": "diamond"
           },
           "mode": "markers",
           "name": "Freekick Position",
           "showlegend": false,
           "type": "scatter",
           "x": [
            95
           ],
           "y": [
            62
           ]
          },
          {
           "marker": {
            "color": "orange",
            "size": 8,
            "symbol": "x"
           },
           "mode": "markers",
           "name": "Opponent",
           "showlegend": false,
           "type": "scatter",
           "x": [
            108.00615443856704
           ],
           "y": [
            43.80793554652633
           ]
          },
          {
           "marker": {
            "color": "orange",
            "size": 8,
            "symbol": "x"
           },
           "mode": "markers",
           "name": "Opponent",
           "showlegend": false,
           "type": "scatter",
           "x": [
            111.90739851122483
           ],
           "y": [
            47.029294957878314
           ]
          },
          {
           "marker": {
            "color": "orange",
            "size": 8,
            "symbol": "x"
           },
           "mode": "markers",
           "name": "Opponent",
           "showlegend": false,
           "type": "scatter",
           "x": [
            109.69742545427236
           ],
           "y": [
            48.03773445793831
           ]
          },
          {
           "marker": {
            "color": "orange",
            "size": 8,
            "symbol": "x"
           },
           "mode": "markers",
           "name": "Opponent",
           "showlegend": false,
           "type": "scatter",
           "x": [
            103.80656397910276
           ],
           "y": [
            48.61025793348464
           ]
          },
          {
           "marker": {
            "color": "orange",
            "size": 8,
            "symbol": "x"
           },
           "mode": "markers",
           "name": "Opponent",
           "showlegend": false,
           "type": "scatter",
           "x": [
            117.7267524942179
           ],
           "y": [
            49.267902892188985
           ]
          },
          {
           "marker": {
            "color": "orange",
            "size": 8,
            "symbol": "x"
           },
           "mode": "markers",
           "name": "Opponent",
           "showlegend": false,
           "type": "scatter",
           "x": [
            118.54388524949289
           ],
           "y": [
            39.19481578475043
           ]
          },
          {
           "marker": {
            "color": "blue",
            "size": 8,
            "symbol": "circle"
           },
           "mode": "markers",
           "name": "Teammate",
           "showlegend": false,
           "type": "scatter",
           "x": [
            109.43542273040624
           ],
           "y": [
            45.43514892240621
           ]
          },
          {
           "marker": {
            "color": "blue",
            "size": 8,
            "symbol": "circle"
           },
           "mode": "markers",
           "name": "Teammate",
           "showlegend": false,
           "type": "scatter",
           "x": [
            111.22351377458534
           ],
           "y": [
            43.8469859383912
           ]
          },
          {
           "marker": {
            "color": "blue",
            "size": 8,
            "symbol": "circle"
           },
           "mode": "markers",
           "name": "Teammate",
           "showlegend": false,
           "type": "scatter",
           "x": [
            106.75962854066337
           ],
           "y": [
            47.825824441814774
           ]
          },
          {
           "marker": {
            "color": "blue",
            "size": 8,
            "symbol": "circle"
           },
           "mode": "markers",
           "name": "Teammate",
           "showlegend": false,
           "type": "scatter",
           "x": [
            98.36071003405084
           ],
           "y": [
            46.430042742017456
           ]
          },
          {
           "mode": "lines+markers",
           "name": "Line Plot",
           "type": "scatter",
           "x": [
            0,
            1,
            2,
            3,
            4,
            5,
            6,
            7,
            8,
            9,
            10,
            11,
            12,
            13,
            14,
            15,
            16,
            17,
            18,
            19,
            20,
            21,
            22,
            23,
            24,
            25,
            26,
            27,
            28,
            29,
            30,
            31,
            32,
            33,
            34,
            35,
            36,
            37,
            38,
            39,
            40,
            41,
            42,
            43,
            44,
            45,
            46,
            47
           ],
           "y": [
            0.10442892,
            0.14224926,
            0.16282678,
            0.16282678,
            0.16452551,
            0.16554648,
            0.17032182,
            0.17032182,
            0.18504907,
            0.18508397,
            0.1854914,
            0.1870719,
            0.1872687,
            0.18752642,
            0.18792188,
            0.18792188,
            0.18810053,
            0.18864377,
            0.18866037,
            0.18910883,
            0.18983072,
            0.18983072,
            0.18983072,
            0.19038348,
            0.19038348,
            0.19038348,
            0.19261675,
            0.19261675,
            0.19261675,
            0.19261675,
            0.19261675,
            0.19261675,
            0.19261675,
            0.19261675,
            0.19261675,
            0.19317539,
            0.19319032,
            0.19319032,
            0.19319032,
            0.19319032,
            0.19319032,
            0.19319032,
            0.19319032,
            0.19319032,
            0.19319032,
            0.19320494,
            0.19320494,
            0.19320494
           ]
          }
         ],
         "name": "47"
        },
        {
         "data": [
          {
           "hoverinfo": "skip",
           "line": {
            "color": "black",
            "width": 4
           },
           "mode": "lines",
           "showlegend": false,
           "type": "scatter",
           "x": [
            0,
            120,
            120,
            0,
            0
           ],
           "y": [
            0,
            0,
            80,
            80,
            0
           ]
          },
          {
           "hoverinfo": "skip",
           "line": {
            "color": "black",
            "width": 4
           },
           "mode": "lines",
           "showlegend": false,
           "type": "scatter",
           "x": [
            60,
            60
           ],
           "y": [
            0,
            80
           ]
          },
          {
           "hoverinfo": "skip",
           "line": {
            "color": "black",
            "width": 4
           },
           "mode": "lines",
           "showlegend": false,
           "type": "scatter",
           "x": [
            0,
            16.459249641096918,
            16.459249641096918,
            0
           ],
           "y": [
            16,
            16,
            64,
            64
           ]
          },
          {
           "hoverinfo": "skip",
           "line": {
            "color": "black",
            "width": 4
           },
           "mode": "lines",
           "showlegend": false,
           "type": "scatter",
           "x": [
            120,
            103.54075035890308,
            103.54075035890308,
            120
           ],
           "y": [
            16,
            16,
            64,
            64
           ]
          },
          {
           "hoverinfo": "skip",
           "line": {
            "color": "black",
            "width": 4
           },
           "mode": "lines",
           "showlegend": false,
           "type": "scatter",
           "x": [
            0,
            5.486416547032306,
            5.486416547032306,
            0
           ],
           "y": [
            28,
            28,
            52,
            52
           ]
          },
          {
           "hoverinfo": "skip",
           "line": {
            "color": "black",
            "width": 4
           },
           "mode": "lines",
           "showlegend": false,
           "type": "scatter",
           "x": [
            120,
            114.5135834529677,
            114.5135834529677,
            120
           ],
           "y": [
            28,
            28,
            52,
            52
           ]
          },
          {
           "hoverinfo": "skip",
           "line": {
            "color": "black"
           },
           "mode": "markers",
           "showlegend": false,
           "type": "scatter",
           "x": [
            10.972833094064612
           ],
           "y": [
            40
           ]
          },
          {
           "hoverinfo": "skip",
           "line": {
            "color": "black"
           },
           "mode": "markers",
           "showlegend": false,
           "type": "scatter",
           "x": [
            109.02716690593539
           ],
           "y": [
            40
           ]
          },
          {
           "hoverinfo": "skip",
           "line": {
            "color": "black"
           },
           "mode": "markers",
           "showlegend": false,
           "type": "scatter",
           "x": [
            60
           ],
           "y": [
            40
           ]
          },
          {
           "marker": {
            "color": "black",
            "size": 10,
            "symbol": "star"
           },
           "mode": "markers",
           "name": "Shot Position",
           "showlegend": false,
           "type": "scatter",
           "x": [
            111
           ],
           "y": [
            40.93587480838928
           ]
          },
          {
           "marker": {
            "color": "purple",
            "size": 10,
            "symbol": "diamond"
           },
           "mode": "markers",
           "name": "Freekick Position",
           "showlegend": false,
           "type": "scatter",
           "x": [
            95
           ],
           "y": [
            62
           ]
          },
          {
           "marker": {
            "color": "orange",
            "size": 8,
            "symbol": "x"
           },
           "mode": "markers",
           "name": "Opponent",
           "showlegend": false,
           "type": "scatter",
           "x": [
            108.00615443856704
           ],
           "y": [
            43.80793554652633
           ]
          },
          {
           "marker": {
            "color": "orange",
            "size": 8,
            "symbol": "x"
           },
           "mode": "markers",
           "name": "Opponent",
           "showlegend": false,
           "type": "scatter",
           "x": [
            111.90739851122483
           ],
           "y": [
            47.029294957878314
           ]
          },
          {
           "marker": {
            "color": "orange",
            "size": 8,
            "symbol": "x"
           },
           "mode": "markers",
           "name": "Opponent",
           "showlegend": false,
           "type": "scatter",
           "x": [
            109.69742545427236
           ],
           "y": [
            48.03773445793831
           ]
          },
          {
           "marker": {
            "color": "orange",
            "size": 8,
            "symbol": "x"
           },
           "mode": "markers",
           "name": "Opponent",
           "showlegend": false,
           "type": "scatter",
           "x": [
            103.80656397910276
           ],
           "y": [
            48.61025793348464
           ]
          },
          {
           "marker": {
            "color": "orange",
            "size": 8,
            "symbol": "x"
           },
           "mode": "markers",
           "name": "Opponent",
           "showlegend": false,
           "type": "scatter",
           "x": [
            117.7267524942179
           ],
           "y": [
            49.267902892188985
           ]
          },
          {
           "marker": {
            "color": "orange",
            "size": 8,
            "symbol": "x"
           },
           "mode": "markers",
           "name": "Opponent",
           "showlegend": false,
           "type": "scatter",
           "x": [
            118.54388524949289
           ],
           "y": [
            39.19481578475043
           ]
          },
          {
           "marker": {
            "color": "blue",
            "size": 8,
            "symbol": "circle"
           },
           "mode": "markers",
           "name": "Teammate",
           "showlegend": false,
           "type": "scatter",
           "x": [
            109.43542273040624
           ],
           "y": [
            45.43514892240621
           ]
          },
          {
           "marker": {
            "color": "blue",
            "size": 8,
            "symbol": "circle"
           },
           "mode": "markers",
           "name": "Teammate",
           "showlegend": false,
           "type": "scatter",
           "x": [
            111.22351377458534
           ],
           "y": [
            43.8469859383912
           ]
          },
          {
           "marker": {
            "color": "blue",
            "size": 8,
            "symbol": "circle"
           },
           "mode": "markers",
           "name": "Teammate",
           "showlegend": false,
           "type": "scatter",
           "x": [
            106.75962854066337
           ],
           "y": [
            47.825824441814774
           ]
          },
          {
           "marker": {
            "color": "blue",
            "size": 8,
            "symbol": "circle"
           },
           "mode": "markers",
           "name": "Teammate",
           "showlegend": false,
           "type": "scatter",
           "x": [
            98.36071003405084
           ],
           "y": [
            46.430042742017456
           ]
          },
          {
           "mode": "lines+markers",
           "name": "Line Plot",
           "type": "scatter",
           "x": [
            0,
            1,
            2,
            3,
            4,
            5,
            6,
            7,
            8,
            9,
            10,
            11,
            12,
            13,
            14,
            15,
            16,
            17,
            18,
            19,
            20,
            21,
            22,
            23,
            24,
            25,
            26,
            27,
            28,
            29,
            30,
            31,
            32,
            33,
            34,
            35,
            36,
            37,
            38,
            39,
            40,
            41,
            42,
            43,
            44,
            45,
            46,
            47,
            48
           ],
           "y": [
            0.10442892,
            0.14224926,
            0.16282678,
            0.16282678,
            0.16452551,
            0.16554648,
            0.17032182,
            0.17032182,
            0.18504907,
            0.18508397,
            0.1854914,
            0.1870719,
            0.1872687,
            0.18752642,
            0.18792188,
            0.18792188,
            0.18810053,
            0.18864377,
            0.18866037,
            0.18910883,
            0.18983072,
            0.18983072,
            0.18983072,
            0.19038348,
            0.19038348,
            0.19038348,
            0.19261675,
            0.19261675,
            0.19261675,
            0.19261675,
            0.19261675,
            0.19261675,
            0.19261675,
            0.19261675,
            0.19261675,
            0.19317539,
            0.19319032,
            0.19319032,
            0.19319032,
            0.19319032,
            0.19319032,
            0.19319032,
            0.19319032,
            0.19319032,
            0.19319032,
            0.19320494,
            0.19320494,
            0.19320494,
            0.19320494
           ]
          }
         ],
         "name": "48"
        },
        {
         "data": [
          {
           "hoverinfo": "skip",
           "line": {
            "color": "black",
            "width": 4
           },
           "mode": "lines",
           "showlegend": false,
           "type": "scatter",
           "x": [
            0,
            120,
            120,
            0,
            0
           ],
           "y": [
            0,
            0,
            80,
            80,
            0
           ]
          },
          {
           "hoverinfo": "skip",
           "line": {
            "color": "black",
            "width": 4
           },
           "mode": "lines",
           "showlegend": false,
           "type": "scatter",
           "x": [
            60,
            60
           ],
           "y": [
            0,
            80
           ]
          },
          {
           "hoverinfo": "skip",
           "line": {
            "color": "black",
            "width": 4
           },
           "mode": "lines",
           "showlegend": false,
           "type": "scatter",
           "x": [
            0,
            16.459249641096918,
            16.459249641096918,
            0
           ],
           "y": [
            16,
            16,
            64,
            64
           ]
          },
          {
           "hoverinfo": "skip",
           "line": {
            "color": "black",
            "width": 4
           },
           "mode": "lines",
           "showlegend": false,
           "type": "scatter",
           "x": [
            120,
            103.54075035890308,
            103.54075035890308,
            120
           ],
           "y": [
            16,
            16,
            64,
            64
           ]
          },
          {
           "hoverinfo": "skip",
           "line": {
            "color": "black",
            "width": 4
           },
           "mode": "lines",
           "showlegend": false,
           "type": "scatter",
           "x": [
            0,
            5.486416547032306,
            5.486416547032306,
            0
           ],
           "y": [
            28,
            28,
            52,
            52
           ]
          },
          {
           "hoverinfo": "skip",
           "line": {
            "color": "black",
            "width": 4
           },
           "mode": "lines",
           "showlegend": false,
           "type": "scatter",
           "x": [
            120,
            114.5135834529677,
            114.5135834529677,
            120
           ],
           "y": [
            28,
            28,
            52,
            52
           ]
          },
          {
           "hoverinfo": "skip",
           "line": {
            "color": "black"
           },
           "mode": "markers",
           "showlegend": false,
           "type": "scatter",
           "x": [
            10.972833094064612
           ],
           "y": [
            40
           ]
          },
          {
           "hoverinfo": "skip",
           "line": {
            "color": "black"
           },
           "mode": "markers",
           "showlegend": false,
           "type": "scatter",
           "x": [
            109.02716690593539
           ],
           "y": [
            40
           ]
          },
          {
           "hoverinfo": "skip",
           "line": {
            "color": "black"
           },
           "mode": "markers",
           "showlegend": false,
           "type": "scatter",
           "x": [
            60
           ],
           "y": [
            40
           ]
          },
          {
           "marker": {
            "color": "black",
            "size": 10,
            "symbol": "star"
           },
           "mode": "markers",
           "name": "Shot Position",
           "showlegend": false,
           "type": "scatter",
           "x": [
            111
           ],
           "y": [
            40.93587480838928
           ]
          },
          {
           "marker": {
            "color": "purple",
            "size": 10,
            "symbol": "diamond"
           },
           "mode": "markers",
           "name": "Freekick Position",
           "showlegend": false,
           "type": "scatter",
           "x": [
            95
           ],
           "y": [
            62
           ]
          },
          {
           "marker": {
            "color": "orange",
            "size": 8,
            "symbol": "x"
           },
           "mode": "markers",
           "name": "Opponent",
           "showlegend": false,
           "type": "scatter",
           "x": [
            108.00615443856704
           ],
           "y": [
            43.80793554652633
           ]
          },
          {
           "marker": {
            "color": "orange",
            "size": 8,
            "symbol": "x"
           },
           "mode": "markers",
           "name": "Opponent",
           "showlegend": false,
           "type": "scatter",
           "x": [
            111.90739851122483
           ],
           "y": [
            47.029294957878314
           ]
          },
          {
           "marker": {
            "color": "orange",
            "size": 8,
            "symbol": "x"
           },
           "mode": "markers",
           "name": "Opponent",
           "showlegend": false,
           "type": "scatter",
           "x": [
            109.69742545427236
           ],
           "y": [
            48.03773445793831
           ]
          },
          {
           "marker": {
            "color": "orange",
            "size": 8,
            "symbol": "x"
           },
           "mode": "markers",
           "name": "Opponent",
           "showlegend": false,
           "type": "scatter",
           "x": [
            103.80656397910276
           ],
           "y": [
            48.61025793348464
           ]
          },
          {
           "marker": {
            "color": "orange",
            "size": 8,
            "symbol": "x"
           },
           "mode": "markers",
           "name": "Opponent",
           "showlegend": false,
           "type": "scatter",
           "x": [
            117.7267524942179
           ],
           "y": [
            49.267902892188985
           ]
          },
          {
           "marker": {
            "color": "orange",
            "size": 8,
            "symbol": "x"
           },
           "mode": "markers",
           "name": "Opponent",
           "showlegend": false,
           "type": "scatter",
           "x": [
            118.54388524949289
           ],
           "y": [
            39.19481578475043
           ]
          },
          {
           "marker": {
            "color": "blue",
            "size": 8,
            "symbol": "circle"
           },
           "mode": "markers",
           "name": "Teammate",
           "showlegend": false,
           "type": "scatter",
           "x": [
            109.43542273040624
           ],
           "y": [
            45.43514892240621
           ]
          },
          {
           "marker": {
            "color": "blue",
            "size": 8,
            "symbol": "circle"
           },
           "mode": "markers",
           "name": "Teammate",
           "showlegend": false,
           "type": "scatter",
           "x": [
            111.22351377458534
           ],
           "y": [
            43.8469859383912
           ]
          },
          {
           "marker": {
            "color": "blue",
            "size": 8,
            "symbol": "circle"
           },
           "mode": "markers",
           "name": "Teammate",
           "showlegend": false,
           "type": "scatter",
           "x": [
            106.75962854066337
           ],
           "y": [
            47.825824441814774
           ]
          },
          {
           "marker": {
            "color": "blue",
            "size": 8,
            "symbol": "circle"
           },
           "mode": "markers",
           "name": "Teammate",
           "showlegend": false,
           "type": "scatter",
           "x": [
            98.36071003405084
           ],
           "y": [
            46.430042742017456
           ]
          },
          {
           "mode": "lines+markers",
           "name": "Line Plot",
           "type": "scatter",
           "x": [
            0,
            1,
            2,
            3,
            4,
            5,
            6,
            7,
            8,
            9,
            10,
            11,
            12,
            13,
            14,
            15,
            16,
            17,
            18,
            19,
            20,
            21,
            22,
            23,
            24,
            25,
            26,
            27,
            28,
            29,
            30,
            31,
            32,
            33,
            34,
            35,
            36,
            37,
            38,
            39,
            40,
            41,
            42,
            43,
            44,
            45,
            46,
            47,
            48,
            49
           ],
           "y": [
            0.10442892,
            0.14224926,
            0.16282678,
            0.16282678,
            0.16452551,
            0.16554648,
            0.17032182,
            0.17032182,
            0.18504907,
            0.18508397,
            0.1854914,
            0.1870719,
            0.1872687,
            0.18752642,
            0.18792188,
            0.18792188,
            0.18810053,
            0.18864377,
            0.18866037,
            0.18910883,
            0.18983072,
            0.18983072,
            0.18983072,
            0.19038348,
            0.19038348,
            0.19038348,
            0.19261675,
            0.19261675,
            0.19261675,
            0.19261675,
            0.19261675,
            0.19261675,
            0.19261675,
            0.19261675,
            0.19261675,
            0.19317539,
            0.19319032,
            0.19319032,
            0.19319032,
            0.19319032,
            0.19319032,
            0.19319032,
            0.19319032,
            0.19319032,
            0.19319032,
            0.19320494,
            0.19320494,
            0.19320494,
            0.19320494,
            0.19320494
           ]
          }
         ],
         "name": "49"
        }
       ],
       "layout": {
        "annotations": [
         {
          "font": {
           "size": 16
          },
          "showarrow": false,
          "text": "Football Pitch",
          "x": 0.225,
          "xanchor": "center",
          "xref": "paper",
          "y": 1,
          "yanchor": "bottom",
          "yref": "paper"
         },
         {
          "font": {
           "size": 16
          },
          "showarrow": false,
          "text": "Evolution of xG across Generations",
          "x": 0.775,
          "xanchor": "center",
          "xref": "paper",
          "y": 1,
          "yanchor": "bottom",
          "yref": "paper"
         }
        ],
        "height": 650,
        "shapes": [
         {
          "fillcolor": "#3ab54a",
          "layer": "below",
          "line": {
           "width": 0
          },
          "type": "rect",
          "x0": 0,
          "x1": 0.45,
          "xref": "paper",
          "y0": 0,
          "y1": 1,
          "yref": "paper"
         },
         {
          "line": {
           "color": "black",
           "width": 3
          },
          "type": "circle",
          "x0": 50,
          "x1": 70,
          "xref": "x",
          "y0": 30,
          "y1": 50,
          "yref": "y"
         }
        ],
        "sliders": [
         {
          "currentvalue": {
           "font": {
            "size": 20
           },
           "prefix": "Frame:",
           "visible": true,
           "xanchor": "right"
          },
          "len": 0.9,
          "pad": {
           "b": 10,
           "t": 50
          },
          "steps": [
           {
            "args": [
             [
              "0"
             ],
             {
              "frame": {
               "duration": 500,
               "redraw": false
              },
              "mode": "immediate",
              "transition": {
               "duration": 500
              }
             }
            ],
            "label": "0",
            "method": "animate"
           },
           {
            "args": [
             [
              "1"
             ],
             {
              "frame": {
               "duration": 500,
               "redraw": false
              },
              "mode": "immediate",
              "transition": {
               "duration": 500
              }
             }
            ],
            "label": "1",
            "method": "animate"
           },
           {
            "args": [
             [
              "2"
             ],
             {
              "frame": {
               "duration": 500,
               "redraw": false
              },
              "mode": "immediate",
              "transition": {
               "duration": 500
              }
             }
            ],
            "label": "2",
            "method": "animate"
           },
           {
            "args": [
             [
              "3"
             ],
             {
              "frame": {
               "duration": 500,
               "redraw": false
              },
              "mode": "immediate",
              "transition": {
               "duration": 500
              }
             }
            ],
            "label": "3",
            "method": "animate"
           },
           {
            "args": [
             [
              "4"
             ],
             {
              "frame": {
               "duration": 500,
               "redraw": false
              },
              "mode": "immediate",
              "transition": {
               "duration": 500
              }
             }
            ],
            "label": "4",
            "method": "animate"
           },
           {
            "args": [
             [
              "5"
             ],
             {
              "frame": {
               "duration": 500,
               "redraw": false
              },
              "mode": "immediate",
              "transition": {
               "duration": 500
              }
             }
            ],
            "label": "5",
            "method": "animate"
           },
           {
            "args": [
             [
              "6"
             ],
             {
              "frame": {
               "duration": 500,
               "redraw": false
              },
              "mode": "immediate",
              "transition": {
               "duration": 500
              }
             }
            ],
            "label": "6",
            "method": "animate"
           },
           {
            "args": [
             [
              "7"
             ],
             {
              "frame": {
               "duration": 500,
               "redraw": false
              },
              "mode": "immediate",
              "transition": {
               "duration": 500
              }
             }
            ],
            "label": "7",
            "method": "animate"
           },
           {
            "args": [
             [
              "8"
             ],
             {
              "frame": {
               "duration": 500,
               "redraw": false
              },
              "mode": "immediate",
              "transition": {
               "duration": 500
              }
             }
            ],
            "label": "8",
            "method": "animate"
           },
           {
            "args": [
             [
              "9"
             ],
             {
              "frame": {
               "duration": 500,
               "redraw": false
              },
              "mode": "immediate",
              "transition": {
               "duration": 500
              }
             }
            ],
            "label": "9",
            "method": "animate"
           },
           {
            "args": [
             [
              "10"
             ],
             {
              "frame": {
               "duration": 500,
               "redraw": false
              },
              "mode": "immediate",
              "transition": {
               "duration": 500
              }
             }
            ],
            "label": "10",
            "method": "animate"
           },
           {
            "args": [
             [
              "11"
             ],
             {
              "frame": {
               "duration": 500,
               "redraw": false
              },
              "mode": "immediate",
              "transition": {
               "duration": 500
              }
             }
            ],
            "label": "11",
            "method": "animate"
           },
           {
            "args": [
             [
              "12"
             ],
             {
              "frame": {
               "duration": 500,
               "redraw": false
              },
              "mode": "immediate",
              "transition": {
               "duration": 500
              }
             }
            ],
            "label": "12",
            "method": "animate"
           },
           {
            "args": [
             [
              "13"
             ],
             {
              "frame": {
               "duration": 500,
               "redraw": false
              },
              "mode": "immediate",
              "transition": {
               "duration": 500
              }
             }
            ],
            "label": "13",
            "method": "animate"
           },
           {
            "args": [
             [
              "14"
             ],
             {
              "frame": {
               "duration": 500,
               "redraw": false
              },
              "mode": "immediate",
              "transition": {
               "duration": 500
              }
             }
            ],
            "label": "14",
            "method": "animate"
           },
           {
            "args": [
             [
              "15"
             ],
             {
              "frame": {
               "duration": 500,
               "redraw": false
              },
              "mode": "immediate",
              "transition": {
               "duration": 500
              }
             }
            ],
            "label": "15",
            "method": "animate"
           },
           {
            "args": [
             [
              "16"
             ],
             {
              "frame": {
               "duration": 500,
               "redraw": false
              },
              "mode": "immediate",
              "transition": {
               "duration": 500
              }
             }
            ],
            "label": "16",
            "method": "animate"
           },
           {
            "args": [
             [
              "17"
             ],
             {
              "frame": {
               "duration": 500,
               "redraw": false
              },
              "mode": "immediate",
              "transition": {
               "duration": 500
              }
             }
            ],
            "label": "17",
            "method": "animate"
           },
           {
            "args": [
             [
              "18"
             ],
             {
              "frame": {
               "duration": 500,
               "redraw": false
              },
              "mode": "immediate",
              "transition": {
               "duration": 500
              }
             }
            ],
            "label": "18",
            "method": "animate"
           },
           {
            "args": [
             [
              "19"
             ],
             {
              "frame": {
               "duration": 500,
               "redraw": false
              },
              "mode": "immediate",
              "transition": {
               "duration": 500
              }
             }
            ],
            "label": "19",
            "method": "animate"
           },
           {
            "args": [
             [
              "20"
             ],
             {
              "frame": {
               "duration": 500,
               "redraw": false
              },
              "mode": "immediate",
              "transition": {
               "duration": 500
              }
             }
            ],
            "label": "20",
            "method": "animate"
           },
           {
            "args": [
             [
              "21"
             ],
             {
              "frame": {
               "duration": 500,
               "redraw": false
              },
              "mode": "immediate",
              "transition": {
               "duration": 500
              }
             }
            ],
            "label": "21",
            "method": "animate"
           },
           {
            "args": [
             [
              "22"
             ],
             {
              "frame": {
               "duration": 500,
               "redraw": false
              },
              "mode": "immediate",
              "transition": {
               "duration": 500
              }
             }
            ],
            "label": "22",
            "method": "animate"
           },
           {
            "args": [
             [
              "23"
             ],
             {
              "frame": {
               "duration": 500,
               "redraw": false
              },
              "mode": "immediate",
              "transition": {
               "duration": 500
              }
             }
            ],
            "label": "23",
            "method": "animate"
           },
           {
            "args": [
             [
              "24"
             ],
             {
              "frame": {
               "duration": 500,
               "redraw": false
              },
              "mode": "immediate",
              "transition": {
               "duration": 500
              }
             }
            ],
            "label": "24",
            "method": "animate"
           },
           {
            "args": [
             [
              "25"
             ],
             {
              "frame": {
               "duration": 500,
               "redraw": false
              },
              "mode": "immediate",
              "transition": {
               "duration": 500
              }
             }
            ],
            "label": "25",
            "method": "animate"
           },
           {
            "args": [
             [
              "26"
             ],
             {
              "frame": {
               "duration": 500,
               "redraw": false
              },
              "mode": "immediate",
              "transition": {
               "duration": 500
              }
             }
            ],
            "label": "26",
            "method": "animate"
           },
           {
            "args": [
             [
              "27"
             ],
             {
              "frame": {
               "duration": 500,
               "redraw": false
              },
              "mode": "immediate",
              "transition": {
               "duration": 500
              }
             }
            ],
            "label": "27",
            "method": "animate"
           },
           {
            "args": [
             [
              "28"
             ],
             {
              "frame": {
               "duration": 500,
               "redraw": false
              },
              "mode": "immediate",
              "transition": {
               "duration": 500
              }
             }
            ],
            "label": "28",
            "method": "animate"
           },
           {
            "args": [
             [
              "29"
             ],
             {
              "frame": {
               "duration": 500,
               "redraw": false
              },
              "mode": "immediate",
              "transition": {
               "duration": 500
              }
             }
            ],
            "label": "29",
            "method": "animate"
           },
           {
            "args": [
             [
              "30"
             ],
             {
              "frame": {
               "duration": 500,
               "redraw": false
              },
              "mode": "immediate",
              "transition": {
               "duration": 500
              }
             }
            ],
            "label": "30",
            "method": "animate"
           },
           {
            "args": [
             [
              "31"
             ],
             {
              "frame": {
               "duration": 500,
               "redraw": false
              },
              "mode": "immediate",
              "transition": {
               "duration": 500
              }
             }
            ],
            "label": "31",
            "method": "animate"
           },
           {
            "args": [
             [
              "32"
             ],
             {
              "frame": {
               "duration": 500,
               "redraw": false
              },
              "mode": "immediate",
              "transition": {
               "duration": 500
              }
             }
            ],
            "label": "32",
            "method": "animate"
           },
           {
            "args": [
             [
              "33"
             ],
             {
              "frame": {
               "duration": 500,
               "redraw": false
              },
              "mode": "immediate",
              "transition": {
               "duration": 500
              }
             }
            ],
            "label": "33",
            "method": "animate"
           },
           {
            "args": [
             [
              "34"
             ],
             {
              "frame": {
               "duration": 500,
               "redraw": false
              },
              "mode": "immediate",
              "transition": {
               "duration": 500
              }
             }
            ],
            "label": "34",
            "method": "animate"
           },
           {
            "args": [
             [
              "35"
             ],
             {
              "frame": {
               "duration": 500,
               "redraw": false
              },
              "mode": "immediate",
              "transition": {
               "duration": 500
              }
             }
            ],
            "label": "35",
            "method": "animate"
           },
           {
            "args": [
             [
              "36"
             ],
             {
              "frame": {
               "duration": 500,
               "redraw": false
              },
              "mode": "immediate",
              "transition": {
               "duration": 500
              }
             }
            ],
            "label": "36",
            "method": "animate"
           },
           {
            "args": [
             [
              "37"
             ],
             {
              "frame": {
               "duration": 500,
               "redraw": false
              },
              "mode": "immediate",
              "transition": {
               "duration": 500
              }
             }
            ],
            "label": "37",
            "method": "animate"
           },
           {
            "args": [
             [
              "38"
             ],
             {
              "frame": {
               "duration": 500,
               "redraw": false
              },
              "mode": "immediate",
              "transition": {
               "duration": 500
              }
             }
            ],
            "label": "38",
            "method": "animate"
           },
           {
            "args": [
             [
              "39"
             ],
             {
              "frame": {
               "duration": 500,
               "redraw": false
              },
              "mode": "immediate",
              "transition": {
               "duration": 500
              }
             }
            ],
            "label": "39",
            "method": "animate"
           },
           {
            "args": [
             [
              "40"
             ],
             {
              "frame": {
               "duration": 500,
               "redraw": false
              },
              "mode": "immediate",
              "transition": {
               "duration": 500
              }
             }
            ],
            "label": "40",
            "method": "animate"
           },
           {
            "args": [
             [
              "41"
             ],
             {
              "frame": {
               "duration": 500,
               "redraw": false
              },
              "mode": "immediate",
              "transition": {
               "duration": 500
              }
             }
            ],
            "label": "41",
            "method": "animate"
           },
           {
            "args": [
             [
              "42"
             ],
             {
              "frame": {
               "duration": 500,
               "redraw": false
              },
              "mode": "immediate",
              "transition": {
               "duration": 500
              }
             }
            ],
            "label": "42",
            "method": "animate"
           },
           {
            "args": [
             [
              "43"
             ],
             {
              "frame": {
               "duration": 500,
               "redraw": false
              },
              "mode": "immediate",
              "transition": {
               "duration": 500
              }
             }
            ],
            "label": "43",
            "method": "animate"
           },
           {
            "args": [
             [
              "44"
             ],
             {
              "frame": {
               "duration": 500,
               "redraw": false
              },
              "mode": "immediate",
              "transition": {
               "duration": 500
              }
             }
            ],
            "label": "44",
            "method": "animate"
           },
           {
            "args": [
             [
              "45"
             ],
             {
              "frame": {
               "duration": 500,
               "redraw": false
              },
              "mode": "immediate",
              "transition": {
               "duration": 500
              }
             }
            ],
            "label": "45",
            "method": "animate"
           },
           {
            "args": [
             [
              "46"
             ],
             {
              "frame": {
               "duration": 500,
               "redraw": false
              },
              "mode": "immediate",
              "transition": {
               "duration": 500
              }
             }
            ],
            "label": "46",
            "method": "animate"
           },
           {
            "args": [
             [
              "47"
             ],
             {
              "frame": {
               "duration": 500,
               "redraw": false
              },
              "mode": "immediate",
              "transition": {
               "duration": 500
              }
             }
            ],
            "label": "47",
            "method": "animate"
           },
           {
            "args": [
             [
              "48"
             ],
             {
              "frame": {
               "duration": 500,
               "redraw": false
              },
              "mode": "immediate",
              "transition": {
               "duration": 500
              }
             }
            ],
            "label": "48",
            "method": "animate"
           },
           {
            "args": [
             [
              "49"
             ],
             {
              "frame": {
               "duration": 500,
               "redraw": false
              },
              "mode": "immediate",
              "transition": {
               "duration": 500
              }
             }
            ],
            "label": "49",
            "method": "animate"
           }
          ],
          "transition": {
           "duration": 500,
           "easing": "cubic-in-out"
          },
          "x": 0.1,
          "xanchor": "left",
          "y": 0,
          "yanchor": "top"
         }
        ],
        "template": {
         "data": {
          "bar": [
           {
            "error_x": {
             "color": "#2a3f5f"
            },
            "error_y": {
             "color": "#2a3f5f"
            },
            "marker": {
             "line": {
              "color": "#E5ECF6",
              "width": 0.5
             },
             "pattern": {
              "fillmode": "overlay",
              "size": 10,
              "solidity": 0.2
             }
            },
            "type": "bar"
           }
          ],
          "barpolar": [
           {
            "marker": {
             "line": {
              "color": "#E5ECF6",
              "width": 0.5
             },
             "pattern": {
              "fillmode": "overlay",
              "size": 10,
              "solidity": 0.2
             }
            },
            "type": "barpolar"
           }
          ],
          "carpet": [
           {
            "aaxis": {
             "endlinecolor": "#2a3f5f",
             "gridcolor": "white",
             "linecolor": "white",
             "minorgridcolor": "white",
             "startlinecolor": "#2a3f5f"
            },
            "baxis": {
             "endlinecolor": "#2a3f5f",
             "gridcolor": "white",
             "linecolor": "white",
             "minorgridcolor": "white",
             "startlinecolor": "#2a3f5f"
            },
            "type": "carpet"
           }
          ],
          "choropleth": [
           {
            "colorbar": {
             "outlinewidth": 0,
             "ticks": ""
            },
            "type": "choropleth"
           }
          ],
          "contour": [
           {
            "colorbar": {
             "outlinewidth": 0,
             "ticks": ""
            },
            "colorscale": [
             [
              0,
              "#0d0887"
             ],
             [
              0.1111111111111111,
              "#46039f"
             ],
             [
              0.2222222222222222,
              "#7201a8"
             ],
             [
              0.3333333333333333,
              "#9c179e"
             ],
             [
              0.4444444444444444,
              "#bd3786"
             ],
             [
              0.5555555555555556,
              "#d8576b"
             ],
             [
              0.6666666666666666,
              "#ed7953"
             ],
             [
              0.7777777777777778,
              "#fb9f3a"
             ],
             [
              0.8888888888888888,
              "#fdca26"
             ],
             [
              1,
              "#f0f921"
             ]
            ],
            "type": "contour"
           }
          ],
          "contourcarpet": [
           {
            "colorbar": {
             "outlinewidth": 0,
             "ticks": ""
            },
            "type": "contourcarpet"
           }
          ],
          "heatmap": [
           {
            "colorbar": {
             "outlinewidth": 0,
             "ticks": ""
            },
            "colorscale": [
             [
              0,
              "#0d0887"
             ],
             [
              0.1111111111111111,
              "#46039f"
             ],
             [
              0.2222222222222222,
              "#7201a8"
             ],
             [
              0.3333333333333333,
              "#9c179e"
             ],
             [
              0.4444444444444444,
              "#bd3786"
             ],
             [
              0.5555555555555556,
              "#d8576b"
             ],
             [
              0.6666666666666666,
              "#ed7953"
             ],
             [
              0.7777777777777778,
              "#fb9f3a"
             ],
             [
              0.8888888888888888,
              "#fdca26"
             ],
             [
              1,
              "#f0f921"
             ]
            ],
            "type": "heatmap"
           }
          ],
          "heatmapgl": [
           {
            "colorbar": {
             "outlinewidth": 0,
             "ticks": ""
            },
            "colorscale": [
             [
              0,
              "#0d0887"
             ],
             [
              0.1111111111111111,
              "#46039f"
             ],
             [
              0.2222222222222222,
              "#7201a8"
             ],
             [
              0.3333333333333333,
              "#9c179e"
             ],
             [
              0.4444444444444444,
              "#bd3786"
             ],
             [
              0.5555555555555556,
              "#d8576b"
             ],
             [
              0.6666666666666666,
              "#ed7953"
             ],
             [
              0.7777777777777778,
              "#fb9f3a"
             ],
             [
              0.8888888888888888,
              "#fdca26"
             ],
             [
              1,
              "#f0f921"
             ]
            ],
            "type": "heatmapgl"
           }
          ],
          "histogram": [
           {
            "marker": {
             "pattern": {
              "fillmode": "overlay",
              "size": 10,
              "solidity": 0.2
             }
            },
            "type": "histogram"
           }
          ],
          "histogram2d": [
           {
            "colorbar": {
             "outlinewidth": 0,
             "ticks": ""
            },
            "colorscale": [
             [
              0,
              "#0d0887"
             ],
             [
              0.1111111111111111,
              "#46039f"
             ],
             [
              0.2222222222222222,
              "#7201a8"
             ],
             [
              0.3333333333333333,
              "#9c179e"
             ],
             [
              0.4444444444444444,
              "#bd3786"
             ],
             [
              0.5555555555555556,
              "#d8576b"
             ],
             [
              0.6666666666666666,
              "#ed7953"
             ],
             [
              0.7777777777777778,
              "#fb9f3a"
             ],
             [
              0.8888888888888888,
              "#fdca26"
             ],
             [
              1,
              "#f0f921"
             ]
            ],
            "type": "histogram2d"
           }
          ],
          "histogram2dcontour": [
           {
            "colorbar": {
             "outlinewidth": 0,
             "ticks": ""
            },
            "colorscale": [
             [
              0,
              "#0d0887"
             ],
             [
              0.1111111111111111,
              "#46039f"
             ],
             [
              0.2222222222222222,
              "#7201a8"
             ],
             [
              0.3333333333333333,
              "#9c179e"
             ],
             [
              0.4444444444444444,
              "#bd3786"
             ],
             [
              0.5555555555555556,
              "#d8576b"
             ],
             [
              0.6666666666666666,
              "#ed7953"
             ],
             [
              0.7777777777777778,
              "#fb9f3a"
             ],
             [
              0.8888888888888888,
              "#fdca26"
             ],
             [
              1,
              "#f0f921"
             ]
            ],
            "type": "histogram2dcontour"
           }
          ],
          "mesh3d": [
           {
            "colorbar": {
             "outlinewidth": 0,
             "ticks": ""
            },
            "type": "mesh3d"
           }
          ],
          "parcoords": [
           {
            "line": {
             "colorbar": {
              "outlinewidth": 0,
              "ticks": ""
             }
            },
            "type": "parcoords"
           }
          ],
          "pie": [
           {
            "automargin": true,
            "type": "pie"
           }
          ],
          "scatter": [
           {
            "fillpattern": {
             "fillmode": "overlay",
             "size": 10,
             "solidity": 0.2
            },
            "type": "scatter"
           }
          ],
          "scatter3d": [
           {
            "line": {
             "colorbar": {
              "outlinewidth": 0,
              "ticks": ""
             }
            },
            "marker": {
             "colorbar": {
              "outlinewidth": 0,
              "ticks": ""
             }
            },
            "type": "scatter3d"
           }
          ],
          "scattercarpet": [
           {
            "marker": {
             "colorbar": {
              "outlinewidth": 0,
              "ticks": ""
             }
            },
            "type": "scattercarpet"
           }
          ],
          "scattergeo": [
           {
            "marker": {
             "colorbar": {
              "outlinewidth": 0,
              "ticks": ""
             }
            },
            "type": "scattergeo"
           }
          ],
          "scattergl": [
           {
            "marker": {
             "colorbar": {
              "outlinewidth": 0,
              "ticks": ""
             }
            },
            "type": "scattergl"
           }
          ],
          "scattermapbox": [
           {
            "marker": {
             "colorbar": {
              "outlinewidth": 0,
              "ticks": ""
             }
            },
            "type": "scattermapbox"
           }
          ],
          "scatterpolar": [
           {
            "marker": {
             "colorbar": {
              "outlinewidth": 0,
              "ticks": ""
             }
            },
            "type": "scatterpolar"
           }
          ],
          "scatterpolargl": [
           {
            "marker": {
             "colorbar": {
              "outlinewidth": 0,
              "ticks": ""
             }
            },
            "type": "scatterpolargl"
           }
          ],
          "scatterternary": [
           {
            "marker": {
             "colorbar": {
              "outlinewidth": 0,
              "ticks": ""
             }
            },
            "type": "scatterternary"
           }
          ],
          "surface": [
           {
            "colorbar": {
             "outlinewidth": 0,
             "ticks": ""
            },
            "colorscale": [
             [
              0,
              "#0d0887"
             ],
             [
              0.1111111111111111,
              "#46039f"
             ],
             [
              0.2222222222222222,
              "#7201a8"
             ],
             [
              0.3333333333333333,
              "#9c179e"
             ],
             [
              0.4444444444444444,
              "#bd3786"
             ],
             [
              0.5555555555555556,
              "#d8576b"
             ],
             [
              0.6666666666666666,
              "#ed7953"
             ],
             [
              0.7777777777777778,
              "#fb9f3a"
             ],
             [
              0.8888888888888888,
              "#fdca26"
             ],
             [
              1,
              "#f0f921"
             ]
            ],
            "type": "surface"
           }
          ],
          "table": [
           {
            "cells": {
             "fill": {
              "color": "#EBF0F8"
             },
             "line": {
              "color": "white"
             }
            },
            "header": {
             "fill": {
              "color": "#C8D4E3"
             },
             "line": {
              "color": "white"
             }
            },
            "type": "table"
           }
          ]
         },
         "layout": {
          "annotationdefaults": {
           "arrowcolor": "#2a3f5f",
           "arrowhead": 0,
           "arrowwidth": 1
          },
          "autotypenumbers": "strict",
          "coloraxis": {
           "colorbar": {
            "outlinewidth": 0,
            "ticks": ""
           }
          },
          "colorscale": {
           "diverging": [
            [
             0,
             "#8e0152"
            ],
            [
             0.1,
             "#c51b7d"
            ],
            [
             0.2,
             "#de77ae"
            ],
            [
             0.3,
             "#f1b6da"
            ],
            [
             0.4,
             "#fde0ef"
            ],
            [
             0.5,
             "#f7f7f7"
            ],
            [
             0.6,
             "#e6f5d0"
            ],
            [
             0.7,
             "#b8e186"
            ],
            [
             0.8,
             "#7fbc41"
            ],
            [
             0.9,
             "#4d9221"
            ],
            [
             1,
             "#276419"
            ]
           ],
           "sequential": [
            [
             0,
             "#0d0887"
            ],
            [
             0.1111111111111111,
             "#46039f"
            ],
            [
             0.2222222222222222,
             "#7201a8"
            ],
            [
             0.3333333333333333,
             "#9c179e"
            ],
            [
             0.4444444444444444,
             "#bd3786"
            ],
            [
             0.5555555555555556,
             "#d8576b"
            ],
            [
             0.6666666666666666,
             "#ed7953"
            ],
            [
             0.7777777777777778,
             "#fb9f3a"
            ],
            [
             0.8888888888888888,
             "#fdca26"
            ],
            [
             1,
             "#f0f921"
            ]
           ],
           "sequentialminus": [
            [
             0,
             "#0d0887"
            ],
            [
             0.1111111111111111,
             "#46039f"
            ],
            [
             0.2222222222222222,
             "#7201a8"
            ],
            [
             0.3333333333333333,
             "#9c179e"
            ],
            [
             0.4444444444444444,
             "#bd3786"
            ],
            [
             0.5555555555555556,
             "#d8576b"
            ],
            [
             0.6666666666666666,
             "#ed7953"
            ],
            [
             0.7777777777777778,
             "#fb9f3a"
            ],
            [
             0.8888888888888888,
             "#fdca26"
            ],
            [
             1,
             "#f0f921"
            ]
           ]
          },
          "colorway": [
           "#636efa",
           "#EF553B",
           "#00cc96",
           "#ab63fa",
           "#FFA15A",
           "#19d3f3",
           "#FF6692",
           "#B6E880",
           "#FF97FF",
           "#FECB52"
          ],
          "font": {
           "color": "#2a3f5f"
          },
          "geo": {
           "bgcolor": "white",
           "lakecolor": "white",
           "landcolor": "#E5ECF6",
           "showlakes": true,
           "showland": true,
           "subunitcolor": "white"
          },
          "hoverlabel": {
           "align": "left"
          },
          "hovermode": "closest",
          "mapbox": {
           "style": "light"
          },
          "paper_bgcolor": "white",
          "plot_bgcolor": "#E5ECF6",
          "polar": {
           "angularaxis": {
            "gridcolor": "white",
            "linecolor": "white",
            "ticks": ""
           },
           "bgcolor": "#E5ECF6",
           "radialaxis": {
            "gridcolor": "white",
            "linecolor": "white",
            "ticks": ""
           }
          },
          "scene": {
           "xaxis": {
            "backgroundcolor": "#E5ECF6",
            "gridcolor": "white",
            "gridwidth": 2,
            "linecolor": "white",
            "showbackground": true,
            "ticks": "",
            "zerolinecolor": "white"
           },
           "yaxis": {
            "backgroundcolor": "#E5ECF6",
            "gridcolor": "white",
            "gridwidth": 2,
            "linecolor": "white",
            "showbackground": true,
            "ticks": "",
            "zerolinecolor": "white"
           },
           "zaxis": {
            "backgroundcolor": "#E5ECF6",
            "gridcolor": "white",
            "gridwidth": 2,
            "linecolor": "white",
            "showbackground": true,
            "ticks": "",
            "zerolinecolor": "white"
           }
          },
          "shapedefaults": {
           "line": {
            "color": "#2a3f5f"
           }
          },
          "ternary": {
           "aaxis": {
            "gridcolor": "white",
            "linecolor": "white",
            "ticks": ""
           },
           "baxis": {
            "gridcolor": "white",
            "linecolor": "white",
            "ticks": ""
           },
           "bgcolor": "#E5ECF6",
           "caxis": {
            "gridcolor": "white",
            "linecolor": "white",
            "ticks": ""
           }
          },
          "title": {
           "x": 0.05
          },
          "xaxis": {
           "automargin": true,
           "gridcolor": "white",
           "linecolor": "white",
           "ticks": "",
           "title": {
            "standoff": 15
           },
           "zerolinecolor": "white",
           "zerolinewidth": 2
          },
          "yaxis": {
           "automargin": true,
           "gridcolor": "white",
           "linecolor": "white",
           "ticks": "",
           "title": {
            "standoff": 15
           },
           "zerolinecolor": "white",
           "zerolinewidth": 2
          }
         }
        },
        "updatemenus": [
         {
          "buttons": [
           {
            "args": [
             null,
             {
              "frame": {
               "duration": 500,
               "redraw": false
              },
              "fromcurrent": true
             }
            ],
            "label": "Play",
            "method": "animate"
           },
           {
            "args": [
             [
              null
             ],
             {
              "frame": {
               "duration": 500,
               "redraw": false
              },
              "mode": "immediate",
              "transition": {
               "duration": 0
              }
             }
            ],
            "label": "Pause",
            "method": "animate"
           }
          ],
          "direction": "left",
          "pad": {
           "r": 10,
           "t": 87
          },
          "showactive": false,
          "type": "buttons",
          "x": 0.1,
          "xanchor": "right",
          "y": 0,
          "yanchor": "top"
         }
        ],
        "width": 1600,
        "xaxis": {
         "anchor": "y",
         "domain": [
          0,
          0.45
         ],
         "range": [
          0,
          120
         ],
         "showgrid": false,
         "showticklabels": false,
         "zeroline": false
        },
        "xaxis2": {
         "anchor": "y2",
         "domain": [
          0.55,
          1
         ],
         "ticktext": [
          0,
          5,
          10,
          15,
          20,
          25,
          30,
          35,
          40,
          45
         ],
         "tickvals": [
          0,
          5,
          10,
          15,
          20,
          25,
          30,
          35,
          40,
          45
         ],
         "title": {
          "text": "Frame"
         }
        },
        "yaxis": {
         "anchor": "x",
         "domain": [
          0,
          1
         ],
         "range": [
          0,
          80
         ],
         "showgrid": false,
         "showticklabels": false,
         "zeroline": false
        },
        "yaxis2": {
         "anchor": "x2",
         "domain": [
          0,
          1
         ],
         "title": {
          "text": "xG"
         }
        }
       }
      }
     },
     "metadata": {},
     "output_type": "display_data"
    }
   ],
   "source": [
    "# Creating frames for animation\n",
    "frames = []\n",
    "pitch_fig = create_pitch()\n",
    "line_fig = go.Figure()\n",
    "\n",
    "for frame in range(len(sub_df)):\n",
    "    pitch_fig = update_pitch(frame, sub_df)\n",
    "    line_fig = update_line_plot(frame, sub_df, line_fig)\n",
    "    \n",
    "    frames.append(go.Frame(data=pitch_fig.data + line_fig.data, name=str(frame)))\n",
    "\n",
    "# Creating the initial pitch and line plot\n",
    "initial_pitch_fig = create_pitch()\n",
    "initial_pitch_fig = add_scatter(initial_pitch_fig, sub_df.iloc[0], show_legend=True)\n",
    "initial_line_fig = update_line_plot(0, sub_df, go.Figure())\n",
    "\n",
    "# Adding frames to the figure for animation\n",
    "fig = make_subplots(\n",
    "    rows=1, cols=2,\n",
    "    subplot_titles=('Football Pitch', 'Evolution of xG across Generations'),\n",
    "    specs=[[{\"type\": \"scatter\"}, {\"type\": \"scatter\"}]]\n",
    ")\n",
    "\n",
    "# Add initial pitch and line plot\n",
    "fig.add_traces(initial_pitch_fig.data, rows=1, cols=1)\n",
    "fig.add_traces(line_fig.data, rows=1, cols=2)\n",
    "\n",
    "fig.frames = frames\n",
    "\n",
    "# Animation settings\n",
    "fig.update_layout(\n",
    "    updatemenus=[{\n",
    "        \"buttons\": [\n",
    "            {\n",
    "                \"args\": [None, {\"frame\": {\"duration\": 500, \"redraw\": False}, \"fromcurrent\": True}],\n",
    "                \"label\": \"Play\",\n",
    "                \"method\": \"animate\"\n",
    "            },\n",
    "            {\n",
    "                \"args\": [[None], {\"frame\": {\"duration\": 500, \"redraw\": False}, \"mode\": \"immediate\", \"transition\": {\"duration\": 0}}],\n",
    "                \"label\": \"Pause\",\n",
    "                \"method\": \"animate\"\n",
    "            }\n",
    "        ],\n",
    "        \"direction\": \"left\",\n",
    "        \"pad\": {\"r\": 10, \"t\": 87},\n",
    "        \"showactive\": False,\n",
    "        \"type\": \"buttons\",\n",
    "        \"x\": 0.1,\n",
    "        \"xanchor\": \"right\",\n",
    "        \"y\": 0,\n",
    "        \"yanchor\": \"top\"\n",
    "    }],\n",
    "    sliders=[{\n",
    "        \"yanchor\": \"top\",\n",
    "        \"xanchor\": \"left\",\n",
    "        \"currentvalue\": {\n",
    "            \"font\": {\"size\": 20},\n",
    "            \"prefix\": \"Frame:\",\n",
    "            \"visible\": True,\n",
    "            \"xanchor\": \"right\"\n",
    "        },\n",
    "        \"transition\": {\"duration\": 500, \"easing\": \"cubic-in-out\"},\n",
    "        \"pad\": {\"b\": 10, \"t\": 50},\n",
    "        \"len\": 0.9,\n",
    "        \"x\": 0.1,\n",
    "        \"y\": 0,\n",
    "        \"steps\": [{\n",
    "            \"args\": [[str(k)], {\"frame\": {\"duration\": 500, \"redraw\": False}, \"mode\": \"immediate\",\n",
    "                                    \"transition\": {\"duration\": 500}}],\n",
    "            \"label\": str(k),\n",
    "            \"method\": \"animate\",\n",
    "        } for k in range(len(frames))]\n",
    "    }],\n",
    "    xaxis1=dict(range=[0, 120], showgrid=False, zeroline=False, showticklabels=False),\n",
    "    yaxis1=dict(range=[0, 80], showgrid=False, zeroline=False, showticklabels=False),\n",
    "    shapes=[\n",
    "        dict(\n",
    "            type=\"rect\",\n",
    "            xref=\"paper\", yref=\"paper\",\n",
    "            x0=0, y0=0, x1=0.45, y1=1,\n",
    "            fillcolor=\"#3ab54a\",\n",
    "            layer=\"below\",\n",
    "            line_width=0,\n",
    "        ),\n",
    "        dict(\n",
    "            type=\"circle\",\n",
    "            xref=\"x1\", yref=\"y1\",  \n",
    "            x0=60 - 10, y0=40 - 10, \n",
    "            x1=60 + 10, y1=40 + 10,  \n",
    "            line_color=\"black\",\n",
    "            line_width=3\n",
    "        )\n",
    "    ],\n",
    "    xaxis2=dict(tickvals=list(range(0, len(sub_df), 5)), ticktext=list(range(0, len(sub_df), 5))),\n",
    "    xaxis2_title='Frame',\n",
    "    yaxis2_title='xG',\n",
    "    width=1600, \n",
    "    height=650,\n",
    ")\n",
    "\n",
    "fig.show()"
   ]
  },
  {
   "cell_type": "code",
   "execution_count": null,
   "metadata": {},
   "outputs": [],
   "source": []
  }
 ],
 "metadata": {
  "kernelspec": {
   "display_name": "base",
   "language": "python",
   "name": "python3"
  },
  "language_info": {
   "codemirror_mode": {
    "name": "ipython",
    "version": 3
   },
   "file_extension": ".py",
   "mimetype": "text/x-python",
   "name": "python",
   "nbconvert_exporter": "python",
   "pygments_lexer": "ipython3",
   "version": "3.11.7"
  }
 },
 "nbformat": 4,
 "nbformat_minor": 2
}
